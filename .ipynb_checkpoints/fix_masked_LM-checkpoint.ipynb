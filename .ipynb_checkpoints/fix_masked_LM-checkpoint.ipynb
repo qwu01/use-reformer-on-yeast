{
 "cells": [
  {
   "cell_type": "code",
   "execution_count": 1,
   "metadata": {},
   "outputs": [],
   "source": [
    "import torch\n",
    "import numpy as np\n",
    "import random\n",
    "import sentencepiece as spm\n",
    "from transformers import ReformerConfig, ReformerTokenizer, ReformerModel, PreTrainedModel\n",
    "from torch.utils.data import DataLoader, Dataset\n",
    "\n",
    "\n",
    "NUM_BATCHES = None\n",
    "BATCH_SIZE = 6\n",
    "GRADIENT_ACCUMULATE_EVERY = 3\n",
    "LEARNING_RATE = 0.01 #1e-4\n",
    "VALIDATE_EVERY  = 12\n",
    "SEQ_LEN = 4608 # 4608/64=72, 4608=64*72"
   ]
  },
  {
   "cell_type": "code",
   "execution_count": 2,
   "metadata": {},
   "outputs": [
    {
     "data": {
      "text/plain": [
       "<torch._C.Generator at 0x1669f23c070>"
      ]
     },
     "execution_count": 2,
     "metadata": {},
     "output_type": "execute_result"
    }
   ],
   "source": [
    "random.seed(42)\n",
    "np.random.seed(42)\n",
    "torch.manual_seed(42)"
   ]
  },
  {
   "cell_type": "code",
   "execution_count": 3,
   "metadata": {},
   "outputs": [],
   "source": [
    "# def split_file(file,out1,out2,percentage=0.75,isShuffle=True,seed=42):\n",
    "#     \"\"\"quora.com/How-can-split-a-text-file-randomly-in-75-and-25-and-create-two-output-file-in-python\n",
    "#     \"\"\"\n",
    "#     random.seed(seed)\n",
    "#     with open(file, 'r',encoding=\"utf-8\") as fin, open(out1, 'w') as foutBig, open(out2, 'w') as foutSmall:\n",
    "#         nLines = sum(1 for line in fin)\n",
    "#         fin.seek(0)\n",
    "\n",
    "#         nTrain = int(nLines*percentage) \n",
    "#         nValid = nLines - nTrain\n",
    "\n",
    "#         i = 0\n",
    "#         for line in fin:\n",
    "#             r = random.random() if isShuffle else 0 # so that always evaluated to true when not isShuffle\n",
    "#             if (i < nTrain and r < percentage) or (nLines - i > nValid):\n",
    "#                 foutBig.write(line)\n",
    "#                 i += 1\n",
    "#             else:\n",
    "#                 foutSmall.write(line)\n",
    "                \n",
    "# split_file(\"data/yeast/yeast.txt\", \n",
    "#            \"data/yeast/yeast_train.txt\",\n",
    "#            \"data/yeast/yeast_val.txt\",\n",
    "#            percentage=0.9)"
   ]
  },
  {
   "cell_type": "code",
   "execution_count": 3,
   "metadata": {},
   "outputs": [],
   "source": [
    "spm.SentencePieceTrainer.Train(\"--input=./data/tokenizer_training/AAresiduals.txt \\\n",
    "                                --vocab_size=28 \\\n",
    "                                --model_prefix=sequence_tokenizer \\\n",
    "                                --model_type=char \\\n",
    "                                --character_coverage=1.0\")\n",
    "tokenizer = ReformerTokenizer(vocab_file=\"sequence_tokenizer.model\", do_lower_case=False, model_max_length=SEQ_LEN)"
   ]
  },
  {
   "cell_type": "code",
   "execution_count": 96,
   "metadata": {},
   "outputs": [],
   "source": [
    "# tokenizer.save_vocabulary('./')"
   ]
  },
  {
   "cell_type": "code",
   "execution_count": 97,
   "metadata": {},
   "outputs": [
    {
     "data": {
      "text/plain": [
       "(['<unk>', '<pad>', '</s>'], [0, 0, 2], 28)"
      ]
     },
     "execution_count": 97,
     "metadata": {},
     "output_type": "execute_result"
    }
   ],
   "source": [
    "tokenizer.all_special_tokens, tokenizer.all_special_ids, tokenizer.vocab_size"
   ]
  },
  {
   "cell_type": "code",
   "execution_count": 104,
   "metadata": {},
   "outputs": [
    {
     "data": {
      "text/plain": [
       "[(0, '<unk>'),\n",
       " (1, '<s>'),\n",
       " (2, '</s>'),\n",
       " (3, 'A'),\n",
       " (4, 'B'),\n",
       " (5, 'C'),\n",
       " (6, 'D'),\n",
       " (7, 'E'),\n",
       " (8, 'F'),\n",
       " (9, 'G'),\n",
       " (10, 'H'),\n",
       " (11, 'I'),\n",
       " (12, 'K'),\n",
       " (13, 'L'),\n",
       " (14, 'M'),\n",
       " (15, 'N'),\n",
       " (16, 'O'),\n",
       " (17, 'P'),\n",
       " (18, 'Q'),\n",
       " (19, 'R'),\n",
       " (20, 'S'),\n",
       " (21, 'T'),\n",
       " (22, 'U'),\n",
       " (23, 'V'),\n",
       " (24, 'W'),\n",
       " (25, 'X'),\n",
       " (26, 'Y'),\n",
       " (27, 'Z')]"
      ]
     },
     "execution_count": 104,
     "metadata": {},
     "output_type": "execute_result"
    }
   ],
   "source": [
    "[(v, tokenizer.decode(v)) for i, v in enumerate(range(28))]"
   ]
  },
  {
   "cell_type": "code",
   "execution_count": 117,
   "metadata": {},
   "outputs": [
    {
     "name": "stderr",
     "output_type": "stream",
     "text": [
      "Using mask_token, but it is not set yet.\n",
      "Using mask_token, but it is not set yet.\n"
     ]
    },
    {
     "name": "stdout",
     "output_type": "stream",
     "text": [
      "<s> 1 </s> 2 <unk> 0 <pad> 0 None None\n"
     ]
    }
   ],
   "source": [
    "print(tokenizer.bos_token, tokenizer.bos_token_id, tokenizer.eos_token, tokenizer.eos_token_id,\n",
    "tokenizer.unk_token, tokenizer.unk_token_id, tokenizer.pad_token, tokenizer.pad_token_id,\n",
    "tokenizer.mask_token, tokenizer.mask_token_id)"
   ]
  },
  {
   "cell_type": "code",
   "execution_count": 118,
   "metadata": {},
   "outputs": [],
   "source": [
    "# tokenizer._bos_token = '<s>'\n",
    "# # tokenizer._bos_token_id = 1\n",
    "# tokenizer._eos_token = '</s>'\n",
    "# # tokenizer._eos_token_id = 2\n",
    "# tokenizer._unk_token = '<unk>'\n",
    "# # tokenizer._unk_token_id = 3\n",
    "# tokenizer._pad_token = '<pad>'\n",
    "# # tokenizer._pad_token_id = 0\n",
    "# tokenizer._mask_token = '<mask>'\n",
    "# # tokenizer._mask_token_id = 4\n"
   ]
  },
  {
   "cell_type": "code",
   "execution_count": 119,
   "metadata": {},
   "outputs": [
    {
     "data": {
      "text/plain": [
       "[2, 1, 0, 0, 0]"
      ]
     },
     "execution_count": 119,
     "metadata": {},
     "output_type": "execute_result"
    }
   ],
   "source": [
    "tokenizer.all_special_ids"
   ]
  },
  {
   "cell_type": "code",
   "execution_count": 120,
   "metadata": {},
   "outputs": [
    {
     "data": {
      "text/plain": [
       "['</s>', '<s>', '<mask>', '<unk>', '<pad>']"
      ]
     },
     "execution_count": 120,
     "metadata": {},
     "output_type": "execute_result"
    }
   ],
   "source": [
    "tokenizer.all_special_tokens"
   ]
  },
  {
   "cell_type": "code",
   "execution_count": 124,
   "metadata": {},
   "outputs": [
    {
     "data": {
      "text/plain": [
       "{'input_ids': [[0, 3, 4, 0, 5, 6, 0, 0, 0, 0], [0, 4, 4, 5, 6, 0, 0, 0, 0, 0], [0, 5, 4, 5, 6, 0, 0, 0, 0, 0]], 'token_type_ids': [[0, 0, 0, 0, 0, 0, 0, 0, 0, 0], [0, 0, 0, 0, 0, 0, 0, 0, 0, 0], [0, 0, 0, 0, 0, 0, 0, 0, 0, 0]], 'attention_mask': [[1, 1, 1, 1, 1, 1, 0, 0, 0, 0], [1, 1, 1, 1, 1, 0, 0, 0, 0, 0], [1, 1, 1, 1, 1, 0, 0, 0, 0, 0]]}"
      ]
     },
     "execution_count": 124,
     "metadata": {},
     "output_type": "execute_result"
    }
   ],
   "source": [
    "tokenizer.batch_encode_plus(['AB<mask>CD', \n",
    "                             'BBCD', \n",
    "                             'CBCD'], add_special_tokens=True, pad_to_max_length=True, max_length=10)"
   ]
  },
  {
   "cell_type": "code",
   "execution_count": null,
   "metadata": {},
   "outputs": [],
   "source": []
  },
  {
   "cell_type": "code",
   "execution_count": 7,
   "metadata": {},
   "outputs": [],
   "source": [
    "# with open('data/yeast/yeast.txt') as file:\n",
    "#     X = [l.strip() for l in file]\n",
    "#     y = [len(l) for l in X]\n",
    "# print(max(y))"
   ]
  },
  {
   "cell_type": "code",
   "execution_count": 8,
   "metadata": {},
   "outputs": [],
   "source": [
    "class SequenceDataset(Dataset):\n",
    "    def __init__(self, masked_input_ids, masked_labels, attention_mask, tokenizer, _len):\n",
    "        super().__init__()\n",
    "        self.input_ids = masked_input_ids\n",
    "        self.labels = masked_labels\n",
    "        self.attention_mask = attention_mask\n",
    "        self.tokenizer = tokenizer\n",
    "        self._len = _len\n",
    "\n",
    "    @classmethod\n",
    "    def prepare_from_file(cls, file_path, tokenizer):\n",
    "        with open(file_path) as file:\n",
    "            X = [l.strip() for l in file]\n",
    "            # cut sequence into certain length (e.g. if max length is 10, cut to 10)\n",
    "            X = [tokenizer.encode(sequence)[1:tokenizer.max_len+1] for sequence in X]\n",
    "            temp = [cls.mask_random(sequence) for sequence in X]\n",
    "            masked_sequences = [t[0] for t in temp]\n",
    "            masked_labels = [t[1] for t in temp]\n",
    "            temp = [tokenizer.prepare_for_model(masked_sequence, \n",
    "                                                max_length=tokenizer.max_len,\n",
    "                                                pad_to_max_length=True) for masked_sequence in masked_sequences]\n",
    "            masked_labels = [tokenizer.prepare_for_model(masked_label,\n",
    "                                                         max_length=tokenizer.max_len,\n",
    "                                                         pad_to_max_length=True)[\"input_ids\"] for masked_label in masked_labels]\n",
    "            masked_input_ids = [torch.tensor(l[\"input_ids\"]) for l in temp]\n",
    "            masked_labels = [torch.tensor(masked_label) for masked_label in masked_labels]\n",
    "            attention_mask = [torch.tensor(l[\"attention_mask\"]) for l in temp]\n",
    "            del(temp)\n",
    "        masked_input_ids = torch.stack([masked_input_ids[i] for i in range(len(masked_input_ids))]).squeeze()\n",
    "        masked_labels = torch.stack([masked_labels[i] for i in range(len(masked_labels))]).squeeze()\n",
    "        attention_mask = torch.stack([attention_mask[i] for i in range(len(attention_mask))]).squeeze()\n",
    "        \n",
    "        return cls(masked_input_ids, masked_labels, attention_mask, tokenizer, len(masked_input_ids))\n",
    "    \n",
    "    @staticmethod\n",
    "    def mask_random(sequence):\n",
    "        masked_sequence = [residual for residual in sequence]\n",
    "        masked_labels = []\n",
    "        \n",
    "        for i, residual in enumerate(masked_sequence):\n",
    "            prob = random.random()\n",
    "            if prob < 0.15:\n",
    "                prob /= 0.15\n",
    "                if prob < 0.8:\n",
    "                    masked_sequence[i] = 0\n",
    "                elif prob < 0.9:\n",
    "                    masked_sequence[i] = random.randrange(tokenizer.vocab_size)\n",
    "                masked_labels.append(residual)\n",
    "            else:\n",
    "#                 masked_labels.append(-100)\n",
    "                masked_labels.append(0)\n",
    "        return masked_sequence, masked_labels\n",
    "\n",
    "    def __getitem__(self, index):\n",
    "        return self.input_ids[index, ].cuda(), self.labels[index, ].cuda(), self.attention_mask[index, ].cuda()\n",
    "\n",
    "    def __len__(self):\n",
    "        return self._len"
   ]
  },
  {
   "cell_type": "code",
   "execution_count": 9,
   "metadata": {
    "scrolled": true
   },
   "outputs": [],
   "source": [
    "# x = SequenceDataset.prepare_from_file(\"data/yeast/yeast.txt\", tokenizer)"
   ]
  },
  {
   "cell_type": "code",
   "execution_count": 10,
   "metadata": {},
   "outputs": [],
   "source": [
    "# x.labels, x.attention_mask, x.input_ids, x.labels.shape, x.attention_mask.shape, x.input_ids.shape"
   ]
  },
  {
   "cell_type": "code",
   "execution_count": null,
   "metadata": {},
   "outputs": [],
   "source": []
  },
  {
   "cell_type": "code",
   "execution_count": 11,
   "metadata": {},
   "outputs": [],
   "source": [
    "import torch\n",
    "from torch import nn\n",
    "from torch.nn import CrossEntropyLoss\n",
    "from transformers.modeling_reformer import ACT2FN, ReformerModel, PreTrainedModel, ReformerPreTrainedModel\n",
    "ReformerLayerNorm = torch.nn.LayerNorm\n",
    "ACT2FN = {\"relu\": torch.nn.functional.relu}\n",
    "\n",
    "\n",
    "class ReformerMLMHead(nn.Module):\n",
    "    def __init__(self, config):\n",
    "        super().__init__()\n",
    "        \n",
    "        self.dense = nn.Linear(config.hidden_size * 2, config.hidden_size)\n",
    "        if isinstance(config.hidden_act, str):\n",
    "            self.transform_act_fn = ACT2FN[config.hidden_act]\n",
    "        else:\n",
    "            self.transform_act_fn = config.hidden_act\n",
    "        self.LayerNorm = ReformerLayerNorm(config.hidden_size, eps=config.layer_norm_eps)\n",
    "\n",
    "        self.decoder = nn.Linear(config.hidden_size, config.vocab_size, bias=False)\n",
    "#         print(self.decoder)\n",
    "        self.bias = nn.Parameter(torch.zeros(config.vocab_size))\n",
    "        self.decoder.bias = self.bias\n",
    "\n",
    "    def forward(self, hidden_states):\n",
    "        hidden_states = self.dense(hidden_states)\n",
    "        hidden_states = self.transform_act_fn(hidden_states)\n",
    "        hidden_states = self.LayerNorm(hidden_states)\n",
    "        logits = self.decoder(hidden_states)\n",
    "        return logits\n",
    "\n",
    "\n",
    "class ReformerMLM(nn.Module):\n",
    "    def __init__(self, config):\n",
    "        super().__init__()\n",
    "        self.config = config\n",
    "        self.reformer = ReformerModel(config)\n",
    "        self.mlm = ReformerMLMHead(config)\n",
    "        \n",
    "    def forward(self, input_ids=None, attention_mask=None, position_ids=None, head_mask=None, \n",
    "                inputs_embeds=None, labels=None, output_attentions=None, **kwargs):\n",
    "        reformer_outputs = self.reformer(input_ids, position_ids=position_ids, attention_mask=attention_mask,\n",
    "                                          head_mask=head_mask, inputs_embeds=inputs_embeds, num_hashes=None)\n",
    "\n",
    "        hidden_states = reformer_outputs[0]\n",
    "#         print(\"output shape of the ReformerModel: {}\".format(hidden_states.shape))\n",
    "        logits = self.mlm(hidden_states)\n",
    "#         print(\"logits shape: {}\".format(logits.shape))\n",
    "        outputs = (logits,) + reformer_outputs[1:]\n",
    "\n",
    "        if labels is not None:\n",
    "            loss_fct = CrossEntropyLoss(ignore_index=0)  # -100 index = padding token\n",
    "            masked_lm_loss = loss_fct(logits.view(-1, self.config.vocab_size), labels.view(-1))\n",
    "            outputs = (masked_lm_loss,) + outputs\n",
    "        return outputs  # (lm_loss), lm_logits, (hidden_states), (attentions)\n",
    "    \n"
   ]
  },
  {
   "cell_type": "code",
   "execution_count": 12,
   "metadata": {},
   "outputs": [
    {
     "data": {
      "text/plain": [
       "28"
      ]
     },
     "execution_count": 12,
     "metadata": {},
     "output_type": "execute_result"
    }
   ],
   "source": [
    "tokenizer.vocab_size"
   ]
  },
  {
   "cell_type": "code",
   "execution_count": 13,
   "metadata": {},
   "outputs": [],
   "source": [
    "configuration = ReformerConfig()\n",
    "configuration.axial_pos_shape = (64, 72)\n",
    "configuration.max_position_embeddings = SEQ_LEN # 4608\n",
    "configuration.vocab_size = tokenizer.vocab_size # 28\n",
    "configuration.architectures=None\n",
    "configuration.is_decoder=False\n",
    "configuration.hidden_size=256 # ReformerModel output size = 512\n",
    "configuration.save_pretrained('model/fix_masked_LM_config/')\n",
    "configuration = ReformerConfig.from_pretrained('model/fix_masked_LM_config/')\n",
    "\n",
    "model = ReformerMLM(configuration)"
   ]
  },
  {
   "cell_type": "code",
   "execution_count": null,
   "metadata": {},
   "outputs": [],
   "source": []
  },
  {
   "cell_type": "code",
   "execution_count": 14,
   "metadata": {},
   "outputs": [],
   "source": [
    "# lab_x=torch.zeros((2,4608), dtype=torch.int64)"
   ]
  },
  {
   "cell_type": "code",
   "execution_count": 15,
   "metadata": {},
   "outputs": [],
   "source": [
    "# lab_x"
   ]
  },
  {
   "cell_type": "code",
   "execution_count": 16,
   "metadata": {
    "scrolled": true
   },
   "outputs": [],
   "source": [
    "# outputs = model(input_ids=inp, attention_mask=att, labels=lab)\n",
    "# When training a model from scratch, it is recommended to leave ``config.num_buckets=None``, \n",
    "# so that depending on the sequence length a good value for ``num_buckets`` is calculated on the fly. \n",
    "# This value will then automatically be saved in the config and should be reused for inference."
   ]
  },
  {
   "cell_type": "code",
   "execution_count": null,
   "metadata": {},
   "outputs": [],
   "source": []
  },
  {
   "cell_type": "code",
   "execution_count": 17,
   "metadata": {},
   "outputs": [
    {
     "name": "stderr",
     "output_type": "stream",
     "text": [
      "Token indices sequence length is longer than the specified maximum sequence length for this model (4911 > 4608). Running this sequence through the model will result in indexing errors\n"
     ]
    }
   ],
   "source": [
    "train_dataset = SequenceDataset.prepare_from_file(\"data/yeast/yeast_train.txt\", tokenizer)\n",
    "val_dataset = SequenceDataset.prepare_from_file(\"data/yeast/yeast_val.txt\", tokenizer)"
   ]
  },
  {
   "cell_type": "code",
   "execution_count": 18,
   "metadata": {},
   "outputs": [],
   "source": [
    "# train_dataset.labels"
   ]
  },
  {
   "cell_type": "code",
   "execution_count": null,
   "metadata": {},
   "outputs": [],
   "source": []
  },
  {
   "cell_type": "code",
   "execution_count": 19,
   "metadata": {},
   "outputs": [],
   "source": [
    "def cycle(loader):\n",
    "    while True:\n",
    "        for data in loader:\n",
    "            yield data\n",
    "            \n",
    "def collate_fn(batch):\n",
    "    \"\"\"\n",
    "    batch:[(inputs, labels, mask),...]\n",
    "    [(tensor([14,  3, 11, 0,  0], device='cuda:0'), \n",
    "      tensor([0, 0, 0, 0, 0], device='cuda:0'), \n",
    "      tensor([1, 1, 1, 0, 0], device='cuda:0')), ...]\n",
    "    \"\"\"\n",
    "    inputs = torch.stack([x[0] for x in batch])\n",
    "    labels = torch.stack([x[1] for x in batch])\n",
    "    attention_mask = torch.stack([x[2] for x in batch])\n",
    "\n",
    "    output = {\"inputs\": inputs,\n",
    "              \"labels\": labels,\n",
    "              \"attention_mask\": attention_mask}\n",
    "\n",
    "    return output\n",
    "\n",
    "train_loader = cycle(DataLoader(train_dataset, collate_fn=collate_fn, batch_size=BATCH_SIZE))\n",
    "val_loader = cycle(DataLoader(val_dataset, collate_fn=collate_fn, batch_size=BATCH_SIZE))"
   ]
  },
  {
   "cell_type": "code",
   "execution_count": 20,
   "metadata": {},
   "outputs": [
    {
     "data": {
      "text/plain": [
       "{'inputs': tensor([[14,  0, 11,  ...,  0,  0,  0],\n",
       "         [14, 26, 26,  ...,  0,  0,  0],\n",
       "         [14, 20,  3,  ...,  0,  0,  0],\n",
       "         [14, 15,  0,  ...,  0,  0,  0],\n",
       "         [14, 10, 21,  ...,  0,  0,  0],\n",
       "         [14, 11,  0,  ...,  0,  0,  0]], device='cuda:0'),\n",
       " 'labels': tensor([[ 0,  3,  0,  ...,  0,  0,  0],\n",
       "         [ 0,  0,  0,  ...,  0,  0,  0],\n",
       "         [ 0,  0,  7,  ...,  0,  0,  0],\n",
       "         [ 0,  0, 21,  ...,  0,  0,  0],\n",
       "         [ 0,  0,  0,  ...,  0,  0,  0],\n",
       "         [ 0,  0, 19,  ...,  0,  0,  0]], device='cuda:0'),\n",
       " 'attention_mask': tensor([[1, 1, 1,  ..., 0, 0, 0],\n",
       "         [1, 1, 1,  ..., 0, 0, 0],\n",
       "         [1, 1, 1,  ..., 0, 0, 0],\n",
       "         [1, 1, 1,  ..., 0, 0, 0],\n",
       "         [1, 1, 1,  ..., 0, 0, 0],\n",
       "         [1, 1, 1,  ..., 0, 0, 0]], device='cuda:0')}"
      ]
     },
     "execution_count": 20,
     "metadata": {},
     "output_type": "execute_result"
    }
   ],
   "source": [
    "next(train_loader)"
   ]
  },
  {
   "cell_type": "code",
   "execution_count": 21,
   "metadata": {},
   "outputs": [
    {
     "data": {
      "text/plain": [
       "ReformerMLM(\n",
       "  (reformer): ReformerModel(\n",
       "    (embeddings): ReformerEmbeddings(\n",
       "      (word_embeddings): Embedding(28, 256)\n",
       "      (position_embeddings): AxialPositionEmbeddings(\n",
       "        (weights): ParameterList(\n",
       "            (0): Parameter containing: [torch.cuda.FloatTensor of size 64x1x64 (GPU 0)]\n",
       "            (1): Parameter containing: [torch.cuda.FloatTensor of size 1x72x192 (GPU 0)]\n",
       "        )\n",
       "      )\n",
       "    )\n",
       "    (encoder): ReformerEncoder(\n",
       "      (layers): ModuleList(\n",
       "        (0): ReformerLayer(\n",
       "          (attention): ReformerAttention(\n",
       "            (layer_norm): LayerNorm((256,), eps=1e-12, elementwise_affine=True)\n",
       "            (self_attention): LocalSelfAttention(\n",
       "              (query): Linear(in_features=256, out_features=128, bias=False)\n",
       "              (key): Linear(in_features=256, out_features=128, bias=False)\n",
       "              (value): Linear(in_features=256, out_features=128, bias=False)\n",
       "            )\n",
       "            (output): ReformerSelfOutput(\n",
       "              (dense): Linear(in_features=128, out_features=256, bias=False)\n",
       "            )\n",
       "          )\n",
       "          (feed_forward): ChunkReformerFeedForward(\n",
       "            (layer_norm): LayerNorm((256,), eps=1e-12, elementwise_affine=True)\n",
       "            (dense): ReformerFeedForwardDense(\n",
       "              (dense): Linear(in_features=256, out_features=512, bias=True)\n",
       "            )\n",
       "            (output): ReformerFeedForwardOutput(\n",
       "              (dense): Linear(in_features=512, out_features=256, bias=True)\n",
       "            )\n",
       "          )\n",
       "        )\n",
       "        (1): ReformerLayer(\n",
       "          (attention): ReformerAttention(\n",
       "            (layer_norm): LayerNorm((256,), eps=1e-12, elementwise_affine=True)\n",
       "            (self_attention): LSHSelfAttention(\n",
       "              (query_key): Linear(in_features=256, out_features=128, bias=False)\n",
       "              (value): Linear(in_features=256, out_features=128, bias=False)\n",
       "            )\n",
       "            (output): ReformerSelfOutput(\n",
       "              (dense): Linear(in_features=128, out_features=256, bias=False)\n",
       "            )\n",
       "          )\n",
       "          (feed_forward): ChunkReformerFeedForward(\n",
       "            (layer_norm): LayerNorm((256,), eps=1e-12, elementwise_affine=True)\n",
       "            (dense): ReformerFeedForwardDense(\n",
       "              (dense): Linear(in_features=256, out_features=512, bias=True)\n",
       "            )\n",
       "            (output): ReformerFeedForwardOutput(\n",
       "              (dense): Linear(in_features=512, out_features=256, bias=True)\n",
       "            )\n",
       "          )\n",
       "        )\n",
       "        (2): ReformerLayer(\n",
       "          (attention): ReformerAttention(\n",
       "            (layer_norm): LayerNorm((256,), eps=1e-12, elementwise_affine=True)\n",
       "            (self_attention): LocalSelfAttention(\n",
       "              (query): Linear(in_features=256, out_features=128, bias=False)\n",
       "              (key): Linear(in_features=256, out_features=128, bias=False)\n",
       "              (value): Linear(in_features=256, out_features=128, bias=False)\n",
       "            )\n",
       "            (output): ReformerSelfOutput(\n",
       "              (dense): Linear(in_features=128, out_features=256, bias=False)\n",
       "            )\n",
       "          )\n",
       "          (feed_forward): ChunkReformerFeedForward(\n",
       "            (layer_norm): LayerNorm((256,), eps=1e-12, elementwise_affine=True)\n",
       "            (dense): ReformerFeedForwardDense(\n",
       "              (dense): Linear(in_features=256, out_features=512, bias=True)\n",
       "            )\n",
       "            (output): ReformerFeedForwardOutput(\n",
       "              (dense): Linear(in_features=512, out_features=256, bias=True)\n",
       "            )\n",
       "          )\n",
       "        )\n",
       "        (3): ReformerLayer(\n",
       "          (attention): ReformerAttention(\n",
       "            (layer_norm): LayerNorm((256,), eps=1e-12, elementwise_affine=True)\n",
       "            (self_attention): LSHSelfAttention(\n",
       "              (query_key): Linear(in_features=256, out_features=128, bias=False)\n",
       "              (value): Linear(in_features=256, out_features=128, bias=False)\n",
       "            )\n",
       "            (output): ReformerSelfOutput(\n",
       "              (dense): Linear(in_features=128, out_features=256, bias=False)\n",
       "            )\n",
       "          )\n",
       "          (feed_forward): ChunkReformerFeedForward(\n",
       "            (layer_norm): LayerNorm((256,), eps=1e-12, elementwise_affine=True)\n",
       "            (dense): ReformerFeedForwardDense(\n",
       "              (dense): Linear(in_features=256, out_features=512, bias=True)\n",
       "            )\n",
       "            (output): ReformerFeedForwardOutput(\n",
       "              (dense): Linear(in_features=512, out_features=256, bias=True)\n",
       "            )\n",
       "          )\n",
       "        )\n",
       "        (4): ReformerLayer(\n",
       "          (attention): ReformerAttention(\n",
       "            (layer_norm): LayerNorm((256,), eps=1e-12, elementwise_affine=True)\n",
       "            (self_attention): LocalSelfAttention(\n",
       "              (query): Linear(in_features=256, out_features=128, bias=False)\n",
       "              (key): Linear(in_features=256, out_features=128, bias=False)\n",
       "              (value): Linear(in_features=256, out_features=128, bias=False)\n",
       "            )\n",
       "            (output): ReformerSelfOutput(\n",
       "              (dense): Linear(in_features=128, out_features=256, bias=False)\n",
       "            )\n",
       "          )\n",
       "          (feed_forward): ChunkReformerFeedForward(\n",
       "            (layer_norm): LayerNorm((256,), eps=1e-12, elementwise_affine=True)\n",
       "            (dense): ReformerFeedForwardDense(\n",
       "              (dense): Linear(in_features=256, out_features=512, bias=True)\n",
       "            )\n",
       "            (output): ReformerFeedForwardOutput(\n",
       "              (dense): Linear(in_features=512, out_features=256, bias=True)\n",
       "            )\n",
       "          )\n",
       "        )\n",
       "        (5): ReformerLayer(\n",
       "          (attention): ReformerAttention(\n",
       "            (layer_norm): LayerNorm((256,), eps=1e-12, elementwise_affine=True)\n",
       "            (self_attention): LSHSelfAttention(\n",
       "              (query_key): Linear(in_features=256, out_features=128, bias=False)\n",
       "              (value): Linear(in_features=256, out_features=128, bias=False)\n",
       "            )\n",
       "            (output): ReformerSelfOutput(\n",
       "              (dense): Linear(in_features=128, out_features=256, bias=False)\n",
       "            )\n",
       "          )\n",
       "          (feed_forward): ChunkReformerFeedForward(\n",
       "            (layer_norm): LayerNorm((256,), eps=1e-12, elementwise_affine=True)\n",
       "            (dense): ReformerFeedForwardDense(\n",
       "              (dense): Linear(in_features=256, out_features=512, bias=True)\n",
       "            )\n",
       "            (output): ReformerFeedForwardOutput(\n",
       "              (dense): Linear(in_features=512, out_features=256, bias=True)\n",
       "            )\n",
       "          )\n",
       "        )\n",
       "      )\n",
       "      (layer_norm): LayerNorm((512,), eps=1e-12, elementwise_affine=True)\n",
       "    )\n",
       "  )\n",
       "  (mlm): ReformerMLMHead(\n",
       "    (dense): Linear(in_features=512, out_features=256, bias=True)\n",
       "    (LayerNorm): LayerNorm((256,), eps=1e-12, elementwise_affine=True)\n",
       "    (decoder): Linear(in_features=256, out_features=28, bias=True)\n",
       "  )\n",
       ")"
      ]
     },
     "execution_count": 21,
     "metadata": {},
     "output_type": "execute_result"
    }
   ],
   "source": [
    "from transformers import AdamW\n",
    "optimizer = AdamW(params=model.parameters(), lr=LEARNING_RATE)\n",
    "NUM_BATCHES = len(train_dataset)//BATCH_SIZE\n",
    "\n",
    "model.cuda()"
   ]
  },
  {
   "cell_type": "code",
   "execution_count": 23,
   "metadata": {
    "scrolled": true
   },
   "outputs": [
    {
     "name": "stderr",
     "output_type": "stream",
     "text": [
      "\r",
      "training:   0%|                                                                                                                                  | 0/907 [00:00<?, ?it/s]"
     ]
    },
    {
     "name": "stdout",
     "output_type": "stream",
     "text": [
      "training loss: 2.9347362518310547\n",
      "validation loss: 2.8914644718170166\n",
      "training loss: 2.8864529132843018\n",
      "training loss: 2.9085187911987305\n",
      "training loss: 2.9765799045562744\n",
      "training loss: 2.9061970710754395\n",
      "training loss: 2.887698173522949\n",
      "training loss: 2.9558684825897217\n",
      "training loss: 2.8694169521331787\n",
      "training loss: 2.8877532482147217\n",
      "training loss: 2.901780843734741\n",
      "training loss: 2.9264981746673584\n",
      "training loss: 2.887889862060547\n",
      "training loss: 2.864699602127075\n",
      "validation loss: 2.9043123722076416\n",
      "training loss: 2.8842380046844482\n"
     ]
    },
    {
     "name": "stderr",
     "output_type": "stream",
     "text": [
      "\r",
      "training:   2%|██                                                                                                                       | 15/907 [00:10<10:35,  1.40it/s]"
     ]
    },
    {
     "name": "stdout",
     "output_type": "stream",
     "text": [
      "training loss: 2.868661880493164\n",
      "training loss: 2.8706462383270264\n",
      "training loss: 2.8996357917785645\n",
      "training loss: 2.8958234786987305\n",
      "training loss: 2.864328622817993\n",
      "training loss: 2.8696482181549072\n",
      "training loss: 2.8836920261383057\n",
      "training loss: 2.8888814449310303\n",
      "training loss: 2.9204964637756348\n",
      "training loss: 2.9000773429870605\n",
      "training loss: 2.880237579345703\n",
      "validation loss: 2.902726888656616\n",
      "training loss: 2.865835666656494\n",
      "training loss: 2.8833723068237305\n",
      "training loss: 2.9310190677642822\n",
      "training loss: 2.8786799907684326\n"
     ]
    },
    {
     "name": "stderr",
     "output_type": "stream",
     "text": [
      "\r",
      "training:   3%|████                                                                                                                     | 30/907 [00:21<10:23,  1.41it/s]"
     ]
    },
    {
     "name": "stdout",
     "output_type": "stream",
     "text": [
      "training loss: 2.847700595855713\n",
      "training loss: 2.924265146255493\n",
      "training loss: 2.877284288406372\n",
      "training loss: 2.902371644973755\n",
      "training loss: 2.894578218460083\n",
      "training loss: 2.8695082664489746\n",
      "training loss: 2.924144744873047\n",
      "training loss: 2.9155304431915283\n",
      "validation loss: 2.894442558288574\n",
      "training loss: 2.899120807647705\n",
      "training loss: 2.8512346744537354\n",
      "training loss: 2.8849799633026123\n",
      "training loss: 2.9083662033081055\n",
      "training loss: 2.8672235012054443\n",
      "training loss: 2.8835690021514893\n",
      "training loss: 2.922081232070923\n"
     ]
    },
    {
     "name": "stderr",
     "output_type": "stream",
     "text": [
      "\r",
      "training:   5%|██████                                                                                                                   | 45/907 [00:31<10:13,  1.41it/s]"
     ]
    },
    {
     "name": "stdout",
     "output_type": "stream",
     "text": [
      "training loss: 2.8649799823760986\n",
      "training loss: 2.856004238128662\n",
      "training loss: 2.861687660217285\n",
      "training loss: 2.853656053543091\n",
      "training loss: 2.886746406555176\n",
      "validation loss: 2.8759186267852783\n",
      "training loss: 2.929192066192627\n",
      "training loss: 2.866621255874634\n",
      "training loss: 2.9004440307617188\n",
      "training loss: 2.872728109359741\n",
      "training loss: 2.8837497234344482\n",
      "training loss: 2.8771016597747803\n",
      "training loss: 2.8964202404022217\n",
      "training loss: 2.87721848487854\n",
      "training loss: 2.937598705291748\n",
      "training loss: 2.8856818675994873\n"
     ]
    },
    {
     "name": "stderr",
     "output_type": "stream",
     "text": [
      "\r",
      "training:   7%|████████                                                                                                                 | 60/907 [00:42<10:04,  1.40it/s]"
     ]
    },
    {
     "name": "stdout",
     "output_type": "stream",
     "text": [
      "training loss: 2.8714096546173096\n",
      "training loss: 2.835144281387329\n",
      "validation loss: 2.9161300659179688\n",
      "training loss: 2.886322021484375\n",
      "training loss: 2.8705310821533203\n",
      "training loss: 2.900301933288574\n",
      "training loss: 2.8980937004089355\n",
      "training loss: 2.865022897720337\n",
      "training loss: 2.8753838539123535\n",
      "training loss: 2.8814570903778076\n",
      "training loss: 2.8658511638641357\n",
      "training loss: 2.8632335662841797\n",
      "training loss: 2.8816146850585938\n",
      "training loss: 2.8796114921569824\n",
      "training loss: 2.8827555179595947\n",
      "validation loss: 2.9571144580841064\n"
     ]
    },
    {
     "name": "stderr",
     "output_type": "stream",
     "text": [
      "\r",
      "training:   8%|█████████▊                                                                                                               | 74/907 [00:52<09:55,  1.40it/s]"
     ]
    },
    {
     "name": "stdout",
     "output_type": "stream",
     "text": [
      "training loss: 2.8539116382598877\n",
      "training loss: 2.9180045127868652\n",
      "training loss: 2.849268913269043\n",
      "training loss: 2.871344804763794\n",
      "training loss: 2.88881254196167\n",
      "training loss: 2.890535593032837\n",
      "training loss: 2.880772829055786\n",
      "training loss: 2.90454363822937\n",
      "training loss: 2.8628382682800293\n",
      "training loss: 2.906559944152832\n",
      "training loss: 2.8827364444732666\n",
      "training loss: 2.8775224685668945\n",
      "validation loss: 2.9215610027313232\n",
      "training loss: 2.906057119369507\n",
      "training loss: 2.8721837997436523\n",
      "training loss: 2.912743330001831\n"
     ]
    },
    {
     "name": "stderr",
     "output_type": "stream",
     "text": [
      "\r",
      "training:  10%|███████████▊                                                                                                             | 89/907 [01:03<09:43,  1.40it/s]"
     ]
    },
    {
     "name": "stdout",
     "output_type": "stream",
     "text": [
      "training loss: 2.9422638416290283\n",
      "training loss: 2.8669378757476807\n",
      "training loss: 2.849383592605591\n",
      "training loss: 2.878859758377075\n",
      "training loss: 2.901517152786255\n",
      "training loss: 2.9128053188323975\n",
      "training loss: 2.9047956466674805\n",
      "training loss: 2.916076421737671\n",
      "training loss: 2.9119999408721924\n",
      "validation loss: 2.9023263454437256\n",
      "training loss: 2.896080255508423\n",
      "training loss: 2.8885042667388916\n",
      "training loss: 2.842970371246338\n",
      "training loss: 2.857142686843872\n",
      "training loss: 2.897292137145996\n",
      "training loss: 2.905569076538086\n"
     ]
    },
    {
     "name": "stderr",
     "output_type": "stream",
     "text": [
      "\r",
      "training:  11%|█████████████▊                                                                                                          | 104/907 [01:14<09:30,  1.41it/s]"
     ]
    },
    {
     "name": "stdout",
     "output_type": "stream",
     "text": [
      "training loss: 2.9025933742523193\n",
      "training loss: 2.849635601043701\n",
      "training loss: 2.9004812240600586\n",
      "training loss: 2.911926507949829\n",
      "training loss: 2.898181915283203\n",
      "training loss: 2.947693109512329\n",
      "validation loss: 2.8743631839752197\n",
      "training loss: 2.9150660037994385\n",
      "training loss: 2.873253107070923\n",
      "training loss: 2.8557796478271484\n",
      "training loss: 2.934171199798584\n",
      "training loss: 2.88273286819458\n",
      "training loss: 2.8804688453674316\n",
      "training loss: 2.88053560256958\n",
      "training loss: 2.8542871475219727\n",
      "training loss: 2.8862693309783936\n"
     ]
    },
    {
     "name": "stderr",
     "output_type": "stream",
     "text": [
      "\r",
      "training:  13%|███████████████▋                                                                                                        | 119/907 [01:24<09:19,  1.41it/s]"
     ]
    },
    {
     "name": "stdout",
     "output_type": "stream",
     "text": [
      "training loss: 2.896754026412964\n",
      "training loss: 2.90195369720459\n",
      "training loss: 2.909564256668091\n",
      "validation loss: 2.9214515686035156\n",
      "training loss: 2.911952495574951\n",
      "training loss: 2.8681814670562744\n",
      "training loss: 2.8651652336120605\n",
      "training loss: 2.9110333919525146\n",
      "training loss: 2.91870379447937\n",
      "training loss: 2.847640037536621\n",
      "training loss: 2.938741683959961\n",
      "training loss: 2.9075398445129395\n",
      "training loss: 2.8609447479248047\n",
      "training loss: 2.865391969680786\n",
      "training loss: 2.8607661724090576\n",
      "training loss: 2.893803119659424\n",
      "validation loss: 2.8787293434143066\n"
     ]
    },
    {
     "name": "stderr",
     "output_type": "stream",
     "text": [
      "\r",
      "training:  15%|█████████████████▋                                                                                                      | 134/907 [01:35<09:08,  1.41it/s]"
     ]
    },
    {
     "name": "stdout",
     "output_type": "stream",
     "text": [
      "training loss: 2.8678770065307617\n",
      "training loss: 2.8824005126953125\n",
      "training loss: 2.8611109256744385\n",
      "training loss: 2.8552329540252686\n",
      "training loss: 2.827334403991699\n",
      "training loss: 2.9306797981262207\n",
      "training loss: 2.847677230834961\n",
      "training loss: 2.895357608795166\n",
      "training loss: 2.901648998260498\n",
      "training loss: 2.8946151733398438\n",
      "training loss: 2.8548483848571777\n",
      "training loss: 2.9033608436584473\n",
      "validation loss: 2.888388156890869\n",
      "training loss: 2.8675787448883057\n",
      "training loss: 2.896497964859009\n",
      "training loss: 2.8487422466278076\n"
     ]
    },
    {
     "name": "stderr",
     "output_type": "stream",
     "text": [
      "\r",
      "training:  16%|███████████████████▋                                                                                                    | 149/907 [01:45<08:57,  1.41it/s]"
     ]
    },
    {
     "name": "stdout",
     "output_type": "stream",
     "text": [
      "training loss: 2.8625714778900146\n",
      "training loss: 2.874403238296509\n",
      "training loss: 2.8437561988830566\n",
      "training loss: 2.937284469604492\n",
      "training loss: 2.8586597442626953\n",
      "training loss: 2.893099069595337\n",
      "training loss: 2.924612045288086\n",
      "training loss: 2.8906867504119873\n",
      "training loss: 2.9532203674316406\n",
      "validation loss: 2.9010837078094482\n",
      "training loss: 2.8838138580322266\n",
      "training loss: 2.932622194290161\n",
      "training loss: 2.8832175731658936\n",
      "training loss: 2.8795671463012695\n",
      "training loss: 2.8967018127441406\n",
      "training loss: 2.858079195022583\n"
     ]
    },
    {
     "name": "stderr",
     "output_type": "stream",
     "text": [
      "\r",
      "training:  18%|█████████████████████▋                                                                                                  | 164/907 [01:56<08:47,  1.41it/s]"
     ]
    },
    {
     "name": "stdout",
     "output_type": "stream",
     "text": [
      "training loss: 2.924325704574585\n",
      "training loss: 2.922121047973633\n",
      "training loss: 2.895848274230957\n",
      "training loss: 2.854299783706665\n",
      "training loss: 2.8800668716430664\n",
      "training loss: 2.8614566326141357\n",
      "validation loss: 2.8268139362335205\n",
      "training loss: 2.895054578781128\n",
      "training loss: 2.911672830581665\n",
      "training loss: 2.874691963195801\n",
      "training loss: 2.899772882461548\n",
      "training loss: 2.859387159347534\n",
      "training loss: 2.8704607486724854\n",
      "training loss: 2.8918614387512207\n",
      "training loss: 2.8972363471984863\n",
      "training loss: 2.9347431659698486\n"
     ]
    },
    {
     "name": "stderr",
     "output_type": "stream",
     "text": [
      "\r",
      "training:  20%|███████████████████████▋                                                                                                | 179/907 [02:07<08:36,  1.41it/s]"
     ]
    },
    {
     "name": "stdout",
     "output_type": "stream",
     "text": [
      "training loss: 2.899592161178589\n",
      "training loss: 2.8629820346832275\n",
      "training loss: 2.8728816509246826\n",
      "validation loss: 2.914130687713623\n",
      "training loss: 2.861083745956421\n",
      "training loss: 2.9076218605041504\n",
      "training loss: 2.8704099655151367\n",
      "training loss: 2.875645399093628\n",
      "training loss: 2.8945133686065674\n",
      "training loss: 2.8995168209075928\n",
      "training loss: 2.899543523788452\n",
      "training loss: 2.924506664276123\n",
      "training loss: 2.874828577041626\n",
      "training loss: 2.8756303787231445\n",
      "training loss: 2.8736085891723633\n",
      "training loss: 2.8958306312561035\n",
      "validation loss: 2.885456085205078\n"
     ]
    },
    {
     "name": "stderr",
     "output_type": "stream",
     "text": [
      "\r",
      "training:  21%|█████████████████████████▋                                                                                              | 194/907 [02:17<08:25,  1.41it/s]"
     ]
    },
    {
     "name": "stdout",
     "output_type": "stream",
     "text": [
      "training loss: 2.9074981212615967\n",
      "training loss: 2.8591644763946533\n",
      "training loss: 2.8987717628479004\n",
      "training loss: 2.9070537090301514\n",
      "training loss: 2.9071803092956543\n",
      "training loss: 2.894350528717041\n",
      "training loss: 2.9286580085754395\n",
      "training loss: 2.8765504360198975\n",
      "training loss: 2.9156923294067383\n",
      "training loss: 2.8886184692382812\n",
      "training loss: 2.8122551441192627\n",
      "training loss: 2.8819146156311035\n",
      "validation loss: 2.8798091411590576\n",
      "training loss: 2.896183967590332\n",
      "training loss: 2.887263059616089\n",
      "training loss: 2.8860864639282227\n"
     ]
    },
    {
     "name": "stderr",
     "output_type": "stream",
     "text": [
      "\r",
      "training:  23%|███████████████████████████▋                                                                                            | 209/907 [02:28<08:14,  1.41it/s]"
     ]
    },
    {
     "name": "stdout",
     "output_type": "stream",
     "text": [
      "training loss: 2.8707966804504395\n",
      "training loss: 2.883716106414795\n",
      "training loss: 2.8687214851379395\n",
      "training loss: 2.9308419227600098\n",
      "training loss: 2.890084743499756\n",
      "training loss: 2.90228533744812\n",
      "training loss: 2.8821778297424316\n",
      "training loss: 2.883087396621704\n",
      "training loss: 2.8955912590026855\n",
      "validation loss: 2.8705995082855225\n",
      "training loss: 2.9031717777252197\n",
      "training loss: 2.8128459453582764\n",
      "training loss: 2.853297710418701\n",
      "training loss: 2.9060964584350586\n",
      "training loss: 2.8926048278808594\n",
      "training loss: 2.8346033096313477\n"
     ]
    },
    {
     "name": "stderr",
     "output_type": "stream",
     "text": [
      "\r",
      "training:  25%|█████████████████████████████▋                                                                                          | 224/907 [02:39<08:04,  1.41it/s]"
     ]
    },
    {
     "name": "stdout",
     "output_type": "stream",
     "text": [
      "training loss: 2.8749306201934814\n",
      "training loss: 2.8479247093200684\n",
      "training loss: 2.8319244384765625\n",
      "training loss: 2.8775389194488525\n",
      "training loss: 2.895679473876953\n",
      "training loss: 2.880382776260376\n",
      "validation loss: 2.8484411239624023\n",
      "training loss: 2.8890955448150635\n",
      "training loss: 2.853978157043457\n",
      "training loss: 2.9091622829437256\n",
      "training loss: 2.9038734436035156\n",
      "training loss: 2.9090230464935303\n",
      "training loss: 2.8851799964904785\n",
      "training loss: 2.862745523452759\n",
      "training loss: 2.87302303314209\n",
      "training loss: 2.8797192573547363\n"
     ]
    },
    {
     "name": "stderr",
     "output_type": "stream",
     "text": [
      "\r",
      "training:  26%|███████████████████████████████▌                                                                                        | 239/907 [02:49<07:53,  1.41it/s]"
     ]
    },
    {
     "name": "stdout",
     "output_type": "stream",
     "text": [
      "training loss: 2.8799915313720703\n",
      "training loss: 2.892376184463501\n",
      "training loss: 2.902576208114624\n",
      "validation loss: 2.9031925201416016\n",
      "training loss: 2.894666910171509\n",
      "training loss: 2.88230299949646\n",
      "training loss: 2.862184524536133\n",
      "training loss: 2.8651554584503174\n",
      "training loss: 2.897094488143921\n",
      "training loss: 2.8640618324279785\n",
      "training loss: 2.852170705795288\n",
      "training loss: 2.8973236083984375\n",
      "training loss: 2.874345064163208\n",
      "training loss: 2.866530179977417\n",
      "training loss: 2.8682737350463867\n",
      "training loss: 2.8807027339935303\n",
      "validation loss: 2.8758318424224854\n"
     ]
    },
    {
     "name": "stderr",
     "output_type": "stream",
     "text": [
      "training:  28%|█████████████████████████████████▌                                                                                      | 254/907 [03:00<07:43,  1.41it/s]"
     ]
    },
    {
     "name": "stdout",
     "output_type": "stream",
     "text": [
      "training loss: 2.8820931911468506\n",
      "training loss: 2.8904953002929688\n",
      "training loss: 2.910465717315674\n",
      "training loss: 2.851043224334717\n",
      "training loss: 2.9240500926971436\n",
      "training loss: 2.8902528285980225\n",
      "training loss: 2.8744418621063232\n",
      "training loss: 2.945110559463501\n",
      "training loss: 2.858234167098999\n",
      "training loss: 2.8869030475616455\n",
      "training loss: 2.884450912475586\n",
      "training loss: 2.9455323219299316\n",
      "validation loss: 2.871678590774536\n",
      "training loss: 2.9141383171081543\n",
      "training loss: 2.883186101913452\n",
      "training loss: 2.857494831085205\n"
     ]
    },
    {
     "name": "stderr",
     "output_type": "stream",
     "text": [
      "\r",
      "training:  30%|███████████████████████████████████▌                                                                                    | 269/907 [03:11<07:34,  1.40it/s]"
     ]
    },
    {
     "name": "stdout",
     "output_type": "stream",
     "text": [
      "training loss: 2.8718879222869873\n",
      "training loss: 2.8941807746887207\n",
      "training loss: 2.9349188804626465\n",
      "training loss: 2.8556134700775146\n",
      "training loss: 2.909193277359009\n",
      "training loss: 2.936206817626953\n",
      "training loss: 2.9081077575683594\n",
      "training loss: 2.861456871032715\n",
      "training loss: 2.9075329303741455\n",
      "validation loss: 2.902623176574707\n",
      "training loss: 2.8709311485290527\n",
      "training loss: 2.9586129188537598\n",
      "training loss: 2.872211456298828\n",
      "training loss: 2.869378089904785\n",
      "training loss: 2.868372678756714\n",
      "training loss: 2.910994291305542\n"
     ]
    },
    {
     "name": "stderr",
     "output_type": "stream",
     "text": [
      "\r",
      "training:  31%|█████████████████████████████████████▌                                                                                  | 284/907 [03:21<07:23,  1.40it/s]"
     ]
    },
    {
     "name": "stdout",
     "output_type": "stream",
     "text": [
      "training loss: 2.8635435104370117\n",
      "training loss: 2.879427909851074\n",
      "training loss: 2.927006959915161\n",
      "training loss: 2.9143965244293213\n",
      "training loss: 2.8629794120788574\n",
      "training loss: 2.9424595832824707\n",
      "validation loss: 3.1189725399017334\n",
      "training loss: 2.8926732540130615\n",
      "training loss: 2.904649257659912\n",
      "training loss: 2.8854870796203613\n",
      "training loss: 2.9263367652893066\n",
      "training loss: 2.887950897216797\n",
      "training loss: 2.871612548828125\n",
      "training loss: 2.8202757835388184\n",
      "training loss: 2.9166181087493896\n",
      "training loss: 2.867931604385376\n"
     ]
    },
    {
     "name": "stderr",
     "output_type": "stream",
     "text": [
      "\r",
      "training:  33%|███████████████████████████████████████▌                                                                                | 299/907 [03:32<07:12,  1.40it/s]"
     ]
    },
    {
     "name": "stdout",
     "output_type": "stream",
     "text": [
      "training loss: 2.899003744125366\n",
      "training loss: 2.885122537612915\n",
      "training loss: 2.8944544792175293\n",
      "validation loss: 2.882511615753174\n",
      "training loss: 2.9024410247802734\n",
      "training loss: 2.887482166290283\n",
      "training loss: 2.8932414054870605\n",
      "training loss: 2.899559259414673\n",
      "training loss: 2.893742799758911\n",
      "training loss: 2.903402805328369\n",
      "training loss: 2.9067583084106445\n",
      "training loss: 2.9064016342163086\n",
      "training loss: 2.862212896347046\n",
      "training loss: 2.91752552986145\n",
      "training loss: 2.9046895503997803\n",
      "training loss: 2.8732008934020996\n",
      "validation loss: 2.8666746616363525\n"
     ]
    },
    {
     "name": "stderr",
     "output_type": "stream",
     "text": [
      "\r",
      "training:  35%|█████████████████████████████████████████▌                                                                              | 314/907 [03:43<07:04,  1.40it/s]"
     ]
    },
    {
     "name": "stdout",
     "output_type": "stream",
     "text": [
      "training loss: 2.9206643104553223\n",
      "training loss: 2.9027812480926514\n",
      "training loss: 2.9046592712402344\n",
      "training loss: 2.8759102821350098\n",
      "training loss: 2.8985259532928467\n",
      "training loss: 2.8619163036346436\n",
      "training loss: 2.903369188308716\n",
      "training loss: 2.8931195735931396\n",
      "training loss: 2.8821732997894287\n",
      "training loss: 2.8968169689178467\n",
      "training loss: 2.8629391193389893\n",
      "training loss: 2.894066333770752\n",
      "validation loss: 2.925659656524658\n",
      "training loss: 2.9486117362976074\n",
      "training loss: 2.9098267555236816\n"
     ]
    },
    {
     "name": "stderr",
     "output_type": "stream",
     "text": [
      "\r",
      "training:  36%|███████████████████████████████████████████▍                                                                            | 328/907 [03:53<06:54,  1.40it/s]"
     ]
    },
    {
     "name": "stdout",
     "output_type": "stream",
     "text": [
      "training loss: 2.8493716716766357\n",
      "training loss: 2.8788816928863525\n",
      "training loss: 2.9374947547912598\n",
      "training loss: 2.9203085899353027\n",
      "training loss: 2.8559930324554443\n",
      "training loss: 2.841325521469116\n",
      "training loss: 2.8592724800109863\n",
      "training loss: 2.90826153755188\n",
      "training loss: 2.906447649002075\n",
      "training loss: 2.846872091293335\n",
      "validation loss: 2.8516523838043213\n",
      "training loss: 2.923656463623047\n",
      "training loss: 2.8761801719665527\n",
      "training loss: 2.89300799369812\n",
      "training loss: 2.8884081840515137\n",
      "training loss: 2.8446812629699707\n"
     ]
    },
    {
     "name": "stderr",
     "output_type": "stream",
     "text": [
      "\r",
      "training:  38%|█████████████████████████████████████████████▍                                                                          | 343/907 [04:04<06:43,  1.40it/s]"
     ]
    },
    {
     "name": "stdout",
     "output_type": "stream",
     "text": [
      "training loss: 2.8679628372192383\n",
      "training loss: 2.8253231048583984\n",
      "training loss: 2.9335455894470215\n",
      "training loss: 2.870685338973999\n",
      "training loss: 2.88525128364563\n",
      "training loss: 2.8893942832946777\n",
      "training loss: 2.9099068641662598\n",
      "validation loss: 2.903292655944824\n",
      "training loss: 2.8578732013702393\n",
      "training loss: 2.8904218673706055\n",
      "training loss: 2.8916001319885254\n",
      "training loss: 2.8962090015411377\n",
      "training loss: 2.8572208881378174\n",
      "training loss: 2.8810808658599854\n",
      "training loss: 2.8731484413146973\n",
      "training loss: 2.852090835571289\n"
     ]
    },
    {
     "name": "stderr",
     "output_type": "stream",
     "text": [
      "\r",
      "training:  39%|███████████████████████████████████████████████▎                                                                        | 358/907 [04:14<06:31,  1.40it/s]"
     ]
    },
    {
     "name": "stdout",
     "output_type": "stream",
     "text": [
      "training loss: 2.88191294670105\n",
      "training loss: 2.8998565673828125\n",
      "training loss: 2.8469362258911133\n",
      "training loss: 2.882985830307007\n",
      "validation loss: 2.8857016563415527\n",
      "training loss: 2.8743486404418945\n",
      "training loss: 2.8863186836242676\n",
      "training loss: 2.828277111053467\n",
      "training loss: 2.8426003456115723\n",
      "training loss: 2.93890643119812\n",
      "training loss: 2.8729982376098633\n",
      "training loss: 2.879232883453369\n",
      "training loss: 2.9330739974975586\n",
      "training loss: 2.8926806449890137\n",
      "training loss: 2.8704545497894287\n",
      "training loss: 2.947937488555908\n"
     ]
    },
    {
     "name": "stderr",
     "output_type": "stream",
     "text": [
      "\r",
      "training:  41%|█████████████████████████████████████████████████▎                                                                      | 373/907 [04:25<06:22,  1.40it/s]"
     ]
    },
    {
     "name": "stdout",
     "output_type": "stream",
     "text": [
      "training loss: 2.939458131790161\n",
      "validation loss: 2.8606173992156982\n",
      "training loss: 2.8730320930480957\n",
      "training loss: 2.882730007171631\n",
      "training loss: 2.898541212081909\n",
      "training loss: 2.8760714530944824\n",
      "training loss: 2.8724544048309326\n",
      "training loss: 2.9163405895233154\n",
      "training loss: 2.9196465015411377\n",
      "training loss: 2.900960683822632\n",
      "training loss: 2.8820295333862305\n",
      "training loss: 2.898019313812256\n",
      "training loss: 2.8493332862854004\n",
      "training loss: 2.8791754245758057\n",
      "validation loss: 2.8553519248962402\n",
      "training loss: 2.8678104877471924\n",
      "training loss: 2.863795042037964\n"
     ]
    },
    {
     "name": "stderr",
     "output_type": "stream",
     "text": [
      "\r",
      "training:  43%|███████████████████████████████████████████████████▎                                                                    | 388/907 [04:36<06:10,  1.40it/s]"
     ]
    },
    {
     "name": "stdout",
     "output_type": "stream",
     "text": [
      "training loss: 2.8619980812072754\n",
      "training loss: 2.8884952068328857\n",
      "training loss: 2.881248712539673\n",
      "training loss: 2.8609049320220947\n",
      "training loss: 2.918837308883667\n",
      "training loss: 2.9769327640533447\n",
      "training loss: 2.9144515991210938\n",
      "training loss: 2.887699842453003\n",
      "training loss: 2.863492012023926\n",
      "training loss: 2.8389110565185547\n",
      "validation loss: 2.893221855163574\n",
      "training loss: 2.9146416187286377\n",
      "training loss: 2.8881289958953857\n",
      "training loss: 2.936007499694824\n",
      "training loss: 2.834730386734009\n",
      "training loss: 2.8562428951263428\n"
     ]
    },
    {
     "name": "stderr",
     "output_type": "stream",
     "text": [
      "\r",
      "training:  44%|█████████████████████████████████████████████████████▎                                                                  | 403/907 [04:46<06:00,  1.40it/s]"
     ]
    },
    {
     "name": "stdout",
     "output_type": "stream",
     "text": [
      "training loss: 2.8763129711151123\n",
      "training loss: 2.8633527755737305\n",
      "training loss: 2.950019598007202\n",
      "training loss: 2.8870983123779297\n",
      "training loss: 2.8622467517852783\n",
      "training loss: 2.9655916690826416\n",
      "training loss: 2.9253501892089844\n",
      "validation loss: 2.9041247367858887\n",
      "training loss: 2.8785457611083984\n",
      "training loss: 2.922290802001953\n",
      "training loss: 2.8902595043182373\n",
      "training loss: 2.843750476837158\n",
      "training loss: 2.898366689682007\n",
      "training loss: 2.866194248199463\n",
      "training loss: 2.828242301940918\n"
     ]
    },
    {
     "name": "stderr",
     "output_type": "stream",
     "text": [
      "\r",
      "training:  46%|███████████████████████████████████████████████████████▏                                                                | 417/907 [04:57<05:50,  1.40it/s]"
     ]
    },
    {
     "name": "stdout",
     "output_type": "stream",
     "text": [
      "training loss: 2.8592774868011475\n",
      "training loss: 2.922085762023926\n",
      "training loss: 2.8939640522003174\n",
      "training loss: 2.8943021297454834\n",
      "training loss: 2.881831407546997\n",
      "validation loss: 2.9104461669921875\n",
      "training loss: 2.8921265602111816\n",
      "training loss: 2.892911672592163\n",
      "training loss: 2.86501407623291\n",
      "training loss: 2.8869409561157227\n",
      "training loss: 2.899930715560913\n",
      "training loss: 2.9180908203125\n",
      "training loss: 2.890859603881836\n",
      "training loss: 2.879241943359375\n",
      "training loss: 2.899376630783081\n"
     ]
    },
    {
     "name": "stderr",
     "output_type": "stream",
     "text": [
      "\r",
      "training:  48%|█████████████████████████████████████████████████████████                                                               | 431/907 [05:07<05:40,  1.40it/s]"
     ]
    },
    {
     "name": "stdout",
     "output_type": "stream",
     "text": [
      "training loss: 2.873802900314331\n",
      "training loss: 2.9074649810791016\n",
      "training loss: 2.9070515632629395\n",
      "validation loss: 2.941171884536743\n",
      "training loss: 2.8852267265319824\n",
      "training loss: 2.922919273376465\n",
      "training loss: 2.8783113956451416\n",
      "training loss: 2.913510799407959\n",
      "training loss: 2.8985297679901123\n",
      "training loss: 2.901616334915161\n",
      "training loss: 2.8993630409240723\n",
      "training loss: 2.853018045425415\n",
      "training loss: 2.8334600925445557\n"
     ]
    },
    {
     "name": "stderr",
     "output_type": "stream",
     "text": [
      "training:  49%|██████████████████████████████████████████████████████████▌                                                             | 443/907 [05:20<06:25,  1.20it/s]"
     ]
    },
    {
     "name": "stdout",
     "output_type": "stream",
     "text": [
      "training loss: 2.888099431991577\n",
      "training loss: 2.8697359561920166\n",
      "training loss: 2.8644919395446777\n",
      "validation loss: 2.837608575820923\n",
      "training loss: 2.8762381076812744\n",
      "training loss: 2.9379494190216064\n",
      "training loss: 2.867926836013794\n",
      "training loss: 2.829700231552124\n",
      "training loss: 2.8678014278411865\n",
      "training loss: 2.9027934074401855\n",
      "training loss: 2.8833863735198975\n"
     ]
    },
    {
     "name": "stderr",
     "output_type": "stream",
     "text": [
      "\r",
      "training:  50%|███████████████████████████████████████████████████████████▉                                                            | 453/907 [05:34<07:39,  1.01s/it]"
     ]
    },
    {
     "name": "stdout",
     "output_type": "stream",
     "text": [
      "training loss: 2.859842300415039\n",
      "training loss: 2.9150137901306152\n",
      "training loss: 2.8972508907318115\n",
      "training loss: 2.9290683269500732\n",
      "training loss: 2.8708908557891846\n",
      "validation loss: 2.9014275074005127\n",
      "training loss: 2.8655385971069336\n",
      "training loss: 2.8866751194000244\n"
     ]
    },
    {
     "name": "stderr",
     "output_type": "stream",
     "text": [
      "\r",
      "training:  51%|████████████████████████████████████████████████████████████▊                                                           | 460/907 [05:44<08:28,  1.14s/it]"
     ]
    },
    {
     "name": "stdout",
     "output_type": "stream",
     "text": [
      "training loss: 2.906290054321289\n",
      "training loss: 2.8780617713928223\n",
      "training loss: 2.92765736579895\n",
      "training loss: 2.9094111919403076\n",
      "training loss: 2.8650918006896973\n",
      "training loss: 2.9022793769836426\n",
      "training loss: 2.8945834636688232\n"
     ]
    },
    {
     "name": "stderr",
     "output_type": "stream",
     "text": [
      "\r",
      "training:  51%|█████████████████████████████████████████████████████████████▊                                                          | 467/907 [05:54<09:00,  1.23s/it]"
     ]
    },
    {
     "name": "stdout",
     "output_type": "stream",
     "text": [
      "training loss: 2.8694663047790527\n",
      "training loss: 2.955317735671997\n",
      "training loss: 2.893789291381836\n",
      "validation loss: 2.908560276031494\n",
      "training loss: 2.8427088260650635\n",
      "training loss: 2.905506134033203\n",
      "training loss: 2.87888765335083\n",
      "training loss: 2.8372745513916016\n"
     ]
    },
    {
     "name": "stderr",
     "output_type": "stream",
     "text": [
      "\r",
      "training:  52%|██████████████████████████████████████████████████████████████▋                                                         | 474/907 [06:04<09:18,  1.29s/it]"
     ]
    },
    {
     "name": "stdout",
     "output_type": "stream",
     "text": [
      "training loss: 2.886212110519409\n",
      "training loss: 2.8337011337280273\n",
      "training loss: 2.860151529312134\n",
      "training loss: 2.8902018070220947\n",
      "training loss: 2.935415029525757\n",
      "training loss: 2.894709587097168\n",
      "training loss: 2.8473291397094727\n"
     ]
    },
    {
     "name": "stderr",
     "output_type": "stream",
     "text": [
      "\r",
      "training:  53%|███████████████████████████████████████████████████████████████▋                                                        | 481/907 [06:14<09:28,  1.33s/it]"
     ]
    },
    {
     "name": "stdout",
     "output_type": "stream",
     "text": [
      "training loss: 2.8966004848480225\n",
      "validation loss: 2.8815758228302\n",
      "training loss: 2.8521687984466553\n",
      "training loss: 2.8726348876953125\n",
      "training loss: 2.886723518371582\n",
      "training loss: 2.870452642440796\n",
      "training loss: 2.848097324371338\n",
      "training loss: 2.8922722339630127\n",
      "training loss: 2.8541455268859863\n"
     ]
    },
    {
     "name": "stderr",
     "output_type": "stream",
     "text": [
      "\r",
      "training:  54%|████████████████████████████████████████████████████████████████▋                                                       | 489/907 [06:26<09:27,  1.36s/it]"
     ]
    },
    {
     "name": "stdout",
     "output_type": "stream",
     "text": [
      "training loss: 2.913724899291992\n",
      "training loss: 2.9049768447875977\n",
      "training loss: 2.894733190536499\n",
      "training loss: 2.884253740310669\n",
      "training loss: 2.928612232208252\n",
      "validation loss: 2.8349449634552\n",
      "training loss: 2.865462303161621\n",
      "training loss: 2.9305596351623535\n",
      "training loss: 2.870594024658203\n"
     ]
    },
    {
     "name": "stderr",
     "output_type": "stream",
     "text": [
      "\r",
      "training:  55%|█████████████████████████████████████████████████████████████████▊                                                      | 497/907 [06:37<09:25,  1.38s/it]"
     ]
    },
    {
     "name": "stdout",
     "output_type": "stream",
     "text": [
      "training loss: 2.8595616817474365\n",
      "training loss: 2.8826844692230225\n",
      "training loss: 2.8742454051971436\n",
      "training loss: 2.841573715209961\n",
      "training loss: 2.886903762817383\n",
      "training loss: 2.9073781967163086\n",
      "training loss: 2.864824056625366\n",
      "training loss: 2.9775915145874023\n"
     ]
    },
    {
     "name": "stderr",
     "output_type": "stream",
     "text": [
      "\r",
      "training:  56%|██████████████████████████████████████████████████████████████████▊                                                     | 505/907 [06:48<09:20,  1.39s/it]"
     ]
    },
    {
     "name": "stdout",
     "output_type": "stream",
     "text": [
      "training loss: 2.8797926902770996\n",
      "validation loss: 2.91058611869812\n",
      "training loss: 2.916109800338745\n",
      "training loss: 2.856635808944702\n",
      "training loss: 2.8822944164276123\n",
      "training loss: 2.8973731994628906\n",
      "training loss: 2.8802409172058105\n",
      "training loss: 2.867485523223877\n",
      "training loss: 2.914639472961426\n"
     ]
    },
    {
     "name": "stderr",
     "output_type": "stream",
     "text": [
      "training:  57%|███████████████████████████████████████████████████████████████████▊                                                    | 513/907 [07:00<09:10,  1.40s/it]"
     ]
    },
    {
     "name": "stdout",
     "output_type": "stream",
     "text": [
      "training loss: 2.8681252002716064\n",
      "training loss: 2.8633530139923096\n",
      "training loss: 2.9154765605926514\n",
      "training loss: 2.9035584926605225\n",
      "training loss: 2.896070957183838\n",
      "validation loss: 2.8496828079223633\n",
      "training loss: 2.8940327167510986\n",
      "training loss: 2.9417240619659424\n",
      "training loss: 2.881165027618408\n"
     ]
    },
    {
     "name": "stderr",
     "output_type": "stream",
     "text": [
      "\r",
      "training:  57%|████████████████████████████████████████████████████████████████████▉                                                   | 521/907 [07:11<09:02,  1.40s/it]"
     ]
    },
    {
     "name": "stdout",
     "output_type": "stream",
     "text": [
      "training loss: 2.9079833030700684\n",
      "training loss: 2.910642147064209\n",
      "training loss: 2.869541645050049\n",
      "training loss: 2.894859552383423\n",
      "training loss: 2.863434076309204\n",
      "training loss: 2.875439405441284\n",
      "training loss: 2.893310546875\n",
      "training loss: 2.935349464416504\n"
     ]
    },
    {
     "name": "stderr",
     "output_type": "stream",
     "text": [
      "\r",
      "training:  58%|█████████████████████████████████████████████████████████████████████▉                                                  | 529/907 [07:23<08:53,  1.41s/it]"
     ]
    },
    {
     "name": "stdout",
     "output_type": "stream",
     "text": [
      "training loss: 2.9004969596862793\n",
      "validation loss: 2.904477119445801\n",
      "training loss: 2.909510612487793\n",
      "training loss: 2.866393566131592\n",
      "training loss: 2.8754844665527344\n",
      "training loss: 2.8771259784698486\n",
      "training loss: 2.877845287322998\n",
      "training loss: 2.8810863494873047\n",
      "training loss: 2.879265785217285\n"
     ]
    },
    {
     "name": "stderr",
     "output_type": "stream",
     "text": [
      "\r",
      "training:  59%|███████████████████████████████████████████████████████████████████████                                                 | 537/907 [07:34<08:42,  1.41s/it]"
     ]
    },
    {
     "name": "stdout",
     "output_type": "stream",
     "text": [
      "training loss: 2.8794493675231934\n",
      "training loss: 2.9156980514526367\n",
      "training loss: 2.855027675628662\n",
      "training loss: 2.8280375003814697\n",
      "training loss: 2.8442139625549316\n",
      "validation loss: 2.8172860145568848\n",
      "training loss: 2.8985655307769775\n",
      "training loss: 2.865985631942749\n",
      "training loss: 2.9219586849212646\n"
     ]
    },
    {
     "name": "stderr",
     "output_type": "stream",
     "text": [
      "\r",
      "training:  60%|████████████████████████████████████████████████████████████████████████                                                | 545/907 [07:45<08:33,  1.42s/it]"
     ]
    },
    {
     "name": "stdout",
     "output_type": "stream",
     "text": [
      "training loss: 2.8586032390594482\n",
      "training loss: 2.9780290126800537\n",
      "training loss: 2.8894765377044678\n",
      "training loss: 2.8449156284332275\n",
      "training loss: 2.8561551570892334\n",
      "training loss: 2.877192735671997\n",
      "training loss: 2.846339702606201\n",
      "training loss: 2.885845422744751\n"
     ]
    },
    {
     "name": "stderr",
     "output_type": "stream",
     "text": [
      "\r",
      "training:  61%|█████████████████████████████████████████████████████████████████████████▏                                              | 553/907 [07:57<08:23,  1.42s/it]"
     ]
    },
    {
     "name": "stdout",
     "output_type": "stream",
     "text": [
      "training loss: 2.857114791870117\n",
      "validation loss: 2.919344902038574\n",
      "training loss: 2.8772053718566895\n",
      "training loss: 2.9344594478607178\n",
      "training loss: 2.895333766937256\n",
      "training loss: 2.8778316974639893\n",
      "training loss: 2.8885018825531006\n",
      "training loss: 2.860888719558716\n",
      "training loss: 2.874319076538086\n"
     ]
    },
    {
     "name": "stderr",
     "output_type": "stream",
     "text": [
      "\r",
      "training:  62%|██████████████████████████████████████████████████████████████████████████▏                                             | 561/907 [08:08<08:10,  1.42s/it]"
     ]
    },
    {
     "name": "stdout",
     "output_type": "stream",
     "text": [
      "training loss: 2.904155731201172\n",
      "training loss: 2.915796995162964\n",
      "training loss: 2.8965001106262207\n",
      "training loss: 2.867123603820801\n",
      "training loss: 2.8972222805023193\n",
      "validation loss: 2.889747142791748\n",
      "training loss: 2.897585153579712\n",
      "training loss: 2.8586695194244385\n",
      "training loss: 2.905078887939453\n"
     ]
    },
    {
     "name": "stderr",
     "output_type": "stream",
     "text": [
      "\r",
      "training:  63%|███████████████████████████████████████████████████████████████████████████▎                                            | 569/907 [08:19<07:55,  1.41s/it]"
     ]
    },
    {
     "name": "stdout",
     "output_type": "stream",
     "text": [
      "training loss: 2.909269332885742\n",
      "training loss: 2.9237892627716064\n",
      "training loss: 2.881396770477295\n",
      "training loss: 2.896829128265381\n",
      "training loss: 2.9198131561279297\n",
      "training loss: 2.889881134033203\n",
      "training loss: 2.8903181552886963\n",
      "training loss: 2.9211833477020264\n"
     ]
    },
    {
     "name": "stderr",
     "output_type": "stream",
     "text": [
      "training:  64%|████████████████████████████████████████████████████████████████████████████▎                                           | 577/907 [08:30<07:46,  1.41s/it]"
     ]
    },
    {
     "name": "stdout",
     "output_type": "stream",
     "text": [
      "training loss: 2.925950765609741\n",
      "validation loss: 2.8601982593536377\n",
      "training loss: 2.8271372318267822\n",
      "training loss: 2.8868582248687744\n",
      "training loss: 2.878509759902954\n",
      "training loss: 2.8748512268066406\n",
      "training loss: 2.8717520236968994\n",
      "training loss: 2.8677005767822266\n",
      "training loss: 2.8868649005889893\n"
     ]
    },
    {
     "name": "stderr",
     "output_type": "stream",
     "text": [
      "\r",
      "training:  64%|█████████████████████████████████████████████████████████████████████████████▍                                          | 585/907 [08:42<07:35,  1.41s/it]"
     ]
    },
    {
     "name": "stdout",
     "output_type": "stream",
     "text": [
      "training loss: 2.911898374557495\n",
      "training loss: 2.9076943397521973\n",
      "training loss: 3.0072808265686035\n",
      "training loss: 2.8443589210510254\n",
      "training loss: 2.898721694946289\n",
      "validation loss: 2.9003772735595703\n",
      "training loss: 2.852344036102295\n",
      "training loss: 2.953700542449951\n",
      "training loss: 2.9277658462524414\n"
     ]
    },
    {
     "name": "stderr",
     "output_type": "stream",
     "text": [
      "\r",
      "training:  65%|██████████████████████████████████████████████████████████████████████████████▍                                         | 593/907 [08:53<07:25,  1.42s/it]"
     ]
    },
    {
     "name": "stdout",
     "output_type": "stream",
     "text": [
      "training loss: 2.9611780643463135\n",
      "training loss: 2.9051101207733154\n",
      "training loss: 2.888213872909546\n",
      "training loss: 2.9638779163360596\n",
      "training loss: 2.868920087814331\n",
      "training loss: 2.8968615531921387\n",
      "training loss: 2.9065449237823486\n",
      "training loss: 2.9258761405944824\n"
     ]
    },
    {
     "name": "stderr",
     "output_type": "stream",
     "text": [
      "\r",
      "training:  66%|███████████████████████████████████████████████████████████████████████████████▌                                        | 601/907 [09:05<07:13,  1.42s/it]"
     ]
    },
    {
     "name": "stdout",
     "output_type": "stream",
     "text": [
      "training loss: 2.8949685096740723\n",
      "validation loss: 2.937741994857788\n",
      "training loss: 2.8994829654693604\n",
      "training loss: 2.877948045730591\n",
      "training loss: 2.8675734996795654\n",
      "training loss: 2.879009485244751\n",
      "training loss: 2.8974597454071045\n",
      "training loss: 2.900686264038086\n",
      "training loss: 2.8614771366119385\n"
     ]
    },
    {
     "name": "stderr",
     "output_type": "stream",
     "text": [
      "\r",
      "training:  67%|████████████████████████████████████████████████████████████████████████████████▌                                       | 609/907 [09:16<07:02,  1.42s/it]"
     ]
    },
    {
     "name": "stdout",
     "output_type": "stream",
     "text": [
      "training loss: 2.8666274547576904\n",
      "training loss: 2.892735719680786\n",
      "training loss: 2.891897201538086\n",
      "training loss: 2.9194934368133545\n",
      "training loss: 2.8980612754821777\n",
      "validation loss: 2.8912527561187744\n",
      "training loss: 2.9044172763824463\n",
      "training loss: 2.8643836975097656\n",
      "training loss: 2.884199380874634\n"
     ]
    },
    {
     "name": "stderr",
     "output_type": "stream",
     "text": [
      "\r",
      "training:  68%|█████████████████████████████████████████████████████████████████████████████████▋                                      | 617/907 [09:27<06:51,  1.42s/it]"
     ]
    },
    {
     "name": "stdout",
     "output_type": "stream",
     "text": [
      "training loss: 2.9334065914154053\n",
      "training loss: 2.879688262939453\n",
      "training loss: 2.8530783653259277\n",
      "training loss: 2.920201301574707\n",
      "training loss: 2.8753323554992676\n",
      "training loss: 2.8945467472076416\n",
      "training loss: 2.884111166000366\n",
      "training loss: 2.8699567317962646\n"
     ]
    },
    {
     "name": "stderr",
     "output_type": "stream",
     "text": [
      "\r",
      "training:  69%|██████████████████████████████████████████████████████████████████████████████████▋                                     | 625/907 [09:39<06:40,  1.42s/it]"
     ]
    },
    {
     "name": "stdout",
     "output_type": "stream",
     "text": [
      "training loss: 2.9161691665649414\n",
      "validation loss: 2.9095242023468018\n",
      "training loss: 2.8906478881835938\n",
      "training loss: 2.895972728729248\n",
      "training loss: 2.85158109664917\n",
      "training loss: 2.8822388648986816\n",
      "training loss: 2.9088327884674072\n",
      "training loss: 2.8631057739257812\n",
      "training loss: 2.8869166374206543\n"
     ]
    },
    {
     "name": "stderr",
     "output_type": "stream",
     "text": [
      "training:  70%|███████████████████████████████████████████████████████████████████████████████████▋                                    | 633/907 [09:50<06:28,  1.42s/it]"
     ]
    },
    {
     "name": "stdout",
     "output_type": "stream",
     "text": [
      "training loss: 2.928717851638794\n",
      "training loss: 2.867173910140991\n",
      "training loss: 2.861463785171509\n",
      "training loss: 2.862969398498535\n",
      "training loss: 2.856543779373169\n",
      "validation loss: 2.9598922729492188\n",
      "training loss: 2.87383770942688\n",
      "training loss: 2.927885055541992\n",
      "training loss: 2.869133949279785\n"
     ]
    },
    {
     "name": "stderr",
     "output_type": "stream",
     "text": [
      "\r",
      "training:  71%|████████████████████████████████████████████████████████████████████████████████████▊                                   | 641/907 [10:01<06:17,  1.42s/it]"
     ]
    },
    {
     "name": "stdout",
     "output_type": "stream",
     "text": [
      "training loss: 2.9042840003967285\n",
      "training loss: 2.8739590644836426\n",
      "training loss: 2.886882781982422\n",
      "training loss: 2.8772940635681152\n",
      "training loss: 2.8903470039367676\n",
      "training loss: 2.874464273452759\n",
      "training loss: 2.9371395111083984\n",
      "training loss: 2.886263370513916\n"
     ]
    },
    {
     "name": "stderr",
     "output_type": "stream",
     "text": [
      "\r",
      "training:  72%|█████████████████████████████████████████████████████████████████████████████████████▊                                  | 649/907 [10:13<06:06,  1.42s/it]"
     ]
    },
    {
     "name": "stdout",
     "output_type": "stream",
     "text": [
      "training loss: 2.867966651916504\n",
      "validation loss: 2.8801701068878174\n",
      "training loss: 2.917297601699829\n",
      "training loss: 2.885312080383301\n",
      "training loss: 2.869889736175537\n",
      "training loss: 2.9001424312591553\n",
      "training loss: 2.8987948894500732\n",
      "training loss: 2.8637092113494873\n",
      "training loss: 2.87526798248291\n"
     ]
    },
    {
     "name": "stderr",
     "output_type": "stream",
     "text": [
      "\r",
      "training:  72%|██████████████████████████████████████████████████████████████████████████████████████▉                                 | 657/907 [10:24<05:55,  1.42s/it]"
     ]
    },
    {
     "name": "stdout",
     "output_type": "stream",
     "text": [
      "training loss: 2.879696846008301\n",
      "training loss: 2.866716146469116\n",
      "training loss: 2.8657031059265137\n",
      "training loss: 2.8817012310028076\n",
      "training loss: 2.875596046447754\n",
      "validation loss: 2.8782918453216553\n",
      "training loss: 2.957442045211792\n",
      "training loss: 2.8548197746276855\n",
      "training loss: 2.9169199466705322\n"
     ]
    },
    {
     "name": "stderr",
     "output_type": "stream",
     "text": [
      "\r",
      "training:  73%|███████████████████████████████████████████████████████████████████████████████████████▉                                | 665/907 [10:36<05:44,  1.42s/it]"
     ]
    },
    {
     "name": "stdout",
     "output_type": "stream",
     "text": [
      "training loss: 2.8495850563049316\n",
      "training loss: 2.8721201419830322\n",
      "training loss: 2.8864219188690186\n",
      "training loss: 2.882678508758545\n",
      "training loss: 2.8783884048461914\n",
      "training loss: 2.9049341678619385\n",
      "training loss: 2.8589344024658203\n",
      "training loss: 2.9078962802886963\n"
     ]
    },
    {
     "name": "stderr",
     "output_type": "stream",
     "text": [
      "\r",
      "training:  74%|█████████████████████████████████████████████████████████████████████████████████████████                               | 673/907 [10:47<05:33,  1.43s/it]"
     ]
    },
    {
     "name": "stdout",
     "output_type": "stream",
     "text": [
      "training loss: 2.8821277618408203\n",
      "validation loss: 2.9352660179138184\n",
      "training loss: 2.9105780124664307\n",
      "training loss: 2.897249221801758\n",
      "training loss: 2.8620898723602295\n",
      "training loss: 2.9068002700805664\n",
      "training loss: 2.9400672912597656\n",
      "training loss: 2.865104913711548\n",
      "training loss: 2.8463640213012695\n"
     ]
    },
    {
     "name": "stderr",
     "output_type": "stream",
     "text": [
      "\r",
      "training:  75%|██████████████████████████████████████████████████████████████████████████████████████████                              | 681/907 [10:58<05:21,  1.42s/it]"
     ]
    },
    {
     "name": "stdout",
     "output_type": "stream",
     "text": [
      "training loss: 2.8687076568603516\n",
      "training loss: 2.897108793258667\n",
      "training loss: 2.910233497619629\n",
      "training loss: 2.8994762897491455\n",
      "training loss: 2.91388201713562\n",
      "validation loss: 2.9290452003479004\n",
      "training loss: 2.90411114692688\n",
      "training loss: 2.8967463970184326\n",
      "training loss: 2.88864803314209\n"
     ]
    },
    {
     "name": "stderr",
     "output_type": "stream",
     "text": [
      "training:  76%|███████████████████████████████████████████████████████████████████████████████████████████▏                            | 689/907 [11:10<05:11,  1.43s/it]"
     ]
    },
    {
     "name": "stdout",
     "output_type": "stream",
     "text": [
      "training loss: 2.854130268096924\n",
      "training loss: 2.8515055179595947\n",
      "training loss: 2.8929011821746826\n",
      "training loss: 2.906543016433716\n",
      "training loss: 2.9032905101776123\n",
      "training loss: 2.842921257019043\n",
      "training loss: 2.9009673595428467\n",
      "training loss: 2.913257122039795\n"
     ]
    },
    {
     "name": "stderr",
     "output_type": "stream",
     "text": [
      "\r",
      "training:  77%|████████████████████████████████████████████████████████████████████████████████████████████▏                           | 697/907 [11:21<04:59,  1.43s/it]"
     ]
    },
    {
     "name": "stdout",
     "output_type": "stream",
     "text": [
      "training loss: 2.8892951011657715\n",
      "validation loss: 2.8635809421539307\n",
      "training loss: 2.8724725246429443\n",
      "training loss: 2.9077372550964355\n",
      "training loss: 2.859483242034912\n",
      "training loss: 2.8594014644622803\n",
      "training loss: 2.934286117553711\n",
      "training loss: 2.88210391998291\n",
      "training loss: 2.882301092147827\n"
     ]
    },
    {
     "name": "stderr",
     "output_type": "stream",
     "text": [
      "\r",
      "training:  78%|█████████████████████████████████████████████████████████████████████████████████████████████▎                          | 705/907 [11:33<04:47,  1.42s/it]"
     ]
    },
    {
     "name": "stdout",
     "output_type": "stream",
     "text": [
      "training loss: 2.8809971809387207\n",
      "training loss: 2.8533823490142822\n",
      "training loss: 2.8826088905334473\n",
      "training loss: 2.891787528991699\n",
      "training loss: 2.9029150009155273\n",
      "validation loss: 2.8573904037475586\n",
      "training loss: 2.9235148429870605\n",
      "training loss: 2.9123337268829346\n",
      "training loss: 2.865949869155884\n"
     ]
    },
    {
     "name": "stderr",
     "output_type": "stream",
     "text": [
      "\r",
      "training:  79%|██████████████████████████████████████████████████████████████████████████████████████████████▎                         | 713/907 [11:44<04:36,  1.43s/it]"
     ]
    },
    {
     "name": "stdout",
     "output_type": "stream",
     "text": [
      "training loss: 2.8647055625915527\n",
      "training loss: 2.9111647605895996\n",
      "training loss: 2.9159204959869385\n",
      "training loss: 2.846541166305542\n",
      "training loss: 2.934964418411255\n",
      "training loss: 2.909147024154663\n",
      "training loss: 2.858555316925049\n",
      "training loss: 2.867530107498169\n"
     ]
    },
    {
     "name": "stderr",
     "output_type": "stream",
     "text": [
      "\r",
      "training:  79%|███████████████████████████████████████████████████████████████████████████████████████████████▍                        | 721/907 [11:55<04:25,  1.43s/it]"
     ]
    },
    {
     "name": "stdout",
     "output_type": "stream",
     "text": [
      "training loss: 2.8587002754211426\n",
      "validation loss: 2.892489194869995\n",
      "training loss: 2.883711576461792\n",
      "training loss: 2.8677356243133545\n",
      "training loss: 2.882431983947754\n",
      "training loss: 2.8620855808258057\n",
      "training loss: 2.8506555557250977\n",
      "training loss: 2.8276588916778564\n",
      "training loss: 2.92240047454834\n"
     ]
    },
    {
     "name": "stderr",
     "output_type": "stream",
     "text": [
      "\r",
      "training:  80%|████████████████████████████████████████████████████████████████████████████████████████████████▍                       | 729/907 [12:07<04:13,  1.42s/it]"
     ]
    },
    {
     "name": "stdout",
     "output_type": "stream",
     "text": [
      "training loss: 2.8463072776794434\n",
      "training loss: 2.895062208175659\n",
      "training loss: 2.9012773036956787\n",
      "training loss: 2.890441417694092\n",
      "training loss: 2.854602336883545\n",
      "validation loss: 2.895369529724121\n",
      "training loss: 2.889906167984009\n",
      "training loss: 2.8664565086364746\n",
      "training loss: 2.8976852893829346\n"
     ]
    },
    {
     "name": "stderr",
     "output_type": "stream",
     "text": [
      "\r",
      "training:  81%|█████████████████████████████████████████████████████████████████████████████████████████████████▌                      | 737/907 [12:18<04:01,  1.42s/it]"
     ]
    },
    {
     "name": "stdout",
     "output_type": "stream",
     "text": [
      "training loss: 2.8503506183624268\n",
      "training loss: 2.869215726852417\n",
      "training loss: 2.8729212284088135\n",
      "training loss: 2.836822032928467\n",
      "training loss: 2.940066337585449\n",
      "training loss: 2.8580214977264404\n",
      "training loss: 2.894458055496216\n",
      "training loss: 2.9227006435394287\n"
     ]
    },
    {
     "name": "stderr",
     "output_type": "stream",
     "text": [
      "\r",
      "training:  82%|██████████████████████████████████████████████████████████████████████████████████████████████████▌                     | 745/907 [12:29<03:50,  1.42s/it]"
     ]
    },
    {
     "name": "stdout",
     "output_type": "stream",
     "text": [
      "training loss: 2.886309862136841\n",
      "validation loss: 2.850659132003784\n",
      "training loss: 2.8958401679992676\n",
      "training loss: 2.886641025543213\n",
      "training loss: 2.9329440593719482\n",
      "training loss: 2.881673574447632\n",
      "training loss: 2.8699588775634766\n",
      "training loss: 2.8952879905700684\n",
      "training loss: 2.8597114086151123\n"
     ]
    },
    {
     "name": "stderr",
     "output_type": "stream",
     "text": [
      "training:  83%|███████████████████████████████████████████████████████████████████████████████████████████████████▋                    | 753/907 [12:41<03:38,  1.42s/it]"
     ]
    },
    {
     "name": "stdout",
     "output_type": "stream",
     "text": [
      "training loss: 2.9270918369293213\n",
      "training loss: 2.9191360473632812\n",
      "training loss: 2.894232988357544\n",
      "training loss: 2.853809118270874\n",
      "training loss: 2.879770517349243\n",
      "validation loss: 2.886535406112671\n",
      "training loss: 2.8255321979522705\n",
      "training loss: 2.8963186740875244\n",
      "training loss: 2.909794569015503\n"
     ]
    },
    {
     "name": "stderr",
     "output_type": "stream",
     "text": [
      "\r",
      "training:  84%|████████████████████████████████████████████████████████████████████████████████████████████████████▋                   | 761/907 [12:52<03:27,  1.42s/it]"
     ]
    },
    {
     "name": "stdout",
     "output_type": "stream",
     "text": [
      "training loss: 2.8733670711517334\n",
      "training loss: 2.8995275497436523\n",
      "training loss: 2.857203960418701\n",
      "training loss: 2.871696710586548\n",
      "training loss: 2.891808032989502\n",
      "training loss: 2.8963465690612793\n",
      "training loss: 2.934297800064087\n",
      "training loss: 2.8975887298583984\n"
     ]
    },
    {
     "name": "stderr",
     "output_type": "stream",
     "text": [
      "\r",
      "training:  85%|█████████████████████████████████████████████████████████████████████████████████████████████████████▋                  | 769/907 [13:04<03:16,  1.42s/it]"
     ]
    },
    {
     "name": "stdout",
     "output_type": "stream",
     "text": [
      "training loss: 2.864299774169922\n",
      "validation loss: 2.8721604347229004\n",
      "training loss: 2.9109485149383545\n",
      "training loss: 2.8609774112701416\n",
      "training loss: 2.90551495552063\n",
      "training loss: 2.8704748153686523\n",
      "training loss: 2.8760688304901123\n",
      "training loss: 2.89449143409729\n",
      "training loss: 2.9004199504852295\n"
     ]
    },
    {
     "name": "stderr",
     "output_type": "stream",
     "text": [
      "\r",
      "training:  86%|██████████████████████████████████████████████████████████████████████████████████████████████████████▊                 | 777/907 [13:15<03:04,  1.42s/it]"
     ]
    },
    {
     "name": "stdout",
     "output_type": "stream",
     "text": [
      "training loss: 2.8983800411224365\n",
      "training loss: 2.923892021179199\n",
      "training loss: 2.8756837844848633\n",
      "training loss: 2.8765807151794434\n",
      "training loss: 2.873255968093872\n",
      "validation loss: 2.8826184272766113\n",
      "training loss: 2.8857102394104004\n",
      "training loss: 2.9056754112243652\n",
      "training loss: 2.862231969833374\n"
     ]
    },
    {
     "name": "stderr",
     "output_type": "stream",
     "text": [
      "\r",
      "training:  87%|███████████████████████████████████████████████████████████████████████████████████████████████████████▊                | 785/907 [13:26<02:53,  1.43s/it]"
     ]
    },
    {
     "name": "stdout",
     "output_type": "stream",
     "text": [
      "training loss: 2.8999929428100586\n",
      "training loss: 2.9059946537017822\n",
      "training loss: 2.898919105529785\n",
      "training loss: 2.89943790435791\n",
      "training loss: 2.9290618896484375\n",
      "training loss: 2.872737169265747\n",
      "training loss: 2.9174141883850098\n",
      "training loss: 2.8917040824890137\n"
     ]
    },
    {
     "name": "stderr",
     "output_type": "stream",
     "text": [
      "\r",
      "training:  87%|████████████████████████████████████████████████████████████████████████████████████████████████████████▉               | 793/907 [13:38<02:42,  1.43s/it]"
     ]
    },
    {
     "name": "stdout",
     "output_type": "stream",
     "text": [
      "training loss: 2.8124351501464844\n",
      "validation loss: 2.855029582977295\n",
      "training loss: 2.883493423461914\n",
      "training loss: 2.887566566467285\n",
      "training loss: 2.8878250122070312\n",
      "training loss: 2.8839170932769775\n",
      "training loss: 2.8727970123291016\n",
      "training loss: 2.8807361125946045\n",
      "training loss: 2.8698630332946777\n"
     ]
    },
    {
     "name": "stderr",
     "output_type": "stream",
     "text": [
      "\r",
      "training:  88%|█████████████████████████████████████████████████████████████████████████████████████████████████████████▉              | 801/907 [13:49<02:31,  1.43s/it]"
     ]
    },
    {
     "name": "stdout",
     "output_type": "stream",
     "text": [
      "training loss: 2.9322311878204346\n",
      "training loss: 2.8916218280792236\n",
      "training loss: 2.9008233547210693\n",
      "training loss: 2.8850371837615967\n",
      "training loss: 2.887787342071533\n",
      "validation loss: 2.878551721572876\n",
      "training loss: 2.870495319366455\n",
      "training loss: 2.9081249237060547\n",
      "training loss: 2.8115105628967285\n"
     ]
    },
    {
     "name": "stderr",
     "output_type": "stream",
     "text": [
      "training:  89%|███████████████████████████████████████████████████████████████████████████████████████████████████████████             | 809/907 [14:01<02:19,  1.43s/it]"
     ]
    },
    {
     "name": "stdout",
     "output_type": "stream",
     "text": [
      "training loss: 2.8508143424987793\n",
      "training loss: 2.903968572616577\n",
      "training loss: 2.8926808834075928\n",
      "training loss: 2.8296432495117188\n",
      "training loss: 2.8705966472625732\n",
      "training loss: 2.849036931991577\n",
      "training loss: 2.8335375785827637\n",
      "training loss: 2.874225616455078\n"
     ]
    },
    {
     "name": "stderr",
     "output_type": "stream",
     "text": [
      "\r",
      "training:  90%|████████████████████████████████████████████████████████████████████████████████████████████████████████████            | 817/907 [14:12<02:08,  1.43s/it]"
     ]
    },
    {
     "name": "stdout",
     "output_type": "stream",
     "text": [
      "training loss: 2.894630193710327\n",
      "validation loss: 2.8722407817840576\n",
      "training loss: 2.8523621559143066\n",
      "training loss: 2.8908188343048096\n",
      "training loss: 2.856584310531616\n",
      "training loss: 2.9131155014038086\n",
      "training loss: 2.900956392288208\n",
      "training loss: 2.9024040699005127\n",
      "training loss: 2.8852622509002686\n"
     ]
    },
    {
     "name": "stderr",
     "output_type": "stream",
     "text": [
      "\r",
      "training:  91%|█████████████████████████████████████████████████████████████████████████████████████████████████████████████▏          | 825/907 [14:23<01:56,  1.42s/it]"
     ]
    },
    {
     "name": "stdout",
     "output_type": "stream",
     "text": [
      "training loss: 2.8630409240722656\n",
      "training loss: 2.8735814094543457\n",
      "training loss: 2.8765804767608643\n",
      "training loss: 2.8811569213867188\n",
      "training loss: 2.8927628993988037\n",
      "validation loss: 2.892240285873413\n",
      "training loss: 2.897454261779785\n",
      "training loss: 2.8949098587036133\n",
      "training loss: 2.879985809326172\n"
     ]
    },
    {
     "name": "stderr",
     "output_type": "stream",
     "text": [
      "\r",
      "training:  92%|██████████████████████████████████████████████████████████████████████████████████████████████████████████████▏         | 833/907 [14:35<01:45,  1.43s/it]"
     ]
    },
    {
     "name": "stdout",
     "output_type": "stream",
     "text": [
      "training loss: 2.860429286956787\n",
      "training loss: 2.8671152591705322\n",
      "training loss: 2.8944520950317383\n",
      "training loss: 2.8609731197357178\n",
      "training loss: 2.8514564037323\n",
      "training loss: 2.897656202316284\n",
      "training loss: 2.8732287883758545\n",
      "training loss: 2.8677361011505127\n"
     ]
    },
    {
     "name": "stderr",
     "output_type": "stream",
     "text": [
      "\r",
      "training:  93%|███████████████████████████████████████████████████████████████████████████████████████████████████████████████▎        | 841/907 [14:46<01:34,  1.43s/it]"
     ]
    },
    {
     "name": "stdout",
     "output_type": "stream",
     "text": [
      "training loss: 2.8662586212158203\n",
      "validation loss: 2.8496453762054443\n",
      "training loss: 2.8782994747161865\n",
      "training loss: 2.88474702835083\n",
      "training loss: 2.890672206878662\n",
      "training loss: 2.911759614944458\n",
      "training loss: 2.8459503650665283\n",
      "training loss: 2.925060272216797\n",
      "training loss: 2.888915777206421\n"
     ]
    },
    {
     "name": "stderr",
     "output_type": "stream",
     "text": [
      "\r",
      "training:  94%|████████████████████████████████████████████████████████████████████████████████████████████████████████████████▎       | 849/907 [14:58<01:22,  1.42s/it]"
     ]
    },
    {
     "name": "stdout",
     "output_type": "stream",
     "text": [
      "training loss: 2.8747012615203857\n",
      "training loss: 2.944099187850952\n",
      "training loss: 2.859532356262207\n",
      "training loss: 2.8841278553009033\n",
      "training loss: 2.8865621089935303\n",
      "validation loss: 2.908576488494873\n",
      "training loss: 2.874101400375366\n",
      "training loss: 2.9116430282592773\n",
      "training loss: 2.8801138401031494\n"
     ]
    },
    {
     "name": "stderr",
     "output_type": "stream",
     "text": [
      "\r",
      "training:  94%|█████████████████████████████████████████████████████████████████████████████████████████████████████████████████▍      | 857/907 [15:09<01:11,  1.42s/it]"
     ]
    },
    {
     "name": "stdout",
     "output_type": "stream",
     "text": [
      "training loss: 2.8598811626434326\n",
      "training loss: 2.868542194366455\n",
      "training loss: 2.8946919441223145\n",
      "training loss: 2.9282336235046387\n",
      "training loss: 2.8549234867095947\n",
      "training loss: 2.90287184715271\n",
      "training loss: 2.938615083694458\n",
      "training loss: 2.9138715267181396\n"
     ]
    },
    {
     "name": "stderr",
     "output_type": "stream",
     "text": [
      "training:  95%|██████████████████████████████████████████████████████████████████████████████████████████████████████████████████▍     | 865/907 [15:20<00:59,  1.42s/it]"
     ]
    },
    {
     "name": "stdout",
     "output_type": "stream",
     "text": [
      "training loss: 2.85440731048584\n",
      "validation loss: 2.8745534420013428\n",
      "training loss: 2.908377170562744\n",
      "training loss: 2.865644693374634\n",
      "training loss: 2.9601328372955322\n",
      "training loss: 2.866702079772949\n",
      "training loss: 2.864192008972168\n",
      "training loss: 2.8673243522644043\n",
      "training loss: 2.9060862064361572\n"
     ]
    },
    {
     "name": "stderr",
     "output_type": "stream",
     "text": [
      "\r",
      "training:  96%|███████████████████████████████████████████████████████████████████████████████████████████████████████████████████▌    | 873/907 [15:32<00:48,  1.42s/it]"
     ]
    },
    {
     "name": "stdout",
     "output_type": "stream",
     "text": [
      "training loss: 2.862865447998047\n",
      "training loss: 2.8806445598602295\n",
      "training loss: 2.918149948120117\n",
      "training loss: 2.919793128967285\n",
      "training loss: 2.8633084297180176\n",
      "validation loss: 2.9306223392486572\n",
      "training loss: 3.1347954273223877\n",
      "training loss: 2.8890883922576904\n",
      "training loss: 2.949066162109375\n"
     ]
    },
    {
     "name": "stderr",
     "output_type": "stream",
     "text": [
      "\r",
      "training:  97%|████████████████████████████████████████████████████████████████████████████████████████████████████████████████████▌   | 881/907 [15:43<00:36,  1.42s/it]"
     ]
    },
    {
     "name": "stdout",
     "output_type": "stream",
     "text": [
      "training loss: 2.8993678092956543\n",
      "training loss: 2.928187847137451\n",
      "training loss: 2.884946823120117\n",
      "training loss: 2.879153251647949\n",
      "training loss: 2.8261945247650146\n",
      "training loss: 2.9255125522613525\n",
      "training loss: 2.8730690479278564\n",
      "training loss: 2.898069143295288\n"
     ]
    },
    {
     "name": "stderr",
     "output_type": "stream",
     "text": [
      "\r",
      "training:  98%|█████████████████████████████████████████████████████████████████████████████████████████████████████████████████████▌  | 889/907 [15:54<00:25,  1.42s/it]"
     ]
    },
    {
     "name": "stdout",
     "output_type": "stream",
     "text": [
      "training loss: 2.8885252475738525\n",
      "validation loss: 2.863115072250366\n",
      "training loss: 2.889711618423462\n",
      "training loss: 2.8997814655303955\n",
      "training loss: 2.8904166221618652\n",
      "training loss: 2.8914852142333984\n",
      "training loss: 2.8988687992095947\n",
      "training loss: 2.898378849029541\n",
      "training loss: 2.900296211242676\n"
     ]
    },
    {
     "name": "stderr",
     "output_type": "stream",
     "text": [
      "\r",
      "training:  99%|██████████████████████████████████████████████████████████████████████████████████████████████████████████████████████▋ | 897/907 [16:06<00:14,  1.42s/it]"
     ]
    },
    {
     "name": "stdout",
     "output_type": "stream",
     "text": [
      "training loss: 2.9079079627990723\n",
      "training loss: 2.9044249057769775\n",
      "training loss: 2.8608219623565674\n",
      "training loss: 2.9214067459106445\n",
      "training loss: 2.8985934257507324\n",
      "validation loss: 2.8885045051574707\n",
      "training loss: 2.8617825508117676\n",
      "training loss: 2.9280471801757812\n",
      "training loss: 2.89799165725708\n"
     ]
    },
    {
     "name": "stderr",
     "output_type": "stream",
     "text": [
      "\r",
      "training: 100%|███████████████████████████████████████████████████████████████████████████████████████████████████████████████████████▋| 905/907 [16:17<00:02,  1.42s/it]"
     ]
    },
    {
     "name": "stdout",
     "output_type": "stream",
     "text": [
      "training loss: 2.902768135070801\n",
      "training loss: 2.871497869491577\n"
     ]
    },
    {
     "name": "stderr",
     "output_type": "stream",
     "text": [
      "training: 100%|████████████████████████████████████████████████████████████████████████████████████████████████████████████████████████| 907/907 [16:20<00:00,  1.08s/it]\n",
      "training:   0%|                                                                                                                                  | 0/907 [00:00<?, ?it/s]"
     ]
    },
    {
     "name": "stdout",
     "output_type": "stream",
     "text": [
      "training loss: 2.8952980041503906\n",
      "training loss: 2.861273765563965\n",
      "validation loss: 2.880032539367676\n",
      "training loss: 2.9051201343536377\n",
      "training loss: 2.889707565307617\n",
      "training loss: 2.8821828365325928\n",
      "training loss: 2.891268014907837\n",
      "training loss: 2.871211051940918\n"
     ]
    },
    {
     "name": "stderr",
     "output_type": "stream",
     "text": [
      "\r",
      "training:   1%|▉                                                                                                                         | 7/907 [00:10<21:26,  1.43s/it]"
     ]
    },
    {
     "name": "stdout",
     "output_type": "stream",
     "text": [
      "training loss: 2.9305663108825684\n",
      "training loss: 2.9485344886779785\n",
      "training loss: 2.913431406021118\n",
      "training loss: 2.851163148880005\n",
      "training loss: 2.8815979957580566\n",
      "training loss: 2.9432930946350098\n",
      "training loss: 2.92161226272583\n",
      "validation loss: 2.9129841327667236\n"
     ]
    },
    {
     "name": "stderr",
     "output_type": "stream",
     "text": [
      "\r",
      "training:   2%|█▊                                                                                                                       | 14/907 [00:20<21:17,  1.43s/it]"
     ]
    },
    {
     "name": "stdout",
     "output_type": "stream",
     "text": [
      "training loss: 2.8842954635620117\n",
      "training loss: 2.8988115787506104\n",
      "training loss: 2.879385471343994\n",
      "training loss: 2.8644516468048096\n",
      "training loss: 2.9395503997802734\n",
      "training loss: 2.8557960987091064\n",
      "training loss: 2.9210875034332275\n",
      "training loss: 2.878077507019043\n"
     ]
    },
    {
     "name": "stderr",
     "output_type": "stream",
     "text": [
      "\r",
      "training:   2%|██▉                                                                                                                      | 22/907 [00:31<20:59,  1.42s/it]"
     ]
    },
    {
     "name": "stdout",
     "output_type": "stream",
     "text": [
      "training loss: 2.8915421962738037\n",
      "training loss: 2.8911211490631104\n",
      "training loss: 2.8411710262298584\n",
      "training loss: 2.8679919242858887\n",
      "validation loss: 2.888216972351074\n",
      "training loss: 2.9126951694488525\n",
      "training loss: 2.9142136573791504\n",
      "training loss: 2.884428024291992\n",
      "training loss: 2.8791122436523438\n"
     ]
    },
    {
     "name": "stderr",
     "output_type": "stream",
     "text": [
      "\r",
      "training:   3%|████                                                                                                                     | 30/907 [00:42<20:49,  1.42s/it]"
     ]
    },
    {
     "name": "stdout",
     "output_type": "stream",
     "text": [
      "training loss: 2.8378539085388184\n",
      "training loss: 2.903684616088867\n",
      "training loss: 2.855862617492676\n",
      "training loss: 2.894280195236206\n",
      "training loss: 2.8934214115142822\n",
      "training loss: 2.896907329559326\n",
      "training loss: 2.8545761108398438\n",
      "training loss: 2.8820903301239014\n",
      "validation loss: 2.8373217582702637\n"
     ]
    },
    {
     "name": "stderr",
     "output_type": "stream",
     "text": [
      "\r",
      "training:   4%|█████                                                                                                                    | 38/907 [00:54<20:37,  1.42s/it]"
     ]
    },
    {
     "name": "stdout",
     "output_type": "stream",
     "text": [
      "training loss: 2.878100633621216\n",
      "training loss: 2.871957778930664\n",
      "training loss: 2.9233386516571045\n",
      "training loss: 2.8921589851379395\n",
      "training loss: 2.8598711490631104\n",
      "training loss: 2.885035753250122\n",
      "training loss: 2.874680995941162\n",
      "training loss: 2.8854384422302246\n"
     ]
    },
    {
     "name": "stderr",
     "output_type": "stream",
     "text": [
      "\r",
      "training:   5%|██████▏                                                                                                                  | 46/907 [01:05<20:21,  1.42s/it]"
     ]
    },
    {
     "name": "stdout",
     "output_type": "stream",
     "text": [
      "training loss: 2.8259425163269043\n",
      "training loss: 2.844987392425537\n",
      "training loss: 2.946274518966675\n",
      "training loss: 2.8770806789398193\n",
      "validation loss: 2.879162311553955\n",
      "training loss: 2.8428118228912354\n",
      "training loss: 2.8365213871002197\n",
      "training loss: 2.8623299598693848\n",
      "training loss: 2.830535411834717\n"
     ]
    },
    {
     "name": "stderr",
     "output_type": "stream",
     "text": [
      "\r",
      "training:   6%|███████▏                                                                                                                 | 54/907 [01:16<20:13,  1.42s/it]"
     ]
    },
    {
     "name": "stdout",
     "output_type": "stream",
     "text": [
      "training loss: 2.935356616973877\n",
      "training loss: 2.8568453788757324\n",
      "training loss: 2.872485876083374\n",
      "training loss: 2.881654977798462\n",
      "training loss: 2.9008138179779053\n",
      "training loss: 2.876132011413574\n",
      "training loss: 2.8688786029815674\n"
     ]
    },
    {
     "name": "stderr",
     "output_type": "stream",
     "text": [
      "\r",
      "training:   7%|████████▏                                                                                                                | 61/907 [01:26<20:08,  1.43s/it]"
     ]
    },
    {
     "name": "stdout",
     "output_type": "stream",
     "text": [
      "training loss: 2.913670539855957\n",
      "validation loss: 2.874713897705078\n",
      "training loss: 2.8865950107574463\n",
      "training loss: 2.9178953170776367\n",
      "training loss: 2.895705461502075\n",
      "training loss: 2.8797693252563477\n",
      "training loss: 2.893622398376465\n",
      "training loss: 2.8560235500335693\n",
      "training loss: 2.8702199459075928\n"
     ]
    },
    {
     "name": "stderr",
     "output_type": "stream",
     "text": [
      "\r",
      "training:   8%|█████████▏                                                                                                               | 69/907 [01:38<19:52,  1.42s/it]"
     ]
    },
    {
     "name": "stdout",
     "output_type": "stream",
     "text": [
      "training loss: 2.8610332012176514\n",
      "training loss: 2.858752727508545\n",
      "training loss: 2.8858234882354736\n",
      "training loss: 2.8761632442474365\n",
      "training loss: 2.8589112758636475\n",
      "validation loss: 2.9128670692443848\n",
      "training loss: 2.896362066268921\n",
      "training loss: 2.925602912902832\n",
      "training loss: 2.9241623878479004\n"
     ]
    },
    {
     "name": "stderr",
     "output_type": "stream",
     "text": [
      "\r",
      "training:   8%|██████████▎                                                                                                              | 77/907 [01:49<19:43,  1.43s/it]"
     ]
    },
    {
     "name": "stdout",
     "output_type": "stream",
     "text": [
      "training loss: 2.9074833393096924\n",
      "training loss: 2.899146318435669\n",
      "training loss: 2.8928050994873047\n",
      "training loss: 2.916492223739624\n",
      "training loss: 2.893929958343506\n",
      "training loss: 2.936260223388672\n",
      "training loss: 2.840116262435913\n",
      "training loss: 2.842550754547119\n"
     ]
    },
    {
     "name": "stderr",
     "output_type": "stream",
     "text": [
      "training:   9%|███████████▎                                                                                                             | 85/907 [02:01<19:33,  1.43s/it]"
     ]
    },
    {
     "name": "stdout",
     "output_type": "stream",
     "text": [
      "training loss: 2.873414993286133\n",
      "validation loss: 2.9467415809631348\n",
      "training loss: 2.911184310913086\n",
      "training loss: 2.8625524044036865\n",
      "training loss: 2.9140114784240723\n",
      "training loss: 2.8531768321990967\n",
      "training loss: 2.8522236347198486\n",
      "training loss: 2.907712697982788\n",
      "training loss: 2.87666392326355\n"
     ]
    },
    {
     "name": "stderr",
     "output_type": "stream",
     "text": [
      "\r",
      "training:  10%|████████████▍                                                                                                            | 93/907 [02:12<19:17,  1.42s/it]"
     ]
    },
    {
     "name": "stdout",
     "output_type": "stream",
     "text": [
      "training loss: 2.9231116771698\n",
      "training loss: 2.887672185897827\n",
      "training loss: 2.844477415084839\n",
      "training loss: 2.8985726833343506\n",
      "training loss: 2.8702073097229004\n",
      "validation loss: 2.9130160808563232\n",
      "training loss: 2.8933703899383545\n",
      "training loss: 2.878951072692871\n",
      "training loss: 2.904475688934326\n"
     ]
    },
    {
     "name": "stderr",
     "output_type": "stream",
     "text": [
      "\r",
      "training:  11%|█████████████▎                                                                                                          | 101/907 [02:23<19:07,  1.42s/it]"
     ]
    },
    {
     "name": "stdout",
     "output_type": "stream",
     "text": [
      "training loss: 2.8755946159362793\n",
      "training loss: 2.9211504459381104\n",
      "training loss: 2.912447929382324\n",
      "training loss: 2.8948256969451904\n",
      "training loss: 2.895048141479492\n",
      "training loss: 2.866565465927124\n",
      "training loss: 2.885160446166992\n",
      "training loss: 2.900377035140991\n"
     ]
    },
    {
     "name": "stderr",
     "output_type": "stream",
     "text": [
      "\r",
      "training:  12%|██████████████▍                                                                                                         | 109/907 [02:35<18:56,  1.42s/it]"
     ]
    },
    {
     "name": "stdout",
     "output_type": "stream",
     "text": [
      "training loss: 2.918545961380005\n",
      "validation loss: 2.896430730819702\n",
      "training loss: 2.921288251876831\n",
      "training loss: 2.9188811779022217\n",
      "training loss: 2.8966357707977295\n",
      "training loss: 2.855208396911621\n",
      "training loss: 2.96771240234375\n",
      "training loss: 2.9413156509399414\n",
      "training loss: 2.8878118991851807\n"
     ]
    },
    {
     "name": "stderr",
     "output_type": "stream",
     "text": [
      "\r",
      "training:  13%|███████████████▍                                                                                                        | 117/907 [02:46<18:40,  1.42s/it]"
     ]
    },
    {
     "name": "stdout",
     "output_type": "stream",
     "text": [
      "training loss: 2.9276070594787598\n",
      "training loss: 2.8791370391845703\n",
      "training loss: 2.912163019180298\n",
      "training loss: 2.8961493968963623\n",
      "training loss: 2.8986079692840576\n",
      "validation loss: 2.8999176025390625\n",
      "training loss: 2.880978584289551\n",
      "training loss: 2.8981151580810547\n",
      "training loss: 2.889927625656128\n"
     ]
    },
    {
     "name": "stderr",
     "output_type": "stream",
     "text": [
      "\r",
      "training:  14%|████████████████▌                                                                                                       | 125/907 [02:57<18:31,  1.42s/it]"
     ]
    },
    {
     "name": "stdout",
     "output_type": "stream",
     "text": [
      "training loss: 2.8621485233306885\n",
      "training loss: 2.883349895477295\n",
      "training loss: 2.8403356075286865\n",
      "training loss: 2.8738510608673096\n",
      "training loss: 2.932723045349121\n",
      "training loss: 2.863521099090576\n",
      "training loss: 2.830024480819702\n",
      "training loss: 2.8644931316375732\n"
     ]
    },
    {
     "name": "stderr",
     "output_type": "stream",
     "text": [
      "\r",
      "training:  15%|█████████████████▌                                                                                                      | 133/907 [03:09<18:22,  1.42s/it]"
     ]
    },
    {
     "name": "stdout",
     "output_type": "stream",
     "text": [
      "training loss: 2.903153419494629\n",
      "validation loss: 2.9584248065948486\n",
      "training loss: 2.843280076980591\n",
      "training loss: 2.8405559062957764\n",
      "training loss: 2.879532814025879\n",
      "training loss: 2.8592700958251953\n",
      "training loss: 2.9241175651550293\n",
      "training loss: 2.9034736156463623\n",
      "training loss: 2.8678741455078125\n"
     ]
    },
    {
     "name": "stderr",
     "output_type": "stream",
     "text": [
      "training:  16%|██████████████████▋                                                                                                     | 141/907 [03:20<18:09,  1.42s/it]"
     ]
    },
    {
     "name": "stdout",
     "output_type": "stream",
     "text": [
      "training loss: 2.88765287399292\n",
      "training loss: 2.906639814376831\n",
      "training loss: 2.8797099590301514\n",
      "training loss: 2.9266021251678467\n",
      "training loss: 2.9074811935424805\n",
      "validation loss: 2.8653595447540283\n",
      "training loss: 2.892544746398926\n",
      "training loss: 2.877080202102661\n",
      "training loss: 2.9037692546844482\n"
     ]
    },
    {
     "name": "stderr",
     "output_type": "stream",
     "text": [
      "\r",
      "training:  16%|███████████████████▋                                                                                                    | 149/907 [03:32<18:02,  1.43s/it]"
     ]
    },
    {
     "name": "stdout",
     "output_type": "stream",
     "text": [
      "training loss: 2.865330934524536\n",
      "training loss: 2.8656370639801025\n",
      "training loss: 2.905395030975342\n",
      "training loss: 2.840789318084717\n",
      "training loss: 2.9044673442840576\n",
      "training loss: 2.875267267227173\n",
      "training loss: 2.835106372833252\n",
      "training loss: 2.886469602584839\n"
     ]
    },
    {
     "name": "stderr",
     "output_type": "stream",
     "text": [
      "\r",
      "training:  17%|████████████████████▊                                                                                                   | 157/907 [03:43<17:52,  1.43s/it]"
     ]
    },
    {
     "name": "stdout",
     "output_type": "stream",
     "text": [
      "training loss: 2.833436965942383\n",
      "validation loss: 2.87357497215271\n",
      "training loss: 2.875361442565918\n",
      "training loss: 2.9060251712799072\n",
      "training loss: 2.917022705078125\n",
      "training loss: 2.909973382949829\n",
      "training loss: 2.872145891189575\n",
      "training loss: 2.8816752433776855\n",
      "training loss: 2.8468246459960938\n"
     ]
    },
    {
     "name": "stderr",
     "output_type": "stream",
     "text": [
      "\r",
      "training:  18%|█████████████████████▊                                                                                                  | 165/907 [03:55<17:41,  1.43s/it]"
     ]
    },
    {
     "name": "stdout",
     "output_type": "stream",
     "text": [
      "training loss: 2.873028516769409\n",
      "training loss: 2.883302927017212\n",
      "training loss: 2.8725318908691406\n",
      "training loss: 2.8482789993286133\n",
      "training loss: 2.8921732902526855\n",
      "validation loss: 2.8983967304229736\n",
      "training loss: 2.903632402420044\n",
      "training loss: 2.8640029430389404\n",
      "training loss: 2.9414782524108887\n"
     ]
    },
    {
     "name": "stderr",
     "output_type": "stream",
     "text": [
      "\r",
      "training:  19%|██████████████████████▉                                                                                                 | 173/907 [04:06<17:31,  1.43s/it]"
     ]
    },
    {
     "name": "stdout",
     "output_type": "stream",
     "text": [
      "training loss: 2.903041362762451\n",
      "training loss: 2.869419813156128\n",
      "training loss: 2.82126784324646\n",
      "training loss: 2.8643224239349365\n",
      "training loss: 2.9289488792419434\n",
      "training loss: 2.872170925140381\n",
      "training loss: 2.8569653034210205\n",
      "training loss: 2.877833366394043\n"
     ]
    },
    {
     "name": "stderr",
     "output_type": "stream",
     "text": [
      "\r",
      "training:  20%|███████████████████████▉                                                                                                | 181/907 [04:18<17:21,  1.43s/it]"
     ]
    },
    {
     "name": "stdout",
     "output_type": "stream",
     "text": [
      "training loss: 2.8650779724121094\n",
      "validation loss: 2.8750836849212646\n",
      "training loss: 2.875683546066284\n",
      "training loss: 2.8536500930786133\n",
      "training loss: 2.89481782913208\n",
      "training loss: 2.875840663909912\n",
      "training loss: 2.859309196472168\n",
      "training loss: 2.9085097312927246\n"
     ]
    },
    {
     "name": "stderr",
     "output_type": "stream",
     "text": [
      "\r",
      "training:  21%|████████████████████████▊                                                                                               | 188/907 [04:28<17:11,  1.43s/it]"
     ]
    },
    {
     "name": "stdout",
     "output_type": "stream",
     "text": [
      "training loss: 2.9131343364715576\n",
      "training loss: 2.8578391075134277\n",
      "training loss: 2.879739284515381\n",
      "training loss: 2.8925845623016357\n",
      "training loss: 2.879084587097168\n",
      "training loss: 2.869046688079834\n",
      "validation loss: 2.895634889602661\n",
      "training loss: 2.947895050048828\n"
     ]
    },
    {
     "name": "stderr",
     "output_type": "stream",
     "text": [
      "\r",
      "training:  21%|█████████████████████████▊                                                                                              | 195/907 [04:38<17:02,  1.44s/it]"
     ]
    },
    {
     "name": "stdout",
     "output_type": "stream",
     "text": [
      "training loss: 2.9079320430755615\n",
      "training loss: 2.8991687297821045\n",
      "training loss: 2.8486616611480713\n",
      "training loss: 2.8775360584259033\n",
      "training loss: 2.846259832382202\n",
      "training loss: 2.892186403274536\n",
      "training loss: 2.9392056465148926\n",
      "training loss: 2.8796699047088623\n"
     ]
    },
    {
     "name": "stderr",
     "output_type": "stream",
     "text": [
      "\r",
      "training:  22%|██████████████████████████▊                                                                                             | 203/907 [04:49<16:48,  1.43s/it]"
     ]
    },
    {
     "name": "stdout",
     "output_type": "stream",
     "text": [
      "training loss: 2.9034719467163086\n",
      "training loss: 2.9126501083374023\n",
      "training loss: 2.872633695602417\n",
      "validation loss: 2.878183126449585\n",
      "training loss: 2.885760545730591\n",
      "training loss: 2.9028570652008057\n",
      "training loss: 2.883174419403076\n",
      "training loss: 2.898676872253418\n",
      "training loss: 2.8972036838531494\n"
     ]
    },
    {
     "name": "stderr",
     "output_type": "stream",
     "text": [
      "training:  23%|███████████████████████████▉                                                                                            | 211/907 [05:01<16:38,  1.43s/it]"
     ]
    },
    {
     "name": "stdout",
     "output_type": "stream",
     "text": [
      "training loss: 2.9031808376312256\n",
      "training loss: 2.907837390899658\n",
      "training loss: 2.8668413162231445\n",
      "training loss: 2.873385429382324\n",
      "training loss: 2.8775031566619873\n",
      "training loss: 2.8771960735321045\n",
      "training loss: 2.8803651332855225\n",
      "validation loss: 2.902085304260254\n"
     ]
    },
    {
     "name": "stderr",
     "output_type": "stream",
     "text": [
      "\r",
      "training:  24%|████████████████████████████▊                                                                                           | 218/907 [05:11<16:31,  1.44s/it]"
     ]
    },
    {
     "name": "stdout",
     "output_type": "stream",
     "text": [
      "training loss: 2.8499951362609863\n",
      "training loss: 2.9133574962615967\n",
      "training loss: 2.8616769313812256\n",
      "training loss: 2.8860726356506348\n",
      "training loss: 2.8906643390655518\n",
      "training loss: 2.8194401264190674\n",
      "training loss: 2.9014928340911865\n",
      "training loss: 2.8673341274261475\n"
     ]
    },
    {
     "name": "stderr",
     "output_type": "stream",
     "text": [
      "\r",
      "training:  25%|█████████████████████████████▉                                                                                          | 226/907 [05:22<16:16,  1.43s/it]"
     ]
    },
    {
     "name": "stdout",
     "output_type": "stream",
     "text": [
      "training loss: 2.921356439590454\n",
      "training loss: 2.859435796737671\n",
      "training loss: 2.983999729156494\n",
      "training loss: 2.8890559673309326\n",
      "validation loss: 2.881856679916382\n",
      "training loss: 2.8313703536987305\n",
      "training loss: 2.898084878921509\n",
      "training loss: 2.919480800628662\n",
      "training loss: 2.9154930114746094\n"
     ]
    },
    {
     "name": "stderr",
     "output_type": "stream",
     "text": [
      "\r",
      "training:  26%|██████████████████████████████▉                                                                                         | 234/907 [05:34<16:08,  1.44s/it]"
     ]
    },
    {
     "name": "stdout",
     "output_type": "stream",
     "text": [
      "training loss: 2.865647077560425\n",
      "training loss: 2.9157636165618896\n",
      "training loss: 2.8750932216644287\n",
      "training loss: 2.9350807666778564\n",
      "training loss: 2.8946151733398438\n",
      "training loss: 2.879779815673828\n",
      "training loss: 2.8876020908355713\n"
     ]
    },
    {
     "name": "stderr",
     "output_type": "stream",
     "text": [
      "\r",
      "training:  27%|███████████████████████████████▉                                                                                        | 241/907 [05:44<16:01,  1.44s/it]"
     ]
    },
    {
     "name": "stdout",
     "output_type": "stream",
     "text": [
      "training loss: 2.8614003658294678\n",
      "validation loss: 2.9431040287017822\n",
      "training loss: 2.862210273742676\n",
      "training loss: 2.9297678470611572\n",
      "training loss: 2.9068472385406494\n",
      "training loss: 2.8411245346069336\n",
      "training loss: 2.926851511001587\n",
      "training loss: 2.8815462589263916\n",
      "training loss: 2.902291774749756\n"
     ]
    },
    {
     "name": "stderr",
     "output_type": "stream",
     "text": [
      "\r",
      "training:  27%|████████████████████████████████▉                                                                                       | 249/907 [05:55<15:41,  1.43s/it]"
     ]
    },
    {
     "name": "stdout",
     "output_type": "stream",
     "text": [
      "training loss: 2.8588333129882812\n",
      "training loss: 2.9101617336273193\n",
      "training loss: 2.9063003063201904\n",
      "training loss: 2.919365882873535\n",
      "training loss: 2.884049415588379\n",
      "validation loss: 2.909252882003784\n",
      "training loss: 2.883924722671509\n",
      "training loss: 2.843254566192627\n",
      "training loss: 2.8481287956237793\n"
     ]
    },
    {
     "name": "stderr",
     "output_type": "stream",
     "text": [
      "\r",
      "training:  28%|██████████████████████████████████                                                                                      | 257/907 [06:07<15:32,  1.43s/it]"
     ]
    },
    {
     "name": "stdout",
     "output_type": "stream",
     "text": [
      "training loss: 2.8827850818634033\n",
      "training loss: 2.902318000793457\n",
      "training loss: 2.860529661178589\n",
      "training loss: 2.8294661045074463\n",
      "training loss: 2.8936376571655273\n",
      "training loss: 2.8855977058410645\n",
      "training loss: 2.874683141708374\n",
      "training loss: 2.8734779357910156\n"
     ]
    },
    {
     "name": "stderr",
     "output_type": "stream",
     "text": [
      "\r",
      "training:  29%|███████████████████████████████████                                                                                     | 265/907 [06:18<15:21,  1.43s/it]"
     ]
    },
    {
     "name": "stdout",
     "output_type": "stream",
     "text": [
      "training loss: 2.8574752807617188\n",
      "validation loss: 2.940335512161255\n",
      "training loss: 2.8858132362365723\n",
      "training loss: 2.95831298828125\n",
      "training loss: 2.891378879547119\n",
      "training loss: 2.882627487182617\n",
      "training loss: 2.91611909866333\n",
      "training loss: 2.944549560546875\n",
      "training loss: 2.8892738819122314\n"
     ]
    },
    {
     "name": "stderr",
     "output_type": "stream",
     "text": [
      "training:  30%|████████████████████████████████████                                                                                    | 273/907 [06:30<15:07,  1.43s/it]"
     ]
    },
    {
     "name": "stdout",
     "output_type": "stream",
     "text": [
      "training loss: 2.892242908477783\n",
      "training loss: 2.904505968093872\n",
      "training loss: 2.981931686401367\n",
      "training loss: 2.915104389190674\n",
      "training loss: 2.886227607727051\n",
      "validation loss: 2.8880937099456787\n",
      "training loss: 2.884272336959839\n",
      "training loss: 2.8718411922454834\n",
      "training loss: 2.85361647605896\n"
     ]
    },
    {
     "name": "stderr",
     "output_type": "stream",
     "text": [
      "\r",
      "training:  31%|█████████████████████████████████████▏                                                                                  | 281/907 [06:41<14:57,  1.43s/it]"
     ]
    },
    {
     "name": "stdout",
     "output_type": "stream",
     "text": [
      "training loss: 2.918997287750244\n",
      "training loss: 2.8766727447509766\n",
      "training loss: 2.9466731548309326\n",
      "training loss: 2.9041831493377686\n",
      "training loss: 2.8887460231781006\n",
      "training loss: 2.874725341796875\n",
      "training loss: 2.872485876083374\n"
     ]
    },
    {
     "name": "stderr",
     "output_type": "stream",
     "text": [
      "\r",
      "training:  32%|██████████████████████████████████████                                                                                  | 288/907 [06:51<14:46,  1.43s/it]"
     ]
    },
    {
     "name": "stdout",
     "output_type": "stream",
     "text": [
      "training loss: 2.9073221683502197\n",
      "training loss: 2.894573211669922\n",
      "validation loss: 2.8721070289611816\n",
      "training loss: 2.8984222412109375\n",
      "training loss: 2.8701231479644775\n",
      "training loss: 2.908804416656494\n",
      "training loss: 2.887636423110962\n",
      "training loss: 2.888972282409668\n"
     ]
    },
    {
     "name": "stderr",
     "output_type": "stream",
     "text": [
      "\r",
      "training:  33%|███████████████████████████████████████                                                                                 | 295/907 [07:01<14:37,  1.43s/it]"
     ]
    },
    {
     "name": "stdout",
     "output_type": "stream",
     "text": [
      "training loss: 2.8949739933013916\n",
      "training loss: 2.9057109355926514\n",
      "training loss: 2.861649990081787\n",
      "training loss: 2.885796546936035\n",
      "training loss: 2.9312381744384766\n",
      "training loss: 2.875505208969116\n",
      "training loss: 2.850982904434204\n",
      "validation loss: 2.8972134590148926\n"
     ]
    },
    {
     "name": "stderr",
     "output_type": "stream",
     "text": [
      "\r",
      "training:  33%|███████████████████████████████████████▉                                                                                | 302/907 [07:11<14:27,  1.43s/it]"
     ]
    },
    {
     "name": "stdout",
     "output_type": "stream",
     "text": [
      "training loss: 2.8969268798828125\n",
      "training loss: 2.8682942390441895\n",
      "training loss: 2.8823418617248535\n",
      "training loss: 2.911597490310669\n",
      "training loss: 2.8987812995910645\n",
      "training loss: 2.9130241870880127\n",
      "training loss: 2.8939502239227295\n"
     ]
    },
    {
     "name": "stderr",
     "output_type": "stream",
     "text": [
      "\r",
      "training:  34%|████████████████████████████████████████▉                                                                               | 309/907 [07:21<14:17,  1.43s/it]"
     ]
    },
    {
     "name": "stdout",
     "output_type": "stream",
     "text": [
      "training loss: 2.894113302230835\n",
      "training loss: 2.8466813564300537\n",
      "training loss: 2.884216070175171\n",
      "training loss: 2.904454231262207\n",
      "training loss: 2.871717691421509\n",
      "validation loss: 2.843291997909546\n",
      "training loss: 2.8586366176605225\n",
      "training loss: 2.904568910598755\n"
     ]
    },
    {
     "name": "stderr",
     "output_type": "stream",
     "text": [
      "\r",
      "training:  35%|█████████████████████████████████████████▊                                                                              | 316/907 [07:31<14:10,  1.44s/it]"
     ]
    },
    {
     "name": "stdout",
     "output_type": "stream",
     "text": [
      "training loss: 2.8608813285827637\n",
      "training loss: 2.8814046382904053\n",
      "training loss: 2.853019952774048\n",
      "training loss: 2.9604721069335938\n",
      "training loss: 2.8792731761932373\n",
      "training loss: 2.92983341217041\n",
      "training loss: 2.866562604904175\n",
      "training loss: 2.9033589363098145\n"
     ]
    },
    {
     "name": "stderr",
     "output_type": "stream",
     "text": [
      "\r",
      "training:  36%|██████████████████████████████████████████▊                                                                             | 324/907 [07:43<13:55,  1.43s/it]"
     ]
    },
    {
     "name": "stdout",
     "output_type": "stream",
     "text": [
      "training loss: 2.8746962547302246\n",
      "training loss: 2.886129140853882\n",
      "validation loss: 2.9096462726593018\n",
      "training loss: 2.861985206604004\n",
      "training loss: 2.895564079284668\n",
      "training loss: 2.8831708431243896\n",
      "training loss: 2.913097381591797\n",
      "training loss: 2.887641191482544\n",
      "training loss: 2.877375364303589\n"
     ]
    },
    {
     "name": "stderr",
     "output_type": "stream",
     "text": [
      "\r",
      "training:  37%|███████████████████████████████████████████▉                                                                            | 332/907 [07:54<13:45,  1.44s/it]"
     ]
    },
    {
     "name": "stdout",
     "output_type": "stream",
     "text": [
      "training loss: 2.918227195739746\n",
      "training loss: 2.887180805206299\n",
      "training loss: 2.8718554973602295\n",
      "training loss: 2.903297185897827\n",
      "training loss: 2.898529291152954\n",
      "training loss: 2.8601574897766113\n",
      "validation loss: 2.8852591514587402\n",
      "training loss: 2.8241100311279297\n"
     ]
    },
    {
     "name": "stderr",
     "output_type": "stream",
     "text": [
      "\r",
      "training:  37%|████████████████████████████████████████████▊                                                                           | 339/907 [08:04<13:37,  1.44s/it]"
     ]
    },
    {
     "name": "stdout",
     "output_type": "stream",
     "text": [
      "training loss: 2.8767824172973633\n",
      "training loss: 2.9212517738342285\n",
      "training loss: 2.879183530807495\n",
      "training loss: 2.9256253242492676\n",
      "training loss: 2.878797769546509\n",
      "training loss: 2.953928232192993\n",
      "training loss: 2.8562588691711426\n",
      "training loss: 2.916126012802124\n"
     ]
    },
    {
     "name": "stderr",
     "output_type": "stream",
     "text": [
      "\r",
      "training:  38%|█████████████████████████████████████████████▉                                                                          | 347/907 [08:16<13:23,  1.43s/it]"
     ]
    },
    {
     "name": "stdout",
     "output_type": "stream",
     "text": [
      "training loss: 2.8443613052368164\n",
      "training loss: 2.8731346130371094\n",
      "training loss: 2.888155460357666\n",
      "validation loss: 2.9360485076904297\n",
      "training loss: 2.9057562351226807\n",
      "training loss: 2.8709304332733154\n",
      "training loss: 2.8664400577545166\n",
      "training loss: 2.8805148601531982\n",
      "training loss: 2.8661606311798096\n"
     ]
    },
    {
     "name": "stderr",
     "output_type": "stream",
     "text": [
      "\r",
      "training:  39%|██████████████████████████████████████████████▉                                                                         | 355/907 [08:27<13:11,  1.43s/it]"
     ]
    },
    {
     "name": "stdout",
     "output_type": "stream",
     "text": [
      "training loss: 2.938244581222534\n",
      "training loss: 2.9175407886505127\n",
      "training loss: 2.9027907848358154\n",
      "training loss: 2.8666443824768066\n",
      "training loss: 2.909543752670288\n",
      "training loss: 2.9397802352905273\n",
      "training loss: 2.862466335296631\n",
      "validation loss: 2.8798258304595947\n"
     ]
    },
    {
     "name": "stderr",
     "output_type": "stream",
     "text": [
      "\r",
      "training:  40%|███████████████████████████████████████████████▉                                                                        | 362/907 [08:37<13:02,  1.44s/it]"
     ]
    },
    {
     "name": "stdout",
     "output_type": "stream",
     "text": [
      "training loss: 2.893099546432495\n",
      "training loss: 2.848543405532837\n",
      "training loss: 2.88694429397583\n",
      "training loss: 2.893761157989502\n",
      "training loss: 2.8822929859161377\n",
      "training loss: 2.9288578033447266\n",
      "training loss: 2.9058609008789062\n",
      "training loss: 2.895589828491211\n"
     ]
    },
    {
     "name": "stderr",
     "output_type": "stream",
     "text": [
      "\r",
      "training:  41%|████████████████████████████████████████████████▉                                                                       | 370/907 [08:49<12:48,  1.43s/it]"
     ]
    },
    {
     "name": "stdout",
     "output_type": "stream",
     "text": [
      "training loss: 2.88429594039917\n",
      "training loss: 2.8436195850372314\n",
      "training loss: 2.8508212566375732\n",
      "training loss: 2.895991086959839\n",
      "validation loss: 2.837536096572876\n",
      "training loss: 2.8741750717163086\n",
      "training loss: 2.8936712741851807\n",
      "training loss: 2.901174306869507\n",
      "training loss: 2.8246004581451416\n"
     ]
    },
    {
     "name": "stderr",
     "output_type": "stream",
     "text": [
      "training:  42%|██████████████████████████████████████████████████                                                                      | 378/907 [09:00<12:38,  1.43s/it]"
     ]
    },
    {
     "name": "stdout",
     "output_type": "stream",
     "text": [
      "training loss: 2.8786778450012207\n",
      "training loss: 2.8687610626220703\n",
      "training loss: 2.871051549911499\n",
      "training loss: 2.90734601020813\n",
      "training loss: 2.8662805557250977\n",
      "training loss: 2.858520746231079\n",
      "training loss: 2.9378132820129395\n"
     ]
    },
    {
     "name": "stderr",
     "output_type": "stream",
     "text": [
      "\r",
      "training:  42%|██████████████████████████████████████████████████▉                                                                     | 385/907 [09:10<12:29,  1.44s/it]"
     ]
    },
    {
     "name": "stdout",
     "output_type": "stream",
     "text": [
      "training loss: 2.8790626525878906\n",
      "validation loss: 2.92681884765625\n",
      "training loss: 2.861964702606201\n",
      "training loss: 2.902118444442749\n",
      "training loss: 2.8701953887939453\n",
      "training loss: 2.9252376556396484\n",
      "training loss: 2.9246435165405273\n",
      "training loss: 2.853363275527954\n",
      "training loss: 2.922258138656616\n"
     ]
    },
    {
     "name": "stderr",
     "output_type": "stream",
     "text": [
      "\r",
      "training:  43%|███████████████████████████████████████████████████▉                                                                    | 393/907 [09:22<12:16,  1.43s/it]"
     ]
    },
    {
     "name": "stdout",
     "output_type": "stream",
     "text": [
      "training loss: 2.9104666709899902\n",
      "training loss: 2.8686182498931885\n",
      "training loss: 2.865060567855835\n",
      "training loss: 2.9083175659179688\n",
      "training loss: 2.9175069332122803\n",
      "validation loss: 2.881948471069336\n",
      "training loss: 2.92276668548584\n",
      "training loss: 2.863384962081909\n",
      "training loss: 2.8743441104888916\n"
     ]
    },
    {
     "name": "stderr",
     "output_type": "stream",
     "text": [
      "\r",
      "training:  44%|█████████████████████████████████████████████████████                                                                   | 401/907 [09:33<12:06,  1.43s/it]"
     ]
    },
    {
     "name": "stdout",
     "output_type": "stream",
     "text": [
      "training loss: 2.85782527923584\n",
      "training loss: 2.853069305419922\n",
      "training loss: 2.8920722007751465\n",
      "training loss: 2.8794238567352295\n",
      "training loss: 2.869417905807495\n",
      "training loss: 2.8843677043914795\n",
      "training loss: 2.8637917041778564\n",
      "training loss: 2.8502449989318848\n",
      "training loss: 2.824427366256714\n",
      "validation loss: 2.9079384803771973\n",
      "training loss: 2.907952070236206\n",
      "training loss: 2.8481521606445312\n",
      "training loss: 2.891928195953369\n",
      "training loss: 2.9045872688293457\n"
     ]
    },
    {
     "name": "stderr",
     "output_type": "stream",
     "text": [
      "\r",
      "training:  46%|██████████████████████████████████████████████████████▊                                                                 | 414/907 [09:44<10:13,  1.25s/it]"
     ]
    },
    {
     "name": "stdout",
     "output_type": "stream",
     "text": [
      "training loss: 2.9176597595214844\n",
      "training loss: 2.898050546646118\n",
      "training loss: 2.886167287826538\n",
      "training loss: 2.8713128566741943\n",
      "training loss: 2.8986093997955322\n",
      "training loss: 2.852421998977661\n",
      "training loss: 2.86275315284729\n",
      "training loss: 2.872190475463867\n",
      "validation loss: 2.8661365509033203\n",
      "training loss: 2.9044768810272217\n",
      "training loss: 2.9256045818328857\n",
      "training loss: 2.9345126152038574\n",
      "training loss: 2.829150676727295\n",
      "training loss: 2.885774612426758\n",
      "training loss: 2.854261875152588\n",
      "training loss: 2.9012956619262695\n"
     ]
    },
    {
     "name": "stderr",
     "output_type": "stream",
     "text": [
      "\r",
      "training:  47%|████████████████████████████████████████████████████████▊                                                               | 429/907 [09:54<08:38,  1.08s/it]"
     ]
    },
    {
     "name": "stdout",
     "output_type": "stream",
     "text": [
      "training loss: 2.8880093097686768\n",
      "training loss: 2.9324119091033936\n",
      "training loss: 2.8798277378082275\n",
      "training loss: 2.8694822788238525\n",
      "training loss: 2.8964285850524902\n",
      "validation loss: 2.8686201572418213\n",
      "training loss: 2.8915998935699463\n",
      "training loss: 2.8362226486206055\n",
      "training loss: 2.8605458736419678\n",
      "training loss: 2.909567356109619\n",
      "training loss: 2.9026083946228027\n",
      "training loss: 2.8856418132781982\n",
      "training loss: 2.8283944129943848\n",
      "training loss: 2.8956408500671387\n",
      "training loss: 2.910292148590088\n",
      "training loss: 2.872804641723633\n"
     ]
    },
    {
     "name": "stderr",
     "output_type": "stream",
     "text": [
      "\r",
      "training:  49%|██████████████████████████████████████████████████████████▋                                                             | 444/907 [10:05<07:30,  1.03it/s]"
     ]
    },
    {
     "name": "stdout",
     "output_type": "stream",
     "text": [
      "training loss: 2.897538900375366\n",
      "training loss: 2.8653390407562256\n",
      "validation loss: 2.8948910236358643\n",
      "training loss: 2.8614540100097656\n",
      "training loss: 2.8668160438537598\n",
      "training loss: 2.8768274784088135\n",
      "training loss: 2.8526804447174072\n",
      "training loss: 2.9176578521728516\n",
      "training loss: 2.8702893257141113\n",
      "training loss: 2.911862850189209\n",
      "training loss: 2.8582279682159424\n",
      "training loss: 2.905726194381714\n",
      "training loss: 2.8703625202178955\n",
      "training loss: 2.8775079250335693\n",
      "training loss: 2.893143892288208\n",
      "validation loss: 2.892366409301758\n",
      "training loss: 2.887714147567749\n"
     ]
    },
    {
     "name": "stderr",
     "output_type": "stream",
     "text": [
      "\r",
      "training:  51%|████████████████████████████████████████████████████████████▋                                                           | 459/907 [10:16<06:40,  1.12it/s]"
     ]
    },
    {
     "name": "stdout",
     "output_type": "stream",
     "text": [
      "training loss: 2.8939645290374756\n",
      "training loss: 2.8917837142944336\n",
      "training loss: 2.8720781803131104\n",
      "training loss: 2.8794147968292236\n",
      "training loss: 2.880819320678711\n",
      "training loss: 2.8837668895721436\n",
      "training loss: 2.9062724113464355\n",
      "training loss: 2.857802629470825\n",
      "training loss: 2.899193525314331\n",
      "training loss: 2.9051358699798584\n",
      "training loss: 2.907254695892334\n",
      "validation loss: 2.9267497062683105\n",
      "training loss: 2.9036757946014404\n",
      "training loss: 2.838775873184204\n",
      "training loss: 2.898134469985962\n",
      "training loss: 2.859379529953003\n"
     ]
    },
    {
     "name": "stderr",
     "output_type": "stream",
     "text": [
      "\r",
      "training:  52%|██████████████████████████████████████████████████████████████▋                                                         | 474/907 [10:26<06:03,  1.19it/s]"
     ]
    },
    {
     "name": "stdout",
     "output_type": "stream",
     "text": [
      "training loss: 2.8860411643981934\n",
      "training loss: 2.854551315307617\n",
      "training loss: 2.882607936859131\n",
      "training loss: 2.898397922515869\n",
      "training loss: 2.888826370239258\n",
      "training loss: 2.8835980892181396\n",
      "training loss: 2.870659589767456\n",
      "training loss: 2.8841936588287354\n",
      "validation loss: 2.8742544651031494\n",
      "training loss: 2.917734146118164\n",
      "training loss: 2.874622344970703\n",
      "training loss: 2.8972418308258057\n",
      "training loss: 2.8897547721862793\n",
      "training loss: 2.8407835960388184\n",
      "training loss: 2.8826117515563965\n",
      "training loss: 2.8687756061553955\n"
     ]
    },
    {
     "name": "stderr",
     "output_type": "stream",
     "text": [
      "\r",
      "training:  54%|████████████████████████████████████████████████████████████████▋                                                       | 489/907 [10:37<05:35,  1.25it/s]"
     ]
    },
    {
     "name": "stdout",
     "output_type": "stream",
     "text": [
      "training loss: 2.9057188034057617\n",
      "training loss: 2.806204080581665\n",
      "training loss: 2.8509745597839355\n",
      "training loss: 2.9066600799560547\n",
      "training loss: 2.890974283218384\n",
      "validation loss: 2.8983261585235596\n",
      "training loss: 2.8766870498657227\n",
      "training loss: 2.86763858795166\n",
      "training loss: 2.840106248855591\n",
      "training loss: 2.896496295928955\n",
      "training loss: 2.8996622562408447\n",
      "training loss: 2.87658953666687\n",
      "training loss: 2.847461700439453\n",
      "training loss: 2.8904569149017334\n",
      "training loss: 2.854764223098755\n",
      "training loss: 2.91385817527771\n"
     ]
    },
    {
     "name": "stderr",
     "output_type": "stream",
     "text": [
      "\r",
      "training:  56%|██████████████████████████████████████████████████████████████████▋                                                     | 504/907 [10:48<05:12,  1.29it/s]"
     ]
    },
    {
     "name": "stdout",
     "output_type": "stream",
     "text": [
      "training loss: 2.9021947383880615\n",
      "training loss: 2.906304121017456\n",
      "validation loss: 2.898467540740967\n",
      "training loss: 2.908355236053467\n",
      "training loss: 2.8469998836517334\n",
      "training loss: 2.9000325202941895\n",
      "training loss: 2.8965702056884766\n",
      "training loss: 2.8811800479888916\n",
      "training loss: 2.8928399085998535\n",
      "training loss: 2.9035685062408447\n",
      "training loss: 2.895292043685913\n",
      "training loss: 2.881854772567749\n",
      "training loss: 2.860330820083618\n",
      "training loss: 2.8668527603149414\n",
      "training loss: 2.894670009613037\n",
      "validation loss: 2.8453454971313477\n",
      "training loss: 2.861466407775879\n"
     ]
    },
    {
     "name": "stderr",
     "output_type": "stream",
     "text": [
      "\r",
      "training:  57%|████████████████████████████████████████████████████████████████████▋                                                   | 519/907 [10:58<04:53,  1.32it/s]"
     ]
    },
    {
     "name": "stdout",
     "output_type": "stream",
     "text": [
      "training loss: 2.8571789264678955\n",
      "training loss: 2.8492050170898438\n",
      "training loss: 2.925861358642578\n",
      "training loss: 2.966688394546509\n",
      "training loss: 2.850827693939209\n",
      "training loss: 2.8728320598602295\n",
      "training loss: 2.8806066513061523\n",
      "training loss: 2.8875417709350586\n",
      "training loss: 2.909874677658081\n",
      "training loss: 2.848095178604126\n",
      "training loss: 2.9260618686676025\n",
      "validation loss: 2.8504092693328857\n",
      "training loss: 2.848564624786377\n",
      "training loss: 2.86569881439209\n",
      "training loss: 2.8867924213409424\n",
      "training loss: 2.885664701461792\n"
     ]
    },
    {
     "name": "stderr",
     "output_type": "stream",
     "text": [
      "\r",
      "training:  59%|██████████████████████████████████████████████████████████████████████▋                                                 | 534/907 [11:09<04:36,  1.35it/s]"
     ]
    },
    {
     "name": "stdout",
     "output_type": "stream",
     "text": [
      "training loss: 2.8301033973693848\n",
      "training loss: 2.9134271144866943\n",
      "training loss: 2.8725085258483887\n",
      "training loss: 2.9151387214660645\n",
      "training loss: 2.884723424911499\n",
      "training loss: 2.8602616786956787\n",
      "training loss: 2.8693933486938477\n",
      "training loss: 2.896054267883301\n",
      "validation loss: 2.8956730365753174\n",
      "training loss: 2.8812167644500732\n",
      "training loss: 2.9286139011383057\n",
      "training loss: 2.9276139736175537\n",
      "training loss: 2.873983860015869\n",
      "training loss: 2.8794331550598145\n",
      "training loss: 2.880566120147705\n",
      "training loss: 2.9057040214538574\n"
     ]
    },
    {
     "name": "stderr",
     "output_type": "stream",
     "text": [
      "training:  61%|████████████████████████████████████████████████████████████████████████▋                                               | 549/907 [11:20<04:21,  1.37it/s]"
     ]
    },
    {
     "name": "stdout",
     "output_type": "stream",
     "text": [
      "training loss: 2.8693361282348633\n",
      "training loss: 2.9577105045318604\n",
      "training loss: 2.879214286804199\n",
      "training loss: 2.865206241607666\n",
      "training loss: 2.863393545150757\n",
      "validation loss: 2.9176387786865234\n",
      "training loss: 2.8713696002960205\n",
      "training loss: 2.8696658611297607\n",
      "training loss: 2.913170576095581\n",
      "training loss: 2.9321351051330566\n",
      "training loss: 2.8582634925842285\n",
      "training loss: 2.9285600185394287\n",
      "training loss: 3.1466469764709473\n",
      "training loss: 2.8896377086639404\n",
      "training loss: 2.9195220470428467\n",
      "training loss: 2.8830840587615967\n"
     ]
    },
    {
     "name": "stderr",
     "output_type": "stream",
     "text": [
      "\r",
      "training:  62%|██████████████████████████████████████████████████████████████████████████▌                                             | 564/907 [11:30<04:08,  1.38it/s]"
     ]
    },
    {
     "name": "stdout",
     "output_type": "stream",
     "text": [
      "training loss: 2.9212746620178223\n",
      "training loss: 2.8864786624908447\n",
      "validation loss: 2.8935015201568604\n",
      "training loss: 2.9385905265808105\n",
      "training loss: 2.9337754249572754\n",
      "training loss: 2.8993797302246094\n",
      "training loss: 2.9977712631225586\n",
      "training loss: 2.9146265983581543\n",
      "training loss: 2.852786064147949\n",
      "training loss: 2.876972198486328\n",
      "training loss: 2.8983776569366455\n",
      "training loss: 2.8874688148498535\n",
      "training loss: 2.8913023471832275\n",
      "training loss: 2.893552541732788\n",
      "training loss: 2.89231538772583\n",
      "validation loss: 2.891759157180786\n",
      "training loss: 2.8640079498291016\n"
     ]
    },
    {
     "name": "stderr",
     "output_type": "stream",
     "text": [
      "\r",
      "training:  64%|████████████████████████████████████████████████████████████████████████████▌                                           | 579/907 [11:41<03:58,  1.38it/s]"
     ]
    },
    {
     "name": "stdout",
     "output_type": "stream",
     "text": [
      "training loss: 2.8876302242279053\n",
      "training loss: 2.9042131900787354\n",
      "training loss: 2.8641068935394287\n",
      "training loss: 2.8576552867889404\n",
      "training loss: 2.8925929069519043\n",
      "training loss: 2.8644649982452393\n",
      "training loss: 2.9287521839141846\n",
      "training loss: 2.8966572284698486\n",
      "training loss: 2.900891065597534\n",
      "training loss: 2.8750672340393066\n",
      "training loss: 2.8925347328186035\n",
      "validation loss: 2.8980326652526855\n",
      "training loss: 2.8798410892486572\n",
      "training loss: 2.909607172012329\n",
      "training loss: 2.885991096496582\n",
      "training loss: 2.88169002532959\n"
     ]
    },
    {
     "name": "stderr",
     "output_type": "stream",
     "text": [
      "\r",
      "training:  65%|██████████████████████████████████████████████████████████████████████████████▌                                         | 594/907 [11:52<03:46,  1.38it/s]"
     ]
    },
    {
     "name": "stdout",
     "output_type": "stream",
     "text": [
      "training loss: 2.888768196105957\n",
      "training loss: 2.8732175827026367\n",
      "training loss: 2.921071767807007\n",
      "training loss: 2.942915439605713\n",
      "training loss: 2.9105496406555176\n",
      "training loss: 2.854893207550049\n",
      "training loss: 2.8843541145324707\n",
      "training loss: 2.9422547817230225\n",
      "validation loss: 2.9182963371276855\n",
      "training loss: 2.8996241092681885\n",
      "training loss: 2.8816347122192383\n",
      "training loss: 2.9003841876983643\n",
      "training loss: 2.870976448059082\n",
      "training loss: 2.864434003829956\n",
      "training loss: 2.924555540084839\n",
      "training loss: 2.8454153537750244\n"
     ]
    },
    {
     "name": "stderr",
     "output_type": "stream",
     "text": [
      "\r",
      "training:  67%|████████████████████████████████████████████████████████████████████████████████▌                                       | 609/907 [12:03<03:34,  1.39it/s]"
     ]
    },
    {
     "name": "stdout",
     "output_type": "stream",
     "text": [
      "training loss: 2.916780471801758\n",
      "training loss: 2.8766136169433594\n",
      "training loss: 2.886035919189453\n",
      "training loss: 2.8928325176239014\n",
      "training loss: 2.836575746536255\n",
      "validation loss: 2.8582544326782227\n",
      "training loss: 2.8890533447265625\n",
      "training loss: 2.9109253883361816\n",
      "training loss: 2.9151601791381836\n",
      "training loss: 2.881535530090332\n",
      "training loss: 2.881798505783081\n",
      "training loss: 2.828228712081909\n",
      "training loss: 2.901796340942383\n",
      "training loss: 2.8531110286712646\n",
      "training loss: 2.8905701637268066\n",
      "training loss: 2.8937251567840576\n"
     ]
    },
    {
     "name": "stderr",
     "output_type": "stream",
     "text": [
      "\r",
      "training:  69%|██████████████████████████████████████████████████████████████████████████████████▌                                     | 624/907 [12:13<03:22,  1.40it/s]"
     ]
    },
    {
     "name": "stdout",
     "output_type": "stream",
     "text": [
      "training loss: 2.8907010555267334\n",
      "training loss: 2.8589670658111572\n",
      "validation loss: 2.869309425354004\n",
      "training loss: 2.8323776721954346\n",
      "training loss: 2.867116689682007\n",
      "training loss: 2.878305435180664\n",
      "training loss: 2.9166345596313477\n",
      "training loss: 2.8939971923828125\n",
      "training loss: 2.8495686054229736\n",
      "training loss: 2.883579969406128\n",
      "training loss: 2.873417377471924\n",
      "training loss: 2.879549503326416\n",
      "training loss: 2.8207879066467285\n",
      "training loss: 2.831923723220825\n",
      "training loss: 2.93666934967041\n",
      "validation loss: 2.8770456314086914\n",
      "training loss: 2.88108491897583\n"
     ]
    },
    {
     "name": "stderr",
     "output_type": "stream",
     "text": [
      "\r",
      "training:  70%|████████████████████████████████████████████████████████████████████████████████████▌                                   | 639/907 [12:24<03:12,  1.40it/s]"
     ]
    },
    {
     "name": "stdout",
     "output_type": "stream",
     "text": [
      "training loss: 2.836864471435547\n",
      "training loss: 2.83731746673584\n",
      "training loss: 2.8561851978302\n",
      "training loss: 2.832886219024658\n",
      "training loss: 2.937492847442627\n",
      "training loss: 2.859086275100708\n",
      "training loss: 2.869293212890625\n",
      "training loss: 2.8746376037597656\n",
      "training loss: 2.900045871734619\n",
      "training loss: 2.8701415061950684\n",
      "training loss: 2.87302827835083\n",
      "validation loss: 2.883195400238037\n",
      "training loss: 2.8792073726654053\n",
      "training loss: 2.883363962173462\n",
      "training loss: 2.908433437347412\n",
      "training loss: 2.8894357681274414\n"
     ]
    },
    {
     "name": "stderr",
     "output_type": "stream",
     "text": [
      "\r",
      "training:  72%|██████████████████████████████████████████████████████████████████████████████████████▌                                 | 654/907 [12:35<03:00,  1.40it/s]"
     ]
    },
    {
     "name": "stdout",
     "output_type": "stream",
     "text": [
      "training loss: 2.8811028003692627\n",
      "training loss: 2.888943672180176\n",
      "training loss: 2.853210926055908\n",
      "training loss: 2.870323896408081\n",
      "training loss: 2.859198570251465\n",
      "training loss: 2.853914260864258\n",
      "training loss: 2.8850955963134766\n",
      "training loss: 2.880837917327881\n",
      "validation loss: 2.9128787517547607\n",
      "training loss: 2.9060909748077393\n",
      "training loss: 2.894008159637451\n",
      "training loss: 2.933595657348633\n",
      "training loss: 2.915590763092041\n",
      "training loss: 2.906956195831299\n",
      "training loss: 2.8947207927703857\n",
      "training loss: 2.891639471054077\n"
     ]
    },
    {
     "name": "stderr",
     "output_type": "stream",
     "text": [
      "\r",
      "training:  74%|████████████████████████████████████████████████████████████████████████████████████████▌                               | 669/907 [12:45<02:49,  1.40it/s]"
     ]
    },
    {
     "name": "stdout",
     "output_type": "stream",
     "text": [
      "training loss: 2.9127659797668457\n",
      "training loss: 2.8884286880493164\n",
      "training loss: 2.9335625171661377\n",
      "training loss: 2.844484329223633\n",
      "training loss: 2.8541107177734375\n",
      "validation loss: 2.8870160579681396\n",
      "training loss: 2.937467098236084\n",
      "training loss: 2.91565203666687\n",
      "training loss: 2.855210065841675\n",
      "training loss: 2.910083055496216\n",
      "training loss: 2.8441615104675293\n",
      "training loss: 2.8524210453033447\n",
      "training loss: 2.899858236312866\n",
      "training loss: 2.871140718460083\n",
      "training loss: 2.927110195159912\n",
      "training loss: 2.8866312503814697\n"
     ]
    },
    {
     "name": "stderr",
     "output_type": "stream",
     "text": [
      "\r",
      "training:  75%|██████████████████████████████████████████████████████████████████████████████████████████▍                             | 684/907 [12:56<02:38,  1.40it/s]"
     ]
    },
    {
     "name": "stdout",
     "output_type": "stream",
     "text": [
      "training loss: 2.8418500423431396\n",
      "training loss: 2.896214246749878\n",
      "validation loss: 2.9073522090911865\n",
      "training loss: 2.9094817638397217\n",
      "training loss: 2.894040822982788\n",
      "training loss: 2.8799211978912354\n",
      "training loss: 2.9081830978393555\n",
      "training loss: 2.8767778873443604\n",
      "training loss: 2.92503023147583\n",
      "training loss: 2.913471221923828\n",
      "training loss: 2.8920326232910156\n",
      "training loss: 2.890784978866577\n",
      "training loss: 2.8686211109161377\n",
      "training loss: 2.888219118118286\n",
      "training loss: 2.9000964164733887\n",
      "validation loss: 2.8605570793151855\n",
      "training loss: 2.8938064575195312\n"
     ]
    },
    {
     "name": "stderr",
     "output_type": "stream",
     "text": [
      "\r",
      "training:  77%|████████████████████████████████████████████████████████████████████████████████████████████▍                           | 699/907 [13:07<02:28,  1.40it/s]"
     ]
    },
    {
     "name": "stdout",
     "output_type": "stream",
     "text": [
      "training loss: 2.9168953895568848\n",
      "training loss: 2.914116621017456\n",
      "training loss: 2.899721622467041\n",
      "training loss: 2.8555428981781006\n",
      "training loss: 2.964797258377075\n",
      "training loss: 2.942246437072754\n",
      "training loss: 2.886594295501709\n",
      "training loss: 2.9269583225250244\n",
      "training loss: 2.8751935958862305\n",
      "training loss: 2.9108617305755615\n",
      "training loss: 2.8965132236480713\n",
      "validation loss: 2.8549160957336426\n",
      "training loss: 2.903473138809204\n",
      "training loss: 2.8765132427215576\n",
      "training loss: 2.8983006477355957\n",
      "training loss: 2.888110637664795\n"
     ]
    },
    {
     "name": "stderr",
     "output_type": "stream",
     "text": [
      "\r",
      "training:  79%|██████████████████████████████████████████████████████████████████████████████████████████████▍                         | 714/907 [13:17<02:17,  1.41it/s]"
     ]
    },
    {
     "name": "stdout",
     "output_type": "stream",
     "text": [
      "training loss: 2.8638880252838135\n",
      "training loss: 2.875110149383545\n",
      "training loss: 2.838299512863159\n",
      "training loss: 2.875662088394165\n",
      "training loss: 2.9337594509124756\n",
      "training loss: 2.8615100383758545\n",
      "training loss: 2.8316702842712402\n",
      "training loss: 2.8685734272003174\n",
      "validation loss: 2.893104076385498\n",
      "training loss: 2.9524424076080322\n",
      "training loss: 2.8383848667144775\n",
      "training loss: 2.8478152751922607\n",
      "training loss: 2.8877339363098145\n",
      "training loss: 2.857714891433716\n",
      "training loss: 2.925595760345459\n",
      "training loss: 2.901214599609375\n"
     ]
    },
    {
     "name": "stderr",
     "output_type": "stream",
     "text": [
      "\r",
      "training:  80%|████████████████████████████████████████████████████████████████████████████████████████████████▍                       | 729/907 [13:28<02:06,  1.41it/s]"
     ]
    },
    {
     "name": "stdout",
     "output_type": "stream",
     "text": [
      "training loss: 2.861116886138916\n",
      "training loss: 2.8819539546966553\n",
      "training loss: 2.9043400287628174\n",
      "training loss: 2.8792648315429688\n",
      "training loss: 2.928609609603882\n",
      "validation loss: 2.8817551136016846\n",
      "training loss: 2.8639307022094727\n",
      "training loss: 2.898017644882202\n",
      "training loss: 2.8764636516571045\n",
      "training loss: 2.904262065887451\n",
      "training loss: 2.8672032356262207\n",
      "training loss: 2.8623416423797607\n",
      "training loss: 2.908273458480835\n",
      "training loss: 2.8398637771606445\n",
      "training loss: 2.906890630722046\n",
      "training loss: 2.8726277351379395\n"
     ]
    },
    {
     "name": "stderr",
     "output_type": "stream",
     "text": [
      "\r",
      "training:  82%|██████████████████████████████████████████████████████████████████████████████████████████████████▍                     | 744/907 [13:39<01:55,  1.41it/s]"
     ]
    },
    {
     "name": "stdout",
     "output_type": "stream",
     "text": [
      "training loss: 2.834873914718628\n",
      "training loss: 2.886378526687622\n",
      "validation loss: 2.8646745681762695\n",
      "training loss: 2.8732964992523193\n",
      "training loss: 2.878276824951172\n",
      "training loss: 2.8985443115234375\n",
      "training loss: 2.9168028831481934\n",
      "training loss: 2.9055566787719727\n",
      "training loss: 2.871666669845581\n",
      "training loss: 2.88326358795166\n",
      "training loss: 2.8514819145202637\n",
      "training loss: 2.8740394115448\n",
      "training loss: 2.8824453353881836\n",
      "training loss: 2.8699352741241455\n",
      "training loss: 2.839672565460205\n",
      "validation loss: 2.8737847805023193\n",
      "training loss: 2.8881638050079346\n"
     ]
    },
    {
     "name": "stderr",
     "output_type": "stream",
     "text": [
      "\r",
      "training:  84%|████████████████████████████████████████████████████████████████████████████████████████████████████▍                   | 759/907 [13:49<01:45,  1.41it/s]"
     ]
    },
    {
     "name": "stdout",
     "output_type": "stream",
     "text": [
      "training loss: 2.8975634574890137\n",
      "training loss: 2.8611087799072266\n",
      "training loss: 2.9361400604248047\n",
      "training loss: 2.900933265686035\n",
      "training loss: 2.8629868030548096\n",
      "training loss: 2.820364236831665\n",
      "training loss: 2.8565757274627686\n",
      "training loss: 2.9262545108795166\n",
      "training loss: 2.869250774383545\n",
      "training loss: 2.8517045974731445\n",
      "training loss: 2.871760129928589\n",
      "validation loss: 2.802490234375\n",
      "training loss: 2.882701873779297\n",
      "training loss: 2.8650448322296143\n",
      "training loss: 2.844412088394165\n",
      "training loss: 2.8954274654388428\n"
     ]
    },
    {
     "name": "stderr",
     "output_type": "stream",
     "text": [
      "training:  85%|██████████████████████████████████████████████████████████████████████████████████████████████████████▍                 | 774/907 [14:00<01:34,  1.41it/s]"
     ]
    },
    {
     "name": "stdout",
     "output_type": "stream",
     "text": [
      "training loss: 2.8760883808135986\n",
      "training loss: 2.8562517166137695\n",
      "training loss: 2.9053955078125\n",
      "training loss: 2.9116992950439453\n",
      "training loss: 2.850623846054077\n",
      "training loss: 2.8752615451812744\n",
      "training loss: 2.8902761936187744\n",
      "training loss: 2.8744778633117676\n",
      "validation loss: 2.891167163848877\n",
      "training loss: 2.890537738800049\n",
      "training loss: 2.931767702102661\n",
      "training loss: 2.903756618499756\n",
      "training loss: 2.9086170196533203\n",
      "training loss: 2.8396832942962646\n",
      "training loss: 2.870917558670044\n",
      "training loss: 2.8446013927459717\n"
     ]
    },
    {
     "name": "stderr",
     "output_type": "stream",
     "text": [
      "\r",
      "training:  87%|████████████████████████████████████████████████████████████████████████████████████████████████████████▍               | 789/907 [14:10<01:23,  1.41it/s]"
     ]
    },
    {
     "name": "stdout",
     "output_type": "stream",
     "text": [
      "training loss: 2.8810133934020996\n",
      "training loss: 2.9299795627593994\n",
      "training loss: 2.8677778244018555\n",
      "training loss: 2.899439573287964\n",
      "training loss: 2.912801742553711\n",
      "validation loss: 2.890843629837036\n",
      "training loss: 2.871156930923462\n",
      "training loss: 2.88916277885437\n",
      "training loss: 2.895181179046631\n",
      "training loss: 2.8862991333007812\n",
      "training loss: 2.891903877258301\n",
      "training loss: 2.9029178619384766\n",
      "training loss: 2.9008560180664062\n",
      "training loss: 2.9084060192108154\n",
      "training loss: 2.8644020557403564\n",
      "training loss: 2.870154857635498\n"
     ]
    },
    {
     "name": "stderr",
     "output_type": "stream",
     "text": [
      "\r",
      "training:  89%|██████████████████████████████████████████████████████████████████████████████████████████████████████████▎             | 804/907 [14:21<01:13,  1.41it/s]"
     ]
    },
    {
     "name": "stdout",
     "output_type": "stream",
     "text": [
      "training loss: 2.8757219314575195\n",
      "training loss: 2.872959852218628\n",
      "validation loss: 2.887698173522949\n",
      "training loss: 2.8982462882995605\n",
      "training loss: 2.8479418754577637\n",
      "training loss: 2.9135546684265137\n",
      "training loss: 2.8513031005859375\n",
      "training loss: 2.886110305786133\n",
      "training loss: 2.886991500854492\n",
      "training loss: 2.818775177001953\n",
      "training loss: 2.8918778896331787\n",
      "training loss: 2.861015796661377\n",
      "training loss: 2.9159507751464844\n",
      "training loss: 2.8579890727996826\n",
      "training loss: 2.992506504058838\n",
      "validation loss: 2.8619351387023926\n",
      "training loss: 2.8799338340759277\n"
     ]
    },
    {
     "name": "stderr",
     "output_type": "stream",
     "text": [
      "\r",
      "training:  90%|████████████████████████████████████████████████████████████████████████████████████████████████████████████▎           | 819/907 [14:32<01:02,  1.41it/s]"
     ]
    },
    {
     "name": "stdout",
     "output_type": "stream",
     "text": [
      "training loss: 2.8265819549560547\n",
      "training loss: 2.898001194000244\n",
      "training loss: 2.9069855213165283\n",
      "training loss: 2.9128198623657227\n",
      "training loss: 2.856090545654297\n",
      "training loss: 2.915217161178589\n",
      "training loss: 2.8770503997802734\n",
      "training loss: 2.9292266368865967\n",
      "training loss: 2.881350040435791\n",
      "training loss: 2.872833251953125\n",
      "training loss: 2.879178524017334\n",
      "validation loss: 2.8868558406829834\n",
      "training loss: 2.9404242038726807\n",
      "training loss: 2.8695390224456787\n",
      "training loss: 2.9224343299865723\n",
      "training loss: 2.900761127471924\n"
     ]
    },
    {
     "name": "stderr",
     "output_type": "stream",
     "text": [
      "\r",
      "training:  92%|██████████████████████████████████████████████████████████████████████████████████████████████████████████████▎         | 834/907 [14:42<00:51,  1.41it/s]"
     ]
    },
    {
     "name": "stdout",
     "output_type": "stream",
     "text": [
      "training loss: 2.8393211364746094\n",
      "training loss: 2.9167823791503906\n",
      "training loss: 2.8924381732940674\n",
      "training loss: 2.8971898555755615\n",
      "training loss: 2.8445630073547363\n",
      "training loss: 2.894977331161499\n",
      "training loss: 2.8974008560180664\n",
      "training loss: 2.9172136783599854\n",
      "validation loss: 2.8629348278045654\n",
      "training loss: 2.920628786087036\n",
      "training loss: 2.8759562969207764\n",
      "training loss: 2.8382182121276855\n",
      "training loss: 2.8404698371887207\n",
      "training loss: 2.8783490657806396\n",
      "training loss: 2.9019439220428467\n",
      "training loss: 2.860947370529175\n"
     ]
    },
    {
     "name": "stderr",
     "output_type": "stream",
     "text": [
      "\r",
      "training:  94%|████████████████████████████████████████████████████████████████████████████████████████████████████████████████▎       | 849/907 [14:53<00:41,  1.41it/s]"
     ]
    },
    {
     "name": "stdout",
     "output_type": "stream",
     "text": [
      "training loss: 2.818142890930176\n",
      "training loss: 2.8908379077911377\n",
      "training loss: 2.883543014526367\n",
      "training loss: 2.8700835704803467\n",
      "training loss: 2.8753879070281982\n",
      "validation loss: 2.8568930625915527\n",
      "training loss: 2.938467264175415\n",
      "training loss: 2.8866982460021973\n",
      "training loss: 2.936993360519409\n",
      "training loss: 2.8855223655700684\n",
      "training loss: 2.883038282394409\n",
      "training loss: 2.9112637042999268\n",
      "training loss: 2.9327807426452637\n",
      "training loss: 2.908050775527954\n",
      "training loss: 2.896838665008545\n",
      "training loss: 2.8939783573150635\n"
     ]
    },
    {
     "name": "stderr",
     "output_type": "stream",
     "text": [
      "\r",
      "training:  95%|██████████████████████████████████████████████████████████████████████████████████████████████████████████████████▎     | 864/907 [15:04<00:30,  1.41it/s]"
     ]
    },
    {
     "name": "stdout",
     "output_type": "stream",
     "text": [
      "training loss: 2.9739983081817627\n",
      "training loss: 2.905581474304199\n",
      "validation loss: 2.88295841217041\n",
      "training loss: 2.8889577388763428\n",
      "training loss: 2.885756254196167\n",
      "training loss: 2.8681936264038086\n",
      "training loss: 2.852872133255005\n",
      "training loss: 2.904147148132324\n",
      "training loss: 2.8798904418945312\n",
      "training loss: 2.9453840255737305\n",
      "training loss: 2.9117324352264404\n",
      "training loss: 2.884556531906128\n",
      "training loss: 2.878504753112793\n",
      "training loss: 2.8739748001098633\n",
      "training loss: 2.895936965942383\n",
      "validation loss: 2.89444637298584\n",
      "training loss: 2.8726625442504883\n"
     ]
    },
    {
     "name": "stderr",
     "output_type": "stream",
     "text": [
      "\r",
      "training:  97%|████████████████████████████████████████████████████████████████████████████████████████████████████████████████████▎   | 879/907 [15:14<00:19,  1.41it/s]"
     ]
    },
    {
     "name": "stdout",
     "output_type": "stream",
     "text": [
      "training loss: 2.895209312438965\n",
      "training loss: 2.8653507232666016\n",
      "training loss: 2.9046730995178223\n",
      "training loss: 2.886585235595703\n",
      "training loss: 2.8878817558288574\n",
      "training loss: 2.890854597091675\n",
      "training loss: 2.9017415046691895\n",
      "training loss: 2.8659698963165283\n",
      "training loss: 2.8837058544158936\n",
      "training loss: 2.9307913780212402\n",
      "training loss: 2.876110553741455\n",
      "validation loss: 2.8617074489593506\n",
      "training loss: 2.896880626678467\n",
      "training loss: 2.9002487659454346\n",
      "training loss: 2.861504554748535\n",
      "training loss: 2.880265235900879\n"
     ]
    },
    {
     "name": "stderr",
     "output_type": "stream",
     "text": [
      "\r",
      "training:  99%|██████████████████████████████████████████████████████████████████████████████████████████████████████████████████████▎ | 894/907 [15:25<00:09,  1.41it/s]"
     ]
    },
    {
     "name": "stdout",
     "output_type": "stream",
     "text": [
      "training loss: 2.9145431518554688\n",
      "training loss: 2.8933019638061523\n",
      "training loss: 2.911574602127075\n",
      "training loss: 2.893397092819214\n",
      "training loss: 2.8975887298583984\n",
      "training loss: 2.8530526161193848\n",
      "training loss: 2.880702018737793\n",
      "training loss: 2.9113030433654785\n",
      "validation loss: 2.901155948638916\n",
      "training loss: 2.846673011779785\n",
      "training loss: 2.8551933765411377\n",
      "training loss: 2.905571937561035\n",
      "training loss: 2.864086627960205\n",
      "training loss: 2.882725715637207\n"
     ]
    },
    {
     "name": "stderr",
     "output_type": "stream",
     "text": [
      "training: 100%|████████████████████████████████████████████████████████████████████████████████████████████████████████████████████████| 907/907 [15:34<00:00,  1.03s/it]\n",
      "training:   0%|                                                                                                                                  | 0/907 [00:00<?, ?it/s]"
     ]
    },
    {
     "name": "stdout",
     "output_type": "stream",
     "text": [
      "training loss: 2.855170488357544\n",
      "training loss: 2.957958698272705\n",
      "validation loss: 2.8673017024993896\n",
      "training loss: 2.823662519454956\n",
      "training loss: 2.931084156036377\n",
      "training loss: 2.8729188442230225\n",
      "training loss: 2.885213613510132\n",
      "training loss: 2.8817806243896484\n",
      "training loss: 2.90535569190979\n",
      "training loss: 2.856593608856201\n",
      "training loss: 2.8950953483581543\n",
      "training loss: 2.8819921016693115\n",
      "training loss: 2.9105567932128906\n",
      "training loss: 2.8889262676239014\n",
      "training loss: 2.884373188018799\n",
      "validation loss: 2.880648612976074\n",
      "training loss: 2.8684873580932617\n"
     ]
    },
    {
     "name": "stderr",
     "output_type": "stream",
     "text": [
      "\r",
      "training:   2%|██                                                                                                                       | 15/907 [00:10<10:34,  1.41it/s]"
     ]
    },
    {
     "name": "stdout",
     "output_type": "stream",
     "text": [
      "training loss: 2.8507046699523926\n",
      "training loss: 2.880514621734619\n",
      "training loss: 2.8982253074645996\n",
      "training loss: 2.8499462604522705\n",
      "training loss: 2.875716209411621\n",
      "training loss: 2.825373411178589\n",
      "training loss: 2.8727927207946777\n",
      "training loss: 2.920039176940918\n",
      "training loss: 2.877359390258789\n",
      "training loss: 2.925063133239746\n",
      "training loss: 2.8796334266662598\n",
      "validation loss: 2.8754138946533203\n",
      "training loss: 2.8748250007629395\n",
      "training loss: 2.933079719543457\n",
      "training loss: 2.895555257797241\n",
      "training loss: 2.8690009117126465\n"
     ]
    },
    {
     "name": "stderr",
     "output_type": "stream",
     "text": [
      "\r",
      "training:   3%|████                                                                                                                     | 30/907 [00:21<10:23,  1.41it/s]"
     ]
    },
    {
     "name": "stdout",
     "output_type": "stream",
     "text": [
      "training loss: 2.948244571685791\n",
      "training loss: 2.9354116916656494\n",
      "training loss: 2.907205104827881\n",
      "training loss: 2.8710665702819824\n",
      "training loss: 2.8658370971679688\n",
      "training loss: 2.880605459213257\n",
      "training loss: 2.865295171737671\n",
      "training loss: 2.9336838722229004\n",
      "validation loss: 2.9143242835998535\n",
      "training loss: 2.9191644191741943\n",
      "training loss: 2.9035613536834717\n",
      "training loss: 2.88370418548584\n",
      "training loss: 2.8927254676818848\n",
      "training loss: 2.8524491786956787\n",
      "training loss: 2.8822433948516846\n",
      "training loss: 2.9113078117370605\n"
     ]
    },
    {
     "name": "stderr",
     "output_type": "stream",
     "text": [
      "\r",
      "training:   5%|██████                                                                                                                   | 45/907 [00:31<10:11,  1.41it/s]"
     ]
    },
    {
     "name": "stdout",
     "output_type": "stream",
     "text": [
      "training loss: 2.848525047302246\n",
      "training loss: 2.88749623298645\n",
      "training loss: 2.8922510147094727\n",
      "training loss: 2.8848516941070557\n",
      "training loss: 2.925764322280884\n",
      "validation loss: 2.8646421432495117\n",
      "training loss: 2.9236905574798584\n",
      "training loss: 2.9809350967407227\n",
      "training loss: 2.9103760719299316\n",
      "training loss: 2.882185935974121\n",
      "training loss: 2.856928586959839\n",
      "training loss: 2.8334712982177734\n",
      "training loss: 2.872321844100952\n",
      "training loss: 2.8924670219421387\n",
      "training loss: 2.9019641876220703\n",
      "training loss: 2.8179452419281006\n"
     ]
    },
    {
     "name": "stderr",
     "output_type": "stream",
     "text": [
      "\r",
      "training:   7%|████████                                                                                                                 | 60/907 [00:42<10:01,  1.41it/s]"
     ]
    },
    {
     "name": "stdout",
     "output_type": "stream",
     "text": [
      "training loss: 2.872894048690796\n",
      "training loss: 2.868622303009033\n",
      "validation loss: 2.8840506076812744\n",
      "training loss: 2.8661739826202393\n",
      "training loss: 2.945261240005493\n",
      "training loss: 2.8817272186279297\n",
      "training loss: 2.8593952655792236\n",
      "training loss: 2.969250440597534\n",
      "training loss: 2.9217631816864014\n",
      "training loss: 2.8623390197753906\n",
      "training loss: 2.9022464752197266\n",
      "training loss: 2.8695762157440186\n",
      "training loss: 2.919517755508423\n",
      "training loss: 2.923438310623169\n",
      "training loss: 2.857226848602295\n",
      "validation loss: 2.864945411682129\n",
      "training loss: 2.831789255142212\n"
     ]
    },
    {
     "name": "stderr",
     "output_type": "stream",
     "text": [
      "\r",
      "training:   8%|██████████                                                                                                               | 75/907 [00:53<09:55,  1.40it/s]"
     ]
    },
    {
     "name": "stdout",
     "output_type": "stream",
     "text": [
      "training loss: 2.8595380783081055\n",
      "training loss: 2.9225783348083496\n",
      "training loss: 2.894456386566162\n",
      "training loss: 2.8961679935455322\n",
      "training loss: 2.875807762145996\n",
      "training loss: 2.9234812259674072\n",
      "training loss: 2.865257978439331\n",
      "training loss: 2.8718812465667725\n",
      "training loss: 2.857276678085327\n",
      "training loss: 2.855548620223999\n",
      "training loss: 2.892699956893921\n",
      "validation loss: 2.9179842472076416\n",
      "training loss: 2.890437126159668\n",
      "training loss: 2.879242181777954\n",
      "training loss: 2.8952689170837402\n",
      "training loss: 2.8753714561462402\n"
     ]
    },
    {
     "name": "stderr",
     "output_type": "stream",
     "text": [
      "\r",
      "training:  10%|████████████                                                                                                             | 90/907 [01:04<09:44,  1.40it/s]"
     ]
    },
    {
     "name": "stdout",
     "output_type": "stream",
     "text": [
      "training loss: 2.906425714492798\n",
      "training loss: 2.906170129776001\n",
      "training loss: 2.9046740531921387\n",
      "training loss: 2.8460805416107178\n",
      "training loss: 2.8929429054260254\n",
      "training loss: 2.903944253921509\n",
      "training loss: 2.915555953979492\n",
      "training loss: 2.898261070251465\n",
      "validation loss: 2.9003920555114746\n",
      "training loss: 2.895843744277954\n",
      "training loss: 2.854135751724243\n",
      "training loss: 2.833916664123535\n",
      "training loss: 2.8882174491882324\n",
      "training loss: 2.867117404937744\n",
      "training loss: 2.865558385848999\n",
      "training loss: 2.9065332412719727\n"
     ]
    },
    {
     "name": "stderr",
     "output_type": "stream",
     "text": [
      "\r",
      "training:  12%|█████████████▉                                                                                                          | 105/907 [01:15<09:34,  1.40it/s]"
     ]
    },
    {
     "name": "stdout",
     "output_type": "stream",
     "text": [
      "training loss: 2.930492639541626\n",
      "training loss: 2.9301767349243164\n",
      "training loss: 2.8275818824768066\n",
      "training loss: 2.8825128078460693\n",
      "training loss: 2.8540420532226562\n",
      "validation loss: 2.900498390197754\n",
      "training loss: 2.8823585510253906\n",
      "training loss: 2.8546853065490723\n",
      "training loss: 2.9127891063690186\n",
      "training loss: 2.896109104156494\n",
      "training loss: 2.929830551147461\n",
      "training loss: 2.8663735389709473\n",
      "training loss: 2.893632173538208\n",
      "training loss: 2.8420045375823975\n",
      "training loss: 2.860527753829956\n"
     ]
    },
    {
     "name": "stderr",
     "output_type": "stream",
     "text": [
      "\r",
      "training:  13%|███████████████▋                                                                                                        | 119/907 [01:25<09:24,  1.40it/s]"
     ]
    },
    {
     "name": "stdout",
     "output_type": "stream",
     "text": [
      "training loss: 2.9135165214538574\n",
      "training loss: 2.8978145122528076\n",
      "training loss: 2.885340690612793\n",
      "validation loss: 2.9081408977508545\n",
      "training loss: 2.869616746902466\n",
      "training loss: 2.9039502143859863\n",
      "training loss: 2.903247356414795\n",
      "training loss: 2.8732714653015137\n",
      "training loss: 2.9525222778320312\n",
      "training loss: 2.894881248474121\n",
      "training loss: 2.861809015274048\n",
      "training loss: 2.865659713745117\n",
      "training loss: 2.8756675720214844\n",
      "training loss: 2.853663682937622\n",
      "training loss: 2.9186484813690186\n"
     ]
    },
    {
     "name": "stderr",
     "output_type": "stream",
     "text": [
      "\r",
      "training:  15%|█████████████████▌                                                                                                      | 133/907 [01:35<09:14,  1.40it/s]"
     ]
    },
    {
     "name": "stdout",
     "output_type": "stream",
     "text": [
      "training loss: 2.870058536529541\n",
      "validation loss: 2.835200309753418\n",
      "training loss: 2.8611886501312256\n",
      "training loss: 2.8943355083465576\n",
      "training loss: 2.9369888305664062\n",
      "training loss: 2.8930795192718506\n",
      "training loss: 2.8500232696533203\n",
      "training loss: 2.8990795612335205\n",
      "training loss: 2.8866920471191406\n",
      "training loss: 2.8959245681762695\n",
      "training loss: 2.8911399841308594\n",
      "training loss: 2.871583938598633\n",
      "training loss: 2.8800899982452393\n",
      "training loss: 2.8780415058135986\n",
      "validation loss: 2.891218662261963\n",
      "training loss: 2.8550076484680176\n"
     ]
    },
    {
     "name": "stderr",
     "output_type": "stream",
     "text": [
      "\r",
      "training:  16%|███████████████████▍                                                                                                    | 147/907 [01:45<09:10,  1.38it/s]"
     ]
    },
    {
     "name": "stdout",
     "output_type": "stream",
     "text": [
      "training loss: 2.9153568744659424\n",
      "training loss: 2.9028823375701904\n",
      "training loss: 2.892545700073242\n",
      "training loss: 2.8843016624450684\n",
      "training loss: 2.9327471256256104\n",
      "training loss: 2.9158692359924316\n",
      "training loss: 2.842275619506836\n",
      "training loss: 2.9003453254699707\n",
      "training loss: 2.85878586769104\n",
      "training loss: 2.886470317840576\n",
      "training loss: 2.849426507949829\n",
      "validation loss: 2.870462417602539\n",
      "training loss: 2.843444585800171\n",
      "training loss: 2.8893656730651855\n",
      "training loss: 2.9051225185394287\n"
     ]
    },
    {
     "name": "stderr",
     "output_type": "stream",
     "text": [
      "\r",
      "training:  18%|█████████████████████▎                                                                                                  | 161/907 [01:55<09:01,  1.38it/s]"
     ]
    },
    {
     "name": "stdout",
     "output_type": "stream",
     "text": [
      "training loss: 2.8591654300689697\n",
      "training loss: 2.9734292030334473\n",
      "training loss: 2.882277250289917\n",
      "training loss: 2.918273687362671\n",
      "training loss: 2.8734610080718994\n",
      "training loss: 2.898263692855835\n",
      "training loss: 2.8875436782836914\n",
      "training loss: 2.8414828777313232\n",
      "training loss: 2.8853912353515625\n",
      "validation loss: 2.8675343990325928\n",
      "training loss: 2.916684627532959\n",
      "training loss: 2.87064266204834\n",
      "training loss: 2.8652663230895996\n",
      "training loss: 2.909083127975464\n",
      "training loss: 2.9043502807617188\n"
     ]
    },
    {
     "name": "stderr",
     "output_type": "stream",
     "text": [
      "\r",
      "training:  19%|███████████████████████▏                                                                                                | 175/907 [02:05<08:52,  1.37it/s]"
     ]
    },
    {
     "name": "stdout",
     "output_type": "stream",
     "text": [
      "training loss: 2.8956804275512695\n",
      "training loss: 2.8695623874664307\n",
      "training loss: 2.8684229850769043\n",
      "training loss: 2.8431031703948975\n",
      "training loss: 2.896960496902466\n",
      "training loss: 2.902419328689575\n",
      "training loss: 2.876845598220825\n",
      "validation loss: 2.8666231632232666\n",
      "training loss: 2.896653652191162\n",
      "training loss: 2.863746404647827\n",
      "training loss: 2.8743436336517334\n",
      "training loss: 2.8870909214019775\n",
      "training loss: 2.9319725036621094\n",
      "training loss: 2.9023241996765137\n",
      "training loss: 2.9063472747802734\n"
     ]
    },
    {
     "name": "stderr",
     "output_type": "stream",
     "text": [
      "\r",
      "training:  21%|█████████████████████████                                                                                               | 189/907 [02:16<08:43,  1.37it/s]"
     ]
    },
    {
     "name": "stdout",
     "output_type": "stream",
     "text": [
      "training loss: 2.846226453781128\n",
      "training loss: 2.90429949760437\n",
      "training loss: 2.8985719680786133\n",
      "training loss: 2.883236885070801\n",
      "training loss: 2.8941750526428223\n",
      "validation loss: 2.8816418647766113\n",
      "training loss: 2.878981590270996\n",
      "training loss: 2.880254030227661\n",
      "training loss: 2.9150280952453613\n",
      "training loss: 2.857196807861328\n",
      "training loss: 2.828219413757324\n",
      "training loss: 2.8443145751953125\n",
      "training loss: 2.8649189472198486\n",
      "training loss: 2.8549771308898926\n",
      "training loss: 2.8486666679382324\n"
     ]
    },
    {
     "name": "stderr",
     "output_type": "stream",
     "text": [
      "\r",
      "training:  22%|██████████████████████████▊                                                                                             | 203/907 [02:26<08:33,  1.37it/s]"
     ]
    },
    {
     "name": "stdout",
     "output_type": "stream",
     "text": [
      "training loss: 2.929769515991211\n",
      "training loss: 2.9666876792907715\n",
      "training loss: 2.853501796722412\n",
      "validation loss: 2.8916592597961426\n",
      "training loss: 2.8428075313568115\n",
      "training loss: 2.8573708534240723\n",
      "training loss: 2.876987934112549\n",
      "training loss: 2.849151849746704\n",
      "training loss: 2.8881373405456543\n",
      "training loss: 2.8539299964904785\n",
      "training loss: 2.8501338958740234\n",
      "training loss: 2.8633439540863037\n",
      "training loss: 2.8899600505828857\n",
      "training loss: 2.894758462905884\n",
      "training loss: 2.8314337730407715\n"
     ]
    },
    {
     "name": "stderr",
     "output_type": "stream",
     "text": [
      "\r",
      "training:  24%|████████████████████████████▋                                                                                           | 217/907 [02:37<08:41,  1.32it/s]"
     ]
    },
    {
     "name": "stdout",
     "output_type": "stream",
     "text": [
      "training loss: 2.908726453781128\n",
      "validation loss: 2.859480142593384\n",
      "training loss: 2.872011661529541\n",
      "training loss: 2.9037868976593018\n",
      "training loss: 2.91355037689209\n",
      "training loss: 2.8956174850463867\n",
      "training loss: 2.8686602115631104\n",
      "training loss: 2.8950541019439697\n",
      "training loss: 2.8772220611572266\n",
      "training loss: 2.9219777584075928\n",
      "training loss: 2.928565740585327\n",
      "training loss: 2.870647668838501\n",
      "training loss: 2.8780157566070557\n",
      "training loss: 2.8754289150238037\n",
      "validation loss: 2.8818318843841553\n",
      "training loss: 2.895613431930542\n"
     ]
    },
    {
     "name": "stderr",
     "output_type": "stream",
     "text": [
      "\r",
      "training:  25%|██████████████████████████████▌                                                                                         | 231/907 [02:48<08:38,  1.30it/s]"
     ]
    },
    {
     "name": "stdout",
     "output_type": "stream",
     "text": [
      "training loss: 2.919020414352417\n",
      "training loss: 2.8954451084136963\n",
      "training loss: 2.8929555416107178\n",
      "training loss: 2.920663833618164\n",
      "training loss: 2.9235684871673584\n",
      "training loss: 2.8741438388824463\n",
      "training loss: 2.8725950717926025\n",
      "training loss: 2.9189059734344482\n",
      "training loss: 2.9347803592681885\n",
      "training loss: 2.8599507808685303\n"
     ]
    },
    {
     "name": "stderr",
     "output_type": "stream",
     "text": [
      "training:  27%|███████████████████████████████▉                                                                                        | 241/907 [03:00<09:48,  1.13it/s]"
     ]
    },
    {
     "name": "stdout",
     "output_type": "stream",
     "text": [
      "training loss: 2.929882287979126\n",
      "validation loss: 2.861250400543213\n",
      "training loss: 2.8878870010375977\n",
      "training loss: 2.905395984649658\n",
      "training loss: 2.9009528160095215\n",
      "training loss: 3.01318359375\n",
      "training loss: 2.8602795600891113\n",
      "training loss: 2.8983938694000244\n",
      "training loss: 2.929614543914795\n",
      "training loss: 2.9377191066741943\n"
     ]
    },
    {
     "name": "stderr",
     "output_type": "stream",
     "text": [
      "\r",
      "training:  28%|█████████████████████████████████                                                                                       | 250/907 [03:12<11:12,  1.02s/it]"
     ]
    },
    {
     "name": "stdout",
     "output_type": "stream",
     "text": [
      "training loss: 2.901975631713867\n",
      "training loss: 2.9993767738342285\n",
      "training loss: 2.917544364929199\n",
      "training loss: 2.8500072956085205\n",
      "validation loss: 2.8806533813476562\n",
      "training loss: 2.9593942165374756\n",
      "training loss: 2.875856399536133\n",
      "training loss: 2.8906733989715576\n",
      "training loss: 2.8998982906341553\n"
     ]
    },
    {
     "name": "stderr",
     "output_type": "stream",
     "text": [
      "\r",
      "training:  28%|██████████████████████████████████▏                                                                                     | 258/907 [03:29<14:27,  1.34s/it]"
     ]
    },
    {
     "name": "stdout",
     "output_type": "stream",
     "text": [
      "training loss: 2.9211266040802\n",
      "training loss: 2.8771986961364746\n",
      "training loss: 2.8679256439208984\n",
      "training loss: 2.8905632495880127\n",
      "training loss: 2.9041285514831543\n"
     ]
    },
    {
     "name": "stderr",
     "output_type": "stream",
     "text": [
      "training:  29%|██████████████████████████████████▊                                                                                     | 263/907 [03:41<17:57,  1.67s/it]"
     ]
    },
    {
     "name": "stdout",
     "output_type": "stream",
     "text": [
      "training loss: 2.8672099113464355\n",
      "training loss: 2.8706297874450684\n",
      "training loss: 2.8848021030426025\n",
      "validation loss: 2.8957457542419434\n",
      "training loss: 2.858677864074707\n",
      "training loss: 2.870614528656006\n"
     ]
    },
    {
     "name": "stderr",
     "output_type": "stream",
     "text": [
      "training:  30%|███████████████████████████████████▍                                                                                    | 268/907 [04:01<25:30,  2.39s/it]"
     ]
    },
    {
     "name": "stdout",
     "output_type": "stream",
     "text": [
      "training loss: 2.8893094062805176\n",
      "training loss: 2.8890247344970703\n",
      "training loss: 2.9120283126831055\n"
     ]
    },
    {
     "name": "stderr",
     "output_type": "stream",
     "text": [
      "\r",
      "training:  30%|███████████████████████████████████▊                                                                                    | 271/907 [04:16<32:48,  3.09s/it]"
     ]
    },
    {
     "name": "stdout",
     "output_type": "stream",
     "text": [
      "training loss: 2.901014566421509\n",
      "training loss: 2.876305103302002\n",
      "training loss: 2.9108047485351562\n"
     ]
    },
    {
     "name": "stderr",
     "output_type": "stream",
     "text": [
      "training:  30%|████████████████████████████████████▎                                                                                   | 274/907 [04:30<37:42,  3.57s/it]"
     ]
    },
    {
     "name": "stdout",
     "output_type": "stream",
     "text": [
      "training loss: 2.8808059692382812\n",
      "training loss: 2.8811330795288086\n",
      "training loss: 2.8908181190490723\n",
      "training loss: 2.8751068115234375\n"
     ]
    },
    {
     "name": "stderr",
     "output_type": "stream",
     "text": [
      "\r",
      "training:  31%|████████████████████████████████████▋                                                                                   | 277/907 [04:45<42:11,  4.02s/it]"
     ]
    },
    {
     "name": "stdout",
     "output_type": "stream",
     "text": [
      "validation loss: 2.845031499862671\n",
      "training loss: 2.920863628387451\n",
      "training loss: 2.8741567134857178\n"
     ]
    },
    {
     "name": "stderr",
     "output_type": "stream",
     "text": [
      "\r",
      "training:  31%|█████████████████████████████████████                                                                                   | 280/907 [04:57<42:07,  4.03s/it]"
     ]
    },
    {
     "name": "stdout",
     "output_type": "stream",
     "text": [
      "training loss: 2.8996853828430176\n",
      "training loss: 2.889103889465332\n",
      "training loss: 2.8693292140960693\n"
     ]
    },
    {
     "name": "stderr",
     "output_type": "stream",
     "text": [
      "training:  31%|█████████████████████████████████████▍                                                                                  | 283/907 [05:11<43:33,  4.19s/it]"
     ]
    },
    {
     "name": "stdout",
     "output_type": "stream",
     "text": [
      "training loss: 2.9135568141937256\n",
      "training loss: 2.9138689041137695\n",
      "training loss: 2.8820064067840576\n"
     ]
    },
    {
     "name": "stderr",
     "output_type": "stream",
     "text": [
      "\r",
      "training:  32%|█████████████████████████████████████▊                                                                                  | 286/907 [05:23<43:00,  4.15s/it]"
     ]
    },
    {
     "name": "stdout",
     "output_type": "stream",
     "text": [
      "training loss: 2.8969790935516357\n",
      "training loss: 2.8826937675476074\n",
      "training loss: 2.8600025177001953\n",
      "training loss: 2.934926748275757\n"
     ]
    },
    {
     "name": "stderr",
     "output_type": "stream",
     "text": [
      "\r",
      "training:  32%|██████████████████████████████████████▏                                                                                 | 289/907 [05:37<44:01,  4.27s/it]"
     ]
    },
    {
     "name": "stdout",
     "output_type": "stream",
     "text": [
      "validation loss: 2.871615171432495\n",
      "training loss: 2.881040096282959\n",
      "training loss: 2.919586420059204\n"
     ]
    },
    {
     "name": "stderr",
     "output_type": "stream",
     "text": [
      "training:  32%|██████████████████████████████████████▋                                                                                 | 292/907 [05:50<44:32,  4.35s/it]"
     ]
    },
    {
     "name": "stdout",
     "output_type": "stream",
     "text": [
      "training loss: 2.867234945297241\n",
      "training loss: 2.8602206707000732\n",
      "training loss: 2.8613646030426025\n"
     ]
    },
    {
     "name": "stderr",
     "output_type": "stream",
     "text": [
      "\r",
      "training:  33%|███████████████████████████████████████                                                                                 | 295/907 [06:04<45:33,  4.47s/it]"
     ]
    },
    {
     "name": "stdout",
     "output_type": "stream",
     "text": [
      "training loss: 2.8492469787597656\n",
      "training loss: 2.8881890773773193\n",
      "training loss: 2.9144744873046875\n"
     ]
    },
    {
     "name": "stderr",
     "output_type": "stream",
     "text": [
      "\r",
      "training:  33%|███████████████████████████████████████▍                                                                                | 298/907 [06:18<45:45,  4.51s/it]"
     ]
    },
    {
     "name": "stdout",
     "output_type": "stream",
     "text": [
      "training loss: 2.9110519886016846\n",
      "training loss: 2.88038969039917\n",
      "training loss: 2.867370843887329\n"
     ]
    },
    {
     "name": "stderr",
     "output_type": "stream",
     "text": [
      "\r",
      "training:  33%|███████████████████████████████████████▍                                                                                | 298/907 [06:30<45:45,  4.51s/it]"
     ]
    },
    {
     "name": "stdout",
     "output_type": "stream",
     "text": [
      "training loss: 2.838970422744751\n"
     ]
    },
    {
     "name": "stderr",
     "output_type": "stream",
     "text": [
      "\r",
      "training:  33%|███████████████████████████████████████▊                                                                                | 301/907 [06:34<47:45,  4.73s/it]"
     ]
    },
    {
     "name": "stdout",
     "output_type": "stream",
     "text": [
      "validation loss: 2.8799593448638916\n",
      "training loss: 2.8717072010040283\n",
      "training loss: 2.8878331184387207\n"
     ]
    },
    {
     "name": "stderr",
     "output_type": "stream",
     "text": [
      "\r",
      "training:  34%|████████████████████████████████████████▏                                                                               | 304/907 [06:48<47:17,  4.71s/it]"
     ]
    },
    {
     "name": "stdout",
     "output_type": "stream",
     "text": [
      "training loss: 2.8699042797088623\n",
      "training loss: 2.942474126815796\n",
      "training loss: 2.889086961746216\n"
     ]
    },
    {
     "name": "stderr",
     "output_type": "stream",
     "text": [
      "training:  34%|████████████████████████████████████████▌                                                                               | 307/907 [07:01<46:09,  4.62s/it]"
     ]
    },
    {
     "name": "stdout",
     "output_type": "stream",
     "text": [
      "training loss: 2.8711698055267334\n",
      "training loss: 2.8278326988220215\n",
      "training loss: 2.872908353805542\n"
     ]
    },
    {
     "name": "stderr",
     "output_type": "stream",
     "text": [
      "\r",
      "training:  34%|█████████████████████████████████████████                                                                               | 310/907 [07:13<44:22,  4.46s/it]"
     ]
    },
    {
     "name": "stdout",
     "output_type": "stream",
     "text": [
      "training loss: 2.882740020751953\n",
      "training loss: 2.917532205581665\n",
      "training loss: 2.891894817352295\n",
      "training loss: 2.847775936126709\n"
     ]
    },
    {
     "name": "stderr",
     "output_type": "stream",
     "text": [
      "\r",
      "training:  35%|█████████████████████████████████████████▍                                                                              | 313/907 [07:27<44:38,  4.51s/it]"
     ]
    },
    {
     "name": "stdout",
     "output_type": "stream",
     "text": [
      "validation loss: 2.862905502319336\n",
      "training loss: 2.8724024295806885\n"
     ]
    },
    {
     "name": "stderr",
     "output_type": "stream",
     "text": [
      "training:  35%|█████████████████████████████████████████▋                                                                              | 315/907 [07:40<49:37,  5.03s/it]"
     ]
    },
    {
     "name": "stdout",
     "output_type": "stream",
     "text": [
      "training loss: 2.8818752765655518\n",
      "training loss: 2.865006923675537\n",
      "training loss: 2.8600189685821533\n"
     ]
    },
    {
     "name": "stderr",
     "output_type": "stream",
     "text": [
      "\r",
      "training:  35%|██████████████████████████████████████████                                                                              | 318/907 [07:55<49:08,  5.01s/it]"
     ]
    },
    {
     "name": "stdout",
     "output_type": "stream",
     "text": [
      "training loss: 2.8818857669830322\n",
      "training loss: 2.8748693466186523\n",
      "training loss: 2.877326726913452\n"
     ]
    },
    {
     "name": "stderr",
     "output_type": "stream",
     "text": [
      "training:  35%|██████████████████████████████████████████▍                                                                             | 321/907 [08:14<53:23,  5.47s/it]"
     ]
    },
    {
     "name": "stdout",
     "output_type": "stream",
     "text": [
      "training loss: 2.841130256652832\n",
      "training loss: 2.836987257003784\n"
     ]
    },
    {
     "name": "stderr",
     "output_type": "stream",
     "text": [
      "\r",
      "training:  36%|██████████████████████████████████████████▋                                                                             | 323/907 [08:27<55:42,  5.72s/it]"
     ]
    },
    {
     "name": "stdout",
     "output_type": "stream",
     "text": [
      "training loss: 2.854074001312256\n",
      "training loss: 2.8170127868652344\n",
      "training loss: 2.9289627075195312\n"
     ]
    },
    {
     "name": "stderr",
     "output_type": "stream",
     "text": [
      "\r",
      "training:  36%|██████████████████████████████████████████▉                                                                             | 325/907 [08:37<53:28,  5.51s/it]"
     ]
    },
    {
     "name": "stdout",
     "output_type": "stream",
     "text": [
      "validation loss: 2.891270399093628\n",
      "training loss: 2.8795535564422607\n",
      "training loss: 2.883737802505493\n",
      "training loss: 2.904536008834839\n",
      "training loss: 2.848823070526123\n",
      "training loss: 2.898061990737915\n"
     ]
    },
    {
     "name": "stderr",
     "output_type": "stream",
     "text": [
      "\r",
      "training:  36%|███████████████████████████████████████████▊                                                                            | 331/907 [08:47<42:07,  4.39s/it]"
     ]
    },
    {
     "name": "stdout",
     "output_type": "stream",
     "text": [
      "training loss: 2.8748879432678223\n",
      "training loss: 2.8668053150177\n",
      "training loss: 2.879234790802002\n",
      "training loss: 2.917746067047119\n",
      "training loss: 2.8974008560180664\n"
     ]
    },
    {
     "name": "stderr",
     "output_type": "stream",
     "text": [
      "training:  37%|████████████████████████████████████████████▍                                                                           | 336/907 [09:04<38:31,  4.05s/it]"
     ]
    },
    {
     "name": "stdout",
     "output_type": "stream",
     "text": [
      "training loss: 2.878777265548706\n",
      "training loss: 2.882274866104126\n",
      "validation loss: 2.8686017990112305\n",
      "training loss: 2.849438190460205\n",
      "training loss: 2.8935725688934326\n"
     ]
    },
    {
     "name": "stderr",
     "output_type": "stream",
     "text": [
      "training:  37%|████████████████████████████████████████████▉                                                                           | 340/907 [09:23<40:35,  4.30s/it]"
     ]
    },
    {
     "name": "stdout",
     "output_type": "stream",
     "text": [
      "training loss: 2.895965099334717\n",
      "training loss: 2.8985235691070557\n",
      "training loss: 2.9053399562835693\n"
     ]
    },
    {
     "name": "stderr",
     "output_type": "stream",
     "text": [
      "\r",
      "training:  38%|█████████████████████████████████████████████▍                                                                          | 343/907 [09:39<42:42,  4.54s/it]"
     ]
    },
    {
     "name": "stdout",
     "output_type": "stream",
     "text": [
      "training loss: 2.9055967330932617\n",
      "training loss: 2.9094364643096924\n"
     ]
    },
    {
     "name": "stderr",
     "output_type": "stream",
     "text": [
      "\r",
      "training:  38%|█████████████████████████████████████████████▋                                                                          | 345/907 [09:49<44:06,  4.71s/it]"
     ]
    },
    {
     "name": "stdout",
     "output_type": "stream",
     "text": [
      "training loss: 2.877692461013794\n",
      "training loss: 2.9143829345703125\n"
     ]
    },
    {
     "name": "stderr",
     "output_type": "stream",
     "text": [
      "\r",
      "training:  38%|█████████████████████████████████████████████▉                                                                          | 347/907 [09:59<45:19,  4.86s/it]"
     ]
    },
    {
     "name": "stdout",
     "output_type": "stream",
     "text": [
      "training loss: 2.9203317165374756\n",
      "training loss: 2.886532783508301\n"
     ]
    },
    {
     "name": "stderr",
     "output_type": "stream",
     "text": [
      "\r",
      "training:  38%|█████████████████████████████████████████████▉                                                                          | 347/907 [10:10<45:19,  4.86s/it]"
     ]
    },
    {
     "name": "stdout",
     "output_type": "stream",
     "text": [
      "training loss: 2.8917236328125\n"
     ]
    },
    {
     "name": "stderr",
     "output_type": "stream",
     "text": [
      "\r",
      "training:  38%|██████████████████████████████████████████████▏                                                                         | 349/907 [10:10<47:16,  5.08s/it]"
     ]
    },
    {
     "name": "stdout",
     "output_type": "stream",
     "text": [
      "validation loss: 2.8928356170654297\n",
      "training loss: 2.901789426803589\n"
     ]
    },
    {
     "name": "stderr",
     "output_type": "stream",
     "text": [
      "\r",
      "training:  39%|██████████████████████████████████████████████▍                                                                         | 351/907 [10:21<47:48,  5.16s/it]"
     ]
    },
    {
     "name": "stdout",
     "output_type": "stream",
     "text": [
      "training loss: 2.8953707218170166\n",
      "training loss: 2.8530850410461426\n"
     ]
    },
    {
     "name": "stderr",
     "output_type": "stream",
     "text": [
      "\r",
      "training:  39%|██████████████████████████████████████████████▋                                                                         | 353/907 [10:32<48:56,  5.30s/it]"
     ]
    },
    {
     "name": "stdout",
     "output_type": "stream",
     "text": [
      "training loss: 2.8941006660461426\n",
      "training loss: 2.9077823162078857\n"
     ]
    },
    {
     "name": "stderr",
     "output_type": "stream",
     "text": [
      "\r",
      "training:  39%|██████████████████████████████████████████████▉                                                                         | 355/907 [10:44<49:54,  5.42s/it]"
     ]
    },
    {
     "name": "stdout",
     "output_type": "stream",
     "text": [
      "training loss: 2.8886663913726807\n",
      "training loss: 2.9416208267211914\n"
     ]
    },
    {
     "name": "stderr",
     "output_type": "stream",
     "text": [
      "\r",
      "training:  39%|███████████████████████████████████████████████▏                                                                        | 357/907 [10:55<50:28,  5.51s/it]"
     ]
    },
    {
     "name": "stdout",
     "output_type": "stream",
     "text": [
      "training loss: 2.9031267166137695\n",
      "training loss: 2.8549160957336426\n"
     ]
    },
    {
     "name": "stderr",
     "output_type": "stream",
     "text": [
      "\r",
      "training:  40%|███████████████████████████████████████████████▍                                                                        | 359/907 [11:07<52:05,  5.70s/it]"
     ]
    },
    {
     "name": "stdout",
     "output_type": "stream",
     "text": [
      "training loss: 2.9082531929016113\n",
      "training loss: 2.8460071086883545\n"
     ]
    },
    {
     "name": "stderr",
     "output_type": "stream",
     "text": [
      "\r",
      "training:  40%|███████████████████████████████████████████████▍                                                                        | 359/907 [11:20<52:05,  5.70s/it]"
     ]
    },
    {
     "name": "stdout",
     "output_type": "stream",
     "text": [
      "training loss: 2.8546628952026367\n"
     ]
    },
    {
     "name": "stderr",
     "output_type": "stream",
     "text": [
      "\r",
      "training:  40%|███████████████████████████████████████████████▊                                                                        | 361/907 [11:21<54:24,  5.98s/it]"
     ]
    },
    {
     "name": "stdout",
     "output_type": "stream",
     "text": [
      "validation loss: 2.8755507469177246\n",
      "training loss: 2.8774847984313965\n"
     ]
    },
    {
     "name": "stderr",
     "output_type": "stream",
     "text": [
      "\r",
      "training:  40%|████████████████████████████████████████████████                                                                        | 363/907 [11:32<53:41,  5.92s/it]"
     ]
    },
    {
     "name": "stdout",
     "output_type": "stream",
     "text": [
      "training loss: 2.8797245025634766\n",
      "training loss: 2.8472416400909424\n"
     ]
    },
    {
     "name": "stderr",
     "output_type": "stream",
     "text": [
      "\r",
      "training:  40%|████████████████████████████████████████████████▎                                                                       | 365/907 [11:44<53:46,  5.95s/it]"
     ]
    },
    {
     "name": "stdout",
     "output_type": "stream",
     "text": [
      "training loss: 2.897731065750122\n",
      "training loss: 2.8904478549957275\n"
     ]
    },
    {
     "name": "stderr",
     "output_type": "stream",
     "text": [
      "\r",
      "training:  40%|████████████████████████████████████████████████▌                                                                       | 367/907 [11:57<54:23,  6.04s/it]"
     ]
    },
    {
     "name": "stdout",
     "output_type": "stream",
     "text": [
      "training loss: 2.8920881748199463\n",
      "training loss: 2.900163412094116\n"
     ]
    },
    {
     "name": "stderr",
     "output_type": "stream",
     "text": [
      "training:  41%|████████████████████████████████████████████████▊                                                                       | 369/907 [12:10<55:42,  6.21s/it]"
     ]
    },
    {
     "name": "stdout",
     "output_type": "stream",
     "text": [
      "training loss: 2.89315128326416\n",
      "training loss: 2.876866102218628\n"
     ]
    },
    {
     "name": "stderr",
     "output_type": "stream",
     "text": [
      "\r",
      "training:  41%|█████████████████████████████████████████████████                                                                       | 371/907 [12:22<54:57,  6.15s/it]"
     ]
    },
    {
     "name": "stdout",
     "output_type": "stream",
     "text": [
      "training loss: 2.8995954990386963\n",
      "training loss: 2.87369966506958\n",
      "training loss: 2.915820360183716\n",
      "validation loss: 2.905876398086548\n"
     ]
    },
    {
     "name": "stderr",
     "output_type": "stream",
     "text": [
      "\r",
      "training:  41%|█████████████████████████████████████████████████▍                                                                      | 374/907 [12:33<48:12,  5.43s/it]"
     ]
    },
    {
     "name": "stdout",
     "output_type": "stream",
     "text": [
      "training loss: 2.839871883392334\n",
      "training loss: 2.9259097576141357\n",
      "training loss: 2.903989553451538\n",
      "training loss: 2.8581430912017822\n",
      "training loss: 2.86747145652771\n",
      "training loss: 2.8513455390930176\n",
      "training loss: 2.8865668773651123\n",
      "training loss: 2.916898727416992\n"
     ]
    },
    {
     "name": "stderr",
     "output_type": "stream",
     "text": [
      "\r",
      "training:  42%|██████████████████████████████████████████████████▌                                                                     | 382/907 [12:43<36:34,  4.18s/it]"
     ]
    },
    {
     "name": "stdout",
     "output_type": "stream",
     "text": [
      "training loss: 2.9096622467041016\n",
      "training loss: 2.888659954071045\n",
      "training loss: 2.8499090671539307\n",
      "training loss: 2.970132350921631\n",
      "validation loss: 2.830413341522217\n",
      "training loss: 2.9297070503234863\n",
      "training loss: 2.8399691581726074\n",
      "training loss: 2.894108295440674\n"
     ]
    },
    {
     "name": "stderr",
     "output_type": "stream",
     "text": [
      "training:  43%|███████████████████████████████████████████████████▍                                                                    | 389/907 [13:00<31:26,  3.64s/it]"
     ]
    },
    {
     "name": "stdout",
     "output_type": "stream",
     "text": [
      "training loss: 2.9046852588653564\n",
      "training loss: 2.8939266204833984\n",
      "training loss: 2.850545644760132\n",
      "training loss: 2.8962950706481934\n",
      "training loss: 2.8793442249298096\n"
     ]
    },
    {
     "name": "stderr",
     "output_type": "stream",
     "text": [
      "training:  43%|████████████████████████████████████████████████████▏                                                                   | 394/907 [13:21<32:40,  3.82s/it]"
     ]
    },
    {
     "name": "stdout",
     "output_type": "stream",
     "text": [
      "training loss: 2.8932383060455322\n",
      "training loss: 2.8857243061065674\n",
      "training loss: 2.8618102073669434\n",
      "training loss: 2.8711204528808594\n"
     ]
    },
    {
     "name": "stderr",
     "output_type": "stream",
     "text": [
      "\r",
      "training:  44%|████████████████████████████████████████████████████▌                                                                   | 397/907 [13:35<34:15,  4.03s/it]"
     ]
    },
    {
     "name": "stdout",
     "output_type": "stream",
     "text": [
      "validation loss: 2.865022659301758\n",
      "training loss: 2.840653896331787\n",
      "training loss: 2.931924819946289\n",
      "training loss: 2.8578102588653564\n"
     ]
    },
    {
     "name": "stderr",
     "output_type": "stream",
     "text": [
      "\r",
      "training:  44%|█████████████████████████████████████████████████████                                                                   | 401/907 [13:47<31:32,  3.74s/it]"
     ]
    },
    {
     "name": "stdout",
     "output_type": "stream",
     "text": [
      "training loss: 2.8777832984924316\n",
      "training loss: 2.916459798812866\n",
      "training loss: 2.8852765560150146\n",
      "training loss: 2.9468295574188232\n"
     ]
    },
    {
     "name": "stderr",
     "output_type": "stream",
     "text": [
      "training:  45%|█████████████████████████████████████████████████████▌                                                                  | 405/907 [14:03<31:56,  3.82s/it]"
     ]
    },
    {
     "name": "stdout",
     "output_type": "stream",
     "text": [
      "training loss: 2.839529514312744\n",
      "training loss: 2.8464114665985107\n",
      "training loss: 2.8751442432403564\n"
     ]
    },
    {
     "name": "stderr",
     "output_type": "stream",
     "text": [
      "\r",
      "training:  45%|█████████████████████████████████████████████████████▉                                                                  | 408/907 [14:16<33:02,  3.97s/it]"
     ]
    },
    {
     "name": "stdout",
     "output_type": "stream",
     "text": [
      "training loss: 2.8467283248901367\n",
      "training loss: 2.914041042327881\n",
      "validation loss: 2.890493631362915\n",
      "training loss: 2.859773874282837\n"
     ]
    },
    {
     "name": "stderr",
     "output_type": "stream",
     "text": [
      "\r",
      "training:  45%|██████████████████████████████████████████████████████▍                                                                 | 411/907 [14:29<33:43,  4.08s/it]"
     ]
    },
    {
     "name": "stdout",
     "output_type": "stream",
     "text": [
      "training loss: 2.9205410480499268\n",
      "training loss: 2.91880202293396\n",
      "training loss: 2.8919358253479004\n"
     ]
    },
    {
     "name": "stderr",
     "output_type": "stream",
     "text": [
      "training:  46%|██████████████████████████████████████████████████████▊                                                                 | 414/907 [14:43<34:39,  4.22s/it]"
     ]
    },
    {
     "name": "stdout",
     "output_type": "stream",
     "text": [
      "training loss: 2.8453667163848877\n",
      "training loss: 2.8821399211883545\n",
      "training loss: 2.851292610168457\n"
     ]
    },
    {
     "name": "stderr",
     "output_type": "stream",
     "text": [
      "\r",
      "training:  46%|███████████████████████████████████████████████████████▏                                                                | 417/907 [14:58<36:16,  4.44s/it]"
     ]
    },
    {
     "name": "stdout",
     "output_type": "stream",
     "text": [
      "training loss: 2.8882081508636475\n",
      "training loss: 2.866947650909424\n",
      "training loss: 2.894253969192505\n"
     ]
    },
    {
     "name": "stderr",
     "output_type": "stream",
     "text": [
      "training:  46%|███████████████████████████████████████████████████████▌                                                                | 420/907 [15:13<38:02,  4.69s/it]"
     ]
    },
    {
     "name": "stdout",
     "output_type": "stream",
     "text": [
      "training loss: 2.8569939136505127\n",
      "training loss: 2.8425443172454834\n",
      "validation loss: 2.8599438667297363\n"
     ]
    },
    {
     "name": "stderr",
     "output_type": "stream",
     "text": [
      "\r",
      "training:  47%|███████████████████████████████████████████████████████▊                                                                | 422/907 [15:25<40:55,  5.06s/it]"
     ]
    },
    {
     "name": "stdout",
     "output_type": "stream",
     "text": [
      "training loss: 2.8732337951660156\n",
      "training loss: 2.8874034881591797\n"
     ]
    },
    {
     "name": "stderr",
     "output_type": "stream",
     "text": [
      "\r",
      "training:  47%|████████████████████████████████████████████████████████                                                                | 424/907 [15:37<42:13,  5.25s/it]"
     ]
    },
    {
     "name": "stdout",
     "output_type": "stream",
     "text": [
      "training loss: 2.883471727371216\n",
      "training loss: 2.934460401535034\n",
      "training loss: 2.9040002822875977\n"
     ]
    },
    {
     "name": "stderr",
     "output_type": "stream",
     "text": [
      "\r",
      "training:  47%|████████████████████████████████████████████████████████▍                                                               | 427/907 [15:49<39:27,  4.93s/it]"
     ]
    },
    {
     "name": "stdout",
     "output_type": "stream",
     "text": [
      "training loss: 2.8593451976776123\n",
      "training loss: 2.871608257293701\n"
     ]
    },
    {
     "name": "stderr",
     "output_type": "stream",
     "text": [
      "training:  47%|████████████████████████████████████████████████████████▊                                                               | 429/907 [16:01<41:50,  5.25s/it]"
     ]
    },
    {
     "name": "stdout",
     "output_type": "stream",
     "text": [
      "training loss: 2.8682687282562256\n",
      "training loss: 2.8970866203308105\n"
     ]
    },
    {
     "name": "stderr",
     "output_type": "stream",
     "text": [
      "\r",
      "training:  48%|█████████████████████████████████████████████████████████                                                               | 431/907 [16:15<45:20,  5.71s/it]"
     ]
    },
    {
     "name": "stdout",
     "output_type": "stream",
     "text": [
      "training loss: 2.908369302749634\n",
      "training loss: 2.9058778285980225\n",
      "training loss: 2.871192693710327\n",
      "validation loss: 2.8877532482147217\n"
     ]
    },
    {
     "name": "stderr",
     "output_type": "stream",
     "text": [
      "\r",
      "training:  48%|█████████████████████████████████████████████████████████▍                                                              | 434/907 [16:27<41:02,  5.21s/it]"
     ]
    },
    {
     "name": "stdout",
     "output_type": "stream",
     "text": [
      "training loss: 2.8871190547943115\n",
      "training loss: 2.8920624256134033\n",
      "training loss: 2.9093363285064697\n"
     ]
    },
    {
     "name": "stderr",
     "output_type": "stream",
     "text": [
      "training:  48%|█████████████████████████████████████████████████████████▊                                                              | 437/907 [16:41<39:33,  5.05s/it]"
     ]
    },
    {
     "name": "stdout",
     "output_type": "stream",
     "text": [
      "training loss: 2.8680992126464844\n",
      "training loss: 2.8707926273345947\n",
      "training loss: 2.877519369125366\n"
     ]
    },
    {
     "name": "stderr",
     "output_type": "stream",
     "text": [
      "\r",
      "training:  49%|██████████████████████████████████████████████████████████▏                                                             | 440/907 [16:51<35:28,  4.56s/it]"
     ]
    },
    {
     "name": "stdout",
     "output_type": "stream",
     "text": [
      "training loss: 2.8931539058685303\n",
      "training loss: 2.894622564315796\n",
      "training loss: 2.8563108444213867\n",
      "training loss: 2.941601037979126\n",
      "training loss: 2.898416757583618\n",
      "training loss: 2.8710291385650635\n",
      "validation loss: 2.8941941261291504\n"
     ]
    },
    {
     "name": "stderr",
     "output_type": "stream",
     "text": [
      "\r",
      "training:  49%|███████████████████████████████████████████████████████████                                                             | 446/907 [17:02<28:47,  3.75s/it]"
     ]
    },
    {
     "name": "stdout",
     "output_type": "stream",
     "text": [
      "training loss: 2.887809991836548\n",
      "training loss: 2.9120869636535645\n",
      "training loss: 2.8747076988220215\n",
      "training loss: 2.9191172122955322\n",
      "training loss: 2.901085376739502\n",
      "training loss: 2.8063313961029053\n",
      "training loss: 2.8840551376342773\n",
      "training loss: 2.862076759338379\n"
     ]
    },
    {
     "name": "stderr",
     "output_type": "stream",
     "text": [
      "\r",
      "training:  50%|████████████████████████████████████████████████████████████                                                            | 454/907 [17:13<22:42,  3.01s/it]"
     ]
    },
    {
     "name": "stdout",
     "output_type": "stream",
     "text": [
      "training loss: 2.8442230224609375\n",
      "training loss: 2.8817622661590576\n",
      "training loss: 2.8695931434631348\n",
      "training loss: 2.8584423065185547\n",
      "validation loss: 2.8829400539398193\n",
      "training loss: 2.862881898880005\n",
      "training loss: 2.9299707412719727\n",
      "training loss: 2.8885610103607178\n",
      "training loss: 2.882766008377075\n"
     ]
    },
    {
     "name": "stderr",
     "output_type": "stream",
     "text": [
      "\r",
      "training:  51%|█████████████████████████████████████████████████████████████                                                           | 462/907 [17:23<18:29,  2.49s/it]"
     ]
    },
    {
     "name": "stdout",
     "output_type": "stream",
     "text": [
      "training loss: 2.8781750202178955\n",
      "training loss: 2.881192207336426\n",
      "training loss: 2.8842263221740723\n",
      "training loss: 2.9379141330718994\n",
      "training loss: 2.902104616165161\n",
      "training loss: 2.890932321548462\n",
      "training loss: 2.839877128601074\n"
     ]
    },
    {
     "name": "stderr",
     "output_type": "stream",
     "text": [
      "\r",
      "training:  51%|█████████████████████████████████████████████████████████████                                                           | 462/907 [17:40<18:29,  2.49s/it]"
     ]
    },
    {
     "name": "stdout",
     "output_type": "stream",
     "text": [
      "training loss: 2.8700778484344482\n"
     ]
    },
    {
     "name": "stderr",
     "output_type": "stream",
     "text": [
      "\r",
      "training:  52%|██████████████████████████████████████████████████████████████                                                          | 469/907 [17:42<18:49,  2.58s/it]"
     ]
    },
    {
     "name": "stdout",
     "output_type": "stream",
     "text": [
      "validation loss: 2.890625238418579\n",
      "training loss: 2.825916051864624\n",
      "training loss: 2.8632688522338867\n",
      "training loss: 2.850900650024414\n"
     ]
    },
    {
     "name": "stderr",
     "output_type": "stream",
     "text": [
      "training:  52%|██████████████████████████████████████████████████████████████▌                                                         | 473/907 [18:02<23:37,  3.27s/it]"
     ]
    },
    {
     "name": "stdout",
     "output_type": "stream",
     "text": [
      "training loss: 2.830132246017456\n",
      "training loss: 2.869417667388916\n",
      "training loss: 2.8860385417938232\n"
     ]
    },
    {
     "name": "stderr",
     "output_type": "stream",
     "text": [
      "\r",
      "training:  52%|██████████████████████████████████████████████████████████████▉                                                         | 476/907 [18:17<26:58,  3.76s/it]"
     ]
    },
    {
     "name": "stdout",
     "output_type": "stream",
     "text": [
      "training loss: 2.8730335235595703\n",
      "training loss: 2.889604330062866\n",
      "training loss: 2.8919005393981934\n"
     ]
    },
    {
     "name": "stderr",
     "output_type": "stream",
     "text": [
      "\r",
      "training:  53%|███████████████████████████████████████████████████████████████▎                                                        | 479/907 [18:29<27:42,  3.88s/it]"
     ]
    },
    {
     "name": "stdout",
     "output_type": "stream",
     "text": [
      "training loss: 2.8816471099853516\n",
      "training loss: 2.8979570865631104\n"
     ]
    },
    {
     "name": "stderr",
     "output_type": "stream",
     "text": [
      "\r",
      "training:  53%|███████████████████████████████████████████████████████████████▎                                                        | 479/907 [18:40<27:42,  3.88s/it]"
     ]
    },
    {
     "name": "stdout",
     "output_type": "stream",
     "text": [
      "training loss: 2.893857955932617\n"
     ]
    },
    {
     "name": "stderr",
     "output_type": "stream",
     "text": [
      "\r",
      "training:  53%|███████████████████████████████████████████████████████████████▋                                                        | 481/907 [18:41<31:31,  4.44s/it]"
     ]
    },
    {
     "name": "stdout",
     "output_type": "stream",
     "text": [
      "validation loss: 2.905850648880005\n",
      "training loss: 2.871314525604248\n",
      "training loss: 2.859135866165161\n"
     ]
    },
    {
     "name": "stderr",
     "output_type": "stream",
     "text": [
      "\r",
      "training:  53%|████████████████████████████████████████████████████████████████                                                        | 484/907 [18:53<30:51,  4.38s/it]"
     ]
    },
    {
     "name": "stdout",
     "output_type": "stream",
     "text": [
      "training loss: 2.860646963119507\n",
      "training loss: 2.870891571044922\n",
      "training loss: 2.8786888122558594\n"
     ]
    },
    {
     "name": "stderr",
     "output_type": "stream",
     "text": [
      "\r",
      "training:  54%|████████████████████████████████████████████████████████████████▍                                                       | 487/907 [19:08<31:44,  4.54s/it]"
     ]
    },
    {
     "name": "stdout",
     "output_type": "stream",
     "text": [
      "training loss: 2.896291494369507\n",
      "training loss: 2.8925535678863525\n",
      "training loss: 2.836721420288086\n"
     ]
    },
    {
     "name": "stderr",
     "output_type": "stream",
     "text": [
      "training:  54%|████████████████████████████████████████████████████████████████▊                                                       | 490/907 [19:23<32:41,  4.70s/it]"
     ]
    },
    {
     "name": "stdout",
     "output_type": "stream",
     "text": [
      "training loss: 2.8984439373016357\n",
      "training loss: 2.8582687377929688\n"
     ]
    },
    {
     "name": "stderr",
     "output_type": "stream",
     "text": [
      "\r",
      "training:  54%|█████████████████████████████████████████████████████████████████                                                       | 492/907 [19:34<34:00,  4.92s/it]"
     ]
    },
    {
     "name": "stdout",
     "output_type": "stream",
     "text": [
      "training loss: 2.8837718963623047\n",
      "training loss: 2.883941650390625\n",
      "validation loss: 2.8908615112304688\n"
     ]
    },
    {
     "name": "stderr",
     "output_type": "stream",
     "text": [
      "\r",
      "training:  54%|█████████████████████████████████████████████████████████████████▎                                                      | 494/907 [19:45<34:40,  5.04s/it]"
     ]
    },
    {
     "name": "stdout",
     "output_type": "stream",
     "text": [
      "training loss: 2.858071804046631\n",
      "training loss: 2.851457118988037\n"
     ]
    },
    {
     "name": "stderr",
     "output_type": "stream",
     "text": [
      "\r",
      "training:  55%|█████████████████████████████████████████████████████████████████▌                                                      | 496/907 [19:56<35:28,  5.18s/it]"
     ]
    },
    {
     "name": "stdout",
     "output_type": "stream",
     "text": [
      "training loss: 2.898754835128784\n",
      "training loss: 2.8634536266326904\n",
      "training loss: 2.855520248413086\n"
     ]
    },
    {
     "name": "stderr",
     "output_type": "stream",
     "text": [
      "training:  55%|██████████████████████████████████████████████████████████████████                                                      | 499/907 [20:11<35:06,  5.16s/it]"
     ]
    },
    {
     "name": "stdout",
     "output_type": "stream",
     "text": [
      "training loss: 2.8537509441375732\n",
      "training loss: 2.8785648345947266\n"
     ]
    },
    {
     "name": "stderr",
     "output_type": "stream",
     "text": [
      "\r",
      "training:  55%|██████████████████████████████████████████████████████████████████▎                                                     | 501/907 [20:22<35:09,  5.19s/it]"
     ]
    },
    {
     "name": "stdout",
     "output_type": "stream",
     "text": [
      "training loss: 2.8268802165985107\n",
      "training loss: 2.896286964416504\n"
     ]
    },
    {
     "name": "stderr",
     "output_type": "stream",
     "text": [
      "\r",
      "training:  55%|██████████████████████████████████████████████████████████████████▌                                                     | 503/907 [20:32<34:36,  5.14s/it]"
     ]
    },
    {
     "name": "stdout",
     "output_type": "stream",
     "text": [
      "training loss: 2.915731430053711\n",
      "training loss: 2.9185314178466797\n",
      "training loss: 2.86215877532959\n",
      "validation loss: 2.922386407852173\n",
      "training loss: 2.8838071823120117\n"
     ]
    },
    {
     "name": "stderr",
     "output_type": "stream",
     "text": [
      "\r",
      "training:  56%|███████████████████████████████████████████████████████████████████                                                     | 507/907 [20:42<29:13,  4.38s/it]"
     ]
    },
    {
     "name": "stdout",
     "output_type": "stream",
     "text": [
      "training loss: 2.868546724319458\n",
      "training loss: 2.9478397369384766\n",
      "training loss: 2.845562696456909\n",
      "training loss: 2.881486654281616\n",
      "training loss: 2.885241985321045\n",
      "training loss: 2.9351656436920166\n",
      "training loss: 2.8708910942077637\n",
      "training loss: 2.9202795028686523\n"
     ]
    },
    {
     "name": "stderr",
     "output_type": "stream",
     "text": [
      "\r",
      "training:  57%|████████████████████████████████████████████████████████████████████▏                                                   | 515/907 [20:52<22:34,  3.46s/it]"
     ]
    },
    {
     "name": "stdout",
     "output_type": "stream",
     "text": [
      "training loss: 2.9101176261901855\n",
      "training loss: 2.836496353149414\n",
      "training loss: 2.91650652885437\n",
      "validation loss: 2.888563632965088\n",
      "training loss: 2.9219329357147217\n",
      "training loss: 2.8524274826049805\n",
      "training loss: 2.8989362716674805\n",
      "training loss: 2.9400899410247803\n",
      "training loss: 2.9052951335906982\n"
     ]
    },
    {
     "name": "stderr",
     "output_type": "stream",
     "text": [
      "\r",
      "training:  58%|█████████████████████████████████████████████████████████████████████▏                                                  | 523/907 [21:05<18:33,  2.90s/it]"
     ]
    },
    {
     "name": "stdout",
     "output_type": "stream",
     "text": [
      "training loss: 2.851081609725952\n",
      "training loss: 2.908957004547119\n",
      "training loss: 2.8813862800598145\n",
      "training loss: 2.8298563957214355\n",
      "training loss: 2.836055040359497\n",
      "training loss: 2.880836248397827\n",
      "training loss: 2.909167528152466\n",
      "validation loss: 2.8584437370300293\n",
      "training loss: 2.9152519702911377\n"
     ]
    },
    {
     "name": "stderr",
     "output_type": "stream",
     "text": [
      "\r",
      "training:  59%|██████████████████████████████████████████████████████████████████████▎                                                 | 531/907 [21:16<15:10,  2.42s/it]"
     ]
    },
    {
     "name": "stdout",
     "output_type": "stream",
     "text": [
      "training loss: 2.8500618934631348\n",
      "training loss: 2.879706859588623\n",
      "training loss: 2.9130334854125977\n",
      "training loss: 2.8998324871063232\n",
      "training loss: 2.8627171516418457\n",
      "training loss: 2.912038564682007\n",
      "training loss: 2.8848962783813477\n",
      "training loss: 2.9336459636688232\n"
     ]
    },
    {
     "name": "stderr",
     "output_type": "stream",
     "text": [
      "training:  59%|███████████████████████████████████████████████████████████████████████▎                                                | 539/907 [21:31<13:52,  2.26s/it]"
     ]
    },
    {
     "name": "stdout",
     "output_type": "stream",
     "text": [
      "training loss: 2.8787779808044434\n",
      "training loss: 2.8698182106018066\n",
      "training loss: 2.9086263179779053\n",
      "validation loss: 2.880779266357422\n",
      "training loss: 2.895552396774292\n"
     ]
    },
    {
     "name": "stderr",
     "output_type": "stream",
     "text": [
      "training:  60%|███████████████████████████████████████████████████████████████████████▊                                                | 543/907 [21:51<18:50,  3.11s/it]"
     ]
    },
    {
     "name": "stdout",
     "output_type": "stream",
     "text": [
      "training loss: 2.8443167209625244\n",
      "training loss: 2.9161977767944336\n"
     ]
    },
    {
     "name": "stderr",
     "output_type": "stream",
     "text": [
      "\r",
      "training:  60%|████████████████████████████████████████████████████████████████████████                                                | 545/907 [22:02<22:29,  3.73s/it]"
     ]
    },
    {
     "name": "stdout",
     "output_type": "stream",
     "text": [
      "training loss: 2.889155149459839\n",
      "training loss: 2.8950893878936768\n"
     ]
    },
    {
     "name": "stderr",
     "output_type": "stream",
     "text": [
      "\r",
      "training:  60%|████████████████████████████████████████████████████████████████████████▎                                               | 547/907 [22:12<24:49,  4.14s/it]"
     ]
    },
    {
     "name": "stdout",
     "output_type": "stream",
     "text": [
      "training loss: 2.875265598297119\n",
      "training loss: 2.880950927734375\n",
      "training loss: 2.8753132820129395\n",
      "training loss: 2.8574979305267334\n",
      "training loss: 2.8505284786224365\n"
     ]
    },
    {
     "name": "stderr",
     "output_type": "stream",
     "text": [
      "\r",
      "training:  61%|█████████████████████████████████████████████████████████████████████████                                               | 552/907 [22:23<21:03,  3.56s/it]"
     ]
    },
    {
     "name": "stdout",
     "output_type": "stream",
     "text": [
      "training loss: 2.910949945449829\n",
      "training loss: 2.880234718322754\n",
      "validation loss: 2.892779588699341\n",
      "training loss: 2.8863823413848877\n",
      "training loss: 2.8903486728668213\n"
     ]
    },
    {
     "name": "stderr",
     "output_type": "stream",
     "text": [
      "training:  61%|█████████████████████████████████████████████████████████████████████████▌                                              | 556/907 [22:43<23:34,  4.03s/it]"
     ]
    },
    {
     "name": "stdout",
     "output_type": "stream",
     "text": [
      "training loss: 2.893415927886963\n",
      "training loss: 2.8487844467163086\n",
      "training loss: 2.9121322631835938\n"
     ]
    },
    {
     "name": "stderr",
     "output_type": "stream",
     "text": [
      "\r",
      "training:  62%|█████████████████████████████████████████████████████████████████████████▉                                              | 559/907 [22:57<24:13,  4.18s/it]"
     ]
    },
    {
     "name": "stdout",
     "output_type": "stream",
     "text": [
      "training loss: 2.8975863456726074\n",
      "training loss: 2.868427276611328\n",
      "training loss: 2.8934433460235596\n"
     ]
    },
    {
     "name": "stderr",
     "output_type": "stream",
     "text": [
      "\r",
      "training:  62%|██████████████████████████████████████████████████████████████████████████▎                                             | 562/907 [23:10<24:07,  4.19s/it]"
     ]
    },
    {
     "name": "stdout",
     "output_type": "stream",
     "text": [
      "training loss: 2.8555099964141846\n",
      "training loss: 2.894153594970703\n"
     ]
    },
    {
     "name": "stderr",
     "output_type": "stream",
     "text": [
      "training:  62%|██████████████████████████████████████████████████████████████████████████▌                                             | 564/907 [23:20<25:44,  4.50s/it]"
     ]
    },
    {
     "name": "stdout",
     "output_type": "stream",
     "text": [
      "training loss: 2.8792712688446045\n",
      "training loss: 2.890664577484131\n",
      "validation loss: 2.897091865539551\n",
      "training loss: 2.843693494796753\n"
     ]
    },
    {
     "name": "stderr",
     "output_type": "stream",
     "text": [
      "\r",
      "training:  63%|███████████████████████████████████████████████████████████████████████████                                             | 567/907 [23:33<25:26,  4.49s/it]"
     ]
    },
    {
     "name": "stdout",
     "output_type": "stream",
     "text": [
      "training loss: 2.8980836868286133\n",
      "training loss: 2.895920991897583\n",
      "training loss: 2.876096725463867\n",
      "training loss: 2.8937113285064697\n",
      "training loss: 2.8559181690216064\n"
     ]
    },
    {
     "name": "stderr",
     "output_type": "stream",
     "text": [
      "\r",
      "training:  63%|███████████████████████████████████████████████████████████████████████████▋                                            | 572/907 [23:45<21:19,  3.82s/it]"
     ]
    },
    {
     "name": "stdout",
     "output_type": "stream",
     "text": [
      "training loss: 2.8870527744293213\n",
      "training loss: 2.8969249725341797\n",
      "training loss: 2.8467185497283936\n",
      "training loss: 2.8720271587371826\n"
     ]
    },
    {
     "name": "stderr",
     "output_type": "stream",
     "text": [
      "training:  64%|████████████████████████████████████████████████████████████████████████████▏                                           | 576/907 [24:03<22:27,  4.07s/it]"
     ]
    },
    {
     "name": "stdout",
     "output_type": "stream",
     "text": [
      "training loss: 2.901853561401367\n",
      "training loss: 2.8914101123809814\n",
      "validation loss: 2.9463651180267334\n",
      "training loss: 2.9117090702056885\n"
     ]
    },
    {
     "name": "stderr",
     "output_type": "stream",
     "text": [
      "\r",
      "training:  64%|████████████████████████████████████████████████████████████████████████████▌                                           | 579/907 [24:20<24:26,  4.47s/it]"
     ]
    },
    {
     "name": "stdout",
     "output_type": "stream",
     "text": [
      "training loss: 2.87294864654541\n",
      "training loss: 2.8346147537231445\n"
     ]
    },
    {
     "name": "stderr",
     "output_type": "stream",
     "text": [
      "training:  64%|████████████████████████████████████████████████████████████████████████████▊                                           | 581/907 [24:31<26:11,  4.82s/it]"
     ]
    },
    {
     "name": "stdout",
     "output_type": "stream",
     "text": [
      "training loss: 2.8545286655426025\n",
      "training loss: 2.9028477668762207\n"
     ]
    },
    {
     "name": "stderr",
     "output_type": "stream",
     "text": [
      "\r",
      "training:  64%|█████████████████████████████████████████████████████████████████████████████▏                                          | 583/907 [24:41<26:49,  4.97s/it]"
     ]
    },
    {
     "name": "stdout",
     "output_type": "stream",
     "text": [
      "training loss: 2.8931632041931152\n",
      "training loss: 2.8356707096099854\n"
     ]
    },
    {
     "name": "stderr",
     "output_type": "stream",
     "text": [
      "\r",
      "training:  64%|█████████████████████████████████████████████████████████████████████████████▍                                          | 585/907 [24:51<26:46,  4.99s/it]"
     ]
    },
    {
     "name": "stdout",
     "output_type": "stream",
     "text": [
      "training loss: 2.8427774906158447\n",
      "training loss: 2.89929461479187\n"
     ]
    },
    {
     "name": "stderr",
     "output_type": "stream",
     "text": [
      "\r",
      "training:  65%|█████████████████████████████████████████████████████████████████████████████▋                                          | 587/907 [25:02<27:10,  5.10s/it]"
     ]
    },
    {
     "name": "stdout",
     "output_type": "stream",
     "text": [
      "training loss: 2.8517885208129883\n",
      "training loss: 2.885307788848877\n",
      "training loss: 2.8514273166656494\n",
      "validation loss: 2.8419013023376465\n"
     ]
    },
    {
     "name": "stderr",
     "output_type": "stream",
     "text": [
      "\r",
      "training:  65%|██████████████████████████████████████████████████████████████████████████████                                          | 590/907 [25:15<25:41,  4.86s/it]"
     ]
    },
    {
     "name": "stdout",
     "output_type": "stream",
     "text": [
      "training loss: 2.865323305130005\n",
      "training loss: 2.8134171962738037\n",
      "training loss: 2.933974504470825\n"
     ]
    },
    {
     "name": "stderr",
     "output_type": "stream",
     "text": [
      "\r",
      "training:  65%|██████████████████████████████████████████████████████████████████████████████▍                                         | 593/907 [25:28<24:19,  4.65s/it]"
     ]
    },
    {
     "name": "stdout",
     "output_type": "stream",
     "text": [
      "training loss: 2.8792192935943604\n",
      "training loss: 2.876804828643799\n",
      "training loss: 2.88598370552063\n"
     ]
    },
    {
     "name": "stderr",
     "output_type": "stream",
     "text": [
      "training:  66%|██████████████████████████████████████████████████████████████████████████████▊                                         | 596/907 [25:41<23:47,  4.59s/it]"
     ]
    },
    {
     "name": "stdout",
     "output_type": "stream",
     "text": [
      "training loss: 2.9031829833984375\n",
      "training loss: 2.8483994007110596\n",
      "training loss: 2.8856618404388428\n"
     ]
    },
    {
     "name": "stderr",
     "output_type": "stream",
     "text": [
      "\r",
      "training:  66%|███████████████████████████████████████████████████████████████████████████████▎                                        | 599/907 [25:54<23:20,  4.55s/it]"
     ]
    },
    {
     "name": "stdout",
     "output_type": "stream",
     "text": [
      "training loss: 2.883840322494507\n",
      "training loss: 2.902817487716675\n",
      "training loss: 2.895336627960205\n",
      "validation loss: 2.8573052883148193\n"
     ]
    },
    {
     "name": "stderr",
     "output_type": "stream",
     "text": [
      "training:  66%|███████████████████████████████████████████████████████████████████████████████▋                                        | 602/907 [26:10<24:05,  4.74s/it]"
     ]
    },
    {
     "name": "stdout",
     "output_type": "stream",
     "text": [
      "training loss: 2.8719911575317383\n",
      "training loss: 2.8657031059265137\n",
      "training loss: 2.8521323204040527\n"
     ]
    },
    {
     "name": "stderr",
     "output_type": "stream",
     "text": [
      "\r",
      "training:  67%|████████████████████████████████████████████████████████████████████████████████                                        | 605/907 [26:24<24:01,  4.77s/it]"
     ]
    },
    {
     "name": "stdout",
     "output_type": "stream",
     "text": [
      "training loss: 2.870455741882324\n",
      "training loss: 2.8873636722564697\n",
      "training loss: 2.839672327041626\n"
     ]
    },
    {
     "name": "stderr",
     "output_type": "stream",
     "text": [
      "training:  67%|████████████████████████████████████████████████████████████████████████████████▍                                       | 608/907 [26:40<24:19,  4.88s/it]"
     ]
    },
    {
     "name": "stdout",
     "output_type": "stream",
     "text": [
      "training loss: 2.8800811767578125\n",
      "training loss: 2.817471981048584\n",
      "training loss: 2.8741159439086914\n"
     ]
    },
    {
     "name": "stderr",
     "output_type": "stream",
     "text": [
      "\r",
      "training:  67%|████████████████████████████████████████████████████████████████████████████████▊                                       | 611/907 [26:54<24:03,  4.88s/it]"
     ]
    },
    {
     "name": "stdout",
     "output_type": "stream",
     "text": [
      "training loss: 2.920530319213867\n",
      "training loss: 2.8737430572509766\n",
      "training loss: 2.906667470932007\n",
      "validation loss: 2.9331138134002686\n"
     ]
    },
    {
     "name": "stderr",
     "output_type": "stream",
     "text": [
      "\r",
      "training:  68%|█████████████████████████████████████████████████████████████████████████████████▏                                      | 614/907 [27:08<23:24,  4.79s/it]"
     ]
    },
    {
     "name": "stdout",
     "output_type": "stream",
     "text": [
      "training loss: 2.859630584716797\n",
      "training loss: 2.869201898574829\n",
      "training loss: 2.9347262382507324\n"
     ]
    },
    {
     "name": "stderr",
     "output_type": "stream",
     "text": [
      "training:  68%|█████████████████████████████████████████████████████████████████████████████████▋                                      | 617/907 [27:22<22:49,  4.72s/it]"
     ]
    },
    {
     "name": "stdout",
     "output_type": "stream",
     "text": [
      "training loss: 2.8871805667877197\n",
      "training loss: 2.85536527633667\n",
      "training loss: 2.9524872303009033\n"
     ]
    },
    {
     "name": "stderr",
     "output_type": "stream",
     "text": [
      "\r",
      "training:  68%|██████████████████████████████████████████████████████████████████████████████████                                      | 620/907 [27:35<22:16,  4.66s/it]"
     ]
    },
    {
     "name": "stdout",
     "output_type": "stream",
     "text": [
      "training loss: 2.9555747509002686\n",
      "training loss: 2.8996691703796387\n",
      "training loss: 2.8757684230804443\n"
     ]
    },
    {
     "name": "stderr",
     "output_type": "stream",
     "text": [
      "\r",
      "training:  69%|██████████████████████████████████████████████████████████████████████████████████▍                                     | 623/907 [27:49<21:50,  4.61s/it]"
     ]
    },
    {
     "name": "stdout",
     "output_type": "stream",
     "text": [
      "training loss: 2.8588736057281494\n",
      "training loss: 2.867924213409424\n",
      "training loss: 2.8502917289733887\n",
      "validation loss: 2.8635408878326416\n"
     ]
    },
    {
     "name": "stderr",
     "output_type": "stream",
     "text": [
      "training:  69%|██████████████████████████████████████████████████████████████████████████████████▊                                     | 626/907 [28:03<21:38,  4.62s/it]"
     ]
    },
    {
     "name": "stdout",
     "output_type": "stream",
     "text": [
      "training loss: 2.8993470668792725\n",
      "training loss: 2.918877601623535\n",
      "training loss: 2.9074554443359375\n"
     ]
    },
    {
     "name": "stderr",
     "output_type": "stream",
     "text": [
      "\r",
      "training:  69%|███████████████████████████████████████████████████████████████████████████████████▏                                    | 629/907 [28:16<21:16,  4.59s/it]"
     ]
    },
    {
     "name": "stdout",
     "output_type": "stream",
     "text": [
      "training loss: 2.888015031814575\n",
      "training loss: 2.8698487281799316\n",
      "training loss: 2.851712942123413\n"
     ]
    },
    {
     "name": "stderr",
     "output_type": "stream",
     "text": [
      "training:  70%|███████████████████████████████████████████████████████████████████████████████████▌                                    | 632/907 [28:30<20:56,  4.57s/it]"
     ]
    },
    {
     "name": "stdout",
     "output_type": "stream",
     "text": [
      "training loss: 2.8831517696380615\n",
      "training loss: 2.8957526683807373\n",
      "training loss: 2.8421242237091064\n"
     ]
    },
    {
     "name": "stderr",
     "output_type": "stream",
     "text": [
      "\r",
      "training:  70%|████████████████████████████████████████████████████████████████████████████████████                                    | 635/907 [28:44<20:38,  4.55s/it]"
     ]
    },
    {
     "name": "stdout",
     "output_type": "stream",
     "text": [
      "training loss: 2.879925489425659\n",
      "training loss: 2.8905279636383057\n",
      "training loss: 2.87764835357666\n",
      "validation loss: 2.8740246295928955\n"
     ]
    },
    {
     "name": "stderr",
     "output_type": "stream",
     "text": [
      "\r",
      "training:  70%|████████████████████████████████████████████████████████████████████████████████████▍                                   | 638/907 [28:57<20:32,  4.58s/it]"
     ]
    },
    {
     "name": "stdout",
     "output_type": "stream",
     "text": [
      "training loss: 2.8563790321350098\n",
      "training loss: 2.915262222290039\n",
      "training loss: 2.9800281524658203\n"
     ]
    },
    {
     "name": "stderr",
     "output_type": "stream",
     "text": [
      "training:  71%|████████████████████████████████████████████████████████████████████████████████████▊                                   | 641/907 [29:11<20:13,  4.56s/it]"
     ]
    },
    {
     "name": "stdout",
     "output_type": "stream",
     "text": [
      "training loss: 2.911316394805908\n",
      "training loss: 2.881932258605957\n",
      "training loss: 2.8568215370178223\n"
     ]
    },
    {
     "name": "stderr",
     "output_type": "stream",
     "text": [
      "\r",
      "training:  71%|█████████████████████████████████████████████████████████████████████████████████████▏                                  | 644/907 [29:25<19:57,  4.55s/it]"
     ]
    },
    {
     "name": "stdout",
     "output_type": "stream",
     "text": [
      "training loss: 2.8359568119049072\n",
      "training loss: 2.870682716369629\n",
      "training loss: 2.8915231227874756\n"
     ]
    },
    {
     "name": "stderr",
     "output_type": "stream",
     "text": [
      "\r",
      "training:  71%|█████████████████████████████████████████████████████████████████████████████████████▌                                  | 647/907 [29:38<19:41,  4.54s/it]"
     ]
    },
    {
     "name": "stdout",
     "output_type": "stream",
     "text": [
      "training loss: 2.8941659927368164\n",
      "training loss: 2.8152472972869873\n",
      "training loss: 2.8748090267181396\n",
      "validation loss: 2.847166061401367\n"
     ]
    },
    {
     "name": "stderr",
     "output_type": "stream",
     "text": [
      "training:  72%|█████████████████████████████████████████████████████████████████████████████████████▉                                  | 650/907 [29:52<19:34,  4.57s/it]"
     ]
    },
    {
     "name": "stdout",
     "output_type": "stream",
     "text": [
      "training loss: 2.879742383956909\n",
      "training loss: 2.8657350540161133\n",
      "training loss: 2.9293296337127686\n"
     ]
    },
    {
     "name": "stderr",
     "output_type": "stream",
     "text": [
      "\r",
      "training:  72%|██████████████████████████████████████████████████████████████████████████████████████▍                                 | 653/907 [30:06<19:17,  4.56s/it]"
     ]
    },
    {
     "name": "stdout",
     "output_type": "stream",
     "text": [
      "training loss: 2.8801350593566895\n",
      "training loss: 2.8586807250976562\n",
      "training loss: 2.949192762374878\n"
     ]
    },
    {
     "name": "stderr",
     "output_type": "stream",
     "text": [
      "\r",
      "training:  72%|██████████████████████████████████████████████████████████████████████████████████████▊                                 | 656/907 [30:19<19:00,  4.55s/it]"
     ]
    },
    {
     "name": "stdout",
     "output_type": "stream",
     "text": [
      "training loss: 2.9184377193450928\n",
      "training loss: 2.8668854236602783\n",
      "training loss: 2.9088902473449707\n"
     ]
    },
    {
     "name": "stderr",
     "output_type": "stream",
     "text": [
      "training:  73%|███████████████████████████████████████████████████████████████████████████████████████▏                                | 659/907 [30:33<18:45,  4.54s/it]"
     ]
    },
    {
     "name": "stdout",
     "output_type": "stream",
     "text": [
      "training loss: 2.86435604095459\n",
      "training loss: 2.927790641784668\n",
      "training loss: 2.9255640506744385\n",
      "validation loss: 2.8766393661499023\n"
     ]
    },
    {
     "name": "stderr",
     "output_type": "stream",
     "text": [
      "\r",
      "training:  73%|███████████████████████████████████████████████████████████████████████████████████████▌                                | 662/907 [30:47<18:39,  4.57s/it]"
     ]
    },
    {
     "name": "stdout",
     "output_type": "stream",
     "text": [
      "training loss: 2.862375497817993\n",
      "training loss: 2.8110101222991943\n",
      "training loss: 2.846287727355957\n"
     ]
    },
    {
     "name": "stderr",
     "output_type": "stream",
     "text": [
      "training:  73%|███████████████████████████████████████████████████████████████████████████████████████▉                                | 665/907 [31:00<18:21,  4.55s/it]"
     ]
    },
    {
     "name": "stdout",
     "output_type": "stream",
     "text": [
      "training loss: 2.9181079864501953\n",
      "training loss: 2.892242908477783\n",
      "training loss: 2.897073745727539\n"
     ]
    },
    {
     "name": "stderr",
     "output_type": "stream",
     "text": [
      "\r",
      "training:  74%|████████████████████████████████████████████████████████████████████████████████████████▍                               | 668/907 [31:14<18:05,  4.54s/it]"
     ]
    },
    {
     "name": "stdout",
     "output_type": "stream",
     "text": [
      "training loss: 2.8840503692626953\n",
      "training loss: 2.915344715118408\n",
      "training loss: 2.8624744415283203\n"
     ]
    },
    {
     "name": "stderr",
     "output_type": "stream",
     "text": [
      "\r",
      "training:  74%|████████████████████████████████████████████████████████████████████████████████████████▊                               | 671/907 [31:27<17:49,  4.53s/it]"
     ]
    },
    {
     "name": "stdout",
     "output_type": "stream",
     "text": [
      "training loss: 2.8690707683563232\n",
      "training loss: 2.851309061050415\n",
      "training loss: 2.8464770317077637\n",
      "validation loss: 2.8938019275665283\n"
     ]
    },
    {
     "name": "stderr",
     "output_type": "stream",
     "text": [
      "training:  74%|█████████████████████████████████████████████████████████████████████████████████████████▏                              | 674/907 [31:41<17:42,  4.56s/it]"
     ]
    },
    {
     "name": "stdout",
     "output_type": "stream",
     "text": [
      "training loss: 2.919443368911743\n",
      "training loss: 2.8900952339172363\n",
      "training loss: 2.8734560012817383\n"
     ]
    },
    {
     "name": "stderr",
     "output_type": "stream",
     "text": [
      "\r",
      "training:  75%|█████████████████████████████████████████████████████████████████████████████████████████▌                              | 677/907 [31:55<17:25,  4.55s/it]"
     ]
    },
    {
     "name": "stdout",
     "output_type": "stream",
     "text": [
      "training loss: 2.893939733505249\n",
      "training loss: 2.87458872795105\n",
      "training loss: 2.9037742614746094\n"
     ]
    },
    {
     "name": "stderr",
     "output_type": "stream",
     "text": [
      "\r",
      "training:  75%|█████████████████████████████████████████████████████████████████████████████████████████▉                              | 680/907 [32:08<17:09,  4.54s/it]"
     ]
    },
    {
     "name": "stdout",
     "output_type": "stream",
     "text": [
      "training loss: 2.900723695755005\n",
      "training loss: 2.9050073623657227\n",
      "training loss: 2.84314227104187\n"
     ]
    },
    {
     "name": "stderr",
     "output_type": "stream",
     "text": [
      "training:  75%|██████████████████████████████████████████████████████████████████████████████████████████▎                             | 683/907 [32:22<16:54,  4.53s/it]"
     ]
    },
    {
     "name": "stdout",
     "output_type": "stream",
     "text": [
      "training loss: 2.882084846496582\n",
      "training loss: 2.8913497924804688\n",
      "training loss: 2.9047110080718994\n",
      "validation loss: 2.893441677093506\n"
     ]
    },
    {
     "name": "stderr",
     "output_type": "stream",
     "text": [
      "\r",
      "training:  76%|██████████████████████████████████████████████████████████████████████████████████████████▊                             | 686/907 [32:36<16:48,  4.56s/it]"
     ]
    },
    {
     "name": "stdout",
     "output_type": "stream",
     "text": [
      "training loss: 2.903806447982788\n",
      "training loss: 2.886535882949829\n",
      "training loss: 2.844341278076172\n"
     ]
    },
    {
     "name": "stderr",
     "output_type": "stream",
     "text": [
      "\r",
      "training:  76%|███████████████████████████████████████████████████████████████████████████████████████████▏                            | 689/907 [32:49<16:26,  4.52s/it]"
     ]
    },
    {
     "name": "stdout",
     "output_type": "stream",
     "text": [
      "training loss: 2.835916757583618\n",
      "training loss: 2.8848876953125\n",
      "training loss: 2.8792991638183594\n"
     ]
    },
    {
     "name": "stderr",
     "output_type": "stream",
     "text": [
      "training:  76%|███████████████████████████████████████████████████████████████████████████████████████████▌                            | 692/907 [33:02<16:07,  4.50s/it]"
     ]
    },
    {
     "name": "stdout",
     "output_type": "stream",
     "text": [
      "training loss: 2.8577523231506348\n",
      "training loss: 2.897575855255127\n",
      "training loss: 2.9259963035583496\n"
     ]
    },
    {
     "name": "stderr",
     "output_type": "stream",
     "text": [
      "\r",
      "training:  77%|███████████████████████████████████████████████████████████████████████████████████████████▉                            | 695/907 [33:16<15:55,  4.51s/it]"
     ]
    },
    {
     "name": "stdout",
     "output_type": "stream",
     "text": [
      "training loss: 2.9331231117248535\n",
      "training loss: 2.8230772018432617\n",
      "training loss: 2.880519151687622\n",
      "validation loss: 2.852851152420044\n"
     ]
    },
    {
     "name": "stderr",
     "output_type": "stream",
     "text": [
      "training:  77%|████████████████████████████████████████████████████████████████████████████████████████████▎                           | 698/907 [33:30<15:49,  4.55s/it]"
     ]
    },
    {
     "name": "stdout",
     "output_type": "stream",
     "text": [
      "training loss: 2.8950135707855225\n",
      "training loss: 2.8644986152648926\n",
      "training loss: 2.8411920070648193\n"
     ]
    },
    {
     "name": "stderr",
     "output_type": "stream",
     "text": [
      "\r",
      "training:  77%|████████████████████████████████████████████████████████████████████████████████████████████▋                           | 701/907 [33:43<15:33,  4.53s/it]"
     ]
    },
    {
     "name": "stdout",
     "output_type": "stream",
     "text": [
      "training loss: 2.913834810256958\n",
      "training loss: 2.877959966659546\n",
      "training loss: 2.917069673538208\n"
     ]
    },
    {
     "name": "stderr",
     "output_type": "stream",
     "text": [
      "\r",
      "training:  78%|█████████████████████████████████████████████████████████████████████████████████████████████▏                          | 704/907 [33:57<15:18,  4.52s/it]"
     ]
    },
    {
     "name": "stdout",
     "output_type": "stream",
     "text": [
      "training loss: 2.8630762100219727\n",
      "training loss: 2.8860182762145996\n",
      "training loss: 2.833221673965454\n"
     ]
    },
    {
     "name": "stderr",
     "output_type": "stream",
     "text": [
      "training:  78%|█████████████████████████████████████████████████████████████████████████████████████████████▌                          | 707/907 [34:10<15:03,  4.52s/it]"
     ]
    },
    {
     "name": "stdout",
     "output_type": "stream",
     "text": [
      "training loss: 2.849482774734497\n",
      "training loss: 2.9051904678344727\n",
      "training loss: 2.8894457817077637\n",
      "validation loss: 2.927018165588379\n"
     ]
    },
    {
     "name": "stderr",
     "output_type": "stream",
     "text": [
      "\r",
      "training:  78%|█████████████████████████████████████████████████████████████████████████████████████████████▉                          | 710/907 [34:24<14:57,  4.55s/it]"
     ]
    },
    {
     "name": "stdout",
     "output_type": "stream",
     "text": [
      "training loss: 2.9095962047576904\n",
      "training loss: 2.855168342590332\n",
      "training loss: 2.90022873878479\n"
     ]
    },
    {
     "name": "stderr",
     "output_type": "stream",
     "text": [
      "\r",
      "training:  79%|██████████████████████████████████████████████████████████████████████████████████████████████▎                         | 713/907 [34:38<14:41,  4.54s/it]"
     ]
    },
    {
     "name": "stdout",
     "output_type": "stream",
     "text": [
      "training loss: 2.89271879196167\n",
      "training loss: 2.861539602279663\n",
      "training loss: 2.9456593990325928\n"
     ]
    },
    {
     "name": "stderr",
     "output_type": "stream",
     "text": [
      "training:  79%|██████████████████████████████████████████████████████████████████████████████████████████████▋                         | 716/907 [34:51<14:25,  4.53s/it]"
     ]
    },
    {
     "name": "stdout",
     "output_type": "stream",
     "text": [
      "training loss: 2.8960862159729004\n",
      "training loss: 2.850437641143799\n",
      "training loss: 2.8655316829681396\n"
     ]
    },
    {
     "name": "stderr",
     "output_type": "stream",
     "text": [
      "\r",
      "training:  79%|███████████████████████████████████████████████████████████████████████████████████████████████▏                        | 719/907 [35:05<14:10,  4.53s/it]"
     ]
    },
    {
     "name": "stdout",
     "output_type": "stream",
     "text": [
      "training loss: 2.874885082244873\n",
      "training loss: 2.844062089920044\n",
      "training loss: 2.9258179664611816\n",
      "validation loss: 2.8751583099365234\n"
     ]
    },
    {
     "name": "stderr",
     "output_type": "stream",
     "text": [
      "\r",
      "training:  80%|███████████████████████████████████████████████████████████████████████████████████████████████▌                        | 722/907 [35:19<14:03,  4.56s/it]"
     ]
    },
    {
     "name": "stdout",
     "output_type": "stream",
     "text": [
      "training loss: 2.8241236209869385\n",
      "training loss: 2.860442876815796\n",
      "training loss: 2.880701780319214\n"
     ]
    },
    {
     "name": "stderr",
     "output_type": "stream",
     "text": [
      "training:  80%|███████████████████████████████████████████████████████████████████████████████████████████████▉                        | 725/907 [35:32<13:47,  4.55s/it]"
     ]
    },
    {
     "name": "stdout",
     "output_type": "stream",
     "text": [
      "training loss: 2.935576915740967\n",
      "training loss: 2.8823883533477783\n",
      "training loss: 2.8421730995178223\n"
     ]
    },
    {
     "name": "stderr",
     "output_type": "stream",
     "text": [
      "\r",
      "training:  80%|████████████████████████████████████████████████████████████████████████████████████████████████▎                       | 728/907 [35:46<13:31,  4.53s/it]"
     ]
    },
    {
     "name": "stdout",
     "output_type": "stream",
     "text": [
      "training loss: 2.881112813949585\n",
      "training loss: 2.8794612884521484\n",
      "training loss: 2.8874807357788086\n"
     ]
    },
    {
     "name": "stderr",
     "output_type": "stream",
     "text": [
      "\r",
      "training:  81%|████████████████████████████████████████████████████████████████████████████████████████████████▋                       | 731/907 [35:59<13:16,  4.53s/it]"
     ]
    },
    {
     "name": "stdout",
     "output_type": "stream",
     "text": [
      "training loss: 2.8884544372558594\n",
      "training loss: 2.8748934268951416\n",
      "training loss: 2.871425151824951\n",
      "validation loss: 2.8360869884490967\n"
     ]
    },
    {
     "name": "stderr",
     "output_type": "stream",
     "text": [
      "training:  81%|█████████████████████████████████████████████████████████████████████████████████████████████████                       | 734/907 [36:13<13:09,  4.56s/it]"
     ]
    },
    {
     "name": "stdout",
     "output_type": "stream",
     "text": [
      "training loss: 2.8859360218048096\n",
      "training loss: 2.848968982696533\n",
      "training loss: 2.900202512741089\n"
     ]
    },
    {
     "name": "stderr",
     "output_type": "stream",
     "text": [
      "\r",
      "training:  81%|█████████████████████████████████████████████████████████████████████████████████████████████████▌                      | 737/907 [36:27<12:52,  4.55s/it]"
     ]
    },
    {
     "name": "stdout",
     "output_type": "stream",
     "text": [
      "training loss: 2.8958678245544434\n",
      "training loss: 2.8865396976470947\n",
      "training loss: 2.8781216144561768\n"
     ]
    },
    {
     "name": "stderr",
     "output_type": "stream",
     "text": [
      "training:  82%|█████████████████████████████████████████████████████████████████████████████████████████████████▉                      | 740/907 [36:40<12:37,  4.54s/it]"
     ]
    },
    {
     "name": "stdout",
     "output_type": "stream",
     "text": [
      "training loss: 2.939389228820801\n",
      "training loss: 2.9038093090057373\n",
      "training loss: 2.826831102371216\n"
     ]
    },
    {
     "name": "stderr",
     "output_type": "stream",
     "text": [
      "\r",
      "training:  82%|██████████████████████████████████████████████████████████████████████████████████████████████████▎                     | 743/907 [36:54<12:23,  4.53s/it]"
     ]
    },
    {
     "name": "stdout",
     "output_type": "stream",
     "text": [
      "training loss: 2.887540102005005\n",
      "training loss: 2.860321044921875\n",
      "training loss: 2.8806135654449463\n",
      "validation loss: 2.879859447479248\n"
     ]
    },
    {
     "name": "stderr",
     "output_type": "stream",
     "text": [
      "\r",
      "training:  82%|██████████████████████████████████████████████████████████████████████████████████████████████████▋                     | 746/907 [37:08<12:14,  4.56s/it]"
     ]
    },
    {
     "name": "stdout",
     "output_type": "stream",
     "text": [
      "training loss: 2.8572843074798584\n",
      "training loss: 2.8230090141296387\n",
      "training loss: 2.8683931827545166\n"
     ]
    },
    {
     "name": "stderr",
     "output_type": "stream",
     "text": [
      "training:  83%|███████████████████████████████████████████████████████████████████████████████████████████████████                     | 749/907 [37:21<11:58,  4.55s/it]"
     ]
    },
    {
     "name": "stdout",
     "output_type": "stream",
     "text": [
      "training loss: 2.897517681121826\n",
      "training loss: 2.851323127746582\n",
      "training loss: 2.9547793865203857\n"
     ]
    },
    {
     "name": "stderr",
     "output_type": "stream",
     "text": [
      "\r",
      "training:  83%|███████████████████████████████████████████████████████████████████████████████████████████████████▍                    | 752/907 [37:35<11:43,  4.54s/it]"
     ]
    },
    {
     "name": "stdout",
     "output_type": "stream",
     "text": [
      "training loss: 2.8668789863586426\n",
      "training loss: 2.912353754043579\n",
      "training loss: 2.8638150691986084\n"
     ]
    },
    {
     "name": "stderr",
     "output_type": "stream",
     "text": [
      "\r",
      "training:  83%|███████████████████████████████████████████████████████████████████████████████████████████████████▉                    | 755/907 [37:48<11:28,  4.53s/it]"
     ]
    },
    {
     "name": "stdout",
     "output_type": "stream",
     "text": [
      "training loss: 2.883880853652954\n",
      "training loss: 2.894017457962036\n",
      "training loss: 2.826756238937378\n",
      "validation loss: 2.871279716491699\n"
     ]
    },
    {
     "name": "stderr",
     "output_type": "stream",
     "text": [
      "training:  84%|████████████████████████████████████████████████████████████████████████████████████████████████████▎                   | 758/907 [38:02<11:20,  4.57s/it]"
     ]
    },
    {
     "name": "stdout",
     "output_type": "stream",
     "text": [
      "training loss: 2.8765408992767334\n",
      "training loss: 2.9116127490997314\n",
      "training loss: 2.8661701679229736\n"
     ]
    },
    {
     "name": "stderr",
     "output_type": "stream",
     "text": [
      "\r",
      "training:  84%|████████████████████████████████████████████████████████████████████████████████████████████████████▋                   | 761/907 [38:16<11:04,  4.55s/it]"
     ]
    },
    {
     "name": "stdout",
     "output_type": "stream",
     "text": [
      "training loss: 2.8577229976654053\n",
      "training loss: 2.9191367626190186\n",
      "training loss: 2.9109604358673096\n"
     ]
    },
    {
     "name": "stderr",
     "output_type": "stream",
     "text": [
      "\r",
      "training:  84%|█████████████████████████████████████████████████████████████████████████████████████████████████████                   | 764/907 [38:30<10:49,  4.54s/it]"
     ]
    },
    {
     "name": "stdout",
     "output_type": "stream",
     "text": [
      "training loss: 2.8909952640533447\n",
      "training loss: 2.8654556274414062\n",
      "training loss: 2.8634390830993652\n"
     ]
    },
    {
     "name": "stderr",
     "output_type": "stream",
     "text": [
      "training:  85%|█████████████████████████████████████████████████████████████████████████████████████████████████████▍                  | 767/907 [38:43<10:34,  4.53s/it]"
     ]
    },
    {
     "name": "stdout",
     "output_type": "stream",
     "text": [
      "training loss: 2.8334743976593018\n",
      "training loss: 2.891731023788452\n",
      "training loss: 2.8987574577331543\n",
      "validation loss: 2.9038124084472656\n"
     ]
    },
    {
     "name": "stderr",
     "output_type": "stream",
     "text": [
      "\r",
      "training:  85%|█████████████████████████████████████████████████████████████████████████████████████████████████████▊                  | 770/907 [38:57<10:25,  4.56s/it]"
     ]
    },
    {
     "name": "stdout",
     "output_type": "stream",
     "text": [
      "training loss: 2.8478760719299316\n",
      "training loss: 2.87601900100708\n",
      "training loss: 2.873746871948242\n"
     ]
    },
    {
     "name": "stderr",
     "output_type": "stream",
     "text": [
      "training:  85%|██████████████████████████████████████████████████████████████████████████████████████████████████████▎                 | 773/907 [39:11<10:10,  4.55s/it]"
     ]
    },
    {
     "name": "stdout",
     "output_type": "stream",
     "text": [
      "training loss: 2.8761532306671143\n",
      "training loss: 2.879194736480713\n",
      "training loss: 2.933920383453369\n"
     ]
    },
    {
     "name": "stderr",
     "output_type": "stream",
     "text": [
      "\r",
      "training:  86%|██████████████████████████████████████████████████████████████████████████████████████████████████████▋                 | 776/907 [39:24<09:55,  4.54s/it]"
     ]
    },
    {
     "name": "stdout",
     "output_type": "stream",
     "text": [
      "training loss: 2.8945364952087402\n",
      "training loss: 2.9095630645751953\n",
      "training loss: 2.8384196758270264\n"
     ]
    },
    {
     "name": "stderr",
     "output_type": "stream",
     "text": [
      "\r",
      "training:  86%|███████████████████████████████████████████████████████████████████████████████████████████████████████                 | 779/907 [39:38<09:40,  4.53s/it]"
     ]
    },
    {
     "name": "stdout",
     "output_type": "stream",
     "text": [
      "training loss: 2.8926916122436523\n",
      "training loss: 2.8937325477600098\n",
      "training loss: 2.87843918800354\n",
      "validation loss: 2.868037700653076\n"
     ]
    },
    {
     "name": "stderr",
     "output_type": "stream",
     "text": [
      "training:  86%|███████████████████████████████████████████████████████████████████████████████████████████████████████▍                | 782/907 [39:52<09:30,  4.56s/it]"
     ]
    },
    {
     "name": "stdout",
     "output_type": "stream",
     "text": [
      "training loss: 2.8849940299987793\n",
      "training loss: 2.8757951259613037\n",
      "training loss: 2.869260549545288\n"
     ]
    },
    {
     "name": "stderr",
     "output_type": "stream",
     "text": [
      "\r",
      "training:  87%|███████████████████████████████████████████████████████████████████████████████████████████████████████▊                | 785/907 [40:05<09:15,  4.55s/it]"
     ]
    },
    {
     "name": "stdout",
     "output_type": "stream",
     "text": [
      "training loss: 2.900930643081665\n",
      "training loss: 2.848928928375244\n",
      "training loss: 2.8208305835723877\n"
     ]
    },
    {
     "name": "stderr",
     "output_type": "stream",
     "text": [
      "\r",
      "training:  87%|████████████████████████████████████████████████████████████████████████████████████████████████████████▎               | 788/907 [40:19<09:00,  4.54s/it]"
     ]
    },
    {
     "name": "stdout",
     "output_type": "stream",
     "text": [
      "training loss: 2.8417775630950928\n",
      "training loss: 2.8564834594726562\n",
      "training loss: 2.8488266468048096\n"
     ]
    },
    {
     "name": "stderr",
     "output_type": "stream",
     "text": [
      "training:  87%|████████████████████████████████████████████████████████████████████████████████████████████████████████▋               | 791/907 [40:32<08:45,  4.53s/it]"
     ]
    },
    {
     "name": "stdout",
     "output_type": "stream",
     "text": [
      "training loss: 2.8351001739501953\n",
      "training loss: 2.911334991455078\n",
      "training loss: 2.959150552749634\n",
      "validation loss: 2.9701242446899414\n"
     ]
    },
    {
     "name": "stderr",
     "output_type": "stream",
     "text": [
      "\r",
      "training:  88%|█████████████████████████████████████████████████████████████████████████████████████████████████████████               | 794/907 [40:46<08:35,  4.56s/it]"
     ]
    },
    {
     "name": "stdout",
     "output_type": "stream",
     "text": [
      "training loss: 2.875399112701416\n",
      "training loss: 2.8305299282073975\n",
      "training loss: 2.848696231842041\n"
     ]
    },
    {
     "name": "stderr",
     "output_type": "stream",
     "text": [
      "training:  88%|█████████████████████████████████████████████████████████████████████████████████████████████████████████▍              | 797/907 [41:00<08:20,  4.55s/it]"
     ]
    },
    {
     "name": "stdout",
     "output_type": "stream",
     "text": [
      "training loss: 2.8776628971099854\n",
      "training loss: 2.8492822647094727\n",
      "training loss: 2.890481472015381\n"
     ]
    },
    {
     "name": "stderr",
     "output_type": "stream",
     "text": [
      "\r",
      "training:  88%|█████████████████████████████████████████████████████████████████████████████████████████████████████████▊              | 800/907 [41:13<08:05,  4.54s/it]"
     ]
    },
    {
     "name": "stdout",
     "output_type": "stream",
     "text": [
      "training loss: 2.8566596508026123\n",
      "training loss: 2.8324368000030518\n",
      "training loss: 2.858917713165283\n"
     ]
    },
    {
     "name": "stderr",
     "output_type": "stream",
     "text": [
      "\r",
      "training:  89%|██████████████████████████████████████████████████████████████████████████████████████████████████████████▏             | 803/907 [41:27<07:51,  4.53s/it]"
     ]
    },
    {
     "name": "stdout",
     "output_type": "stream",
     "text": [
      "training loss: 2.881067991256714\n",
      "training loss: 2.887155532836914\n",
      "training loss: 2.8256514072418213\n",
      "validation loss: 2.8836684226989746\n"
     ]
    },
    {
     "name": "stderr",
     "output_type": "stream",
     "text": [
      "training:  89%|██████████████████████████████████████████████████████████████████████████████████████████████████████████▋             | 806/907 [41:41<07:41,  4.57s/it]"
     ]
    },
    {
     "name": "stdout",
     "output_type": "stream",
     "text": [
      "training loss: 2.8433477878570557\n",
      "training loss: 2.867330551147461\n",
      "training loss: 2.889028310775757\n"
     ]
    },
    {
     "name": "stderr",
     "output_type": "stream",
     "text": [
      "\r",
      "training:  89%|███████████████████████████████████████████████████████████████████████████████████████████████████████████             | 809/907 [41:54<07:25,  4.55s/it]"
     ]
    },
    {
     "name": "stdout",
     "output_type": "stream",
     "text": [
      "training loss: 2.917426586151123\n",
      "training loss: 2.884826421737671\n",
      "training loss: 2.86376690864563\n"
     ]
    },
    {
     "name": "stderr",
     "output_type": "stream",
     "text": [
      "\r",
      "training:  90%|███████████████████████████████████████████████████████████████████████████████████████████████████████████▍            | 812/907 [42:07<07:07,  4.50s/it]"
     ]
    },
    {
     "name": "stdout",
     "output_type": "stream",
     "text": [
      "training loss: 2.8739981651306152\n",
      "training loss: 2.8588201999664307\n",
      "training loss: 2.928274393081665\n"
     ]
    },
    {
     "name": "stderr",
     "output_type": "stream",
     "text": [
      "training:  90%|███████████████████████████████████████████████████████████████████████████████████████████████████████████▊            | 815/907 [42:21<06:54,  4.50s/it]"
     ]
    },
    {
     "name": "stdout",
     "output_type": "stream",
     "text": [
      "training loss: 2.9205963611602783\n",
      "training loss: 2.8660757541656494\n",
      "training loss: 2.8822736740112305\n",
      "validation loss: 2.9171080589294434\n"
     ]
    },
    {
     "name": "stderr",
     "output_type": "stream",
     "text": [
      "\r",
      "training:  90%|████████████████████████████████████████████████████████████████████████████████████████████████████████████▏           | 818/907 [42:35<06:44,  4.55s/it]"
     ]
    },
    {
     "name": "stdout",
     "output_type": "stream",
     "text": [
      "training loss: 2.868997097015381\n",
      "training loss: 2.8849613666534424\n",
      "training loss: 2.8949129581451416\n"
     ]
    },
    {
     "name": "stderr",
     "output_type": "stream",
     "text": [
      "\r",
      "training:  91%|████████████████████████████████████████████████████████████████████████████████████████████████████████████▌           | 821/907 [42:48<06:29,  4.53s/it]"
     ]
    },
    {
     "name": "stdout",
     "output_type": "stream",
     "text": [
      "training loss: 2.889744520187378\n",
      "training loss: 2.8857977390289307\n",
      "training loss: 2.8942582607269287\n"
     ]
    },
    {
     "name": "stderr",
     "output_type": "stream",
     "text": [
      "training:  91%|█████████████████████████████████████████████████████████████████████████████████████████████████████████████           | 824/907 [43:02<06:15,  4.53s/it]"
     ]
    },
    {
     "name": "stdout",
     "output_type": "stream",
     "text": [
      "training loss: 2.941317081451416\n",
      "training loss: 2.8748674392700195\n",
      "training loss: 2.8803632259368896\n"
     ]
    },
    {
     "name": "stderr",
     "output_type": "stream",
     "text": [
      "\r",
      "training:  91%|█████████████████████████████████████████████████████████████████████████████████████████████████████████████▍          | 827/907 [43:15<06:01,  4.52s/it]"
     ]
    },
    {
     "name": "stdout",
     "output_type": "stream",
     "text": [
      "training loss: 2.904575824737549\n",
      "training loss: 2.93295955657959\n",
      "training loss: 2.855548858642578\n",
      "validation loss: 2.863267183303833\n"
     ]
    },
    {
     "name": "stderr",
     "output_type": "stream",
     "text": [
      "\r",
      "training:  92%|█████████████████████████████████████████████████████████████████████████████████████████████████████████████▊          | 830/907 [43:29<05:50,  4.56s/it]"
     ]
    },
    {
     "name": "stdout",
     "output_type": "stream",
     "text": [
      "training loss: 2.848625898361206\n",
      "training loss: 2.880112409591675\n",
      "training loss: 2.922576665878296\n"
     ]
    },
    {
     "name": "stderr",
     "output_type": "stream",
     "text": [
      "training:  92%|██████████████████████████████████████████████████████████████████████████████████████████████████████████████▏         | 833/907 [43:43<05:36,  4.54s/it]"
     ]
    },
    {
     "name": "stdout",
     "output_type": "stream",
     "text": [
      "training loss: 2.888126850128174\n",
      "training loss: 2.996060609817505\n",
      "training loss: 2.85243558883667\n"
     ]
    },
    {
     "name": "stderr",
     "output_type": "stream",
     "text": [
      "\r",
      "training:  92%|██████████████████████████████████████████████████████████████████████████████████████████████████████████████▌         | 836/907 [43:56<05:22,  4.54s/it]"
     ]
    },
    {
     "name": "stdout",
     "output_type": "stream",
     "text": [
      "training loss: 2.889340400695801\n",
      "training loss: 2.898106098175049\n",
      "training loss: 2.920578956604004\n"
     ]
    },
    {
     "name": "stderr",
     "output_type": "stream",
     "text": [
      "training:  93%|███████████████████████████████████████████████████████████████████████████████████████████████████████████████         | 839/907 [44:10<05:08,  4.54s/it]"
     ]
    },
    {
     "name": "stdout",
     "output_type": "stream",
     "text": [
      "training loss: 2.9005675315856934\n",
      "training loss: 2.999135971069336\n",
      "training loss: 2.9038641452789307\n",
      "validation loss: 2.9131860733032227\n"
     ]
    },
    {
     "name": "stderr",
     "output_type": "stream",
     "text": [
      "\r",
      "training:  93%|███████████████████████████████████████████████████████████████████████████████████████████████████████████████▍        | 842/907 [44:24<04:57,  4.57s/it]"
     ]
    },
    {
     "name": "stdout",
     "output_type": "stream",
     "text": [
      "training loss: 2.8862547874450684\n",
      "training loss: 2.9561996459960938\n",
      "training loss: 2.868407726287842\n"
     ]
    },
    {
     "name": "stderr",
     "output_type": "stream",
     "text": [
      "\r",
      "training:  93%|███████████████████████████████████████████████████████████████████████████████████████████████████████████████▊        | 845/907 [44:38<04:42,  4.56s/it]"
     ]
    },
    {
     "name": "stdout",
     "output_type": "stream",
     "text": [
      "training loss: 2.886780261993408\n",
      "training loss: 2.8879072666168213\n",
      "training loss: 2.9045486450195312\n"
     ]
    },
    {
     "name": "stderr",
     "output_type": "stream",
     "text": [
      "training:  93%|████████████████████████████████████████████████████████████████████████████████████████████████████████████████▏       | 848/907 [44:51<04:28,  4.54s/it]"
     ]
    },
    {
     "name": "stdout",
     "output_type": "stream",
     "text": [
      "training loss: 2.8896164894104004\n",
      "training loss: 2.8749887943267822\n",
      "training loss: 2.8953843116760254\n"
     ]
    },
    {
     "name": "stderr",
     "output_type": "stream",
     "text": [
      "\r",
      "training:  94%|████████████████████████████████████████████████████████████████████████████████████████████████████████████████▌       | 851/907 [45:05<04:13,  4.53s/it]"
     ]
    },
    {
     "name": "stdout",
     "output_type": "stream",
     "text": [
      "training loss: 2.9019036293029785\n",
      "training loss: 2.8705573081970215\n",
      "training loss: 2.866406202316284\n",
      "validation loss: 2.898745059967041\n"
     ]
    },
    {
     "name": "stderr",
     "output_type": "stream",
     "text": [
      "\r",
      "training:  94%|████████████████████████████████████████████████████████████████████████████████████████████████████████████████▉       | 854/907 [45:19<04:02,  4.57s/it]"
     ]
    },
    {
     "name": "stdout",
     "output_type": "stream",
     "text": [
      "training loss: 2.881739616394043\n",
      "training loss: 2.832988977432251\n",
      "training loss: 2.8588547706604004\n"
     ]
    },
    {
     "name": "stderr",
     "output_type": "stream",
     "text": [
      "training:  94%|█████████████████████████████████████████████████████████████████████████████████████████████████████████████████▍      | 857/907 [45:32<03:47,  4.55s/it]"
     ]
    },
    {
     "name": "stdout",
     "output_type": "stream",
     "text": [
      "training loss: 2.876213312149048\n",
      "training loss: 2.88051176071167\n",
      "training loss: 2.9076247215270996\n"
     ]
    },
    {
     "name": "stderr",
     "output_type": "stream",
     "text": [
      "\r",
      "training:  95%|█████████████████████████████████████████████████████████████████████████████████████████████████████████████████▊      | 860/907 [45:46<03:33,  4.54s/it]"
     ]
    },
    {
     "name": "stdout",
     "output_type": "stream",
     "text": [
      "training loss: 2.900827169418335\n",
      "training loss: 2.8717434406280518\n",
      "training loss: 2.9030473232269287\n"
     ]
    },
    {
     "name": "stderr",
     "output_type": "stream",
     "text": [
      "\r",
      "training:  95%|██████████████████████████████████████████████████████████████████████████████████████████████████████████████████▏     | 863/907 [45:59<03:18,  4.52s/it]"
     ]
    },
    {
     "name": "stdout",
     "output_type": "stream",
     "text": [
      "training loss: 2.8746142387390137\n",
      "training loss: 2.8764700889587402\n",
      "training loss: 2.881572961807251\n",
      "validation loss: 2.8673605918884277\n"
     ]
    },
    {
     "name": "stderr",
     "output_type": "stream",
     "text": [
      "training:  95%|██████████████████████████████████████████████████████████████████████████████████████████████████████████████████▌     | 866/907 [46:14<03:10,  4.66s/it]"
     ]
    },
    {
     "name": "stdout",
     "output_type": "stream",
     "text": [
      "training loss: 2.831545829772949\n",
      "training loss: 2.905294179916382\n",
      "training loss: 2.866243600845337\n"
     ]
    },
    {
     "name": "stderr",
     "output_type": "stream",
     "text": [
      "\r",
      "training:  96%|██████████████████████████████████████████████████████████████████████████████████████████████████████████████████▉     | 869/907 [46:29<03:00,  4.74s/it]"
     ]
    },
    {
     "name": "stdout",
     "output_type": "stream",
     "text": [
      "training loss: 2.8871240615844727\n",
      "training loss: 2.875664710998535\n",
      "training loss: 2.8661208152770996\n"
     ]
    },
    {
     "name": "stderr",
     "output_type": "stream",
     "text": [
      "training:  96%|███████████████████████████████████████████████████████████████████████████████████████████████████████████████████▎    | 872/907 [46:43<02:45,  4.72s/it]"
     ]
    },
    {
     "name": "stdout",
     "output_type": "stream",
     "text": [
      "training loss: 2.918262481689453\n",
      "training loss: 2.899786949157715\n",
      "training loss: 2.8804235458374023\n"
     ]
    },
    {
     "name": "stderr",
     "output_type": "stream",
     "text": [
      "\r",
      "training:  96%|███████████████████████████████████████████████████████████████████████████████████████████████████████████████████▊    | 875/907 [46:56<02:28,  4.64s/it]"
     ]
    },
    {
     "name": "stdout",
     "output_type": "stream",
     "text": [
      "training loss: 2.902435064315796\n",
      "training loss: 2.8663196563720703\n",
      "training loss: 2.840027332305908\n",
      "validation loss: 2.9133780002593994\n"
     ]
    },
    {
     "name": "stderr",
     "output_type": "stream",
     "text": [
      "training:  97%|████████████████████████████████████████████████████████████████████████████████████████████████████████████████████▏   | 878/907 [47:13<02:22,  4.92s/it]"
     ]
    },
    {
     "name": "stdout",
     "output_type": "stream",
     "text": [
      "training loss: 2.8791210651397705\n",
      "training loss: 2.8614113330841064\n"
     ]
    },
    {
     "name": "stderr",
     "output_type": "stream",
     "text": [
      "\r",
      "training:  97%|████████████████████████████████████████████████████████████████████████████████████████████████████████████████████▍   | 880/907 [47:23<02:13,  4.96s/it]"
     ]
    },
    {
     "name": "stdout",
     "output_type": "stream",
     "text": [
      "training loss: 2.90397310256958\n",
      "training loss: 2.862165927886963\n",
      "training loss: 2.8446106910705566\n"
     ]
    },
    {
     "name": "stderr",
     "output_type": "stream",
     "text": [
      "\r",
      "training:  97%|████████████████████████████████████████████████████████████████████████████████████████████████████████████████████▊   | 883/907 [47:36<01:54,  4.75s/it]"
     ]
    },
    {
     "name": "stdout",
     "output_type": "stream",
     "text": [
      "training loss: 2.8598296642303467\n",
      "training loss: 2.848392963409424\n",
      "training loss: 2.8825151920318604\n"
     ]
    },
    {
     "name": "stderr",
     "output_type": "stream",
     "text": [
      "\r",
      "training:  98%|█████████████████████████████████████████████████████████████████████████████████████████████████████████████████████▏  | 886/907 [47:48<01:35,  4.56s/it]"
     ]
    },
    {
     "name": "stdout",
     "output_type": "stream",
     "text": [
      "training loss: 2.89192795753479\n",
      "training loss: 2.913593053817749\n",
      "training loss: 2.8784685134887695\n"
     ]
    },
    {
     "name": "stderr",
     "output_type": "stream",
     "text": [
      "\r",
      "training:  98%|█████████████████████████████████████████████████████████████████████████████████████████████████████████████████████▏  | 886/907 [48:00<01:35,  4.56s/it]"
     ]
    },
    {
     "name": "stdout",
     "output_type": "stream",
     "text": [
      "training loss: 2.856696128845215\n"
     ]
    },
    {
     "name": "stderr",
     "output_type": "stream",
     "text": [
      "\r",
      "training:  98%|█████████████████████████████████████████████████████████████████████████████████████████████████████████████████████▌  | 889/907 [48:01<01:21,  4.52s/it]"
     ]
    },
    {
     "name": "stdout",
     "output_type": "stream",
     "text": [
      "validation loss: 2.855607271194458\n",
      "training loss: 2.886885404586792\n",
      "training loss: 2.8609583377838135\n"
     ]
    },
    {
     "name": "stderr",
     "output_type": "stream",
     "text": [
      "\r",
      "training:  98%|██████████████████████████████████████████████████████████████████████████████████████████████████████████████████████  | 892/907 [48:14<01:06,  4.43s/it]"
     ]
    },
    {
     "name": "stdout",
     "output_type": "stream",
     "text": [
      "training loss: 2.8759799003601074\n",
      "training loss: 2.862726926803589\n",
      "training loss: 2.935170888900757\n"
     ]
    },
    {
     "name": "stderr",
     "output_type": "stream",
     "text": [
      "\r",
      "training:  99%|██████████████████████████████████████████████████████████████████████████████████████████████████████████████████████▍ | 895/907 [48:27<00:53,  4.43s/it]"
     ]
    },
    {
     "name": "stdout",
     "output_type": "stream",
     "text": [
      "training loss: 2.8822028636932373\n",
      "training loss: 2.8571290969848633\n",
      "training loss: 2.8269784450531006\n"
     ]
    },
    {
     "name": "stderr",
     "output_type": "stream",
     "text": [
      "\r",
      "training:  99%|██████████████████████████████████████████████████████████████████████████████████████████████████████████████████████▊ | 898/907 [48:39<00:37,  4.22s/it]"
     ]
    },
    {
     "name": "stdout",
     "output_type": "stream",
     "text": [
      "training loss: 2.874829053878784\n",
      "training loss: 2.8713080883026123\n",
      "training loss: 2.9067089557647705\n"
     ]
    },
    {
     "name": "stderr",
     "output_type": "stream",
     "text": [
      "\r",
      "training:  99%|██████████████████████████████████████████████████████████████████████████████████████████████████████████████████████▊ | 898/907 [48:50<00:37,  4.22s/it]"
     ]
    },
    {
     "name": "stdout",
     "output_type": "stream",
     "text": [
      "training loss: 2.891331434249878\n"
     ]
    },
    {
     "name": "stderr",
     "output_type": "stream",
     "text": [
      "\r",
      "training:  99%|███████████████████████████████████████████████████████████████████████████████████████████████████████████████████████▏| 901/907 [48:51<00:25,  4.22s/it]"
     ]
    },
    {
     "name": "stdout",
     "output_type": "stream",
     "text": [
      "validation loss: 2.895946741104126\n",
      "training loss: 2.8725814819335938\n",
      "training loss: 2.8670997619628906\n"
     ]
    },
    {
     "name": "stderr",
     "output_type": "stream",
     "text": [
      "\r",
      "training: 100%|███████████████████████████████████████████████████████████████████████████████████████████████████████████████████████▌| 904/907 [49:03<00:12,  4.17s/it]"
     ]
    },
    {
     "name": "stdout",
     "output_type": "stream",
     "text": [
      "training loss: 2.8767988681793213\n",
      "training loss: 2.8500494956970215\n",
      "training loss: 2.858959674835205\n"
     ]
    },
    {
     "name": "stderr",
     "output_type": "stream",
     "text": [
      "training: 100%|████████████████████████████████████████████████████████████████████████████████████████████████████████████████████████| 907/907 [49:17<00:00,  3.26s/it]\n",
      "training:   0%|                                                                                                                                  | 0/907 [00:00<?, ?it/s]"
     ]
    },
    {
     "name": "stdout",
     "output_type": "stream",
     "text": [
      "training loss: 2.8723864555358887\n",
      "training loss: 2.8806915283203125\n",
      "validation loss: 2.8677709102630615\n"
     ]
    },
    {
     "name": "stderr",
     "output_type": "stream",
     "text": [
      "\r",
      "training:   0%|▎                                                                                                                       | 2/907 [00:11<1:28:14,  5.85s/it]"
     ]
    },
    {
     "name": "stdout",
     "output_type": "stream",
     "text": [
      "training loss: 2.95686411857605\n",
      "training loss: 2.837867021560669\n"
     ]
    },
    {
     "name": "stderr",
     "output_type": "stream",
     "text": [
      "\r",
      "training:   0%|▌                                                                                                                       | 4/907 [00:22<1:26:51,  5.77s/it]"
     ]
    },
    {
     "name": "stdout",
     "output_type": "stream",
     "text": [
      "training loss: 2.909059762954712\n",
      "training loss: 2.8294880390167236\n"
     ]
    },
    {
     "name": "stderr",
     "output_type": "stream",
     "text": [
      "\r",
      "training:   1%|▊                                                                                                                       | 6/907 [00:33<1:25:31,  5.70s/it]"
     ]
    },
    {
     "name": "stdout",
     "output_type": "stream",
     "text": [
      "training loss: 2.8627936840057373\n",
      "training loss: 2.8789477348327637\n"
     ]
    },
    {
     "name": "stderr",
     "output_type": "stream",
     "text": [
      "\r",
      "training:   1%|█                                                                                                                       | 8/907 [00:44<1:23:45,  5.59s/it]"
     ]
    },
    {
     "name": "stdout",
     "output_type": "stream",
     "text": [
      "training loss: 2.872927665710449\n",
      "training loss: 2.884885549545288\n",
      "training loss: 2.8832900524139404\n"
     ]
    },
    {
     "name": "stderr",
     "output_type": "stream",
     "text": [
      "\r",
      "training:   1%|█▍                                                                                                                     | 11/907 [00:56<1:15:47,  5.08s/it]"
     ]
    },
    {
     "name": "stdout",
     "output_type": "stream",
     "text": [
      "training loss: 2.8512632846832275\n",
      "training loss: 2.8959813117980957\n",
      "training loss: 2.8815195560455322\n",
      "validation loss: 2.9196534156799316\n",
      "training loss: 2.9164183139801025\n",
      "training loss: 2.8880603313446045\n",
      "training loss: 2.8580379486083984\n",
      "training loss: 2.8960695266723633\n",
      "training loss: 2.9214115142822266\n"
     ]
    },
    {
     "name": "stderr",
     "output_type": "stream",
     "text": [
      "\r",
      "training:   2%|██▌                                                                                                                      | 19/907 [01:06<58:17,  3.94s/it]"
     ]
    },
    {
     "name": "stdout",
     "output_type": "stream",
     "text": [
      "training loss: 2.8548967838287354\n",
      "training loss: 2.82011079788208\n",
      "training loss: 2.877761125564575\n",
      "training loss: 2.886976957321167\n",
      "training loss: 2.904635429382324\n"
     ]
    },
    {
     "name": "stderr",
     "output_type": "stream",
     "text": [
      "training:   3%|███▏                                                                                                                     | 24/907 [01:22<54:22,  3.70s/it]"
     ]
    },
    {
     "name": "stdout",
     "output_type": "stream",
     "text": [
      "training loss: 2.89713454246521\n",
      "training loss: 2.906984329223633\n",
      "validation loss: 2.9113857746124268\n",
      "training loss: 2.886327028274536\n",
      "training loss: 2.8924474716186523\n"
     ]
    },
    {
     "name": "stderr",
     "output_type": "stream",
     "text": [
      "\r",
      "training:   3%|███▋                                                                                                                     | 28/907 [01:39<57:14,  3.91s/it]"
     ]
    },
    {
     "name": "stdout",
     "output_type": "stream",
     "text": [
      "training loss: 2.8762502670288086\n",
      "training loss: 2.8260693550109863\n",
      "training loss: 2.842045307159424\n"
     ]
    },
    {
     "name": "stderr",
     "output_type": "stream",
     "text": [
      "training:   3%|████                                                                                                                   | 31/907 [01:53<1:00:04,  4.11s/it]"
     ]
    },
    {
     "name": "stdout",
     "output_type": "stream",
     "text": [
      "training loss: 2.887576103210449\n",
      "training loss: 2.89847731590271\n",
      "training loss: 2.8955366611480713\n"
     ]
    },
    {
     "name": "stderr",
     "output_type": "stream",
     "text": [
      "\r",
      "training:   4%|████▍                                                                                                                  | 34/907 [02:07<1:02:35,  4.30s/it]"
     ]
    },
    {
     "name": "stdout",
     "output_type": "stream",
     "text": [
      "training loss: 2.841635227203369\n",
      "training loss: 2.891977310180664\n",
      "training loss: 2.902672052383423\n"
     ]
    },
    {
     "name": "stderr",
     "output_type": "stream",
     "text": [
      "\r",
      "training:   4%|████▍                                                                                                                  | 34/907 [02:19<1:02:35,  4.30s/it]"
     ]
    },
    {
     "name": "stdout",
     "output_type": "stream",
     "text": [
      "training loss: 2.887831926345825\n"
     ]
    },
    {
     "name": "stderr",
     "output_type": "stream",
     "text": [
      "\r",
      "training:   4%|████▊                                                                                                                  | 37/907 [02:23<1:06:39,  4.60s/it]"
     ]
    },
    {
     "name": "stdout",
     "output_type": "stream",
     "text": [
      "validation loss: 2.8596699237823486\n",
      "training loss: 2.856755495071411\n",
      "training loss: 2.90046763420105\n"
     ]
    },
    {
     "name": "stderr",
     "output_type": "stream",
     "text": [
      "\r",
      "training:   4%|█████▏                                                                                                                 | 40/907 [02:38<1:08:08,  4.72s/it]"
     ]
    },
    {
     "name": "stdout",
     "output_type": "stream",
     "text": [
      "training loss: 2.852917194366455\n",
      "training loss: 2.855360507965088\n",
      "training loss: 2.93693470954895\n"
     ]
    },
    {
     "name": "stderr",
     "output_type": "stream",
     "text": [
      "training:   5%|█████▋                                                                                                                 | 43/907 [02:53<1:08:42,  4.77s/it]"
     ]
    },
    {
     "name": "stdout",
     "output_type": "stream",
     "text": [
      "training loss: 2.8750293254852295\n",
      "training loss: 2.8714497089385986\n",
      "training loss: 2.86580753326416\n"
     ]
    },
    {
     "name": "stderr",
     "output_type": "stream",
     "text": [
      "\r",
      "training:   5%|██████                                                                                                                 | 46/907 [03:07<1:08:34,  4.78s/it]"
     ]
    },
    {
     "name": "stdout",
     "output_type": "stream",
     "text": [
      "training loss: 2.8412692546844482\n",
      "training loss: 2.8773274421691895\n",
      "training loss: 2.890835762023926\n"
     ]
    },
    {
     "name": "stderr",
     "output_type": "stream",
     "text": [
      "\r",
      "training:   5%|██████                                                                                                                 | 46/907 [03:20<1:08:34,  4.78s/it]"
     ]
    },
    {
     "name": "stdout",
     "output_type": "stream",
     "text": [
      "training loss: 2.8902807235717773\n"
     ]
    },
    {
     "name": "stderr",
     "output_type": "stream",
     "text": [
      "\r",
      "training:   5%|██████▍                                                                                                                | 49/907 [03:22<1:09:06,  4.83s/it]"
     ]
    },
    {
     "name": "stdout",
     "output_type": "stream",
     "text": [
      "validation loss: 2.8475120067596436\n",
      "training loss: 2.909929037094116\n",
      "training loss: 2.8966917991638184\n"
     ]
    },
    {
     "name": "stderr",
     "output_type": "stream",
     "text": [
      "\r",
      "training:   6%|██████▊                                                                                                                | 52/907 [03:36<1:07:50,  4.76s/it]"
     ]
    },
    {
     "name": "stdout",
     "output_type": "stream",
     "text": [
      "training loss: 2.8526382446289062\n",
      "training loss: 2.8575639724731445\n",
      "training loss: 2.894542694091797\n"
     ]
    },
    {
     "name": "stderr",
     "output_type": "stream",
     "text": [
      "training:   6%|███████▏                                                                                                               | 55/907 [03:50<1:07:54,  4.78s/it]"
     ]
    },
    {
     "name": "stdout",
     "output_type": "stream",
     "text": [
      "training loss: 2.9162302017211914\n",
      "training loss: 2.828655958175659\n",
      "training loss: 2.916799783706665\n"
     ]
    },
    {
     "name": "stderr",
     "output_type": "stream",
     "text": [
      "\r",
      "training:   6%|███████▌                                                                                                               | 58/907 [04:05<1:08:31,  4.84s/it]"
     ]
    },
    {
     "name": "stdout",
     "output_type": "stream",
     "text": [
      "training loss: 2.9025230407714844\n",
      "training loss: 2.860388994216919\n",
      "training loss: 2.8598239421844482\n"
     ]
    },
    {
     "name": "stderr",
     "output_type": "stream",
     "text": [
      "\r",
      "training:   6%|███████▌                                                                                                               | 58/907 [04:20<1:08:31,  4.84s/it]"
     ]
    },
    {
     "name": "stdout",
     "output_type": "stream",
     "text": [
      "training loss: 2.8531134128570557\n"
     ]
    },
    {
     "name": "stderr",
     "output_type": "stream",
     "text": [
      "\r",
      "training:   7%|████████                                                                                                               | 61/907 [04:21<1:09:58,  4.96s/it]"
     ]
    },
    {
     "name": "stdout",
     "output_type": "stream",
     "text": [
      "validation loss: 2.8856046199798584\n",
      "training loss: 2.882751703262329\n",
      "training loss: 2.8623037338256836\n"
     ]
    },
    {
     "name": "stderr",
     "output_type": "stream",
     "text": [
      "\r",
      "training:   7%|████████▍                                                                                                              | 64/907 [04:36<1:09:07,  4.92s/it]"
     ]
    },
    {
     "name": "stdout",
     "output_type": "stream",
     "text": [
      "training loss: 2.8762948513031006\n",
      "training loss: 2.8840980529785156\n",
      "training loss: 2.8441407680511475\n"
     ]
    },
    {
     "name": "stderr",
     "output_type": "stream",
     "text": [
      "training:   7%|████████▊                                                                                                              | 67/907 [04:50<1:08:00,  4.86s/it]"
     ]
    },
    {
     "name": "stdout",
     "output_type": "stream",
     "text": [
      "training loss: 2.8389554023742676\n",
      "training loss: 2.925360918045044\n",
      "training loss: 2.83066463470459\n"
     ]
    },
    {
     "name": "stderr",
     "output_type": "stream",
     "text": [
      "\r",
      "training:   8%|█████████▏                                                                                                             | 70/907 [05:03<1:05:51,  4.72s/it]"
     ]
    },
    {
     "name": "stdout",
     "output_type": "stream",
     "text": [
      "training loss: 2.8840041160583496\n",
      "training loss: 2.9027979373931885\n",
      "training loss: 2.887483596801758\n",
      "training loss: 2.842219114303589\n"
     ]
    },
    {
     "name": "stderr",
     "output_type": "stream",
     "text": [
      "\r",
      "training:   8%|█████████▌                                                                                                             | 73/907 [05:13<1:00:20,  4.34s/it]"
     ]
    },
    {
     "name": "stdout",
     "output_type": "stream",
     "text": [
      "validation loss: 2.8864753246307373\n",
      "training loss: 2.8873181343078613\n",
      "training loss: 2.8548431396484375\n"
     ]
    },
    {
     "name": "stderr",
     "output_type": "stream",
     "text": [
      "\r",
      "training:   8%|██████████▏                                                                                                              | 76/907 [05:25<58:22,  4.22s/it]"
     ]
    },
    {
     "name": "stdout",
     "output_type": "stream",
     "text": [
      "training loss: 2.886545419692993\n",
      "training loss: 2.8370754718780518\n",
      "training loss: 2.8563761711120605\n"
     ]
    },
    {
     "name": "stderr",
     "output_type": "stream",
     "text": [
      "\r",
      "training:   9%|██████████▌                                                                                                              | 79/907 [05:38<58:11,  4.22s/it]"
     ]
    },
    {
     "name": "stdout",
     "output_type": "stream",
     "text": [
      "training loss: 2.8642330169677734\n",
      "training loss: 2.8368842601776123\n",
      "training loss: 2.930774450302124\n"
     ]
    },
    {
     "name": "stderr",
     "output_type": "stream",
     "text": [
      "training:   9%|██████████▉                                                                                                              | 82/907 [05:50<57:13,  4.16s/it]"
     ]
    },
    {
     "name": "stdout",
     "output_type": "stream",
     "text": [
      "training loss: 2.8486502170562744\n",
      "training loss: 2.88303804397583\n",
      "training loss: 2.908520460128784\n",
      "training loss: 2.886392593383789\n"
     ]
    },
    {
     "name": "stderr",
     "output_type": "stream",
     "text": [
      "\r",
      "training:   9%|███████████▎                                                                                                             | 85/907 [06:04<59:58,  4.38s/it]"
     ]
    },
    {
     "name": "stdout",
     "output_type": "stream",
     "text": [
      "validation loss: 2.8417108058929443\n",
      "training loss: 2.887148380279541\n",
      "training loss: 2.8702659606933594\n"
     ]
    },
    {
     "name": "stderr",
     "output_type": "stream",
     "text": [
      "\r",
      "training:  10%|███████████▋                                                                                                             | 88/907 [06:15<56:26,  4.13s/it]"
     ]
    },
    {
     "name": "stdout",
     "output_type": "stream",
     "text": [
      "training loss: 2.9245827198028564\n",
      "training loss: 2.879877805709839\n",
      "training loss: 2.8578925132751465\n"
     ]
    },
    {
     "name": "stderr",
     "output_type": "stream",
     "text": [
      "\r",
      "training:  10%|████████████▏                                                                                                            | 91/907 [06:27<55:22,  4.07s/it]"
     ]
    },
    {
     "name": "stdout",
     "output_type": "stream",
     "text": [
      "training loss: 2.8821358680725098\n",
      "training loss: 2.845935106277466\n",
      "training loss: 2.9146978855133057\n"
     ]
    },
    {
     "name": "stderr",
     "output_type": "stream",
     "text": [
      "training:  10%|████████████▌                                                                                                            | 94/907 [06:41<57:53,  4.27s/it]"
     ]
    },
    {
     "name": "stdout",
     "output_type": "stream",
     "text": [
      "training loss: 2.9199459552764893\n",
      "training loss: 2.886206865310669\n",
      "training loss: 2.8400230407714844\n",
      "training loss: 2.8751261234283447\n"
     ]
    },
    {
     "name": "stderr",
     "output_type": "stream",
     "text": [
      "\r",
      "training:  11%|████████████▋                                                                                                          | 97/907 [06:56<1:00:20,  4.47s/it]"
     ]
    },
    {
     "name": "stdout",
     "output_type": "stream",
     "text": [
      "validation loss: 2.854792594909668\n",
      "training loss: 2.8069920539855957\n",
      "training loss: 2.886305332183838\n"
     ]
    },
    {
     "name": "stderr",
     "output_type": "stream",
     "text": [
      "\r",
      "training:  11%|█████████████                                                                                                         | 100/907 [07:09<1:00:05,  4.47s/it]"
     ]
    },
    {
     "name": "stdout",
     "output_type": "stream",
     "text": [
      "training loss: 2.8920791149139404\n",
      "training loss: 2.8735663890838623\n",
      "training loss: 2.8941662311553955\n"
     ]
    },
    {
     "name": "stderr",
     "output_type": "stream",
     "text": [
      "training:  11%|█████████████▍                                                                                                        | 103/907 [07:23<1:00:38,  4.53s/it]"
     ]
    },
    {
     "name": "stdout",
     "output_type": "stream",
     "text": [
      "training loss: 2.85788631439209\n",
      "training loss: 2.8667521476745605\n",
      "training loss: 2.8781991004943848\n"
     ]
    },
    {
     "name": "stderr",
     "output_type": "stream",
     "text": [
      "\r",
      "training:  12%|██████████████                                                                                                          | 106/907 [07:34<56:14,  4.21s/it]"
     ]
    },
    {
     "name": "stdout",
     "output_type": "stream",
     "text": [
      "training loss: 2.8814384937286377\n",
      "training loss: 2.9316887855529785\n",
      "training loss: 2.8935322761535645\n",
      "training loss: 2.8642303943634033\n"
     ]
    },
    {
     "name": "stderr",
     "output_type": "stream",
     "text": [
      "training:  12%|██████████████▏                                                                                                       | 109/907 [07:50<1:00:17,  4.53s/it]"
     ]
    },
    {
     "name": "stdout",
     "output_type": "stream",
     "text": [
      "validation loss: 2.8621280193328857\n",
      "training loss: 2.8970043659210205\n",
      "training loss: 2.8353426456451416\n"
     ]
    },
    {
     "name": "stderr",
     "output_type": "stream",
     "text": [
      "\r",
      "training:  12%|██████████████▌                                                                                                       | 112/907 [08:03<1:00:22,  4.56s/it]"
     ]
    },
    {
     "name": "stdout",
     "output_type": "stream",
     "text": [
      "training loss: 2.894551992416382\n",
      "training loss: 2.850491762161255\n",
      "training loss: 2.8657824993133545\n"
     ]
    },
    {
     "name": "stderr",
     "output_type": "stream",
     "text": [
      "\r",
      "training:  13%|██████████████▉                                                                                                       | 115/907 [08:19<1:03:09,  4.78s/it]"
     ]
    },
    {
     "name": "stdout",
     "output_type": "stream",
     "text": [
      "training loss: 2.8876492977142334\n",
      "training loss: 2.890836715698242\n"
     ]
    },
    {
     "name": "stderr",
     "output_type": "stream",
     "text": [
      "training:  13%|███████████████▏                                                                                                      | 117/907 [08:31<1:06:32,  5.05s/it]"
     ]
    },
    {
     "name": "stdout",
     "output_type": "stream",
     "text": [
      "training loss: 2.8743062019348145\n",
      "training loss: 2.9030299186706543\n",
      "training loss: 2.852228879928589\n"
     ]
    },
    {
     "name": "stderr",
     "output_type": "stream",
     "text": [
      "\r",
      "training:  13%|███████████████▌                                                                                                      | 120/907 [08:44<1:04:07,  4.89s/it]"
     ]
    },
    {
     "name": "stdout",
     "output_type": "stream",
     "text": [
      "training loss: 2.868926763534546\n",
      "training loss: 2.8629987239837646\n",
      "validation loss: 2.8747620582580566\n",
      "training loss: 2.867826461791992\n"
     ]
    },
    {
     "name": "stderr",
     "output_type": "stream",
     "text": [
      "\r",
      "training:  14%|████████████████                                                                                                      | 123/907 [08:58<1:03:09,  4.83s/it]"
     ]
    },
    {
     "name": "stdout",
     "output_type": "stream",
     "text": [
      "training loss: 2.903529405593872\n",
      "training loss: 2.8499205112457275\n",
      "training loss: 2.8958120346069336\n"
     ]
    },
    {
     "name": "stderr",
     "output_type": "stream",
     "text": [
      "training:  14%|████████████████▍                                                                                                     | 126/907 [09:11<1:00:45,  4.67s/it]"
     ]
    },
    {
     "name": "stdout",
     "output_type": "stream",
     "text": [
      "training loss: 2.9075303077697754\n",
      "training loss: 2.884694814682007\n",
      "training loss: 2.8749752044677734\n"
     ]
    },
    {
     "name": "stderr",
     "output_type": "stream",
     "text": [
      "\r",
      "training:  14%|████████████████▊                                                                                                     | 129/907 [09:25<1:00:06,  4.64s/it]"
     ]
    },
    {
     "name": "stdout",
     "output_type": "stream",
     "text": [
      "training loss: 2.908038377761841\n",
      "training loss: 2.863194227218628\n",
      "training loss: 2.9162003993988037\n"
     ]
    },
    {
     "name": "stderr",
     "output_type": "stream",
     "text": [
      "\r",
      "training:  15%|█████████████████▍                                                                                                      | 132/907 [09:38<59:21,  4.60s/it]"
     ]
    },
    {
     "name": "stdout",
     "output_type": "stream",
     "text": [
      "training loss: 2.8928451538085938\n",
      "training loss: 2.8170924186706543\n",
      "validation loss: 2.8544254302978516\n",
      "training loss: 2.868539810180664\n"
     ]
    },
    {
     "name": "stderr",
     "output_type": "stream",
     "text": [
      "training:  15%|█████████████████▊                                                                                                      | 135/907 [09:52<59:15,  4.61s/it]"
     ]
    },
    {
     "name": "stdout",
     "output_type": "stream",
     "text": [
      "training loss: 2.888648509979248\n",
      "training loss: 2.887176275253296\n",
      "training loss: 2.879107713699341\n"
     ]
    },
    {
     "name": "stderr",
     "output_type": "stream",
     "text": [
      "\r",
      "training:  15%|██████████████████▎                                                                                                     | 138/907 [10:06<59:00,  4.60s/it]"
     ]
    },
    {
     "name": "stdout",
     "output_type": "stream",
     "text": [
      "training loss: 2.857402801513672\n",
      "training loss: 2.8937129974365234\n",
      "training loss: 2.8661346435546875\n",
      "training loss: 2.9190595149993896\n",
      "training loss: 2.886521339416504\n",
      "training loss: 2.87221360206604\n"
     ]
    },
    {
     "name": "stderr",
     "output_type": "stream",
     "text": [
      "\r",
      "training:  16%|███████████████████                                                                                                     | 144/907 [10:18<48:33,  3.82s/it]"
     ]
    },
    {
     "name": "stdout",
     "output_type": "stream",
     "text": [
      "training loss: 2.871175527572632\n",
      "training loss: 2.8646786212921143\n",
      "validation loss: 2.880965232849121\n",
      "training loss: 2.859175682067871\n"
     ]
    },
    {
     "name": "stderr",
     "output_type": "stream",
     "text": [
      "training:  16%|███████████████████▍                                                                                                    | 147/907 [10:34<53:39,  4.24s/it]"
     ]
    },
    {
     "name": "stdout",
     "output_type": "stream",
     "text": [
      "training loss: 2.899077892303467\n",
      "training loss: 2.7864456176757812\n"
     ]
    },
    {
     "name": "stderr",
     "output_type": "stream",
     "text": [
      "\r",
      "training:  16%|███████████████████▋                                                                                                    | 149/907 [10:44<57:01,  4.51s/it]"
     ]
    },
    {
     "name": "stdout",
     "output_type": "stream",
     "text": [
      "training loss: 2.83414888381958\n",
      "training loss: 2.9083077907562256\n",
      "training loss: 2.8832767009735107\n"
     ]
    },
    {
     "name": "stderr",
     "output_type": "stream",
     "text": [
      "\r",
      "training:  17%|████████████████████                                                                                                    | 152/907 [10:58<57:48,  4.59s/it]"
     ]
    },
    {
     "name": "stdout",
     "output_type": "stream",
     "text": [
      "training loss: 2.823681592941284\n",
      "training loss: 2.869765520095825\n",
      "training loss: 2.8451426029205322\n",
      "training loss: 2.8309781551361084\n"
     ]
    },
    {
     "name": "stderr",
     "output_type": "stream",
     "text": [
      "\r",
      "training:  17%|████████████████████▋                                                                                                   | 156/907 [11:09<50:10,  4.01s/it]"
     ]
    },
    {
     "name": "stdout",
     "output_type": "stream",
     "text": [
      "training loss: 2.869004726409912\n",
      "training loss: 2.8798725605010986\n",
      "validation loss: 2.872776746749878\n",
      "training loss: 2.8417305946350098\n"
     ]
    },
    {
     "name": "stderr",
     "output_type": "stream",
     "text": [
      "training:  18%|█████████████████████                                                                                                   | 159/907 [11:22<51:05,  4.10s/it]"
     ]
    },
    {
     "name": "stdout",
     "output_type": "stream",
     "text": [
      "training loss: 2.8828349113464355\n",
      "training loss: 2.8492417335510254\n",
      "training loss: 2.909348726272583\n"
     ]
    },
    {
     "name": "stderr",
     "output_type": "stream",
     "text": [
      "\r",
      "training:  18%|█████████████████████▍                                                                                                  | 162/907 [11:32<48:06,  3.87s/it]"
     ]
    },
    {
     "name": "stdout",
     "output_type": "stream",
     "text": [
      "training loss: 2.8874244689941406\n",
      "training loss: 2.8974528312683105\n",
      "training loss: 2.873659372329712\n"
     ]
    },
    {
     "name": "stderr",
     "output_type": "stream",
     "text": [
      "\r",
      "training:  18%|█████████████████████▊                                                                                                  | 165/907 [11:47<52:12,  4.22s/it]"
     ]
    },
    {
     "name": "stdout",
     "output_type": "stream",
     "text": [
      "training loss: 2.8605446815490723\n",
      "training loss: 2.855814218521118\n",
      "training loss: 2.870746612548828\n"
     ]
    },
    {
     "name": "stderr",
     "output_type": "stream",
     "text": [
      "training:  19%|██████████████████████▏                                                                                                 | 168/907 [12:02<55:03,  4.47s/it]"
     ]
    },
    {
     "name": "stdout",
     "output_type": "stream",
     "text": [
      "training loss: 2.8732917308807373\n",
      "training loss: 2.889981985092163\n",
      "validation loss: 2.896980047225952\n"
     ]
    },
    {
     "name": "stderr",
     "output_type": "stream",
     "text": [
      "\r",
      "training:  19%|██████████████████████▍                                                                                                 | 170/907 [12:13<59:21,  4.83s/it]"
     ]
    },
    {
     "name": "stdout",
     "output_type": "stream",
     "text": [
      "training loss: 2.892671585083008\n",
      "training loss: 2.894155263900757\n"
     ]
    },
    {
     "name": "stderr",
     "output_type": "stream",
     "text": [
      "\r",
      "training:  19%|██████████████████████▍                                                                                               | 172/907 [12:24<1:01:13,  5.00s/it]"
     ]
    },
    {
     "name": "stdout",
     "output_type": "stream",
     "text": [
      "training loss: 2.879079580307007\n",
      "training loss: 2.86549973487854\n"
     ]
    },
    {
     "name": "stderr",
     "output_type": "stream",
     "text": [
      "\r",
      "training:  19%|██████████████████████▋                                                                                               | 174/907 [12:34<1:01:35,  5.04s/it]"
     ]
    },
    {
     "name": "stdout",
     "output_type": "stream",
     "text": [
      "training loss: 2.86417555809021\n",
      "training loss: 2.880214214324951\n"
     ]
    },
    {
     "name": "stderr",
     "output_type": "stream",
     "text": [
      "\r",
      "training:  19%|██████████████████████▉                                                                                               | 176/907 [12:45<1:02:11,  5.10s/it]"
     ]
    },
    {
     "name": "stdout",
     "output_type": "stream",
     "text": [
      "training loss: 2.8565144538879395\n",
      "training loss: 2.843388080596924\n"
     ]
    },
    {
     "name": "stderr",
     "output_type": "stream",
     "text": [
      "\r",
      "training:  20%|███████████████████████▏                                                                                              | 178/907 [12:56<1:04:07,  5.28s/it]"
     ]
    },
    {
     "name": "stdout",
     "output_type": "stream",
     "text": [
      "training loss: 2.8883190155029297\n",
      "training loss: 2.874441385269165\n"
     ]
    },
    {
     "name": "stderr",
     "output_type": "stream",
     "text": [
      "\r",
      "training:  20%|███████████████████████▍                                                                                              | 180/907 [13:08<1:05:20,  5.39s/it]"
     ]
    },
    {
     "name": "stdout",
     "output_type": "stream",
     "text": [
      "training loss: 2.8498919010162354\n",
      "training loss: 2.854449987411499\n",
      "validation loss: 2.8464791774749756\n",
      "training loss: 2.8687942028045654\n"
     ]
    },
    {
     "name": "stderr",
     "output_type": "stream",
     "text": [
      "training:  20%|███████████████████████▊                                                                                              | 183/907 [13:23<1:03:47,  5.29s/it]"
     ]
    },
    {
     "name": "stdout",
     "output_type": "stream",
     "text": [
      "training loss: 2.8701815605163574\n",
      "training loss: 2.8898227214813232\n"
     ]
    },
    {
     "name": "stderr",
     "output_type": "stream",
     "text": [
      "\r",
      "training:  20%|████████████████████████                                                                                              | 185/907 [13:34<1:05:27,  5.44s/it]"
     ]
    },
    {
     "name": "stdout",
     "output_type": "stream",
     "text": [
      "training loss: 2.9083974361419678\n",
      "training loss: 2.838184118270874\n"
     ]
    },
    {
     "name": "stderr",
     "output_type": "stream",
     "text": [
      "\r",
      "training:  21%|████████████████████████▎                                                                                             | 187/907 [13:45<1:05:43,  5.48s/it]"
     ]
    },
    {
     "name": "stdout",
     "output_type": "stream",
     "text": [
      "training loss: 2.924246311187744\n",
      "training loss: 2.8738479614257812\n"
     ]
    },
    {
     "name": "stderr",
     "output_type": "stream",
     "text": [
      "\r",
      "training:  21%|████████████████████████▌                                                                                             | 189/907 [13:55<1:03:51,  5.34s/it]"
     ]
    },
    {
     "name": "stdout",
     "output_type": "stream",
     "text": [
      "training loss: 2.8700637817382812\n",
      "training loss: 2.9444491863250732\n",
      "training loss: 2.833932638168335\n",
      "training loss: 2.886794328689575\n",
      "training loss: 2.8878793716430664\n",
      "validation loss: 2.907151937484741\n",
      "training loss: 2.856328010559082\n"
     ]
    },
    {
     "name": "stderr",
     "output_type": "stream",
     "text": [
      "\r",
      "training:  21%|█████████████████████████▊                                                                                              | 195/907 [14:06<50:21,  4.24s/it]"
     ]
    },
    {
     "name": "stdout",
     "output_type": "stream",
     "text": [
      "training loss: 2.9080963134765625\n",
      "training loss: 2.8694279193878174\n",
      "training loss: 2.863358497619629\n",
      "training loss: 2.862614631652832\n",
      "training loss: 2.8818163871765137\n"
     ]
    },
    {
     "name": "stderr",
     "output_type": "stream",
     "text": [
      "training:  22%|██████████████████████████▍                                                                                             | 200/907 [14:23<47:04,  4.00s/it]"
     ]
    },
    {
     "name": "stdout",
     "output_type": "stream",
     "text": [
      "training loss: 2.9162328243255615\n",
      "training loss: 2.857203483581543\n",
      "training loss: 2.9031171798706055\n"
     ]
    },
    {
     "name": "stderr",
     "output_type": "stream",
     "text": [
      "\r",
      "training:  22%|██████████████████████████▊                                                                                             | 203/907 [14:35<47:32,  4.05s/it]"
     ]
    },
    {
     "name": "stdout",
     "output_type": "stream",
     "text": [
      "training loss: 2.926347255706787\n",
      "training loss: 2.9041426181793213\n",
      "training loss: 2.8480594158172607\n",
      "validation loss: 2.86841082572937\n"
     ]
    },
    {
     "name": "stderr",
     "output_type": "stream",
     "text": [
      "\r",
      "training:  23%|███████████████████████████▎                                                                                            | 206/907 [14:48<47:52,  4.10s/it]"
     ]
    },
    {
     "name": "stdout",
     "output_type": "stream",
     "text": [
      "training loss: 2.896521806716919\n",
      "training loss: 2.8450818061828613\n",
      "training loss: 2.9522671699523926\n"
     ]
    },
    {
     "name": "stderr",
     "output_type": "stream",
     "text": [
      "training:  23%|███████████████████████████▋                                                                                            | 209/907 [15:01<48:26,  4.16s/it]"
     ]
    },
    {
     "name": "stdout",
     "output_type": "stream",
     "text": [
      "training loss: 2.8675105571746826\n",
      "training loss: 2.8579869270324707\n",
      "training loss: 2.855073928833008\n"
     ]
    },
    {
     "name": "stderr",
     "output_type": "stream",
     "text": [
      "\r",
      "training:  23%|████████████████████████████                                                                                            | 212/907 [15:13<48:23,  4.18s/it]"
     ]
    },
    {
     "name": "stdout",
     "output_type": "stream",
     "text": [
      "training loss: 2.905573844909668\n",
      "training loss: 2.8349361419677734\n",
      "training loss: 2.875328540802002\n"
     ]
    },
    {
     "name": "stderr",
     "output_type": "stream",
     "text": [
      "\r",
      "training:  24%|████████████████████████████▍                                                                                           | 215/907 [15:26<48:26,  4.20s/it]"
     ]
    },
    {
     "name": "stdout",
     "output_type": "stream",
     "text": [
      "training loss: 2.92303729057312\n",
      "training loss: 2.896660566329956\n",
      "training loss: 2.8533618450164795\n",
      "validation loss: 2.9186086654663086\n"
     ]
    },
    {
     "name": "stderr",
     "output_type": "stream",
     "text": [
      "\r",
      "training:  24%|████████████████████████████▊                                                                                           | 218/907 [15:39<48:16,  4.20s/it]"
     ]
    },
    {
     "name": "stdout",
     "output_type": "stream",
     "text": [
      "training loss: 3.1470468044281006\n",
      "training loss: 2.889678478240967\n",
      "training loss: 2.900343418121338\n"
     ]
    },
    {
     "name": "stderr",
     "output_type": "stream",
     "text": [
      "training:  24%|█████████████████████████████▏                                                                                          | 221/907 [15:52<48:55,  4.28s/it]"
     ]
    },
    {
     "name": "stdout",
     "output_type": "stream",
     "text": [
      "training loss: 2.8832428455352783\n",
      "training loss: 2.9306631088256836\n",
      "training loss: 2.874176502227783\n"
     ]
    },
    {
     "name": "stderr",
     "output_type": "stream",
     "text": [
      "\r",
      "training:  25%|█████████████████████████████▋                                                                                          | 224/907 [16:06<49:44,  4.37s/it]"
     ]
    },
    {
     "name": "stdout",
     "output_type": "stream",
     "text": [
      "training loss: 2.8817594051361084\n",
      "training loss: 2.826812267303467\n",
      "training loss: 2.9133615493774414\n"
     ]
    },
    {
     "name": "stderr",
     "output_type": "stream",
     "text": [
      "training:  25%|██████████████████████████████                                                                                          | 227/907 [16:22<53:10,  4.69s/it]"
     ]
    },
    {
     "name": "stdout",
     "output_type": "stream",
     "text": [
      "training loss: 2.8754141330718994\n",
      "training loss: 2.8882670402526855\n",
      "training loss: 2.877598524093628\n",
      "validation loss: 2.838893175125122\n",
      "training loss: 2.870020866394043\n",
      "training loss: 2.894770860671997\n"
     ]
    },
    {
     "name": "stderr",
     "output_type": "stream",
     "text": [
      "\r",
      "training:  26%|██████████████████████████████▋                                                                                         | 232/907 [16:33<44:01,  3.91s/it]"
     ]
    },
    {
     "name": "stdout",
     "output_type": "stream",
     "text": [
      "training loss: 2.891453742980957\n",
      "training loss: 2.889988899230957\n",
      "training loss: 2.8997137546539307\n",
      "training loss: 2.8862602710723877\n",
      "training loss: 2.8839879035949707\n",
      "training loss: 2.885408878326416\n",
      "training loss: 2.8977718353271484\n",
      "training loss: 2.8579025268554688\n"
     ]
    },
    {
     "name": "stderr",
     "output_type": "stream",
     "text": [
      "\r",
      "training:  26%|███████████████████████████████▊                                                                                        | 240/907 [16:43<34:44,  3.12s/it]"
     ]
    },
    {
     "name": "stdout",
     "output_type": "stream",
     "text": [
      "training loss: 2.9058165550231934\n",
      "training loss: 2.89070200920105\n",
      "validation loss: 2.8863277435302734\n",
      "training loss: 2.8532040119171143\n",
      "training loss: 2.9244534969329834\n",
      "training loss: 2.902346134185791\n",
      "training loss: 2.9061949253082275\n",
      "training loss: 2.8679935932159424\n",
      "training loss: 2.8989367485046387\n"
     ]
    },
    {
     "name": "stderr",
     "output_type": "stream",
     "text": [
      "\r",
      "training:  27%|████████████████████████████████▊                                                                                       | 248/907 [16:58<30:16,  2.76s/it]"
     ]
    },
    {
     "name": "stdout",
     "output_type": "stream",
     "text": [
      "training loss: 2.8464999198913574\n",
      "training loss: 2.896139144897461\n",
      "training loss: 2.8888611793518066\n",
      "training loss: 2.8653292655944824\n",
      "training loss: 2.885887384414673\n"
     ]
    },
    {
     "name": "stderr",
     "output_type": "stream",
     "text": [
      "\r",
      "training:  27%|████████████████████████████████▊                                                                                       | 248/907 [17:10<30:16,  2.76s/it]"
     ]
    },
    {
     "name": "stdout",
     "output_type": "stream",
     "text": [
      "training loss: 2.854273557662964\n"
     ]
    },
    {
     "name": "stderr",
     "output_type": "stream",
     "text": [
      "\r",
      "training:  28%|█████████████████████████████████▍                                                                                      | 253/907 [17:10<28:52,  2.65s/it]"
     ]
    },
    {
     "name": "stdout",
     "output_type": "stream",
     "text": [
      "validation loss: 2.8624489307403564\n",
      "training loss: 2.9166996479034424\n",
      "training loss: 2.947448253631592\n",
      "training loss: 2.8972272872924805\n",
      "training loss: 2.841616153717041\n"
     ]
    },
    {
     "name": "stderr",
     "output_type": "stream",
     "text": [
      "training:  28%|██████████████████████████████████▏                                                                                     | 258/907 [17:32<34:00,  3.14s/it]"
     ]
    },
    {
     "name": "stdout",
     "output_type": "stream",
     "text": [
      "training loss: 2.8746073246002197\n",
      "training loss: 2.94578218460083\n",
      "training loss: 2.912290334701538\n"
     ]
    },
    {
     "name": "stderr",
     "output_type": "stream",
     "text": [
      "\r",
      "training:  29%|██████████████████████████████████▌                                                                                     | 261/907 [17:48<41:28,  3.85s/it]"
     ]
    },
    {
     "name": "stdout",
     "output_type": "stream",
     "text": [
      "training loss: 2.857600450515747\n",
      "training loss: 2.835421085357666\n",
      "training loss: 2.851951837539673\n"
     ]
    },
    {
     "name": "stderr",
     "output_type": "stream",
     "text": [
      "training:  29%|██████████████████████████████████▉                                                                                     | 264/907 [18:02<43:59,  4.10s/it]"
     ]
    },
    {
     "name": "stdout",
     "output_type": "stream",
     "text": [
      "training loss: 2.9157464504241943\n",
      "training loss: 2.8992526531219482\n",
      "validation loss: 2.922710418701172\n",
      "training loss: 2.851762294769287\n",
      "training loss: 2.9155635833740234\n"
     ]
    },
    {
     "name": "stderr",
     "output_type": "stream",
     "text": [
      "\r",
      "training:  30%|███████████████████████████████████▍                                                                                    | 268/907 [18:13<39:00,  3.66s/it]"
     ]
    },
    {
     "name": "stdout",
     "output_type": "stream",
     "text": [
      "training loss: 2.8642847537994385\n",
      "training loss: 2.88395357131958\n",
      "training loss: 2.8860623836517334\n",
      "training loss: 2.8412437438964844\n"
     ]
    },
    {
     "name": "stderr",
     "output_type": "stream",
     "text": [
      "\r",
      "training:  30%|███████████████████████████████████▉                                                                                    | 272/907 [18:23<35:04,  3.31s/it]"
     ]
    },
    {
     "name": "stdout",
     "output_type": "stream",
     "text": [
      "training loss: 2.8663344383239746\n",
      "training loss: 2.820343255996704\n",
      "training loss: 2.9278337955474854\n",
      "training loss: 2.875814199447632\n"
     ]
    },
    {
     "name": "stderr",
     "output_type": "stream",
     "text": [
      "training:  30%|████████████████████████████████████▌                                                                                   | 276/907 [18:43<40:20,  3.84s/it]"
     ]
    },
    {
     "name": "stdout",
     "output_type": "stream",
     "text": [
      "training loss: 2.8821730613708496\n",
      "training loss: 2.887860059738159\n",
      "validation loss: 2.826026439666748\n"
     ]
    },
    {
     "name": "stderr",
     "output_type": "stream",
     "text": [
      "\r",
      "training:  31%|████████████████████████████████████▊                                                                                   | 278/907 [18:55<46:31,  4.44s/it]"
     ]
    },
    {
     "name": "stdout",
     "output_type": "stream",
     "text": [
      "training loss: 2.897233009338379\n",
      "training loss: 2.843151330947876\n"
     ]
    },
    {
     "name": "stderr",
     "output_type": "stream",
     "text": [
      "\r",
      "training:  31%|█████████████████████████████████████                                                                                   | 280/907 [19:06<49:52,  4.77s/it]"
     ]
    },
    {
     "name": "stdout",
     "output_type": "stream",
     "text": [
      "training loss: 2.8855929374694824\n",
      "training loss: 2.8955957889556885\n",
      "training loss: 2.882124900817871\n"
     ]
    },
    {
     "name": "stderr",
     "output_type": "stream",
     "text": [
      "training:  31%|█████████████████████████████████████▍                                                                                  | 283/907 [19:20<49:24,  4.75s/it]"
     ]
    },
    {
     "name": "stdout",
     "output_type": "stream",
     "text": [
      "training loss: 2.8576600551605225\n",
      "training loss: 2.8779327869415283\n",
      "training loss: 2.874000072479248\n"
     ]
    },
    {
     "name": "stderr",
     "output_type": "stream",
     "text": [
      "\r",
      "training:  32%|█████████████████████████████████████▊                                                                                  | 286/907 [19:34<48:25,  4.68s/it]"
     ]
    },
    {
     "name": "stdout",
     "output_type": "stream",
     "text": [
      "training loss: 2.84904146194458\n",
      "training loss: 2.863799810409546\n",
      "training loss: 2.884945869445801\n",
      "training loss: 2.8426592350006104\n"
     ]
    },
    {
     "name": "stderr",
     "output_type": "stream",
     "text": [
      "\r",
      "training:  32%|██████████████████████████████████████▏                                                                                 | 289/907 [19:47<48:05,  4.67s/it]"
     ]
    },
    {
     "name": "stdout",
     "output_type": "stream",
     "text": [
      "validation loss: 2.8452775478363037\n",
      "training loss: 2.8730409145355225\n",
      "training loss: 2.8709874153137207\n"
     ]
    },
    {
     "name": "stderr",
     "output_type": "stream",
     "text": [
      "training:  32%|██████████████████████████████████████▋                                                                                 | 292/907 [20:01<46:59,  4.58s/it]"
     ]
    },
    {
     "name": "stdout",
     "output_type": "stream",
     "text": [
      "training loss: 2.8740386962890625\n",
      "training loss: 2.824824094772339\n",
      "training loss: 2.831237316131592\n"
     ]
    },
    {
     "name": "stderr",
     "output_type": "stream",
     "text": [
      "\r",
      "training:  33%|███████████████████████████████████████                                                                                 | 295/907 [20:13<45:10,  4.43s/it]"
     ]
    },
    {
     "name": "stdout",
     "output_type": "stream",
     "text": [
      "training loss: 2.933001756668091\n",
      "training loss: 2.866415500640869\n",
      "training loss: 2.8615505695343018\n"
     ]
    },
    {
     "name": "stderr",
     "output_type": "stream",
     "text": [
      "\r",
      "training:  33%|███████████████████████████████████████▍                                                                                | 298/907 [20:27<46:10,  4.55s/it]"
     ]
    },
    {
     "name": "stdout",
     "output_type": "stream",
     "text": [
      "training loss: 2.9338223934173584\n",
      "training loss: 2.8861212730407715\n",
      "training loss: 2.8635661602020264\n"
     ]
    },
    {
     "name": "stderr",
     "output_type": "stream",
     "text": [
      "\r",
      "training:  33%|███████████████████████████████████████▍                                                                                | 298/907 [20:40<46:10,  4.55s/it]"
     ]
    },
    {
     "name": "stdout",
     "output_type": "stream",
     "text": [
      "training loss: 2.944488525390625\n"
     ]
    },
    {
     "name": "stderr",
     "output_type": "stream",
     "text": [
      "\r",
      "training:  33%|███████████████████████████████████████▊                                                                                | 301/907 [20:43<48:27,  4.80s/it]"
     ]
    },
    {
     "name": "stdout",
     "output_type": "stream",
     "text": [
      "validation loss: 2.93633770942688\n",
      "training loss: 2.859203338623047\n",
      "training loss: 2.8704192638397217\n"
     ]
    },
    {
     "name": "stderr",
     "output_type": "stream",
     "text": [
      "\r",
      "training:  34%|████████████████████████████████████████▏                                                                               | 304/907 [20:58<48:19,  4.81s/it]"
     ]
    },
    {
     "name": "stdout",
     "output_type": "stream",
     "text": [
      "training loss: 2.8795626163482666\n",
      "training loss: 2.886361598968506\n",
      "training loss: 2.8668267726898193\n"
     ]
    },
    {
     "name": "stderr",
     "output_type": "stream",
     "text": [
      "training:  34%|████████████████████████████████████████▌                                                                               | 307/907 [21:13<49:04,  4.91s/it]"
     ]
    },
    {
     "name": "stdout",
     "output_type": "stream",
     "text": [
      "training loss: 2.8684287071228027\n",
      "training loss: 2.90338134765625\n",
      "training loss: 2.911388397216797\n"
     ]
    },
    {
     "name": "stderr",
     "output_type": "stream",
     "text": [
      "\r",
      "training:  34%|█████████████████████████████████████████                                                                               | 310/907 [21:28<48:51,  4.91s/it]"
     ]
    },
    {
     "name": "stdout",
     "output_type": "stream",
     "text": [
      "training loss: 2.899099111557007\n",
      "training loss: 2.8802242279052734\n",
      "training loss: 2.873386859893799\n"
     ]
    },
    {
     "name": "stderr",
     "output_type": "stream",
     "text": [
      "\r",
      "training:  34%|█████████████████████████████████████████                                                                               | 310/907 [21:40<48:51,  4.91s/it]"
     ]
    },
    {
     "name": "stdout",
     "output_type": "stream",
     "text": [
      "training loss: 2.84721040725708\n"
     ]
    },
    {
     "name": "stderr",
     "output_type": "stream",
     "text": [
      "\r",
      "training:  35%|█████████████████████████████████████████▍                                                                              | 313/907 [21:42<47:23,  4.79s/it]"
     ]
    },
    {
     "name": "stdout",
     "output_type": "stream",
     "text": [
      "validation loss: 2.872248411178589\n",
      "training loss: 2.8586642742156982\n",
      "training loss: 2.8599839210510254\n"
     ]
    },
    {
     "name": "stderr",
     "output_type": "stream",
     "text": [
      "\r",
      "training:  35%|█████████████████████████████████████████▊                                                                              | 316/907 [21:56<46:42,  4.74s/it]"
     ]
    },
    {
     "name": "stdout",
     "output_type": "stream",
     "text": [
      "training loss: 2.866879940032959\n",
      "training loss: 2.85335373878479\n",
      "training loss: 2.8811683654785156\n"
     ]
    },
    {
     "name": "stderr",
     "output_type": "stream",
     "text": [
      "\r",
      "training:  35%|██████████████████████████████████████████▏                                                                             | 319/907 [22:09<45:18,  4.62s/it]"
     ]
    },
    {
     "name": "stdout",
     "output_type": "stream",
     "text": [
      "training loss: 2.877800464630127\n",
      "training loss: 2.8606152534484863\n",
      "training loss: 2.905405282974243\n"
     ]
    },
    {
     "name": "stderr",
     "output_type": "stream",
     "text": [
      "training:  36%|██████████████████████████████████████████▌                                                                             | 322/907 [22:22<44:42,  4.59s/it]"
     ]
    },
    {
     "name": "stdout",
     "output_type": "stream",
     "text": [
      "training loss: 2.976928234100342\n",
      "training loss: 2.9107046127319336\n",
      "training loss: 2.872101068496704\n",
      "training loss: 2.847687005996704\n"
     ]
    },
    {
     "name": "stderr",
     "output_type": "stream",
     "text": [
      "\r",
      "training:  36%|██████████████████████████████████████████▉                                                                             | 325/907 [22:36<44:23,  4.58s/it]"
     ]
    },
    {
     "name": "stdout",
     "output_type": "stream",
     "text": [
      "validation loss: 2.8994300365448\n",
      "training loss: 2.878833293914795\n",
      "training loss: 2.909008502960205\n"
     ]
    },
    {
     "name": "stderr",
     "output_type": "stream",
     "text": [
      "\r",
      "training:  36%|███████████████████████████████████████████▍                                                                            | 328/907 [22:49<43:17,  4.49s/it]"
     ]
    },
    {
     "name": "stdout",
     "output_type": "stream",
     "text": [
      "training loss: 2.8734183311462402\n",
      "training loss: 2.9401133060455322\n",
      "training loss: 2.8338963985443115\n"
     ]
    },
    {
     "name": "stderr",
     "output_type": "stream",
     "text": [
      "training:  36%|███████████████████████████████████████████▊                                                                            | 331/907 [23:01<42:28,  4.42s/it]"
     ]
    },
    {
     "name": "stdout",
     "output_type": "stream",
     "text": [
      "training loss: 2.8437676429748535\n",
      "training loss: 2.879946708679199\n",
      "training loss: 2.854668378829956\n"
     ]
    },
    {
     "name": "stderr",
     "output_type": "stream",
     "text": [
      "\r",
      "training:  37%|████████████████████████████████████████████▏                                                                           | 334/907 [23:14<41:41,  4.37s/it]"
     ]
    },
    {
     "name": "stdout",
     "output_type": "stream",
     "text": [
      "training loss: 2.940268039703369\n",
      "training loss: 2.8823745250701904\n",
      "training loss: 2.85939359664917\n",
      "training loss: 2.9606566429138184\n"
     ]
    },
    {
     "name": "stderr",
     "output_type": "stream",
     "text": [
      "\r",
      "training:  37%|████████████████████████████████████████████▌                                                                           | 337/907 [23:27<41:21,  4.35s/it]"
     ]
    },
    {
     "name": "stdout",
     "output_type": "stream",
     "text": [
      "validation loss: 2.8566136360168457\n",
      "training loss: 2.8936586380004883\n",
      "training loss: 2.8716113567352295\n"
     ]
    },
    {
     "name": "stderr",
     "output_type": "stream",
     "text": [
      "\r",
      "training:  37%|████████████████████████████████████████████▉                                                                           | 340/907 [23:39<40:21,  4.27s/it]"
     ]
    },
    {
     "name": "stdout",
     "output_type": "stream",
     "text": [
      "training loss: 2.926434278488159\n",
      "training loss: 2.8848981857299805\n",
      "training loss: 2.8327949047088623\n"
     ]
    },
    {
     "name": "stderr",
     "output_type": "stream",
     "text": [
      "training:  38%|█████████████████████████████████████████████▍                                                                          | 343/907 [23:53<41:01,  4.36s/it]"
     ]
    },
    {
     "name": "stdout",
     "output_type": "stream",
     "text": [
      "training loss: 2.8908891677856445\n",
      "training loss: 2.8721680641174316\n",
      "training loss: 2.822765350341797\n"
     ]
    },
    {
     "name": "stderr",
     "output_type": "stream",
     "text": [
      "\r",
      "training:  38%|█████████████████████████████████████████████▊                                                                          | 346/907 [24:06<40:52,  4.37s/it]"
     ]
    },
    {
     "name": "stdout",
     "output_type": "stream",
     "text": [
      "training loss: 2.8494222164154053\n",
      "training loss: 2.9103639125823975\n",
      "training loss: 2.8876163959503174\n"
     ]
    },
    {
     "name": "stderr",
     "output_type": "stream",
     "text": [
      "\r",
      "training:  38%|█████████████████████████████████████████████▊                                                                          | 346/907 [24:20<40:52,  4.37s/it]"
     ]
    },
    {
     "name": "stdout",
     "output_type": "stream",
     "text": [
      "training loss: 2.897667169570923\n"
     ]
    },
    {
     "name": "stderr",
     "output_type": "stream",
     "text": [
      "\r",
      "training:  38%|██████████████████████████████████████████████▏                                                                         | 349/907 [24:20<41:46,  4.49s/it]"
     ]
    },
    {
     "name": "stdout",
     "output_type": "stream",
     "text": [
      "validation loss: 2.9129157066345215\n",
      "training loss: 2.896474838256836\n",
      "training loss: 2.8771679401397705\n"
     ]
    },
    {
     "name": "stderr",
     "output_type": "stream",
     "text": [
      "\r",
      "training:  39%|██████████████████████████████████████████████▌                                                                         | 352/907 [24:34<41:15,  4.46s/it]"
     ]
    },
    {
     "name": "stdout",
     "output_type": "stream",
     "text": [
      "training loss: 2.8905537128448486\n",
      "training loss: 2.8614654541015625\n",
      "training loss: 2.8780620098114014\n"
     ]
    },
    {
     "name": "stderr",
     "output_type": "stream",
     "text": [
      "\r",
      "training:  39%|██████████████████████████████████████████████▉                                                                         | 355/907 [24:47<41:27,  4.51s/it]"
     ]
    },
    {
     "name": "stdout",
     "output_type": "stream",
     "text": [
      "training loss: 2.8925600051879883\n",
      "training loss: 2.9161109924316406\n",
      "training loss: 2.878441572189331\n"
     ]
    },
    {
     "name": "stderr",
     "output_type": "stream",
     "text": [
      "training:  39%|███████████████████████████████████████████████▎                                                                        | 358/907 [25:01<41:09,  4.50s/it]"
     ]
    },
    {
     "name": "stdout",
     "output_type": "stream",
     "text": [
      "training loss: 2.8692643642425537\n",
      "training loss: 2.8927602767944336\n",
      "training loss: 2.8674066066741943\n",
      "training loss: 2.901503801345825\n"
     ]
    },
    {
     "name": "stderr",
     "output_type": "stream",
     "text": [
      "\r",
      "training:  40%|███████████████████████████████████████████████▊                                                                        | 361/907 [25:15<41:00,  4.51s/it]"
     ]
    },
    {
     "name": "stdout",
     "output_type": "stream",
     "text": [
      "validation loss: 2.966235876083374\n",
      "training loss: 2.9320900440216064\n",
      "training loss: 2.8828046321868896\n"
     ]
    },
    {
     "name": "stderr",
     "output_type": "stream",
     "text": [
      "\r",
      "training:  40%|████████████████████████████████████████████████▏                                                                       | 364/907 [25:28<40:28,  4.47s/it]"
     ]
    },
    {
     "name": "stdout",
     "output_type": "stream",
     "text": [
      "training loss: 2.9215779304504395\n",
      "training loss: 2.871053457260132\n",
      "training loss: 2.9038591384887695\n"
     ]
    },
    {
     "name": "stderr",
     "output_type": "stream",
     "text": [
      "training:  40%|████████████████████████████████████████████████▌                                                                       | 367/907 [25:41<40:02,  4.45s/it]"
     ]
    },
    {
     "name": "stdout",
     "output_type": "stream",
     "text": [
      "training loss: 2.892068386077881\n",
      "training loss: 2.8865139484405518\n",
      "training loss: 2.8922624588012695\n"
     ]
    },
    {
     "name": "stderr",
     "output_type": "stream",
     "text": [
      "\r",
      "training:  41%|████████████████████████████████████████████████▉                                                                       | 370/907 [25:53<38:27,  4.30s/it]"
     ]
    },
    {
     "name": "stdout",
     "output_type": "stream",
     "text": [
      "training loss: 2.8487231731414795\n",
      "training loss: 2.8301475048065186\n",
      "training loss: 2.8729562759399414\n",
      "training loss: 2.882448673248291\n"
     ]
    },
    {
     "name": "stderr",
     "output_type": "stream",
     "text": [
      "\r",
      "training:  41%|█████████████████████████████████████████████████▎                                                                      | 373/907 [26:07<39:36,  4.45s/it]"
     ]
    },
    {
     "name": "stdout",
     "output_type": "stream",
     "text": [
      "validation loss: 2.8793299198150635\n",
      "training loss: 2.831987142562866\n",
      "training loss: 2.8597006797790527\n"
     ]
    },
    {
     "name": "stderr",
     "output_type": "stream",
     "text": [
      "training:  41%|█████████████████████████████████████████████████▋                                                                      | 376/907 [26:21<39:35,  4.47s/it]"
     ]
    },
    {
     "name": "stdout",
     "output_type": "stream",
     "text": [
      "training loss: 2.9222021102905273\n",
      "training loss: 2.854374408721924\n",
      "training loss: 2.836827278137207\n"
     ]
    },
    {
     "name": "stderr",
     "output_type": "stream",
     "text": [
      "\r",
      "training:  42%|██████████████████████████████████████████████████▏                                                                     | 379/907 [26:33<38:48,  4.41s/it]"
     ]
    },
    {
     "name": "stdout",
     "output_type": "stream",
     "text": [
      "training loss: 2.8515968322753906\n",
      "training loss: 2.8969876766204834\n",
      "training loss: 2.872987985610962\n"
     ]
    },
    {
     "name": "stderr",
     "output_type": "stream",
     "text": [
      "\r",
      "training:  42%|██████████████████████████████████████████████████▌                                                                     | 382/907 [26:47<39:08,  4.47s/it]"
     ]
    },
    {
     "name": "stdout",
     "output_type": "stream",
     "text": [
      "training loss: 2.850409984588623\n",
      "training loss: 2.89452862739563\n",
      "training loss: 2.8925528526306152\n"
     ]
    },
    {
     "name": "stderr",
     "output_type": "stream",
     "text": [
      "\r",
      "training:  42%|██████████████████████████████████████████████████▌                                                                     | 382/907 [27:00<39:08,  4.47s/it]"
     ]
    },
    {
     "name": "stdout",
     "output_type": "stream",
     "text": [
      "training loss: 2.9280333518981934\n"
     ]
    },
    {
     "name": "stderr",
     "output_type": "stream",
     "text": [
      "\r",
      "training:  42%|██████████████████████████████████████████████████▉                                                                     | 385/907 [27:04<41:18,  4.75s/it]"
     ]
    },
    {
     "name": "stdout",
     "output_type": "stream",
     "text": [
      "validation loss: 2.9097633361816406\n",
      "training loss: 2.896366596221924\n"
     ]
    },
    {
     "name": "stderr",
     "output_type": "stream",
     "text": [
      "\r",
      "training:  43%|███████████████████████████████████████████████████▏                                                                    | 387/907 [27:15<43:36,  5.03s/it]"
     ]
    },
    {
     "name": "stdout",
     "output_type": "stream",
     "text": [
      "training loss: 2.8490917682647705\n",
      "training loss: 2.877406120300293\n"
     ]
    },
    {
     "name": "stderr",
     "output_type": "stream",
     "text": [
      "\r",
      "training:  43%|███████████████████████████████████████████████████▍                                                                    | 389/907 [27:27<46:34,  5.40s/it]"
     ]
    },
    {
     "name": "stdout",
     "output_type": "stream",
     "text": [
      "training loss: 2.899343967437744\n",
      "training loss: 2.8845067024230957\n"
     ]
    },
    {
     "name": "stderr",
     "output_type": "stream",
     "text": [
      "\r",
      "training:  43%|███████████████████████████████████████████████████▋                                                                    | 391/907 [27:39<47:13,  5.49s/it]"
     ]
    },
    {
     "name": "stdout",
     "output_type": "stream",
     "text": [
      "training loss: 2.930011034011841\n",
      "training loss: 2.911536693572998\n",
      "training loss: 2.860905885696411\n",
      "training loss: 2.905923366546631\n"
     ]
    },
    {
     "name": "stderr",
     "output_type": "stream",
     "text": [
      "\r",
      "training:  44%|████████████████████████████████████████████████████▎                                                                   | 395/907 [27:49<39:22,  4.61s/it]"
     ]
    },
    {
     "name": "stdout",
     "output_type": "stream",
     "text": [
      "training loss: 2.885195016860962\n",
      "training loss: 2.8713035583496094\n",
      "training loss: 2.9457149505615234\n",
      "validation loss: 2.845780611038208\n",
      "training loss: 2.899362087249756\n",
      "training loss: 2.8385260105133057\n",
      "training loss: 2.9060471057891846\n",
      "training loss: 2.8725333213806152\n",
      "training loss: 2.8274736404418945\n"
     ]
    },
    {
     "name": "stderr",
     "output_type": "stream",
     "text": [
      "training:  44%|█████████████████████████████████████████████████████▎                                                                  | 403/907 [28:01<30:56,  3.68s/it]"
     ]
    },
    {
     "name": "stdout",
     "output_type": "stream",
     "text": [
      "training loss: 2.884249448776245\n",
      "training loss: 2.826738119125366\n",
      "training loss: 2.8496153354644775\n",
      "training loss: 2.8880574703216553\n",
      "training loss: 2.9266538619995117\n",
      "training loss: 2.8903541564941406\n"
     ]
    },
    {
     "name": "stderr",
     "output_type": "stream",
     "text": [
      "training:  45%|██████████████████████████████████████████████████████                                                                  | 409/907 [28:20<29:10,  3.51s/it]"
     ]
    },
    {
     "name": "stdout",
     "output_type": "stream",
     "text": [
      "training loss: 2.841649293899536\n",
      "validation loss: 2.8660473823547363\n",
      "training loss: 2.8632254600524902\n",
      "training loss: 2.8450825214385986\n",
      "training loss: 2.8631420135498047\n"
     ]
    },
    {
     "name": "stderr",
     "output_type": "stream",
     "text": [
      "\r",
      "training:  46%|██████████████████████████████████████████████████████▋                                                                 | 413/907 [28:37<31:04,  3.77s/it]"
     ]
    },
    {
     "name": "stdout",
     "output_type": "stream",
     "text": [
      "training loss: 2.890597343444824\n",
      "training loss: 2.862889289855957\n",
      "training loss: 2.8408608436584473\n"
     ]
    },
    {
     "name": "stderr",
     "output_type": "stream",
     "text": [
      "training:  46%|███████████████████████████████████████████████████████                                                                 | 416/907 [28:53<34:12,  4.18s/it]"
     ]
    },
    {
     "name": "stdout",
     "output_type": "stream",
     "text": [
      "training loss: 2.891606330871582\n",
      "training loss: 2.843782901763916\n",
      "training loss: 2.9104502201080322\n"
     ]
    },
    {
     "name": "stderr",
     "output_type": "stream",
     "text": [
      "\r",
      "training:  46%|███████████████████████████████████████████████████████▍                                                                | 419/907 [29:06<34:40,  4.26s/it]"
     ]
    },
    {
     "name": "stdout",
     "output_type": "stream",
     "text": [
      "training loss: 2.8948049545288086\n",
      "training loss: 2.8856041431427\n",
      "training loss: 2.8736050128936768\n",
      "validation loss: 2.864835739135742\n"
     ]
    },
    {
     "name": "stderr",
     "output_type": "stream",
     "text": [
      "\r",
      "training:  47%|███████████████████████████████████████████████████████▊                                                                | 422/907 [29:19<34:35,  4.28s/it]"
     ]
    },
    {
     "name": "stdout",
     "output_type": "stream",
     "text": [
      "training loss: 2.8042707443237305\n",
      "training loss: 2.852210283279419\n",
      "training loss: 2.9193880558013916\n"
     ]
    },
    {
     "name": "stderr",
     "output_type": "stream",
     "text": [
      "training:  47%|████████████████████████████████████████████████████████▏                                                               | 425/907 [29:34<35:40,  4.44s/it]"
     ]
    },
    {
     "name": "stdout",
     "output_type": "stream",
     "text": [
      "training loss: 2.8654916286468506\n",
      "training loss: 2.8497073650360107\n",
      "training loss: 2.8808064460754395\n"
     ]
    },
    {
     "name": "stderr",
     "output_type": "stream",
     "text": [
      "\r",
      "training:  47%|████████████████████████████████████████████████████████▋                                                               | 428/907 [29:49<37:12,  4.66s/it]"
     ]
    },
    {
     "name": "stdout",
     "output_type": "stream",
     "text": [
      "training loss: 2.8660335540771484\n",
      "training loss: 2.833432912826538\n",
      "training loss: 2.8698508739471436\n"
     ]
    },
    {
     "name": "stderr",
     "output_type": "stream",
     "text": [
      "training:  48%|█████████████████████████████████████████████████████████                                                               | 431/907 [30:04<37:42,  4.75s/it]"
     ]
    },
    {
     "name": "stdout",
     "output_type": "stream",
     "text": [
      "training loss: 2.8903648853302\n",
      "training loss: 2.85966420173645\n",
      "training loss: 2.963106632232666\n",
      "validation loss: 2.8621957302093506\n"
     ]
    },
    {
     "name": "stderr",
     "output_type": "stream",
     "text": [
      "training:  48%|█████████████████████████████████████████████████████████▍                                                              | 434/907 [30:21<39:25,  5.00s/it]"
     ]
    },
    {
     "name": "stdout",
     "output_type": "stream",
     "text": [
      "training loss: 2.9152872562408447\n",
      "training loss: 2.902249813079834\n"
     ]
    },
    {
     "name": "stderr",
     "output_type": "stream",
     "text": [
      "\r",
      "training:  48%|█████████████████████████████████████████████████████████▋                                                              | 436/907 [30:32<40:16,  5.13s/it]"
     ]
    },
    {
     "name": "stdout",
     "output_type": "stream",
     "text": [
      "training loss: 2.8428335189819336\n",
      "training loss: 2.868950128555298\n",
      "training loss: 2.883131265640259\n"
     ]
    },
    {
     "name": "stderr",
     "output_type": "stream",
     "text": [
      "\r",
      "training:  48%|██████████████████████████████████████████████████████████                                                              | 439/907 [30:46<39:11,  5.02s/it]"
     ]
    },
    {
     "name": "stdout",
     "output_type": "stream",
     "text": [
      "training loss: 2.877521276473999\n",
      "training loss: 2.866666078567505\n",
      "training loss: 2.9209933280944824\n"
     ]
    },
    {
     "name": "stderr",
     "output_type": "stream",
     "text": [
      "training:  49%|██████████████████████████████████████████████████████████▍                                                             | 442/907 [31:01<38:59,  5.03s/it]"
     ]
    },
    {
     "name": "stdout",
     "output_type": "stream",
     "text": [
      "training loss: 2.8676748275756836\n",
      "training loss: 2.8585469722747803\n",
      "training loss: 2.9241080284118652\n",
      "training loss: 2.898226022720337\n"
     ]
    },
    {
     "name": "stderr",
     "output_type": "stream",
     "text": [
      "\r",
      "training:  49%|██████████████████████████████████████████████████████████▉                                                             | 445/907 [31:18<40:13,  5.22s/it]"
     ]
    },
    {
     "name": "stdout",
     "output_type": "stream",
     "text": [
      "validation loss: 2.864867687225342\n",
      "training loss: 2.846278429031372\n"
     ]
    },
    {
     "name": "stderr",
     "output_type": "stream",
     "text": [
      "training:  49%|███████████████████████████████████████████████████████████▏                                                            | 447/907 [31:30<41:39,  5.43s/it]"
     ]
    },
    {
     "name": "stdout",
     "output_type": "stream",
     "text": [
      "training loss: 2.8849103450775146\n",
      "training loss: 2.9269657135009766\n"
     ]
    },
    {
     "name": "stderr",
     "output_type": "stream",
     "text": [
      "\r",
      "training:  50%|███████████████████████████████████████████████████████████▍                                                            | 449/907 [31:41<41:21,  5.42s/it]"
     ]
    },
    {
     "name": "stdout",
     "output_type": "stream",
     "text": [
      "training loss: 2.8766961097717285\n",
      "training loss: 2.9085633754730225\n"
     ]
    },
    {
     "name": "stderr",
     "output_type": "stream",
     "text": [
      "\r",
      "training:  50%|███████████████████████████████████████████████████████████▋                                                            | 451/907 [31:51<40:40,  5.35s/it]"
     ]
    },
    {
     "name": "stdout",
     "output_type": "stream",
     "text": [
      "training loss: 2.9051246643066406\n",
      "training loss: 2.8496623039245605\n"
     ]
    },
    {
     "name": "stderr",
     "output_type": "stream",
     "text": [
      "\r",
      "training:  50%|███████████████████████████████████████████████████████████▉                                                            | 453/907 [32:01<39:45,  5.26s/it]"
     ]
    },
    {
     "name": "stdout",
     "output_type": "stream",
     "text": [
      "training loss: 2.8849148750305176\n",
      "training loss: 2.8604376316070557\n",
      "training loss: 2.863335371017456\n",
      "training loss: 2.870535373687744\n",
      "training loss: 2.9339852333068848\n",
      "validation loss: 2.8970987796783447\n"
     ]
    },
    {
     "name": "stderr",
     "output_type": "stream",
     "text": [
      "\r",
      "training:  50%|████████████████████████████████████████████████████████████▌                                                           | 458/907 [32:11<32:04,  4.29s/it]"
     ]
    },
    {
     "name": "stdout",
     "output_type": "stream",
     "text": [
      "training loss: 2.907189130783081\n",
      "training loss: 2.901350498199463\n",
      "training loss: 2.8583459854125977\n",
      "training loss: 2.8575551509857178\n",
      "training loss: 2.867298126220703\n"
     ]
    },
    {
     "name": "stderr",
     "output_type": "stream",
     "text": [
      "\r",
      "training:  51%|█████████████████████████████████████████████████████████████▎                                                          | 463/907 [32:22<26:52,  3.63s/it]"
     ]
    },
    {
     "name": "stdout",
     "output_type": "stream",
     "text": [
      "training loss: 2.8653602600097656\n",
      "training loss: 2.8890411853790283\n",
      "training loss: 2.8817250728607178\n",
      "training loss: 2.8832929134368896\n",
      "training loss: 2.9084181785583496\n"
     ]
    },
    {
     "name": "stderr",
     "output_type": "stream",
     "text": [
      "\r",
      "training:  52%|█████████████████████████████████████████████████████████████▉                                                          | 468/907 [32:37<25:23,  3.47s/it]"
     ]
    },
    {
     "name": "stdout",
     "output_type": "stream",
     "text": [
      "training loss: 2.8464276790618896\n",
      "training loss: 2.820460557937622\n",
      "validation loss: 2.8704869747161865\n",
      "training loss: 2.8242387771606445\n"
     ]
    },
    {
     "name": "stderr",
     "output_type": "stream",
     "text": [
      "training:  52%|██████████████████████████████████████████████████████████████▎                                                         | 471/907 [32:52<28:08,  3.87s/it]"
     ]
    },
    {
     "name": "stdout",
     "output_type": "stream",
     "text": [
      "training loss: 2.891794443130493\n",
      "training loss: 2.8579165935516357\n",
      "training loss: 2.91090726852417\n"
     ]
    },
    {
     "name": "stderr",
     "output_type": "stream",
     "text": [
      "\r",
      "training:  52%|██████████████████████████████████████████████████████████████▋                                                         | 474/907 [33:06<29:38,  4.11s/it]"
     ]
    },
    {
     "name": "stdout",
     "output_type": "stream",
     "text": [
      "training loss: 2.850898265838623\n",
      "training loss: 2.967855930328369\n",
      "training loss: 2.883723258972168\n"
     ]
    },
    {
     "name": "stderr",
     "output_type": "stream",
     "text": [
      "training:  53%|███████████████████████████████████████████████████████████████                                                         | 477/907 [33:20<30:37,  4.27s/it]"
     ]
    },
    {
     "name": "stdout",
     "output_type": "stream",
     "text": [
      "training loss: 2.8276114463806152\n",
      "training loss: 2.8479487895965576\n",
      "training loss: 2.8653786182403564\n"
     ]
    },
    {
     "name": "stderr",
     "output_type": "stream",
     "text": [
      "\r",
      "training:  53%|███████████████████████████████████████████████████████████████▌                                                        | 480/907 [33:34<31:14,  4.39s/it]"
     ]
    },
    {
     "name": "stdout",
     "output_type": "stream",
     "text": [
      "training loss: 2.8496649265289307\n",
      "training loss: 2.884154796600342\n",
      "validation loss: 2.856304407119751\n",
      "training loss: 2.899012565612793\n"
     ]
    },
    {
     "name": "stderr",
     "output_type": "stream",
     "text": [
      "\r",
      "training:  53%|███████████████████████████████████████████████████████████████▉                                                        | 483/907 [33:48<31:54,  4.52s/it]"
     ]
    },
    {
     "name": "stdout",
     "output_type": "stream",
     "text": [
      "training loss: 2.8626809120178223\n",
      "training loss: 2.9434256553649902\n",
      "training loss: 2.8825550079345703\n"
     ]
    },
    {
     "name": "stderr",
     "output_type": "stream",
     "text": [
      "training:  54%|████████████████████████████████████████████████████████████████▎                                                       | 486/907 [34:02<31:59,  4.56s/it]"
     ]
    },
    {
     "name": "stdout",
     "output_type": "stream",
     "text": [
      "training loss: 2.8678138256073\n",
      "training loss: 2.8751959800720215\n",
      "training loss: 2.839568853378296\n"
     ]
    },
    {
     "name": "stderr",
     "output_type": "stream",
     "text": [
      "\r",
      "training:  54%|████████████████████████████████████████████████████████████████▋                                                       | 489/907 [34:16<32:00,  4.59s/it]"
     ]
    },
    {
     "name": "stdout",
     "output_type": "stream",
     "text": [
      "training loss: 2.851198673248291\n",
      "training loss: 2.8950212001800537\n",
      "training loss: 2.905219793319702\n"
     ]
    },
    {
     "name": "stderr",
     "output_type": "stream",
     "text": [
      "training:  54%|█████████████████████████████████████████████████████████████████                                                       | 492/907 [34:30<31:56,  4.62s/it]"
     ]
    },
    {
     "name": "stdout",
     "output_type": "stream",
     "text": [
      "training loss: 2.888690948486328\n",
      "training loss: 2.8553452491760254\n",
      "validation loss: 2.9158523082733154\n",
      "training loss: 2.89459490776062\n"
     ]
    },
    {
     "name": "stderr",
     "output_type": "stream",
     "text": [
      "\r",
      "training:  55%|█████████████████████████████████████████████████████████████████▍                                                      | 495/907 [34:44<31:45,  4.63s/it]"
     ]
    },
    {
     "name": "stdout",
     "output_type": "stream",
     "text": [
      "training loss: 2.898175001144409\n",
      "training loss: 2.8653342723846436\n",
      "training loss: 2.891932487487793\n"
     ]
    },
    {
     "name": "stderr",
     "output_type": "stream",
     "text": [
      "\r",
      "training:  55%|█████████████████████████████████████████████████████████████████▉                                                      | 498/907 [34:58<31:36,  4.64s/it]"
     ]
    },
    {
     "name": "stdout",
     "output_type": "stream",
     "text": [
      "training loss: 2.8768181800842285\n",
      "training loss: 2.914806842803955\n",
      "training loss: 2.8716659545898438\n"
     ]
    },
    {
     "name": "stderr",
     "output_type": "stream",
     "text": [
      "training:  55%|██████████████████████████████████████████████████████████████████▎                                                     | 501/907 [35:12<31:26,  4.65s/it]"
     ]
    },
    {
     "name": "stdout",
     "output_type": "stream",
     "text": [
      "training loss: 2.884138822555542\n",
      "training loss: 2.909100294113159\n",
      "training loss: 2.879056930541992\n"
     ]
    },
    {
     "name": "stderr",
     "output_type": "stream",
     "text": [
      "\r",
      "training:  56%|██████████████████████████████████████████████████████████████████▋                                                     | 504/907 [35:26<31:15,  4.65s/it]"
     ]
    },
    {
     "name": "stdout",
     "output_type": "stream",
     "text": [
      "training loss: 2.889477014541626\n",
      "training loss: 2.9087460041046143\n",
      "validation loss: 2.904697895050049\n",
      "training loss: 2.8504059314727783\n"
     ]
    },
    {
     "name": "stderr",
     "output_type": "stream",
     "text": [
      "training:  56%|███████████████████████████████████████████████████████████████████                                                     | 507/907 [35:40<31:17,  4.69s/it]"
     ]
    },
    {
     "name": "stdout",
     "output_type": "stream",
     "text": [
      "training loss: 2.8284919261932373\n",
      "training loss: 2.8782923221588135\n",
      "training loss: 2.878492832183838\n"
     ]
    },
    {
     "name": "stderr",
     "output_type": "stream",
     "text": [
      "\r",
      "training:  56%|███████████████████████████████████████████████████████████████████▍                                                    | 510/907 [35:54<31:00,  4.69s/it]"
     ]
    },
    {
     "name": "stdout",
     "output_type": "stream",
     "text": [
      "training loss: 2.865723133087158\n",
      "training loss: 2.878939151763916\n",
      "training loss: 2.8599419593811035\n"
     ]
    },
    {
     "name": "stderr",
     "output_type": "stream",
     "text": [
      "\r",
      "training:  57%|███████████████████████████████████████████████████████████████████▊                                                    | 513/907 [36:08<30:44,  4.68s/it]"
     ]
    },
    {
     "name": "stdout",
     "output_type": "stream",
     "text": [
      "training loss: 2.883469343185425\n",
      "training loss: 2.920163631439209\n",
      "training loss: 2.8921725749969482\n"
     ]
    },
    {
     "name": "stderr",
     "output_type": "stream",
     "text": [
      "training:  57%|████████████████████████████████████████████████████████████████████▎                                                   | 516/907 [36:23<30:33,  4.69s/it]"
     ]
    },
    {
     "name": "stdout",
     "output_type": "stream",
     "text": [
      "training loss: 2.989017963409424\n",
      "training loss: 2.8465263843536377\n",
      "validation loss: 2.9091131687164307\n",
      "training loss: 2.9288289546966553\n"
     ]
    },
    {
     "name": "stderr",
     "output_type": "stream",
     "text": [
      "\r",
      "training:  57%|████████████████████████████████████████████████████████████████████▋                                                   | 519/907 [36:37<30:32,  4.72s/it]"
     ]
    },
    {
     "name": "stdout",
     "output_type": "stream",
     "text": [
      "training loss: 2.924039840698242\n",
      "training loss: 2.883997678756714\n",
      "training loss: 2.8816416263580322\n"
     ]
    },
    {
     "name": "stderr",
     "output_type": "stream",
     "text": [
      "training:  58%|█████████████████████████████████████████████████████████████████████                                                   | 522/907 [36:51<30:17,  4.72s/it]"
     ]
    },
    {
     "name": "stdout",
     "output_type": "stream",
     "text": [
      "training loss: 2.9330644607543945\n",
      "training loss: 2.897125244140625\n",
      "training loss: 2.88429856300354\n"
     ]
    },
    {
     "name": "stderr",
     "output_type": "stream",
     "text": [
      "\r",
      "training:  58%|█████████████████████████████████████████████████████████████████████▍                                                  | 525/907 [37:05<29:57,  4.71s/it]"
     ]
    },
    {
     "name": "stdout",
     "output_type": "stream",
     "text": [
      "training loss: 2.950247287750244\n",
      "training loss: 2.8680968284606934\n",
      "training loss: 2.886593818664551\n"
     ]
    },
    {
     "name": "stderr",
     "output_type": "stream",
     "text": [
      "training:  58%|█████████████████████████████████████████████████████████████████████▊                                                  | 528/907 [37:20<30:11,  4.78s/it]"
     ]
    },
    {
     "name": "stdout",
     "output_type": "stream",
     "text": [
      "training loss: 2.8988263607025146\n",
      "training loss: 2.924835443496704\n",
      "validation loss: 2.875096082687378\n",
      "training loss: 2.933306932449341\n"
     ]
    },
    {
     "name": "stderr",
     "output_type": "stream",
     "text": [
      "\r",
      "training:  59%|██████████████████████████████████████████████████████████████████████▎                                                 | 531/907 [37:35<30:18,  4.84s/it]"
     ]
    },
    {
     "name": "stdout",
     "output_type": "stream",
     "text": [
      "training loss: 2.8977155685424805\n",
      "training loss: 2.886639356613159\n",
      "training loss: 2.861635208129883\n"
     ]
    },
    {
     "name": "stderr",
     "output_type": "stream",
     "text": [
      "training:  59%|██████████████████████████████████████████████████████████████████████▋                                                 | 534/907 [37:50<30:36,  4.92s/it]"
     ]
    },
    {
     "name": "stdout",
     "output_type": "stream",
     "text": [
      "training loss: 2.858506202697754\n",
      "training loss: 2.890357494354248\n"
     ]
    },
    {
     "name": "stderr",
     "output_type": "stream",
     "text": [
      "\r",
      "training:  59%|██████████████████████████████████████████████████████████████████████▉                                                 | 536/907 [38:01<31:08,  5.04s/it]"
     ]
    },
    {
     "name": "stdout",
     "output_type": "stream",
     "text": [
      "training loss: 2.8865509033203125\n",
      "training loss: 2.8440895080566406\n"
     ]
    },
    {
     "name": "stderr",
     "output_type": "stream",
     "text": [
      "\r",
      "training:  59%|███████████████████████████████████████████████████████████████████████▏                                                | 538/907 [38:11<31:11,  5.07s/it]"
     ]
    },
    {
     "name": "stdout",
     "output_type": "stream",
     "text": [
      "training loss: 2.8545637130737305\n",
      "training loss: 2.8733034133911133\n"
     ]
    },
    {
     "name": "stderr",
     "output_type": "stream",
     "text": [
      "\r",
      "training:  60%|███████████████████████████████████████████████████████████████████████▍                                                | 540/907 [38:22<31:27,  5.14s/it]"
     ]
    },
    {
     "name": "stdout",
     "output_type": "stream",
     "text": [
      "training loss: 2.8838932514190674\n",
      "training loss: 2.912247896194458\n",
      "validation loss: 2.882730007171631\n"
     ]
    },
    {
     "name": "stderr",
     "output_type": "stream",
     "text": [
      "\r",
      "training:  60%|███████████████████████████████████████████████████████████████████████▋                                                | 542/907 [38:33<31:44,  5.22s/it]"
     ]
    },
    {
     "name": "stdout",
     "output_type": "stream",
     "text": [
      "training loss: 2.8803765773773193\n",
      "training loss: 2.8955862522125244\n"
     ]
    },
    {
     "name": "stderr",
     "output_type": "stream",
     "text": [
      "\r",
      "training:  60%|███████████████████████████████████████████████████████████████████████▉                                                | 544/907 [38:43<31:44,  5.25s/it]"
     ]
    },
    {
     "name": "stdout",
     "output_type": "stream",
     "text": [
      "training loss: 2.8614540100097656\n",
      "training loss: 2.8808650970458984\n"
     ]
    },
    {
     "name": "stderr",
     "output_type": "stream",
     "text": [
      "\r",
      "training:  60%|████████████████████████████████████████████████████████████████████████▏                                               | 546/907 [38:54<31:23,  5.22s/it]"
     ]
    },
    {
     "name": "stdout",
     "output_type": "stream",
     "text": [
      "training loss: 2.9128012657165527\n",
      "training loss: 2.8585801124572754\n"
     ]
    },
    {
     "name": "stderr",
     "output_type": "stream",
     "text": [
      "\r",
      "training:  60%|████████████████████████████████████████████████████████████████████████▌                                               | 548/907 [39:04<31:18,  5.23s/it]"
     ]
    },
    {
     "name": "stdout",
     "output_type": "stream",
     "text": [
      "training loss: 2.8404412269592285\n",
      "training loss: 2.9028940200805664\n",
      "training loss: 2.8655428886413574\n"
     ]
    },
    {
     "name": "stderr",
     "output_type": "stream",
     "text": [
      "training:  61%|████████████████████████████████████████████████████████████████████████▉                                               | 551/907 [39:20<31:03,  5.23s/it]"
     ]
    },
    {
     "name": "stdout",
     "output_type": "stream",
     "text": [
      "training loss: 2.881802797317505\n",
      "training loss: 2.878324031829834\n",
      "training loss: 2.857567548751831\n"
     ]
    },
    {
     "name": "stderr",
     "output_type": "stream",
     "text": [
      "\r",
      "training:  61%|█████████████████████████████████████████████████████████████████████████▏                                              | 553/907 [39:32<32:52,  5.57s/it]"
     ]
    },
    {
     "name": "stdout",
     "output_type": "stream",
     "text": [
      "validation loss: 2.8782246112823486\n",
      "training loss: 2.916198968887329\n",
      "training loss: 2.8809468746185303\n"
     ]
    },
    {
     "name": "stderr",
     "output_type": "stream",
     "text": [
      "\r",
      "training:  61%|█████████████████████████████████████████████████████████████████████████▌                                              | 556/907 [39:48<31:39,  5.41s/it]"
     ]
    },
    {
     "name": "stdout",
     "output_type": "stream",
     "text": [
      "training loss: 2.8910417556762695\n",
      "training loss: 2.854788064956665\n"
     ]
    },
    {
     "name": "stderr",
     "output_type": "stream",
     "text": [
      "\r",
      "training:  62%|█████████████████████████████████████████████████████████████████████████▊                                              | 558/907 [39:59<31:33,  5.43s/it]"
     ]
    },
    {
     "name": "stdout",
     "output_type": "stream",
     "text": [
      "training loss: 2.8761587142944336\n",
      "training loss: 2.8997323513031006\n"
     ]
    },
    {
     "name": "stderr",
     "output_type": "stream",
     "text": [
      "\r",
      "training:  62%|██████████████████████████████████████████████████████████████████████████                                              | 560/907 [40:09<30:50,  5.33s/it]"
     ]
    },
    {
     "name": "stdout",
     "output_type": "stream",
     "text": [
      "training loss: 2.8692033290863037\n",
      "training loss: 2.875136137008667\n"
     ]
    },
    {
     "name": "stderr",
     "output_type": "stream",
     "text": [
      "\r",
      "training:  62%|██████████████████████████████████████████████████████████████████████████▎                                             | 562/907 [40:19<30:26,  5.29s/it]"
     ]
    },
    {
     "name": "stdout",
     "output_type": "stream",
     "text": [
      "training loss: 2.909686326980591\n",
      "training loss: 2.8621280193328857\n",
      "training loss: 2.8521103858947754\n"
     ]
    },
    {
     "name": "stderr",
     "output_type": "stream",
     "text": [
      "\r",
      "training:  62%|██████████████████████████████████████████████████████████████████████████▎                                             | 562/907 [40:30<30:26,  5.29s/it]"
     ]
    },
    {
     "name": "stdout",
     "output_type": "stream",
     "text": [
      "training loss: 2.8563740253448486\n"
     ]
    },
    {
     "name": "stderr",
     "output_type": "stream",
     "text": [
      "\r",
      "training:  62%|██████████████████████████████████████████████████████████████████████████▊                                             | 565/907 [40:35<29:57,  5.26s/it]"
     ]
    },
    {
     "name": "stdout",
     "output_type": "stream",
     "text": [
      "validation loss: 2.8450088500976562\n",
      "training loss: 2.9475560188293457\n",
      "training loss: 2.8653714656829834\n"
     ]
    },
    {
     "name": "stderr",
     "output_type": "stream",
     "text": [
      "\r",
      "training:  63%|███████████████████████████████████████████████████████████████████████████▏                                            | 568/907 [40:48<28:30,  5.05s/it]"
     ]
    },
    {
     "name": "stdout",
     "output_type": "stream",
     "text": [
      "training loss: 2.9002022743225098\n",
      "training loss: 2.858283042907715\n",
      "training loss: 2.8952412605285645\n"
     ]
    },
    {
     "name": "stderr",
     "output_type": "stream",
     "text": [
      "training:  63%|███████████████████████████████████████████████████████████████████████████▌                                            | 571/907 [41:03<28:08,  5.02s/it]"
     ]
    },
    {
     "name": "stdout",
     "output_type": "stream",
     "text": [
      "training loss: 2.873485565185547\n",
      "training loss: 2.8781049251556396\n",
      "training loss: 2.857865810394287\n"
     ]
    },
    {
     "name": "stderr",
     "output_type": "stream",
     "text": [
      "\r",
      "training:  63%|███████████████████████████████████████████████████████████████████████████▉                                            | 574/907 [41:18<27:49,  5.01s/it]"
     ]
    },
    {
     "name": "stdout",
     "output_type": "stream",
     "text": [
      "training loss: 2.8748831748962402\n",
      "training loss: 2.8629162311553955\n",
      "training loss: 2.933556318283081\n"
     ]
    },
    {
     "name": "stderr",
     "output_type": "stream",
     "text": [
      "\r",
      "training:  63%|███████████████████████████████████████████████████████████████████████████▉                                            | 574/907 [41:30<27:49,  5.01s/it]"
     ]
    },
    {
     "name": "stdout",
     "output_type": "stream",
     "text": [
      "training loss: 2.8829002380371094\n"
     ]
    },
    {
     "name": "stderr",
     "output_type": "stream",
     "text": [
      "\r",
      "training:  64%|████████████████████████████████████████████████████████████████████████████▎                                           | 577/907 [41:34<28:13,  5.13s/it]"
     ]
    },
    {
     "name": "stdout",
     "output_type": "stream",
     "text": [
      "validation loss: 2.8824150562286377\n",
      "training loss: 2.863551616668701\n"
     ]
    },
    {
     "name": "stderr",
     "output_type": "stream",
     "text": [
      "\r",
      "training:  64%|████████████████████████████████████████████████████████████████████████████▌                                           | 579/907 [41:45<28:08,  5.15s/it]"
     ]
    },
    {
     "name": "stdout",
     "output_type": "stream",
     "text": [
      "training loss: 2.9018688201904297\n",
      "training loss: 2.866642475128174\n"
     ]
    },
    {
     "name": "stderr",
     "output_type": "stream",
     "text": [
      "\r",
      "training:  64%|████████████████████████████████████████████████████████████████████████████▊                                           | 581/907 [41:55<28:08,  5.18s/it]"
     ]
    },
    {
     "name": "stdout",
     "output_type": "stream",
     "text": [
      "training loss: 2.8688011169433594\n",
      "training loss: 2.8991475105285645\n"
     ]
    },
    {
     "name": "stderr",
     "output_type": "stream",
     "text": [
      "\r",
      "training:  64%|█████████████████████████████████████████████████████████████████████████████▏                                          | 583/907 [42:06<28:31,  5.28s/it]"
     ]
    },
    {
     "name": "stdout",
     "output_type": "stream",
     "text": [
      "training loss: 2.899717092514038\n",
      "training loss: 2.8561792373657227\n"
     ]
    },
    {
     "name": "stderr",
     "output_type": "stream",
     "text": [
      "\r",
      "training:  64%|█████████████████████████████████████████████████████████████████████████████▍                                          | 585/907 [42:17<28:44,  5.35s/it]"
     ]
    },
    {
     "name": "stdout",
     "output_type": "stream",
     "text": [
      "training loss: 2.8756589889526367\n",
      "training loss: 2.8785321712493896\n"
     ]
    },
    {
     "name": "stderr",
     "output_type": "stream",
     "text": [
      "\r",
      "training:  65%|█████████████████████████████████████████████████████████████████████████████▋                                          | 587/907 [42:28<28:42,  5.38s/it]"
     ]
    },
    {
     "name": "stdout",
     "output_type": "stream",
     "text": [
      "training loss: 2.8491289615631104\n",
      "training loss: 2.8472299575805664\n",
      "training loss: 2.8826990127563477\n"
     ]
    },
    {
     "name": "stderr",
     "output_type": "stream",
     "text": [
      "\r",
      "training:  65%|█████████████████████████████████████████████████████████████████████████████▉                                          | 589/907 [42:39<28:22,  5.35s/it]"
     ]
    },
    {
     "name": "stdout",
     "output_type": "stream",
     "text": [
      "validation loss: 2.9059717655181885\n",
      "training loss: 2.8722214698791504\n",
      "training loss: 2.945492744445801\n"
     ]
    },
    {
     "name": "stderr",
     "output_type": "stream",
     "text": [
      "training:  65%|██████████████████████████████████████████████████████████████████████████████▎                                         | 592/907 [42:54<27:25,  5.22s/it]"
     ]
    },
    {
     "name": "stdout",
     "output_type": "stream",
     "text": [
      "training loss: 2.836367607116699\n",
      "training loss: 2.898702383041382\n",
      "training loss: 2.832306146621704\n"
     ]
    },
    {
     "name": "stderr",
     "output_type": "stream",
     "text": [
      "\r",
      "training:  66%|██████████████████████████████████████████████████████████████████████████████▋                                         | 595/907 [43:09<27:07,  5.22s/it]"
     ]
    },
    {
     "name": "stdout",
     "output_type": "stream",
     "text": [
      "training loss: 2.8617193698883057\n",
      "training loss: 2.881175994873047\n",
      "training loss: 2.8764777183532715\n"
     ]
    },
    {
     "name": "stderr",
     "output_type": "stream",
     "text": [
      "training:  66%|███████████████████████████████████████████████████████████████████████████████                                         | 598/907 [43:24<26:13,  5.09s/it]"
     ]
    },
    {
     "name": "stdout",
     "output_type": "stream",
     "text": [
      "training loss: 2.8732826709747314\n",
      "training loss: 2.8884942531585693\n",
      "training loss: 2.8489930629730225\n",
      "training loss: 2.895534038543701\n"
     ]
    },
    {
     "name": "stderr",
     "output_type": "stream",
     "text": [
      "\r",
      "training:  66%|███████████████████████████████████████████████████████████████████████████████▌                                        | 601/907 [43:38<25:45,  5.05s/it]"
     ]
    },
    {
     "name": "stdout",
     "output_type": "stream",
     "text": [
      "validation loss: 2.852943181991577\n",
      "training loss: 2.9105753898620605\n",
      "training loss: 2.9030685424804688\n"
     ]
    },
    {
     "name": "stderr",
     "output_type": "stream",
     "text": [
      "training:  67%|███████████████████████████████████████████████████████████████████████████████▉                                        | 604/907 [43:54<25:26,  5.04s/it]"
     ]
    },
    {
     "name": "stdout",
     "output_type": "stream",
     "text": [
      "training loss: 2.8861753940582275\n",
      "training loss: 2.861910104751587\n",
      "training loss: 2.893101215362549\n",
      "training loss: 2.9358294010162354\n",
      "training loss: 2.8556320667266846\n"
     ]
    },
    {
     "name": "stderr",
     "output_type": "stream",
     "text": [
      "\r",
      "training:  67%|████████████████████████████████████████████████████████████████████████████████▌                                       | 609/907 [44:05<20:47,  4.19s/it]"
     ]
    },
    {
     "name": "stdout",
     "output_type": "stream",
     "text": [
      "training loss: 2.825291872024536\n",
      "training loss: 2.8653080463409424\n",
      "training loss: 2.89805006980896\n",
      "training loss: 2.9016146659851074\n",
      "training loss: 2.904606819152832\n",
      "validation loss: 2.8686347007751465\n",
      "training loss: 2.9243321418762207\n",
      "training loss: 2.887437582015991\n",
      "training loss: 2.8845667839050293\n"
     ]
    },
    {
     "name": "stderr",
     "output_type": "stream",
     "text": [
      "\r",
      "training:  68%|█████████████████████████████████████████████████████████████████████████████████▋                                      | 617/907 [44:15<16:01,  3.31s/it]"
     ]
    },
    {
     "name": "stdout",
     "output_type": "stream",
     "text": [
      "training loss: 2.8767611980438232\n",
      "training loss: 2.8254165649414062\n",
      "training loss: 2.8327994346618652\n",
      "training loss: 2.8876399993896484\n",
      "training loss: 2.903024196624756\n",
      "training loss: 2.8873090744018555\n",
      "training loss: 2.8459231853485107\n",
      "training loss: 2.885063409805298\n",
      "training loss: 2.903170585632324\n"
     ]
    },
    {
     "name": "stderr",
     "output_type": "stream",
     "text": [
      "\r",
      "training:  69%|██████████████████████████████████████████████████████████████████████████████████▋                                     | 625/907 [44:29<13:27,  2.86s/it]"
     ]
    },
    {
     "name": "stdout",
     "output_type": "stream",
     "text": [
      "validation loss: 2.8696067333221436\n",
      "training loss: 2.8658456802368164\n",
      "training loss: 2.8569600582122803\n"
     ]
    },
    {
     "name": "stderr",
     "output_type": "stream",
     "text": [
      "training:  69%|███████████████████████████████████████████████████████████████████████████████████                                     | 628/907 [44:43<15:33,  3.35s/it]"
     ]
    },
    {
     "name": "stdout",
     "output_type": "stream",
     "text": [
      "training loss: 2.9149413108825684\n",
      "training loss: 2.861591339111328\n",
      "training loss: 2.8543665409088135\n",
      "training loss: 2.931504249572754\n",
      "training loss: 2.878387928009033\n"
     ]
    },
    {
     "name": "stderr",
     "output_type": "stream",
     "text": [
      "\r",
      "training:  70%|███████████████████████████████████████████████████████████████████████████████████▋                                    | 633/907 [44:55<14:10,  3.10s/it]"
     ]
    },
    {
     "name": "stdout",
     "output_type": "stream",
     "text": [
      "training loss: 2.874483823776245\n",
      "training loss: 2.8754048347473145\n",
      "training loss: 2.8432528972625732\n",
      "training loss: 2.8760969638824463\n"
     ]
    },
    {
     "name": "stderr",
     "output_type": "stream",
     "text": [
      "\r",
      "training:  70%|███████████████████████████████████████████████████████████████████████████████████▋                                    | 633/907 [45:10<14:10,  3.10s/it]"
     ]
    },
    {
     "name": "stdout",
     "output_type": "stream",
     "text": [
      "training loss: 2.8897666931152344\n"
     ]
    },
    {
     "name": "stderr",
     "output_type": "stream",
     "text": [
      "\r",
      "training:  70%|████████████████████████████████████████████████████████████████████████████████████▎                                   | 637/907 [45:14<16:08,  3.59s/it]"
     ]
    },
    {
     "name": "stdout",
     "output_type": "stream",
     "text": [
      "validation loss: 2.922076463699341\n",
      "training loss: 2.8547306060791016\n",
      "training loss: 2.9104342460632324\n",
      "training loss: 2.9101719856262207\n"
     ]
    },
    {
     "name": "stderr",
     "output_type": "stream",
     "text": [
      "\r",
      "training:  71%|████████████████████████████████████████████████████████████████████████████████████▊                                   | 641/907 [45:30<16:13,  3.66s/it]"
     ]
    },
    {
     "name": "stdout",
     "output_type": "stream",
     "text": [
      "training loss: 2.8611998558044434\n",
      "training loss: 2.8528995513916016\n",
      "training loss: 2.889446496963501\n"
     ]
    },
    {
     "name": "stderr",
     "output_type": "stream",
     "text": [
      "training:  71%|█████████████████████████████████████████████████████████████████████████████████████▏                                  | 644/907 [45:42<16:33,  3.78s/it]"
     ]
    },
    {
     "name": "stdout",
     "output_type": "stream",
     "text": [
      "training loss: 2.9103586673736572\n",
      "training loss: 2.831835985183716\n",
      "training loss: 2.916024684906006\n"
     ]
    },
    {
     "name": "stderr",
     "output_type": "stream",
     "text": [
      "\r",
      "training:  71%|█████████████████████████████████████████████████████████████████████████████████████▌                                  | 647/907 [45:59<18:45,  4.33s/it]"
     ]
    },
    {
     "name": "stdout",
     "output_type": "stream",
     "text": [
      "training loss: 2.894469976425171\n",
      "training loss: 2.8615686893463135\n",
      "training loss: 2.862684726715088\n",
      "validation loss: 2.844558000564575\n",
      "training loss: 2.8852951526641846\n",
      "training loss: 2.8853678703308105\n"
     ]
    },
    {
     "name": "stderr",
     "output_type": "stream",
     "text": [
      "\r",
      "training:  72%|██████████████████████████████████████████████████████████████████████████████████████▎                                 | 652/907 [46:09<15:32,  3.66s/it]"
     ]
    },
    {
     "name": "stdout",
     "output_type": "stream",
     "text": [
      "training loss: 2.8729636669158936\n",
      "training loss: 2.872831106185913\n",
      "training loss: 2.872849464416504\n",
      "training loss: 2.8453409671783447\n",
      "training loss: 2.8304953575134277\n",
      "training loss: 2.9215247631073\n",
      "training loss: 2.842381000518799\n",
      "training loss: 2.8902227878570557\n"
     ]
    },
    {
     "name": "stderr",
     "output_type": "stream",
     "text": [
      "\r",
      "training:  73%|███████████████████████████████████████████████████████████████████████████████████████▎                                | 660/907 [46:20<12:10,  2.96s/it]"
     ]
    },
    {
     "name": "stdout",
     "output_type": "stream",
     "text": [
      "training loss: 2.8951456546783447\n",
      "training loss: 2.8901607990264893\n",
      "validation loss: 2.903099536895752\n",
      "training loss: 2.8919949531555176\n",
      "training loss: 2.885443925857544\n",
      "training loss: 2.856348752975464\n"
     ]
    },
    {
     "name": "stderr",
     "output_type": "stream",
     "text": [
      "training:  73%|███████████████████████████████████████████████████████████████████████████████████████▉                                | 665/907 [46:31<11:00,  2.73s/it]"
     ]
    },
    {
     "name": "stdout",
     "output_type": "stream",
     "text": [
      "training loss: 2.888335943222046\n",
      "training loss: 2.8476462364196777\n",
      "training loss: 2.8612277507781982\n",
      "training loss: 2.8654136657714844\n",
      "training loss: 2.8387372493743896\n"
     ]
    },
    {
     "name": "stderr",
     "output_type": "stream",
     "text": [
      "\r",
      "training:  74%|████████████████████████████████████████████████████████████████████████████████████████▋                               | 670/907 [46:45<10:54,  2.76s/it]"
     ]
    },
    {
     "name": "stdout",
     "output_type": "stream",
     "text": [
      "training loss: 2.9239578247070312\n",
      "training loss: 2.854797601699829\n",
      "training loss: 2.881565570831299\n",
      "training loss: 2.917053461074829\n",
      "validation loss: 2.8849942684173584\n"
     ]
    },
    {
     "name": "stderr",
     "output_type": "stream",
     "text": [
      "training:  74%|█████████████████████████████████████████████████████████████████████████████████████████▏                              | 674/907 [47:03<12:40,  3.27s/it]"
     ]
    },
    {
     "name": "stdout",
     "output_type": "stream",
     "text": [
      "training loss: 2.848775863647461\n",
      "training loss: 2.9022581577301025\n",
      "training loss: 2.867035150527954\n"
     ]
    },
    {
     "name": "stderr",
     "output_type": "stream",
     "text": [
      "\r",
      "training:  75%|█████████████████████████████████████████████████████████████████████████████████████████▌                              | 677/907 [47:15<13:43,  3.58s/it]"
     ]
    },
    {
     "name": "stdout",
     "output_type": "stream",
     "text": [
      "training loss: 2.930131673812866\n",
      "training loss: 2.87156343460083\n",
      "training loss: 2.8632116317749023\n"
     ]
    },
    {
     "name": "stderr",
     "output_type": "stream",
     "text": [
      "\r",
      "training:  75%|█████████████████████████████████████████████████████████████████████████████████████████▉                              | 680/907 [47:29<14:33,  3.85s/it]"
     ]
    },
    {
     "name": "stdout",
     "output_type": "stream",
     "text": [
      "training loss: 2.8835132122039795\n",
      "training loss: 2.8506295680999756\n",
      "training loss: 2.917248249053955\n"
     ]
    },
    {
     "name": "stderr",
     "output_type": "stream",
     "text": [
      "training:  75%|██████████████████████████████████████████████████████████████████████████████████████████▎                             | 683/907 [47:42<14:58,  4.01s/it]"
     ]
    },
    {
     "name": "stdout",
     "output_type": "stream",
     "text": [
      "training loss: 2.913687229156494\n",
      "training loss: 2.8948140144348145\n",
      "training loss: 2.841388463973999\n",
      "validation loss: 2.891148567199707\n"
     ]
    },
    {
     "name": "stderr",
     "output_type": "stream",
     "text": [
      "\r",
      "training:  76%|██████████████████████████████████████████████████████████████████████████████████████████▊                             | 686/907 [47:53<14:24,  3.91s/it]"
     ]
    },
    {
     "name": "stdout",
     "output_type": "stream",
     "text": [
      "training loss: 2.8636860847473145\n",
      "training loss: 2.8132941722869873\n",
      "training loss: 2.8961479663848877\n"
     ]
    },
    {
     "name": "stderr",
     "output_type": "stream",
     "text": [
      "\r",
      "training:  76%|███████████████████████████████████████████████████████████████████████████████████████████▏                            | 689/907 [48:07<14:51,  4.09s/it]"
     ]
    },
    {
     "name": "stdout",
     "output_type": "stream",
     "text": [
      "training loss: 2.902451515197754\n",
      "training loss: 2.863882064819336\n",
      "training loss: 2.8860890865325928\n"
     ]
    },
    {
     "name": "stderr",
     "output_type": "stream",
     "text": [
      "\r",
      "training:  76%|███████████████████████████████████████████████████████████████████████████████████████████▌                            | 692/907 [48:19<14:36,  4.08s/it]"
     ]
    },
    {
     "name": "stdout",
     "output_type": "stream",
     "text": [
      "training loss: 2.862502336502075\n",
      "training loss: 2.8772263526916504\n",
      "training loss: 2.8943915367126465\n"
     ]
    },
    {
     "name": "stderr",
     "output_type": "stream",
     "text": [
      "training:  77%|███████████████████████████████████████████████████████████████████████████████████████████▉                            | 695/907 [48:31<14:29,  4.10s/it]"
     ]
    },
    {
     "name": "stdout",
     "output_type": "stream",
     "text": [
      "training loss: 2.886082649230957\n",
      "training loss: 2.9256274700164795\n",
      "training loss: 2.885119676589966\n",
      "validation loss: 2.915086269378662\n"
     ]
    },
    {
     "name": "stderr",
     "output_type": "stream",
     "text": [
      "\r",
      "training:  77%|████████████████████████████████████████████████████████████████████████████████████████████▎                           | 698/907 [48:44<14:19,  4.11s/it]"
     ]
    },
    {
     "name": "stdout",
     "output_type": "stream",
     "text": [
      "training loss: 2.8638243675231934\n",
      "training loss: 2.899761199951172\n",
      "training loss: 2.8528823852539062\n"
     ]
    },
    {
     "name": "stderr",
     "output_type": "stream",
     "text": [
      "\r",
      "training:  77%|████████████████████████████████████████████████████████████████████████████████████████████▋                           | 701/907 [48:56<14:06,  4.11s/it]"
     ]
    },
    {
     "name": "stdout",
     "output_type": "stream",
     "text": [
      "training loss: 2.8990488052368164\n",
      "training loss: 2.8663432598114014\n",
      "training loss: 2.8647804260253906\n",
      "training loss: 2.887383460998535\n"
     ]
    },
    {
     "name": "stderr",
     "output_type": "stream",
     "text": [
      "\r",
      "training:  78%|█████████████████████████████████████████████████████████████████████████████████████████████▎                          | 705/907 [49:09<12:54,  3.83s/it]"
     ]
    },
    {
     "name": "stdout",
     "output_type": "stream",
     "text": [
      "training loss: 2.8956410884857178\n",
      "training loss: 2.8904223442077637\n",
      "training loss: 2.9059715270996094\n"
     ]
    },
    {
     "name": "stderr",
     "output_type": "stream",
     "text": [
      "training:  78%|█████████████████████████████████████████████████████████████████████████████████████████████▋                          | 708/907 [49:21<12:59,  3.91s/it]"
     ]
    },
    {
     "name": "stdout",
     "output_type": "stream",
     "text": [
      "training loss: 2.8630385398864746\n",
      "training loss: 2.8785247802734375\n",
      "validation loss: 2.873507261276245\n",
      "training loss: 2.8792505264282227\n"
     ]
    },
    {
     "name": "stderr",
     "output_type": "stream",
     "text": [
      "\r",
      "training:  78%|██████████████████████████████████████████████████████████████████████████████████████████████                          | 711/907 [49:34<13:03,  4.00s/it]"
     ]
    },
    {
     "name": "stdout",
     "output_type": "stream",
     "text": [
      "training loss: 2.8727288246154785\n",
      "training loss: 2.8988184928894043\n",
      "training loss: 2.8536720275878906\n"
     ]
    },
    {
     "name": "stderr",
     "output_type": "stream",
     "text": [
      "\r",
      "training:  79%|██████████████████████████████████████████████████████████████████████████████████████████████▍                         | 714/907 [49:45<12:39,  3.94s/it]"
     ]
    },
    {
     "name": "stdout",
     "output_type": "stream",
     "text": [
      "training loss: 2.8868534564971924\n",
      "training loss: 2.899534225463867\n",
      "training loss: 2.8933863639831543\n"
     ]
    },
    {
     "name": "stderr",
     "output_type": "stream",
     "text": [
      "\r",
      "training:  79%|██████████████████████████████████████████████████████████████████████████████████████████████▊                         | 717/907 [49:58<12:44,  4.03s/it]"
     ]
    },
    {
     "name": "stdout",
     "output_type": "stream",
     "text": [
      "training loss: 2.889679431915283\n",
      "training loss: 2.9238624572753906\n",
      "training loss: 2.874269723892212\n"
     ]
    },
    {
     "name": "stderr",
     "output_type": "stream",
     "text": [
      "\r",
      "training:  79%|███████████████████████████████████████████████████████████████████████████████████████████████▎                        | 720/907 [50:08<12:08,  3.89s/it]"
     ]
    },
    {
     "name": "stdout",
     "output_type": "stream",
     "text": [
      "training loss: 2.9182252883911133\n",
      "training loss: 2.8834619522094727\n",
      "validation loss: 2.8839292526245117\n",
      "training loss: 2.8571386337280273\n"
     ]
    },
    {
     "name": "stderr",
     "output_type": "stream",
     "text": [
      "training:  80%|███████████████████████████████████████████████████████████████████████████████████████████████▋                        | 723/907 [50:22<12:37,  4.12s/it]"
     ]
    },
    {
     "name": "stdout",
     "output_type": "stream",
     "text": [
      "training loss: 2.874856472015381\n",
      "training loss: 2.8871636390686035\n",
      "training loss: 2.8759806156158447\n"
     ]
    },
    {
     "name": "stderr",
     "output_type": "stream",
     "text": [
      "\r",
      "training:  80%|████████████████████████████████████████████████████████████████████████████████████████████████                        | 726/907 [50:35<12:38,  4.19s/it]"
     ]
    },
    {
     "name": "stdout",
     "output_type": "stream",
     "text": [
      "training loss: 2.8794589042663574\n",
      "training loss: 2.864220142364502\n",
      "training loss: 2.879124164581299\n"
     ]
    },
    {
     "name": "stderr",
     "output_type": "stream",
     "text": [
      "\r",
      "training:  80%|████████████████████████████████████████████████████████████████████████████████████████████████▍                       | 729/907 [50:48<12:19,  4.15s/it]"
     ]
    },
    {
     "name": "stdout",
     "output_type": "stream",
     "text": [
      "training loss: 2.8573856353759766\n",
      "training loss: 2.9178225994110107\n",
      "training loss: 2.8807809352874756\n"
     ]
    },
    {
     "name": "stderr",
     "output_type": "stream",
     "text": [
      "\r",
      "training:  81%|████████████████████████████████████████████████████████████████████████████████████████████████▊                       | 732/907 [50:58<11:29,  3.94s/it]"
     ]
    },
    {
     "name": "stdout",
     "output_type": "stream",
     "text": [
      "training loss: 2.888807773590088\n",
      "training loss: 2.8736472129821777\n",
      "validation loss: 2.8231000900268555\n",
      "training loss: 2.873626708984375\n"
     ]
    },
    {
     "name": "stderr",
     "output_type": "stream",
     "text": [
      "training:  81%|█████████████████████████████████████████████████████████████████████████████████████████████████▏                      | 735/907 [51:10<11:27,  4.00s/it]"
     ]
    },
    {
     "name": "stdout",
     "output_type": "stream",
     "text": [
      "training loss: 2.8648784160614014\n",
      "training loss: 2.8899364471435547\n",
      "training loss: 2.7927587032318115\n"
     ]
    },
    {
     "name": "stderr",
     "output_type": "stream",
     "text": [
      "\r",
      "training:  81%|█████████████████████████████████████████████████████████████████████████████████████████████████▋                      | 738/907 [51:23<11:20,  4.02s/it]"
     ]
    },
    {
     "name": "stdout",
     "output_type": "stream",
     "text": [
      "training loss: 2.8381595611572266\n",
      "training loss: 2.9091882705688477\n",
      "training loss: 2.888493061065674\n"
     ]
    },
    {
     "name": "stderr",
     "output_type": "stream",
     "text": [
      "\r",
      "training:  82%|██████████████████████████████████████████████████████████████████████████████████████████████████                      | 741/907 [51:35<11:11,  4.04s/it]"
     ]
    },
    {
     "name": "stdout",
     "output_type": "stream",
     "text": [
      "training loss: 2.818963050842285\n",
      "training loss: 2.8699538707733154\n",
      "training loss: 2.8465447425842285\n"
     ]
    },
    {
     "name": "stderr",
     "output_type": "stream",
     "text": [
      "\r",
      "training:  82%|██████████████████████████████████████████████████████████████████████████████████████████████████▍                     | 744/907 [51:48<11:13,  4.13s/it]"
     ]
    },
    {
     "name": "stdout",
     "output_type": "stream",
     "text": [
      "training loss: 2.8399853706359863\n",
      "training loss: 2.8695602416992188\n",
      "validation loss: 2.897831916809082\n",
      "training loss: 2.8745057582855225\n"
     ]
    },
    {
     "name": "stderr",
     "output_type": "stream",
     "text": [
      "\r",
      "training:  82%|██████████████████████████████████████████████████████████████████████████████████████████████████▊                     | 747/907 [51:58<10:24,  3.90s/it]"
     ]
    },
    {
     "name": "stdout",
     "output_type": "stream",
     "text": [
      "training loss: 2.846684455871582\n",
      "training loss: 2.8945565223693848\n",
      "training loss: 2.8524014949798584\n"
     ]
    },
    {
     "name": "stderr",
     "output_type": "stream",
     "text": [
      "training:  83%|███████████████████████████████████████████████████████████████████████████████████████████████████▏                    | 750/907 [52:10<10:16,  3.93s/it]"
     ]
    },
    {
     "name": "stdout",
     "output_type": "stream",
     "text": [
      "training loss: 2.91778826713562\n",
      "training loss: 2.901686191558838\n",
      "training loss: 2.898625373840332\n"
     ]
    },
    {
     "name": "stderr",
     "output_type": "stream",
     "text": [
      "\r",
      "training:  83%|███████████████████████████████████████████████████████████████████████████████████████████████████▋                    | 753/907 [52:22<10:03,  3.92s/it]"
     ]
    },
    {
     "name": "stdout",
     "output_type": "stream",
     "text": [
      "training loss: 2.877157688140869\n",
      "training loss: 2.8535690307617188\n",
      "training loss: 2.866659641265869\n"
     ]
    },
    {
     "name": "stderr",
     "output_type": "stream",
     "text": [
      "\r",
      "training:  83%|████████████████████████████████████████████████████████████████████████████████████████████████████                    | 756/907 [52:35<10:09,  4.04s/it]"
     ]
    },
    {
     "name": "stdout",
     "output_type": "stream",
     "text": [
      "training loss: 2.866375684738159\n",
      "training loss: 2.8791611194610596\n",
      "validation loss: 2.8740150928497314\n",
      "training loss: 2.8970067501068115\n"
     ]
    },
    {
     "name": "stderr",
     "output_type": "stream",
     "text": [
      "\r",
      "training:  84%|████████████████████████████████████████████████████████████████████████████████████████████████████▍                   | 759/907 [52:47<10:07,  4.10s/it]"
     ]
    },
    {
     "name": "stdout",
     "output_type": "stream",
     "text": [
      "training loss: 2.9056646823883057\n",
      "training loss: 2.890883684158325\n",
      "training loss: 2.879903793334961\n"
     ]
    },
    {
     "name": "stderr",
     "output_type": "stream",
     "text": [
      "training:  84%|████████████████████████████████████████████████████████████████████████████████████████████████████▊                   | 762/907 [53:01<10:10,  4.21s/it]"
     ]
    },
    {
     "name": "stdout",
     "output_type": "stream",
     "text": [
      "training loss: 2.859276294708252\n",
      "training loss: 2.8662967681884766\n",
      "training loss: 2.882493734359741\n"
     ]
    },
    {
     "name": "stderr",
     "output_type": "stream",
     "text": [
      "\r",
      "training:  84%|█████████████████████████████████████████████████████████████████████████████████████████████████████▏                  | 765/907 [53:12<09:37,  4.06s/it]"
     ]
    },
    {
     "name": "stdout",
     "output_type": "stream",
     "text": [
      "training loss: 2.8694772720336914\n",
      "training loss: 2.8468053340911865\n",
      "training loss: 2.886955738067627\n"
     ]
    },
    {
     "name": "stderr",
     "output_type": "stream",
     "text": [
      "\r",
      "training:  85%|█████████████████████████████████████████████████████████████████████████████████████████████████████▌                  | 768/907 [53:23<09:11,  3.97s/it]"
     ]
    },
    {
     "name": "stdout",
     "output_type": "stream",
     "text": [
      "training loss: 2.8612687587738037\n",
      "training loss: 2.86041522026062\n",
      "validation loss: 2.9617958068847656\n",
      "training loss: 2.852396249771118\n"
     ]
    },
    {
     "name": "stderr",
     "output_type": "stream",
     "text": [
      "\r",
      "training:  85%|██████████████████████████████████████████████████████████████████████████████████████████████████████                  | 771/907 [53:35<08:57,  3.96s/it]"
     ]
    },
    {
     "name": "stdout",
     "output_type": "stream",
     "text": [
      "training loss: 2.866210460662842\n",
      "training loss: 2.8842077255249023\n",
      "training loss: 2.885239839553833\n"
     ]
    },
    {
     "name": "stderr",
     "output_type": "stream",
     "text": [
      "\r",
      "training:  85%|██████████████████████████████████████████████████████████████████████████████████████████████████████▍                 | 774/907 [53:48<09:00,  4.07s/it]"
     ]
    },
    {
     "name": "stdout",
     "output_type": "stream",
     "text": [
      "training loss: 2.9093475341796875\n",
      "training loss: 2.836643695831299\n",
      "training loss: 2.9157967567443848\n"
     ]
    },
    {
     "name": "stderr",
     "output_type": "stream",
     "text": [
      "training:  86%|██████████████████████████████████████████████████████████████████████████████████████████████████████▊                 | 777/907 [54:00<08:47,  4.06s/it]"
     ]
    },
    {
     "name": "stdout",
     "output_type": "stream",
     "text": [
      "training loss: 2.8857502937316895\n",
      "training loss: 2.867783308029175\n",
      "training loss: 2.9482011795043945\n"
     ]
    },
    {
     "name": "stderr",
     "output_type": "stream",
     "text": [
      "\r",
      "training:  86%|███████████████████████████████████████████████████████████████████████████████████████████████████████▏                | 780/907 [54:13<08:47,  4.16s/it]"
     ]
    },
    {
     "name": "stdout",
     "output_type": "stream",
     "text": [
      "training loss: 2.8410451412200928\n",
      "training loss: 2.8767521381378174\n",
      "validation loss: 2.816973924636841\n",
      "training loss: 2.908740520477295\n",
      "training loss: 2.8649423122406006\n",
      "training loss: 2.9050188064575195\n",
      "training loss: 2.8679940700531006\n",
      "training loss: 2.867152452468872\n"
     ]
    },
    {
     "name": "stderr",
     "output_type": "stream",
     "text": [
      "\r",
      "training:  87%|████████████████████████████████████████████████████████████████████████████████████████████████████████                | 787/907 [54:23<06:40,  3.34s/it]"
     ]
    },
    {
     "name": "stdout",
     "output_type": "stream",
     "text": [
      "training loss: 2.8576724529266357\n",
      "training loss: 2.8904151916503906\n",
      "training loss: 2.9151086807250977\n",
      "training loss: 2.8560478687286377\n"
     ]
    },
    {
     "name": "stderr",
     "output_type": "stream",
     "text": [
      "training:  87%|████████████████████████████████████████████████████████████████████████████████████████████████████████▋               | 791/907 [54:40<06:56,  3.59s/it]"
     ]
    },
    {
     "name": "stdout",
     "output_type": "stream",
     "text": [
      "training loss: 2.9088873863220215\n",
      "training loss: 2.932002544403076\n",
      "training loss: 2.910994291305542\n",
      "validation loss: 2.880168914794922\n",
      "training loss: 2.850512981414795\n",
      "training loss: 2.900487184524536\n",
      "training loss: 2.8569018840789795\n",
      "training loss: 2.966780424118042\n"
     ]
    },
    {
     "name": "stderr",
     "output_type": "stream",
     "text": [
      "\r",
      "training:  88%|█████████████████████████████████████████████████████████████████████████████████████████████████████████▌              | 798/907 [54:52<05:28,  3.02s/it]"
     ]
    },
    {
     "name": "stdout",
     "output_type": "stream",
     "text": [
      "training loss: 2.869455337524414\n",
      "training loss: 2.8726751804351807\n",
      "training loss: 2.8558573722839355\n",
      "training loss: 2.908280849456787\n",
      "training loss: 2.8510451316833496\n",
      "training loss: 2.867459774017334\n"
     ]
    },
    {
     "name": "stderr",
     "output_type": "stream",
     "text": [
      "training:  89%|██████████████████████████████████████████████████████████████████████████████████████████████████████████▎             | 804/907 [55:13<05:26,  3.17s/it]"
     ]
    },
    {
     "name": "stdout",
     "output_type": "stream",
     "text": [
      "training loss: 2.9217379093170166\n",
      "training loss: 2.910048723220825\n",
      "validation loss: 2.8550798892974854\n",
      "training loss: 2.9182727336883545\n"
     ]
    },
    {
     "name": "stderr",
     "output_type": "stream",
     "text": [
      "\r",
      "training:  89%|██████████████████████████████████████████████████████████████████████████████████████████████████████████▊             | 807/907 [55:28<06:13,  3.74s/it]"
     ]
    },
    {
     "name": "stdout",
     "output_type": "stream",
     "text": [
      "training loss: 3.131049633026123\n",
      "training loss: 2.8927831649780273\n",
      "training loss: 2.8902721405029297\n"
     ]
    },
    {
     "name": "stderr",
     "output_type": "stream",
     "text": [
      "\r",
      "training:  89%|███████████████████████████████████████████████████████████████████████████████████████████████████████████▏            | 810/907 [55:39<06:03,  3.75s/it]"
     ]
    },
    {
     "name": "stdout",
     "output_type": "stream",
     "text": [
      "training loss: 2.8821539878845215\n",
      "training loss: 2.938140869140625\n",
      "training loss: 2.8751323223114014\n"
     ]
    },
    {
     "name": "stderr",
     "output_type": "stream",
     "text": [
      "training:  90%|███████████████████████████████████████████████████████████████████████████████████████████████████████████▌            | 813/907 [55:51<06:00,  3.83s/it]"
     ]
    },
    {
     "name": "stdout",
     "output_type": "stream",
     "text": [
      "training loss: 2.8868980407714844\n",
      "training loss: 2.832517147064209\n",
      "training loss: 2.916015863418579\n"
     ]
    },
    {
     "name": "stderr",
     "output_type": "stream",
     "text": [
      "\r",
      "training:  90%|███████████████████████████████████████████████████████████████████████████████████████████████████████████▉            | 816/907 [56:09<06:47,  4.47s/it]"
     ]
    },
    {
     "name": "stdout",
     "output_type": "stream",
     "text": [
      "training loss: 2.8654305934906006\n",
      "training loss: 2.907696008682251\n",
      "validation loss: 2.9240939617156982\n"
     ]
    },
    {
     "name": "stderr",
     "output_type": "stream",
     "text": [
      "training:  90%|████████████████████████████████████████████████████████████████████████████████████████████████████████████▏           | 818/907 [56:22<07:33,  5.10s/it]"
     ]
    },
    {
     "name": "stdout",
     "output_type": "stream",
     "text": [
      "training loss: 2.8395278453826904\n",
      "training loss: 2.869805335998535\n"
     ]
    },
    {
     "name": "stderr",
     "output_type": "stream",
     "text": [
      "\r",
      "training:  90%|████████████████████████████████████████████████████████████████████████████████████████████████████████████▍           | 820/907 [56:35<07:54,  5.45s/it]"
     ]
    },
    {
     "name": "stdout",
     "output_type": "stream",
     "text": [
      "training loss: 2.895773410797119\n",
      "training loss: 2.8837380409240723\n",
      "training loss: 2.8876049518585205\n"
     ]
    },
    {
     "name": "stderr",
     "output_type": "stream",
     "text": [
      "\r",
      "training:  91%|████████████████████████████████████████████████████████████████████████████████████████████████████████████▉           | 823/907 [56:48<07:06,  5.08s/it]"
     ]
    },
    {
     "name": "stdout",
     "output_type": "stream",
     "text": [
      "training loss: 2.897921323776245\n",
      "training loss: 2.8878531455993652\n",
      "training loss: 2.893878936767578\n"
     ]
    },
    {
     "name": "stderr",
     "output_type": "stream",
     "text": [
      "training:  91%|█████████████████████████████████████████████████████████████████████████████████████████████████████████████▎          | 826/907 [57:03<06:48,  5.05s/it]"
     ]
    },
    {
     "name": "stdout",
     "output_type": "stream",
     "text": [
      "training loss: 2.894680976867676\n",
      "training loss: 2.8995370864868164\n",
      "training loss: 2.8568601608276367\n",
      "training loss: 2.915187358856201\n",
      "validation loss: 2.856459379196167\n"
     ]
    },
    {
     "name": "stderr",
     "output_type": "stream",
     "text": [
      "\r",
      "training:  92%|█████████████████████████████████████████████████████████████████████████████████████████████████████████████▊          | 830/907 [57:16<05:48,  4.53s/it]"
     ]
    },
    {
     "name": "stdout",
     "output_type": "stream",
     "text": [
      "training loss: 2.8834948539733887\n",
      "training loss: 2.8573806285858154\n",
      "training loss: 2.9284234046936035\n",
      "training loss: 2.8968465328216553\n"
     ]
    },
    {
     "name": "stderr",
     "output_type": "stream",
     "text": [
      "\r",
      "training:  92%|██████████████████████████████████████████████████████████████████████████████████████████████████████████████▎         | 834/907 [57:29<05:03,  4.15s/it]"
     ]
    },
    {
     "name": "stdout",
     "output_type": "stream",
     "text": [
      "training loss: 2.9022269248962402\n",
      "training loss: 2.872321367263794\n",
      "training loss: 2.89190673828125\n",
      "training loss: 2.8481597900390625\n",
      "training loss: 2.895090103149414\n",
      "training loss: 2.8902058601379395\n"
     ]
    },
    {
     "name": "stderr",
     "output_type": "stream",
     "text": [
      "training:  93%|███████████████████████████████████████████████████████████████████████████████████████████████████████████████▏        | 840/907 [57:43<04:01,  3.61s/it]"
     ]
    },
    {
     "name": "stdout",
     "output_type": "stream",
     "text": [
      "training loss: 2.874490737915039\n",
      "training loss: 2.885373592376709\n",
      "validation loss: 2.892659902572632\n",
      "training loss: 2.871288299560547\n",
      "training loss: 2.9183082580566406\n"
     ]
    },
    {
     "name": "stderr",
     "output_type": "stream",
     "text": [
      "training:  93%|███████████████████████████████████████████████████████████████████████████████████████████████████████████████▋        | 844/907 [58:04<04:19,  4.12s/it]"
     ]
    },
    {
     "name": "stdout",
     "output_type": "stream",
     "text": [
      "training loss: 2.9458086490631104\n",
      "training loss: 2.9070372581481934\n"
     ]
    },
    {
     "name": "stderr",
     "output_type": "stream",
     "text": [
      "\r",
      "training:  93%|███████████████████████████████████████████████████████████████████████████████████████████████████████████████▉        | 846/907 [58:15<04:33,  4.49s/it]"
     ]
    },
    {
     "name": "stdout",
     "output_type": "stream",
     "text": [
      "training loss: 2.840717315673828\n",
      "training loss: 2.8661060333251953\n",
      "training loss: 2.9366252422332764\n"
     ]
    },
    {
     "name": "stderr",
     "output_type": "stream",
     "text": [
      "\r",
      "training:  94%|████████████████████████████████████████████████████████████████████████████████████████████████████████████████▎       | 849/907 [58:30<04:27,  4.61s/it]"
     ]
    },
    {
     "name": "stdout",
     "output_type": "stream",
     "text": [
      "training loss: 2.9164626598358154\n",
      "training loss: 2.852806329727173\n"
     ]
    },
    {
     "name": "stderr",
     "output_type": "stream",
     "text": [
      "training:  94%|████████████████████████████████████████████████████████████████████████████████████████████████████████████████▌       | 851/907 [58:42<04:44,  5.09s/it]"
     ]
    },
    {
     "name": "stdout",
     "output_type": "stream",
     "text": [
      "training loss: 2.8484036922454834\n",
      "training loss: 2.859281063079834\n",
      "training loss: 2.9030377864837646\n"
     ]
    },
    {
     "name": "stderr",
     "output_type": "stream",
     "text": [
      "\r",
      "training:  94%|████████████████████████████████████████████████████████████████████████████████████████████████████████████████▊       | 853/907 [58:55<04:59,  5.55s/it]"
     ]
    },
    {
     "name": "stdout",
     "output_type": "stream",
     "text": [
      "validation loss: 2.848007917404175\n",
      "training loss: 2.918527603149414\n"
     ]
    },
    {
     "name": "stderr",
     "output_type": "stream",
     "text": [
      "\r",
      "training:  94%|█████████████████████████████████████████████████████████████████████████████████████████████████████████████████       | 855/907 [59:07<04:55,  5.68s/it]"
     ]
    },
    {
     "name": "stdout",
     "output_type": "stream",
     "text": [
      "training loss: 2.846208095550537\n",
      "training loss: 2.9133262634277344\n"
     ]
    },
    {
     "name": "stderr",
     "output_type": "stream",
     "text": [
      "\r",
      "training:  94%|█████████████████████████████████████████████████████████████████████████████████████████████████████████████████▍      | 857/907 [59:18<04:41,  5.63s/it]"
     ]
    },
    {
     "name": "stdout",
     "output_type": "stream",
     "text": [
      "training loss: 2.8646461963653564\n",
      "training loss: 2.879892349243164\n"
     ]
    },
    {
     "name": "stderr",
     "output_type": "stream",
     "text": [
      "\r",
      "training:  95%|█████████████████████████████████████████████████████████████████████████████████████████████████████████████████▋      | 859/907 [59:28<04:22,  5.47s/it]"
     ]
    },
    {
     "name": "stdout",
     "output_type": "stream",
     "text": [
      "training loss: 2.883075714111328\n",
      "training loss: 2.8422701358795166\n"
     ]
    },
    {
     "name": "stderr",
     "output_type": "stream",
     "text": [
      "\r",
      "training:  95%|█████████████████████████████████████████████████████████████████████████████████████████████████████████████████▉      | 861/907 [59:39<04:10,  5.45s/it]"
     ]
    },
    {
     "name": "stdout",
     "output_type": "stream",
     "text": [
      "training loss: 2.864109992980957\n",
      "training loss: 2.832338809967041\n"
     ]
    },
    {
     "name": "stderr",
     "output_type": "stream",
     "text": [
      "\r",
      "training:  95%|██████████████████████████████████████████████████████████████████████████████████████████████████████████████████▏     | 863/907 [59:49<03:54,  5.33s/it]"
     ]
    },
    {
     "name": "stdout",
     "output_type": "stream",
     "text": [
      "training loss: 2.9221267700195312\n",
      "training loss: 2.8727145195007324\n"
     ]
    },
    {
     "name": "stderr",
     "output_type": "stream",
     "text": [
      "\r",
      "training:  95%|████████████████████████████████████████████████████████████████████████████████████████████████████████████████▎     | 863/907 [1:00:00<03:54,  5.33s/it]"
     ]
    },
    {
     "name": "stdout",
     "output_type": "stream",
     "text": [
      "training loss: 2.8816044330596924\n"
     ]
    },
    {
     "name": "stderr",
     "output_type": "stream",
     "text": [
      "\r",
      "training:  95%|████████████████████████████████████████████████████████████████████████████████████████████████████████████████▌     | 865/907 [1:00:00<03:46,  5.40s/it]"
     ]
    },
    {
     "name": "stdout",
     "output_type": "stream",
     "text": [
      "validation loss: 2.866452217102051\n",
      "training loss: 2.8267321586608887\n"
     ]
    },
    {
     "name": "stderr",
     "output_type": "stream",
     "text": [
      "\r",
      "training:  96%|████████████████████████████████████████████████████████████████████████████████████████████████████████████████▊     | 867/907 [1:00:11<03:32,  5.32s/it]"
     ]
    },
    {
     "name": "stdout",
     "output_type": "stream",
     "text": [
      "training loss: 2.8982043266296387\n",
      "training loss: 2.8404319286346436\n",
      "training loss: 2.889348268508911\n"
     ]
    },
    {
     "name": "stderr",
     "output_type": "stream",
     "text": [
      "\r",
      "training:  96%|█████████████████████████████████████████████████████████████████████████████████████████████████████████████████▏    | 870/907 [1:00:23<03:02,  4.95s/it]"
     ]
    },
    {
     "name": "stdout",
     "output_type": "stream",
     "text": [
      "training loss: 2.892014265060425\n",
      "training loss: 2.88181209564209\n",
      "training loss: 2.854238986968994\n"
     ]
    },
    {
     "name": "stderr",
     "output_type": "stream",
     "text": [
      "\r",
      "training:  96%|█████████████████████████████████████████████████████████████████████████████████████████████████████████████████▌    | 873/907 [1:00:39<02:53,  5.09s/it]"
     ]
    },
    {
     "name": "stdout",
     "output_type": "stream",
     "text": [
      "training loss: 2.894747495651245\n",
      "training loss: 2.8621835708618164\n",
      "training loss: 2.839353084564209\n"
     ]
    },
    {
     "name": "stderr",
     "output_type": "stream",
     "text": [
      "training:  97%|█████████████████████████████████████████████████████████████████████████████████████████████████████████████████▉    | 876/907 [1:00:55<02:37,  5.09s/it]"
     ]
    },
    {
     "name": "stdout",
     "output_type": "stream",
     "text": [
      "training loss: 2.862837553024292\n",
      "training loss: 2.8791894912719727\n",
      "validation loss: 2.8923089504241943\n"
     ]
    },
    {
     "name": "stderr",
     "output_type": "stream",
     "text": [
      "\r",
      "training:  97%|██████████████████████████████████████████████████████████████████████████████████████████████████████████████████▏   | 878/907 [1:01:05<02:29,  5.14s/it]"
     ]
    },
    {
     "name": "stdout",
     "output_type": "stream",
     "text": [
      "training loss: 2.844666004180908\n",
      "training loss: 2.876126289367676\n",
      "training loss: 2.8688197135925293\n"
     ]
    },
    {
     "name": "stderr",
     "output_type": "stream",
     "text": [
      "\r",
      "training:  97%|██████████████████████████████████████████████████████████████████████████████████████████████████████████████████▌   | 881/907 [1:01:19<02:09,  5.00s/it]"
     ]
    },
    {
     "name": "stdout",
     "output_type": "stream",
     "text": [
      "training loss: 2.8774466514587402\n",
      "training loss: 2.8217644691467285\n",
      "training loss: 2.8220744132995605\n"
     ]
    },
    {
     "name": "stderr",
     "output_type": "stream",
     "text": [
      "training:  97%|███████████████████████████████████████████████████████████████████████████████████████████████████████████████████   | 884/907 [1:01:33<01:52,  4.89s/it]"
     ]
    },
    {
     "name": "stdout",
     "output_type": "stream",
     "text": [
      "training loss: 2.9256515502929688\n",
      "training loss: 2.8559155464172363\n",
      "training loss: 2.8618245124816895\n"
     ]
    },
    {
     "name": "stderr",
     "output_type": "stream",
     "text": [
      "\r",
      "training:  98%|███████████████████████████████████████████████████████████████████████████████████████████████████████████████████▍  | 887/907 [1:01:47<01:36,  4.80s/it]"
     ]
    },
    {
     "name": "stdout",
     "output_type": "stream",
     "text": [
      "training loss: 2.9235470294952393\n",
      "training loss: 2.890350341796875\n",
      "training loss: 2.8616902828216553\n",
      "validation loss: 2.8252310752868652\n"
     ]
    },
    {
     "name": "stderr",
     "output_type": "stream",
     "text": [
      "training:  98%|███████████████████████████████████████████████████████████████████████████████████████████████████████████████████▊  | 890/907 [1:02:01<01:21,  4.81s/it]"
     ]
    },
    {
     "name": "stdout",
     "output_type": "stream",
     "text": [
      "training loss: 2.9356956481933594\n",
      "training loss: 2.8553481101989746\n",
      "training loss: 2.871290683746338\n"
     ]
    },
    {
     "name": "stderr",
     "output_type": "stream",
     "text": [
      "\r",
      "training:  98%|████████████████████████████████████████████████████████████████████████████████████████████████████████████████████▏ | 893/907 [1:02:16<01:08,  4.86s/it]"
     ]
    },
    {
     "name": "stdout",
     "output_type": "stream",
     "text": [
      "training loss: 2.8847479820251465\n",
      "training loss: 2.891231060028076\n",
      "training loss: 2.8638556003570557\n"
     ]
    },
    {
     "name": "stderr",
     "output_type": "stream",
     "text": [
      "training:  99%|████████████████████████████████████████████████████████████████████████████████████████████████████████████████████▌ | 896/907 [1:02:30<00:53,  4.84s/it]"
     ]
    },
    {
     "name": "stdout",
     "output_type": "stream",
     "text": [
      "training loss: 2.8583531379699707\n",
      "training loss: 2.907407760620117\n",
      "training loss: 2.904188394546509\n"
     ]
    },
    {
     "name": "stderr",
     "output_type": "stream",
     "text": [
      "\r",
      "training:  99%|████████████████████████████████████████████████████████████████████████████████████████████████████████████████████▉ | 899/907 [1:02:41<00:35,  4.46s/it]"
     ]
    },
    {
     "name": "stdout",
     "output_type": "stream",
     "text": [
      "training loss: 2.892298936843872\n",
      "training loss: 2.880833864212036\n",
      "training loss: 2.8753037452697754\n",
      "validation loss: 2.865846872329712\n"
     ]
    },
    {
     "name": "stderr",
     "output_type": "stream",
     "text": [
      "\r",
      "training:  99%|█████████████████████████████████████████████████████████████████████████████████████████████████████████████████████▎| 902/907 [1:02:57<00:23,  4.67s/it]"
     ]
    },
    {
     "name": "stdout",
     "output_type": "stream",
     "text": [
      "training loss: 2.8668196201324463\n",
      "training loss: 2.8645644187927246\n",
      "training loss: 2.8576502799987793\n"
     ]
    },
    {
     "name": "stderr",
     "output_type": "stream",
     "text": [
      "training: 100%|█████████████████████████████████████████████████████████████████████████████████████████████████████████████████████▋| 905/907 [1:03:11<00:09,  4.68s/it]"
     ]
    },
    {
     "name": "stdout",
     "output_type": "stream",
     "text": [
      "training loss: 2.8603320121765137\n",
      "training loss: 2.8578603267669678\n"
     ]
    },
    {
     "name": "stderr",
     "output_type": "stream",
     "text": [
      "training: 100%|██████████████████████████████████████████████████████████████████████████████████████████████████████████████████████| 907/907 [1:03:19<00:00,  4.19s/it]\n",
      "training:   0%|                                                                                                                                  | 0/907 [00:00<?, ?it/s]"
     ]
    },
    {
     "name": "stdout",
     "output_type": "stream",
     "text": [
      "training loss: 2.8815369606018066\n",
      "training loss: 2.868820905685425\n",
      "validation loss: 2.910703182220459\n",
      "training loss: 2.903090715408325\n",
      "training loss: 2.8824188709259033\n",
      "training loss: 2.9194231033325195\n",
      "training loss: 2.9053828716278076\n",
      "training loss: 2.8948047161102295\n"
     ]
    },
    {
     "name": "stderr",
     "output_type": "stream",
     "text": [
      "\r",
      "training:   1%|▉                                                                                                                         | 7/907 [00:10<23:08,  1.54s/it]"
     ]
    },
    {
     "name": "stdout",
     "output_type": "stream",
     "text": [
      "training loss: 2.891319990158081\n",
      "training loss: 2.879565954208374\n",
      "training loss: 2.912682294845581\n",
      "training loss: 2.8750178813934326\n",
      "training loss: 2.932180643081665\n",
      "training loss: 2.8386752605438232\n",
      "training loss: 2.835401773452759\n",
      "validation loss: 2.885460615158081\n"
     ]
    },
    {
     "name": "stderr",
     "output_type": "stream",
     "text": [
      "\r",
      "training:   2%|█▊                                                                                                                       | 14/907 [00:22<23:48,  1.60s/it]"
     ]
    },
    {
     "name": "stdout",
     "output_type": "stream",
     "text": [
      "training loss: 2.9342615604400635\n",
      "training loss: 2.9031858444213867\n",
      "training loss: 2.8524274826049805\n",
      "training loss: 2.903606414794922\n"
     ]
    },
    {
     "name": "stderr",
     "output_type": "stream",
     "text": [
      "training:   2%|██▍                                                                                                                      | 18/907 [00:42<38:06,  2.57s/it]"
     ]
    },
    {
     "name": "stdout",
     "output_type": "stream",
     "text": [
      "training loss: 2.843022108078003\n",
      "training loss: 2.852750778198242\n",
      "training loss: 2.8920300006866455\n"
     ]
    },
    {
     "name": "stderr",
     "output_type": "stream",
     "text": [
      "\r",
      "training:   2%|██▊                                                                                                                      | 21/907 [00:58<51:01,  3.46s/it]"
     ]
    },
    {
     "name": "stdout",
     "output_type": "stream",
     "text": [
      "training loss: 2.878241777420044\n",
      "training loss: 2.925377607345581\n"
     ]
    },
    {
     "name": "stderr",
     "output_type": "stream",
     "text": [
      "\r",
      "training:   3%|███                                                                                                                      | 23/907 [01:09<59:53,  4.06s/it]"
     ]
    },
    {
     "name": "stdout",
     "output_type": "stream",
     "text": [
      "training loss: 2.879965305328369\n",
      "training loss: 2.8433873653411865\n"
     ]
    },
    {
     "name": "stderr",
     "output_type": "stream",
     "text": [
      "\r",
      "training:   3%|███                                                                                                                      | 23/907 [01:20<59:53,  4.06s/it]"
     ]
    },
    {
     "name": "stdout",
     "output_type": "stream",
     "text": [
      "training loss: 2.886674404144287\n"
     ]
    },
    {
     "name": "stderr",
     "output_type": "stream",
     "text": [
      "\r",
      "training:   3%|███▎                                                                                                                   | 25/907 [01:21<1:07:04,  4.56s/it]"
     ]
    },
    {
     "name": "stdout",
     "output_type": "stream",
     "text": [
      "validation loss: 2.8997089862823486\n",
      "training loss: 2.900817394256592\n"
     ]
    },
    {
     "name": "stderr",
     "output_type": "stream",
     "text": [
      "\r",
      "training:   3%|███▌                                                                                                                   | 27/907 [01:32<1:10:42,  4.82s/it]"
     ]
    },
    {
     "name": "stdout",
     "output_type": "stream",
     "text": [
      "training loss: 2.8899505138397217\n",
      "training loss: 2.870828628540039\n"
     ]
    },
    {
     "name": "stderr",
     "output_type": "stream",
     "text": [
      "\r",
      "training:   3%|███▊                                                                                                                   | 29/907 [01:43<1:13:22,  5.01s/it]"
     ]
    },
    {
     "name": "stdout",
     "output_type": "stream",
     "text": [
      "training loss: 2.9003026485443115\n",
      "training loss: 2.87022066116333\n"
     ]
    },
    {
     "name": "stderr",
     "output_type": "stream",
     "text": [
      "\r",
      "training:   3%|████                                                                                                                   | 31/907 [01:54<1:15:16,  5.16s/it]"
     ]
    },
    {
     "name": "stdout",
     "output_type": "stream",
     "text": [
      "training loss: 2.9200334548950195\n",
      "training loss: 2.902435302734375\n"
     ]
    },
    {
     "name": "stderr",
     "output_type": "stream",
     "text": [
      "\r",
      "training:   4%|████▎                                                                                                                  | 33/907 [02:04<1:15:53,  5.21s/it]"
     ]
    },
    {
     "name": "stdout",
     "output_type": "stream",
     "text": [
      "training loss: 2.8806278705596924\n",
      "training loss: 2.8884077072143555\n"
     ]
    },
    {
     "name": "stderr",
     "output_type": "stream",
     "text": [
      "\r",
      "training:   4%|████▌                                                                                                                  | 35/907 [02:15<1:15:45,  5.21s/it]"
     ]
    },
    {
     "name": "stdout",
     "output_type": "stream",
     "text": [
      "training loss: 2.8654325008392334\n",
      "training loss: 2.8800108432769775\n",
      "training loss: 2.897653579711914\n"
     ]
    },
    {
     "name": "stderr",
     "output_type": "stream",
     "text": [
      "\r",
      "training:   4%|████▊                                                                                                                  | 37/907 [02:25<1:15:43,  5.22s/it]"
     ]
    },
    {
     "name": "stdout",
     "output_type": "stream",
     "text": [
      "validation loss: 2.8574578762054443\n",
      "training loss: 2.8965628147125244\n"
     ]
    },
    {
     "name": "stderr",
     "output_type": "stream",
     "text": [
      "\r",
      "training:   4%|█████                                                                                                                  | 39/907 [02:36<1:15:50,  5.24s/it]"
     ]
    },
    {
     "name": "stdout",
     "output_type": "stream",
     "text": [
      "training loss: 2.9113173484802246\n",
      "training loss: 2.909869909286499\n"
     ]
    },
    {
     "name": "stderr",
     "output_type": "stream",
     "text": [
      "\r",
      "training:   5%|█████▍                                                                                                                 | 41/907 [02:46<1:15:54,  5.26s/it]"
     ]
    },
    {
     "name": "stdout",
     "output_type": "stream",
     "text": [
      "training loss: 2.885634183883667\n",
      "training loss: 2.835496664047241\n",
      "training loss: 2.9591705799102783\n"
     ]
    },
    {
     "name": "stderr",
     "output_type": "stream",
     "text": [
      "training:   5%|█████▊                                                                                                                 | 44/907 [03:01<1:13:31,  5.11s/it]"
     ]
    },
    {
     "name": "stdout",
     "output_type": "stream",
     "text": [
      "training loss: 2.928910732269287\n",
      "training loss: 2.886579990386963\n",
      "training loss: 2.9109437465667725\n"
     ]
    },
    {
     "name": "stderr",
     "output_type": "stream",
     "text": [
      "\r",
      "training:   5%|██████▏                                                                                                                | 47/907 [03:17<1:15:11,  5.25s/it]"
     ]
    },
    {
     "name": "stdout",
     "output_type": "stream",
     "text": [
      "training loss: 2.8677852153778076\n",
      "training loss: 2.9000658988952637\n",
      "training loss: 2.8848397731781006\n"
     ]
    },
    {
     "name": "stderr",
     "output_type": "stream",
     "text": [
      "training:   5%|██████▍                                                                                                                | 49/907 [03:30<1:18:50,  5.51s/it]"
     ]
    },
    {
     "name": "stdout",
     "output_type": "stream",
     "text": [
      "validation loss: 2.8366000652313232\n",
      "training loss: 2.8834447860717773\n"
     ]
    },
    {
     "name": "stderr",
     "output_type": "stream",
     "text": [
      "\r",
      "training:   6%|██████▋                                                                                                                | 51/907 [03:40<1:16:52,  5.39s/it]"
     ]
    },
    {
     "name": "stdout",
     "output_type": "stream",
     "text": [
      "training loss: 2.873677968978882\n",
      "training loss: 2.885634183883667\n"
     ]
    },
    {
     "name": "stderr",
     "output_type": "stream",
     "text": [
      "\r",
      "training:   6%|██████▉                                                                                                                | 53/907 [03:50<1:15:27,  5.30s/it]"
     ]
    },
    {
     "name": "stdout",
     "output_type": "stream",
     "text": [
      "training loss: 2.872572898864746\n",
      "training loss: 2.8517653942108154\n"
     ]
    },
    {
     "name": "stderr",
     "output_type": "stream",
     "text": [
      "\r",
      "training:   6%|███████▏                                                                                                               | 55/907 [04:02<1:18:00,  5.49s/it]"
     ]
    },
    {
     "name": "stdout",
     "output_type": "stream",
     "text": [
      "training loss: 2.866286039352417\n",
      "training loss: 2.8367462158203125\n"
     ]
    },
    {
     "name": "stderr",
     "output_type": "stream",
     "text": [
      "\r",
      "training:   6%|███████▍                                                                                                               | 57/907 [04:13<1:18:29,  5.54s/it]"
     ]
    },
    {
     "name": "stdout",
     "output_type": "stream",
     "text": [
      "training loss: 2.875331401824951\n",
      "training loss: 2.9247841835021973\n"
     ]
    },
    {
     "name": "stderr",
     "output_type": "stream",
     "text": [
      "\r",
      "training:   7%|███████▋                                                                                                               | 59/907 [04:24<1:18:27,  5.55s/it]"
     ]
    },
    {
     "name": "stdout",
     "output_type": "stream",
     "text": [
      "training loss: 2.8578097820281982\n",
      "training loss: 2.834632158279419\n",
      "training loss: 2.8636629581451416\n",
      "validation loss: 2.8821144104003906\n",
      "training loss: 2.950127363204956\n"
     ]
    },
    {
     "name": "stderr",
     "output_type": "stream",
     "text": [
      "\r",
      "training:   7%|████████▎                                                                                                              | 63/907 [04:35<1:05:50,  4.68s/it]"
     ]
    },
    {
     "name": "stdout",
     "output_type": "stream",
     "text": [
      "training loss: 2.835463762283325\n",
      "training loss: 2.8358960151672363\n",
      "training loss: 2.8704750537872314\n",
      "training loss: 2.8471338748931885\n",
      "training loss: 2.91045880317688\n",
      "training loss: 2.894404649734497\n",
      "training loss: 2.8517966270446777\n",
      "training loss: 2.864985227584839\n"
     ]
    },
    {
     "name": "stderr",
     "output_type": "stream",
     "text": [
      "\r",
      "training:   8%|█████████▍                                                                                                               | 71/907 [04:45<51:00,  3.66s/it]"
     ]
    },
    {
     "name": "stdout",
     "output_type": "stream",
     "text": [
      "training loss: 2.8999576568603516\n",
      "training loss: 2.8737552165985107\n",
      "training loss: 2.933304786682129\n",
      "validation loss: 2.8782269954681396\n",
      "training loss: 2.8508808612823486\n",
      "training loss: 2.875194787979126\n",
      "training loss: 2.8734428882598877\n",
      "training loss: 2.8993163108825684\n",
      "training loss: 2.8664710521698\n"
     ]
    },
    {
     "name": "stderr",
     "output_type": "stream",
     "text": [
      "training:   9%|██████████▌                                                                                                              | 79/907 [05:01<43:38,  3.16s/it]"
     ]
    },
    {
     "name": "stdout",
     "output_type": "stream",
     "text": [
      "training loss: 2.8523058891296387\n",
      "training loss: 2.8971993923187256\n",
      "training loss: 2.844594717025757\n",
      "training loss: 2.8970789909362793\n",
      "training loss: 2.8627254962921143\n",
      "training loss: 2.8333287239074707\n"
     ]
    },
    {
     "name": "stderr",
     "output_type": "stream",
     "text": [
      "\r",
      "training:   9%|██████████▌                                                                                                              | 79/907 [05:20<43:38,  3.16s/it]"
     ]
    },
    {
     "name": "stdout",
     "output_type": "stream",
     "text": [
      "training loss: 2.8799381256103516\n"
     ]
    },
    {
     "name": "stderr",
     "output_type": "stream",
     "text": [
      "\r",
      "training:   9%|███████████▎                                                                                                             | 85/907 [05:25<46:25,  3.39s/it]"
     ]
    },
    {
     "name": "stdout",
     "output_type": "stream",
     "text": [
      "validation loss: 2.8566815853118896\n",
      "training loss: 2.865375280380249\n",
      "training loss: 2.862090826034546\n"
     ]
    },
    {
     "name": "stderr",
     "output_type": "stream",
     "text": [
      "training:  10%|███████████▋                                                                                                             | 88/907 [05:40<52:52,  3.87s/it]"
     ]
    },
    {
     "name": "stdout",
     "output_type": "stream",
     "text": [
      "training loss: 2.900110960006714\n",
      "training loss: 2.9032044410705566\n"
     ]
    },
    {
     "name": "stderr",
     "output_type": "stream",
     "text": [
      "\r",
      "training:  10%|████████████                                                                                                             | 90/907 [05:51<59:28,  4.37s/it]"
     ]
    },
    {
     "name": "stdout",
     "output_type": "stream",
     "text": [
      "training loss: 2.895458221435547\n",
      "training loss: 2.854670763015747\n"
     ]
    },
    {
     "name": "stderr",
     "output_type": "stream",
     "text": [
      "\r",
      "training:  10%|████████████                                                                                                           | 92/907 [06:01<1:02:37,  4.61s/it]"
     ]
    },
    {
     "name": "stdout",
     "output_type": "stream",
     "text": [
      "training loss: 2.854717493057251\n",
      "training loss: 2.830050230026245\n",
      "training loss: 2.874143362045288\n"
     ]
    },
    {
     "name": "stderr",
     "output_type": "stream",
     "text": [
      "\r",
      "training:  10%|████████████▍                                                                                                          | 95/907 [06:15<1:03:16,  4.68s/it]"
     ]
    },
    {
     "name": "stdout",
     "output_type": "stream",
     "text": [
      "training loss: 2.8809759616851807\n",
      "training loss: 2.8674962520599365\n",
      "training loss: 2.8277719020843506\n",
      "validation loss: 2.864978075027466\n"
     ]
    },
    {
     "name": "stderr",
     "output_type": "stream",
     "text": [
      "training:  11%|████████████▊                                                                                                          | 98/907 [06:31<1:05:20,  4.85s/it]"
     ]
    },
    {
     "name": "stdout",
     "output_type": "stream",
     "text": [
      "training loss: 2.890329360961914\n",
      "training loss: 2.8890881538391113\n"
     ]
    },
    {
     "name": "stderr",
     "output_type": "stream",
     "text": [
      "\r",
      "training:  11%|█████████████                                                                                                         | 100/907 [06:42<1:06:21,  4.93s/it]"
     ]
    },
    {
     "name": "stdout",
     "output_type": "stream",
     "text": [
      "training loss: 2.8476574420928955\n",
      "training loss: 2.9298782348632812\n"
     ]
    },
    {
     "name": "stderr",
     "output_type": "stream",
     "text": [
      "\r",
      "training:  11%|█████████████▎                                                                                                        | 102/907 [06:52<1:06:40,  4.97s/it]"
     ]
    },
    {
     "name": "stdout",
     "output_type": "stream",
     "text": [
      "training loss: 2.8874847888946533\n",
      "training loss: 2.8636910915374756\n"
     ]
    },
    {
     "name": "stderr",
     "output_type": "stream",
     "text": [
      "\r",
      "training:  11%|█████████████▌                                                                                                        | 104/907 [07:03<1:08:50,  5.14s/it]"
     ]
    },
    {
     "name": "stdout",
     "output_type": "stream",
     "text": [
      "training loss: 2.8192553520202637\n",
      "training loss: 2.855599880218506\n",
      "training loss: 2.92486310005188\n"
     ]
    },
    {
     "name": "stderr",
     "output_type": "stream",
     "text": [
      "\r",
      "training:  12%|█████████████▉                                                                                                        | 107/907 [07:17<1:07:34,  5.07s/it]"
     ]
    },
    {
     "name": "stdout",
     "output_type": "stream",
     "text": [
      "training loss: 2.866274118423462\n",
      "training loss: 2.856764316558838\n",
      "training loss: 2.880486488342285\n",
      "validation loss: 2.808201551437378\n"
     ]
    },
    {
     "name": "stderr",
     "output_type": "stream",
     "text": [
      "training:  12%|██████████████▎                                                                                                       | 110/907 [07:34<1:08:59,  5.19s/it]"
     ]
    },
    {
     "name": "stdout",
     "output_type": "stream",
     "text": [
      "training loss: 2.889227867126465\n",
      "training loss: 2.8522727489471436\n",
      "training loss: 2.842407703399658\n"
     ]
    },
    {
     "name": "stderr",
     "output_type": "stream",
     "text": [
      "\r",
      "training:  12%|██████████████▋                                                                                                       | 113/907 [07:48<1:06:55,  5.06s/it]"
     ]
    },
    {
     "name": "stdout",
     "output_type": "stream",
     "text": [
      "training loss: 2.8765952587127686\n",
      "training loss: 2.8673255443573\n",
      "training loss: 2.8471696376800537\n"
     ]
    },
    {
     "name": "stderr",
     "output_type": "stream",
     "text": [
      "training:  13%|███████████████                                                                                                       | 116/907 [08:04<1:07:48,  5.14s/it]"
     ]
    },
    {
     "name": "stdout",
     "output_type": "stream",
     "text": [
      "training loss: 2.9087400436401367\n",
      "training loss: 2.89770245552063\n"
     ]
    },
    {
     "name": "stderr",
     "output_type": "stream",
     "text": [
      "\r",
      "training:  13%|███████████████▎                                                                                                      | 118/907 [08:14<1:07:46,  5.15s/it]"
     ]
    },
    {
     "name": "stdout",
     "output_type": "stream",
     "text": [
      "training loss: 2.852139711380005\n",
      "training loss: 2.865443706512451\n"
     ]
    },
    {
     "name": "stderr",
     "output_type": "stream",
     "text": [
      "\r",
      "training:  13%|███████████████▌                                                                                                      | 120/907 [08:25<1:08:07,  5.19s/it]"
     ]
    },
    {
     "name": "stdout",
     "output_type": "stream",
     "text": [
      "training loss: 2.8757517337799072\n",
      "training loss: 2.8642220497131348\n",
      "validation loss: 2.866628646850586\n"
     ]
    },
    {
     "name": "stderr",
     "output_type": "stream",
     "text": [
      "\r",
      "training:  13%|███████████████▊                                                                                                      | 122/907 [08:36<1:09:39,  5.32s/it]"
     ]
    },
    {
     "name": "stdout",
     "output_type": "stream",
     "text": [
      "training loss: 2.8906989097595215\n",
      "training loss: 2.9346489906311035\n"
     ]
    },
    {
     "name": "stderr",
     "output_type": "stream",
     "text": [
      "\r",
      "training:  14%|████████████████▏                                                                                                     | 124/907 [08:47<1:10:28,  5.40s/it]"
     ]
    },
    {
     "name": "stdout",
     "output_type": "stream",
     "text": [
      "training loss: 2.9014673233032227\n",
      "training loss: 2.884484052658081\n",
      "training loss: 2.8341221809387207\n"
     ]
    },
    {
     "name": "stderr",
     "output_type": "stream",
     "text": [
      "training:  14%|████████████████▌                                                                                                     | 127/907 [09:02<1:08:01,  5.23s/it]"
     ]
    },
    {
     "name": "stdout",
     "output_type": "stream",
     "text": [
      "training loss: 2.863945484161377\n",
      "training loss: 2.8430705070495605\n",
      "training loss: 2.8767426013946533\n"
     ]
    },
    {
     "name": "stderr",
     "output_type": "stream",
     "text": [
      "\r",
      "training:  14%|████████████████▉                                                                                                     | 130/907 [09:18<1:07:34,  5.22s/it]"
     ]
    },
    {
     "name": "stdout",
     "output_type": "stream",
     "text": [
      "training loss: 2.9156978130340576\n",
      "training loss: 2.870755195617676\n",
      "training loss: 2.8941445350646973\n"
     ]
    },
    {
     "name": "stderr",
     "output_type": "stream",
     "text": [
      "\r",
      "training:  14%|████████████████▉                                                                                                     | 130/907 [09:30<1:07:34,  5.22s/it]"
     ]
    },
    {
     "name": "stdout",
     "output_type": "stream",
     "text": [
      "training loss: 2.907104015350342\n"
     ]
    },
    {
     "name": "stderr",
     "output_type": "stream",
     "text": [
      "\r",
      "training:  15%|█████████████████▎                                                                                                    | 133/907 [09:33<1:07:38,  5.24s/it]"
     ]
    },
    {
     "name": "stdout",
     "output_type": "stream",
     "text": [
      "validation loss: 2.88327693939209\n",
      "training loss: 2.868713140487671\n",
      "training loss: 2.8894383907318115\n"
     ]
    },
    {
     "name": "stderr",
     "output_type": "stream",
     "text": [
      "\r",
      "training:  15%|█████████████████▋                                                                                                    | 136/907 [09:48<1:05:20,  5.08s/it]"
     ]
    },
    {
     "name": "stdout",
     "output_type": "stream",
     "text": [
      "training loss: 2.892878293991089\n",
      "training loss: 2.8765852451324463\n",
      "training loss: 2.8866500854492188\n"
     ]
    },
    {
     "name": "stderr",
     "output_type": "stream",
     "text": [
      "training:  15%|██████████████████                                                                                                    | 139/907 [10:02<1:03:44,  4.98s/it]"
     ]
    },
    {
     "name": "stdout",
     "output_type": "stream",
     "text": [
      "training loss: 2.898771047592163\n",
      "training loss: 2.915546417236328\n",
      "training loss: 2.9006845951080322\n",
      "training loss: 2.855393171310425\n"
     ]
    },
    {
     "name": "stderr",
     "output_type": "stream",
     "text": [
      "\r",
      "training:  16%|██████████████████▉                                                                                                     | 143/907 [10:13<54:55,  4.31s/it]"
     ]
    },
    {
     "name": "stdout",
     "output_type": "stream",
     "text": [
      "training loss: 2.8597629070281982\n",
      "training loss: 2.8685994148254395\n",
      "training loss: 2.8534655570983887\n",
      "validation loss: 2.868523597717285\n",
      "training loss: 2.89875864982605\n",
      "training loss: 2.8312392234802246\n",
      "training loss: 2.9056432247161865\n"
     ]
    },
    {
     "name": "stderr",
     "output_type": "stream",
     "text": [
      "\r",
      "training:  16%|███████████████████▋                                                                                                    | 149/907 [10:26<46:34,  3.69s/it]"
     ]
    },
    {
     "name": "stdout",
     "output_type": "stream",
     "text": [
      "training loss: 2.8482794761657715\n",
      "training loss: 2.886601686477661\n",
      "training loss: 2.869157552719116\n"
     ]
    },
    {
     "name": "stderr",
     "output_type": "stream",
     "text": [
      "training:  17%|████████████████████                                                                                                    | 152/907 [10:41<51:21,  4.08s/it]"
     ]
    },
    {
     "name": "stdout",
     "output_type": "stream",
     "text": [
      "training loss: 2.816657781600952\n",
      "training loss: 2.8971681594848633\n"
     ]
    },
    {
     "name": "stderr",
     "output_type": "stream",
     "text": [
      "\r",
      "training:  17%|████████████████████▎                                                                                                   | 154/907 [10:52<55:44,  4.44s/it]"
     ]
    },
    {
     "name": "stdout",
     "output_type": "stream",
     "text": [
      "training loss: 2.8602845668792725\n",
      "training loss: 2.908949375152588\n"
     ]
    },
    {
     "name": "stderr",
     "output_type": "stream",
     "text": [
      "\r",
      "training:  17%|████████████████████▋                                                                                                   | 156/907 [11:03<59:10,  4.73s/it]"
     ]
    },
    {
     "name": "stdout",
     "output_type": "stream",
     "text": [
      "training loss: 2.846182107925415\n",
      "training loss: 2.952475070953369\n",
      "validation loss: 2.860400438308716\n"
     ]
    },
    {
     "name": "stderr",
     "output_type": "stream",
     "text": [
      "\r",
      "training:  17%|████████████████████▌                                                                                                 | 158/907 [11:13<1:00:42,  4.86s/it]"
     ]
    },
    {
     "name": "stdout",
     "output_type": "stream",
     "text": [
      "training loss: 2.8701703548431396\n",
      "training loss: 2.8363449573516846\n",
      "training loss: 2.8909568786621094\n"
     ]
    },
    {
     "name": "stderr",
     "output_type": "stream",
     "text": [
      "\r",
      "training:  18%|████████████████████▉                                                                                                 | 161/907 [11:28<1:01:00,  4.91s/it]"
     ]
    },
    {
     "name": "stdout",
     "output_type": "stream",
     "text": [
      "training loss: 2.9113097190856934\n",
      "training loss: 2.902440309524536\n"
     ]
    },
    {
     "name": "stderr",
     "output_type": "stream",
     "text": [
      "\r",
      "training:  18%|█████████████████████▏                                                                                                | 163/907 [11:38<1:01:22,  4.95s/it]"
     ]
    },
    {
     "name": "stdout",
     "output_type": "stream",
     "text": [
      "training loss: 2.854436159133911\n",
      "training loss: 2.921633720397949\n",
      "training loss: 2.8670482635498047\n"
     ]
    },
    {
     "name": "stderr",
     "output_type": "stream",
     "text": [
      "training:  18%|█████████████████████▌                                                                                                | 166/907 [11:53<1:00:53,  4.93s/it]"
     ]
    },
    {
     "name": "stdout",
     "output_type": "stream",
     "text": [
      "training loss: 2.928283452987671\n",
      "training loss: 2.8794100284576416\n",
      "training loss: 2.8746211528778076\n",
      "training loss: 2.874447822570801\n"
     ]
    },
    {
     "name": "stderr",
     "output_type": "stream",
     "text": [
      "\r",
      "training:  19%|█████████████████████▉                                                                                                | 169/907 [12:07<1:00:28,  4.92s/it]"
     ]
    },
    {
     "name": "stdout",
     "output_type": "stream",
     "text": [
      "validation loss: 2.8823986053466797\n",
      "training loss: 2.9300079345703125\n",
      "training loss: 2.8415212631225586\n"
     ]
    },
    {
     "name": "stderr",
     "output_type": "stream",
     "text": [
      "training:  19%|██████████████████████▍                                                                                               | 172/907 [12:22<1:00:06,  4.91s/it]"
     ]
    },
    {
     "name": "stdout",
     "output_type": "stream",
     "text": [
      "training loss: 2.918144464492798\n",
      "training loss: 2.8937039375305176\n",
      "training loss: 2.832075357437134\n",
      "training loss: 2.9156975746154785\n",
      "training loss: 2.8866944313049316\n"
     ]
    },
    {
     "name": "stderr",
     "output_type": "stream",
     "text": [
      "\r",
      "training:  20%|███████████████████████▍                                                                                                | 177/907 [12:36<52:19,  4.30s/it]"
     ]
    },
    {
     "name": "stdout",
     "output_type": "stream",
     "text": [
      "training loss: 2.8969030380249023\n",
      "training loss: 2.845634937286377\n",
      "training loss: 2.9086050987243652\n"
     ]
    },
    {
     "name": "stderr",
     "output_type": "stream",
     "text": [
      "training:  20%|███████████████████████▊                                                                                                | 180/907 [12:51<53:51,  4.44s/it]"
     ]
    },
    {
     "name": "stdout",
     "output_type": "stream",
     "text": [
      "training loss: 2.882566213607788\n",
      "training loss: 2.9275856018066406\n",
      "validation loss: 2.8489325046539307\n",
      "training loss: 2.903024435043335\n",
      "training loss: 2.8803789615631104\n"
     ]
    },
    {
     "name": "stderr",
     "output_type": "stream",
     "text": [
      "\r",
      "training:  20%|████████████████████████▎                                                                                               | 184/907 [13:02<47:47,  3.97s/it]"
     ]
    },
    {
     "name": "stdout",
     "output_type": "stream",
     "text": [
      "training loss: 2.838437795639038\n",
      "training loss: 2.8344719409942627\n",
      "training loss: 2.868859052658081\n",
      "training loss: 2.890730619430542\n"
     ]
    },
    {
     "name": "stderr",
     "output_type": "stream",
     "text": [
      "training:  21%|████████████████████████▊                                                                                               | 188/907 [13:21<50:33,  4.22s/it]"
     ]
    },
    {
     "name": "stdout",
     "output_type": "stream",
     "text": [
      "training loss: 2.8509724140167236\n",
      "training loss: 2.8270719051361084\n",
      "training loss: 2.884260654449463\n"
     ]
    },
    {
     "name": "stderr",
     "output_type": "stream",
     "text": [
      "\r",
      "training:  21%|█████████████████████████▎                                                                                              | 191/907 [13:36<52:15,  4.38s/it]"
     ]
    },
    {
     "name": "stdout",
     "output_type": "stream",
     "text": [
      "training loss: 2.879885673522949\n",
      "training loss: 2.8663408756256104\n",
      "training loss: 2.8638968467712402\n",
      "validation loss: 2.8523690700531006\n"
     ]
    },
    {
     "name": "stderr",
     "output_type": "stream",
     "text": [
      "training:  21%|█████████████████████████▋                                                                                              | 194/907 [13:51<54:45,  4.61s/it]"
     ]
    },
    {
     "name": "stdout",
     "output_type": "stream",
     "text": [
      "training loss: 2.924309492111206\n",
      "training loss: 2.874070644378662\n",
      "training loss: 2.933112859725952\n"
     ]
    },
    {
     "name": "stderr",
     "output_type": "stream",
     "text": [
      "\r",
      "training:  22%|██████████████████████████                                                                                              | 197/907 [14:06<55:38,  4.70s/it]"
     ]
    },
    {
     "name": "stdout",
     "output_type": "stream",
     "text": [
      "training loss: 2.8799736499786377\n",
      "training loss: 2.868009567260742\n",
      "training loss: 2.913086414337158\n"
     ]
    },
    {
     "name": "stderr",
     "output_type": "stream",
     "text": [
      "training:  22%|██████████████████████████▍                                                                                             | 200/907 [14:21<56:25,  4.79s/it]"
     ]
    },
    {
     "name": "stdout",
     "output_type": "stream",
     "text": [
      "training loss: 2.9306187629699707\n",
      "training loss: 2.8832013607025146\n",
      "training loss: 2.903432846069336\n"
     ]
    },
    {
     "name": "stderr",
     "output_type": "stream",
     "text": [
      "\r",
      "training:  22%|██████████████████████████▊                                                                                             | 203/907 [14:36<57:20,  4.89s/it]"
     ]
    },
    {
     "name": "stdout",
     "output_type": "stream",
     "text": [
      "training loss: 2.867419958114624\n",
      "training loss: 2.954939842224121\n",
      "training loss: 2.891828775405884\n"
     ]
    },
    {
     "name": "stderr",
     "output_type": "stream",
     "text": [
      "\r",
      "training:  23%|███████████████████████████                                                                                             | 205/907 [14:47<58:53,  5.03s/it]"
     ]
    },
    {
     "name": "stdout",
     "output_type": "stream",
     "text": [
      "validation loss: 2.86893892288208\n",
      "training loss: 2.8764238357543945\n",
      "training loss: 2.882599353790283\n"
     ]
    },
    {
     "name": "stderr",
     "output_type": "stream",
     "text": [
      "training:  23%|███████████████████████████▌                                                                                            | 208/907 [15:02<58:26,  5.02s/it]"
     ]
    },
    {
     "name": "stdout",
     "output_type": "stream",
     "text": [
      "training loss: 2.8690576553344727\n",
      "training loss: 2.850309371948242\n",
      "training loss: 2.9185755252838135\n"
     ]
    },
    {
     "name": "stderr",
     "output_type": "stream",
     "text": [
      "\r",
      "training:  23%|███████████████████████████▉                                                                                            | 211/907 [15:17<57:51,  4.99s/it]"
     ]
    },
    {
     "name": "stdout",
     "output_type": "stream",
     "text": [
      "training loss: 2.885584592819214\n",
      "training loss: 2.9372830390930176\n",
      "training loss: 2.8953444957733154\n"
     ]
    },
    {
     "name": "stderr",
     "output_type": "stream",
     "text": [
      "training:  24%|████████████████████████████▎                                                                                           | 214/907 [15:32<57:50,  5.01s/it]"
     ]
    },
    {
     "name": "stdout",
     "output_type": "stream",
     "text": [
      "training loss: 2.8845114707946777\n",
      "training loss: 2.8721911907196045\n",
      "training loss: 2.867340326309204\n",
      "training loss: 2.8958632946014404\n"
     ]
    },
    {
     "name": "stderr",
     "output_type": "stream",
     "text": [
      "\r",
      "training:  24%|████████████████████████████▋                                                                                           | 217/907 [15:47<58:19,  5.07s/it]"
     ]
    },
    {
     "name": "stdout",
     "output_type": "stream",
     "text": [
      "validation loss: 2.888152837753296\n",
      "training loss: 2.865961790084839\n",
      "training loss: 2.8805623054504395\n"
     ]
    },
    {
     "name": "stderr",
     "output_type": "stream",
     "text": [
      "training:  24%|█████████████████████████████                                                                                           | 220/907 [16:02<57:38,  5.03s/it]"
     ]
    },
    {
     "name": "stdout",
     "output_type": "stream",
     "text": [
      "training loss: 2.8511276245117188\n",
      "training loss: 2.8925650119781494\n",
      "training loss: 2.8883209228515625\n"
     ]
    },
    {
     "name": "stderr",
     "output_type": "stream",
     "text": [
      "\r",
      "training:  25%|█████████████████████████████▌                                                                                          | 223/907 [16:17<56:41,  4.97s/it]"
     ]
    },
    {
     "name": "stdout",
     "output_type": "stream",
     "text": [
      "training loss: 2.872307777404785\n",
      "training loss: 2.882187843322754\n",
      "training loss: 2.8949427604675293\n"
     ]
    },
    {
     "name": "stderr",
     "output_type": "stream",
     "text": [
      "\r",
      "training:  25%|█████████████████████████████▉                                                                                          | 226/907 [16:28<52:11,  4.60s/it]"
     ]
    },
    {
     "name": "stdout",
     "output_type": "stream",
     "text": [
      "training loss: 2.865187168121338\n",
      "training loss: 2.8716983795166016\n",
      "training loss: 2.898632049560547\n"
     ]
    },
    {
     "name": "stderr",
     "output_type": "stream",
     "text": [
      "\r",
      "training:  25%|█████████████████████████████▉                                                                                          | 226/907 [16:40<52:11,  4.60s/it]"
     ]
    },
    {
     "name": "stdout",
     "output_type": "stream",
     "text": [
      "training loss: 2.8507206439971924\n"
     ]
    },
    {
     "name": "stderr",
     "output_type": "stream",
     "text": [
      "\r",
      "training:  25%|██████████████████████████████▎                                                                                         | 229/907 [16:44<54:59,  4.87s/it]"
     ]
    },
    {
     "name": "stdout",
     "output_type": "stream",
     "text": [
      "validation loss: 2.8502211570739746\n",
      "training loss: 2.8738560676574707\n",
      "training loss: 2.8821892738342285\n"
     ]
    },
    {
     "name": "stderr",
     "output_type": "stream",
     "text": [
      "\r",
      "training:  26%|██████████████████████████████▋                                                                                         | 232/907 [16:59<54:19,  4.83s/it]"
     ]
    },
    {
     "name": "stdout",
     "output_type": "stream",
     "text": [
      "training loss: 2.8222243785858154\n",
      "training loss: 2.8699254989624023\n",
      "training loss: 2.8921096324920654\n",
      "training loss: 2.869374990463257\n"
     ]
    },
    {
     "name": "stderr",
     "output_type": "stream",
     "text": [
      "training:  26%|███████████████████████████████▏                                                                                        | 236/907 [17:10<47:03,  4.21s/it]"
     ]
    },
    {
     "name": "stdout",
     "output_type": "stream",
     "text": [
      "training loss: 2.9097564220428467\n",
      "training loss: 2.89322829246521\n",
      "training loss: 2.8873445987701416\n",
      "training loss: 2.8455758094787598\n",
      "training loss: 2.8687851428985596\n",
      "training loss: 2.8969664573669434\n"
     ]
    },
    {
     "name": "stderr",
     "output_type": "stream",
     "text": [
      "\r",
      "training:  27%|███████████████████████████████▉                                                                                        | 241/907 [17:24<42:20,  3.81s/it]"
     ]
    },
    {
     "name": "stdout",
     "output_type": "stream",
     "text": [
      "validation loss: 2.8959765434265137\n",
      "training loss: 2.8470406532287598\n",
      "training loss: 2.833634853363037\n",
      "training loss: 2.8997600078582764\n"
     ]
    },
    {
     "name": "stderr",
     "output_type": "stream",
     "text": [
      "training:  27%|████████████████████████████████▍                                                                                       | 245/907 [17:44<46:10,  4.18s/it]"
     ]
    },
    {
     "name": "stdout",
     "output_type": "stream",
     "text": [
      "training loss: 2.8400936126708984\n",
      "training loss: 2.878591775894165\n"
     ]
    },
    {
     "name": "stderr",
     "output_type": "stream",
     "text": [
      "\r",
      "training:  27%|████████████████████████████████▋                                                                                       | 247/907 [17:55<49:03,  4.46s/it]"
     ]
    },
    {
     "name": "stdout",
     "output_type": "stream",
     "text": [
      "training loss: 2.832298994064331\n",
      "training loss: 2.952059745788574\n"
     ]
    },
    {
     "name": "stderr",
     "output_type": "stream",
     "text": [
      "\r",
      "training:  27%|████████████████████████████████▉                                                                                       | 249/907 [18:05<51:00,  4.65s/it]"
     ]
    },
    {
     "name": "stdout",
     "output_type": "stream",
     "text": [
      "training loss: 2.8535170555114746\n",
      "training loss: 2.8878090381622314\n"
     ]
    },
    {
     "name": "stderr",
     "output_type": "stream",
     "text": [
      "\r",
      "training:  28%|█████████████████████████████████▏                                                                                      | 251/907 [18:15<52:39,  4.82s/it]"
     ]
    },
    {
     "name": "stdout",
     "output_type": "stream",
     "text": [
      "training loss: 2.854062557220459\n",
      "training loss: 2.9026927947998047\n",
      "training loss: 2.856018543243408\n"
     ]
    },
    {
     "name": "stderr",
     "output_type": "stream",
     "text": [
      "\r",
      "training:  28%|█████████████████████████████████▍                                                                                      | 253/907 [18:26<54:31,  5.00s/it]"
     ]
    },
    {
     "name": "stdout",
     "output_type": "stream",
     "text": [
      "validation loss: 2.8777408599853516\n",
      "training loss: 2.89859938621521\n",
      "training loss: 2.8498458862304688\n"
     ]
    },
    {
     "name": "stderr",
     "output_type": "stream",
     "text": [
      "training:  28%|█████████████████████████████████▊                                                                                      | 256/907 [18:41<53:50,  4.96s/it]"
     ]
    },
    {
     "name": "stdout",
     "output_type": "stream",
     "text": [
      "training loss: 2.8800292015075684\n",
      "training loss: 2.8788039684295654\n",
      "training loss: 2.894968271255493\n"
     ]
    },
    {
     "name": "stderr",
     "output_type": "stream",
     "text": [
      "\r",
      "training:  29%|██████████████████████████████████▎                                                                                     | 259/907 [18:55<52:56,  4.90s/it]"
     ]
    },
    {
     "name": "stdout",
     "output_type": "stream",
     "text": [
      "training loss: 2.888610601425171\n",
      "training loss: 2.8855221271514893\n",
      "training loss: 2.891526699066162\n"
     ]
    },
    {
     "name": "stderr",
     "output_type": "stream",
     "text": [
      "\r",
      "training:  29%|██████████████████████████████████▋                                                                                     | 262/907 [19:09<51:48,  4.82s/it]"
     ]
    },
    {
     "name": "stdout",
     "output_type": "stream",
     "text": [
      "training loss: 2.862816095352173\n",
      "training loss: 2.868557929992676\n",
      "training loss: 2.895094871520996\n"
     ]
    },
    {
     "name": "stderr",
     "output_type": "stream",
     "text": [
      "\r",
      "training:  29%|██████████████████████████████████▋                                                                                     | 262/907 [19:20<51:48,  4.82s/it]"
     ]
    },
    {
     "name": "stdout",
     "output_type": "stream",
     "text": [
      "training loss: 2.89449143409729\n"
     ]
    },
    {
     "name": "stderr",
     "output_type": "stream",
     "text": [
      "\r",
      "training:  29%|███████████████████████████████████                                                                                     | 265/907 [19:23<51:36,  4.82s/it]"
     ]
    },
    {
     "name": "stdout",
     "output_type": "stream",
     "text": [
      "validation loss: 2.827162981033325\n",
      "training loss: 2.878175735473633\n",
      "training loss: 2.8121302127838135\n"
     ]
    },
    {
     "name": "stderr",
     "output_type": "stream",
     "text": [
      "\r",
      "training:  30%|███████████████████████████████████▍                                                                                    | 268/907 [19:37<50:25,  4.73s/it]"
     ]
    },
    {
     "name": "stdout",
     "output_type": "stream",
     "text": [
      "training loss: 2.864042282104492\n",
      "training loss: 2.9047882556915283\n",
      "training loss: 2.864257574081421\n"
     ]
    },
    {
     "name": "stderr",
     "output_type": "stream",
     "text": [
      "training:  30%|███████████████████████████████████▊                                                                                    | 271/907 [19:50<49:09,  4.64s/it]"
     ]
    },
    {
     "name": "stdout",
     "output_type": "stream",
     "text": [
      "training loss: 2.9240164756774902\n",
      "training loss: 2.8699984550476074\n",
      "training loss: 2.9437859058380127\n"
     ]
    },
    {
     "name": "stderr",
     "output_type": "stream",
     "text": [
      "\r",
      "training:  30%|████████████████████████████████████▎                                                                                   | 274/907 [20:03<47:55,  4.54s/it]"
     ]
    },
    {
     "name": "stdout",
     "output_type": "stream",
     "text": [
      "training loss: 2.8424644470214844\n",
      "training loss: 2.9083714485168457\n",
      "training loss: 2.8215341567993164\n",
      "training loss: 2.850032329559326\n"
     ]
    },
    {
     "name": "stderr",
     "output_type": "stream",
     "text": [
      "\r",
      "training:  31%|████████████████████████████████████▋                                                                                   | 277/907 [20:17<48:28,  4.62s/it]"
     ]
    },
    {
     "name": "stdout",
     "output_type": "stream",
     "text": [
      "validation loss: 2.9267728328704834\n",
      "training loss: 2.9155519008636475\n",
      "training loss: 2.8990159034729004\n"
     ]
    },
    {
     "name": "stderr",
     "output_type": "stream",
     "text": [
      "training:  31%|█████████████████████████████████████                                                                                   | 280/907 [20:31<48:28,  4.64s/it]"
     ]
    },
    {
     "name": "stdout",
     "output_type": "stream",
     "text": [
      "training loss: 2.8697078227996826\n",
      "training loss: 2.8585658073425293\n",
      "training loss: 2.8763234615325928\n"
     ]
    },
    {
     "name": "stderr",
     "output_type": "stream",
     "text": [
      "\r",
      "training:  31%|█████████████████████████████████████▍                                                                                  | 283/907 [20:46<48:52,  4.70s/it]"
     ]
    },
    {
     "name": "stdout",
     "output_type": "stream",
     "text": [
      "training loss: 2.8606321811676025\n",
      "training loss: 2.915860176086426\n",
      "training loss: 2.90108585357666\n"
     ]
    },
    {
     "name": "stderr",
     "output_type": "stream",
     "text": [
      "training:  32%|█████████████████████████████████████▊                                                                                  | 286/907 [21:00<48:59,  4.73s/it]"
     ]
    },
    {
     "name": "stdout",
     "output_type": "stream",
     "text": [
      "training loss: 2.872741937637329\n",
      "training loss: 2.857574462890625\n",
      "training loss: 2.8747220039367676\n",
      "training loss: 2.929021120071411\n",
      "validation loss: 2.841343641281128\n",
      "training loss: 2.8708574771881104\n",
      "training loss: 2.8772542476654053\n",
      "training loss: 2.8312995433807373\n",
      "training loss: 2.8750412464141846\n"
     ]
    },
    {
     "name": "stderr",
     "output_type": "stream",
     "text": [
      "\r",
      "training:  32%|██████████████████████████████████████▉                                                                                 | 294/907 [21:11<37:59,  3.72s/it]"
     ]
    },
    {
     "name": "stdout",
     "output_type": "stream",
     "text": [
      "training loss: 2.8869497776031494\n",
      "training loss: 2.8764142990112305\n",
      "training loss: 2.9085190296173096\n",
      "training loss: 2.881186008453369\n",
      "training loss: 2.890085220336914\n",
      "training loss: 2.8821117877960205\n"
     ]
    },
    {
     "name": "stderr",
     "output_type": "stream",
     "text": [
      "training:  33%|███████████████████████████████████████▋                                                                                | 300/907 [21:30<35:51,  3.54s/it]"
     ]
    },
    {
     "name": "stdout",
     "output_type": "stream",
     "text": [
      "training loss: 2.8228774070739746\n",
      "training loss: 2.8204283714294434\n",
      "validation loss: 2.8434417247772217\n",
      "training loss: 2.837344169616699\n",
      "training loss: 2.869879722595215\n"
     ]
    },
    {
     "name": "stderr",
     "output_type": "stream",
     "text": [
      "\r",
      "training:  34%|████████████████████████████████████████▏                                                                               | 304/907 [21:48<38:17,  3.81s/it]"
     ]
    },
    {
     "name": "stdout",
     "output_type": "stream",
     "text": [
      "training loss: 2.888479709625244\n",
      "training loss: 2.8950693607330322\n",
      "training loss: 2.8151583671569824\n"
     ]
    },
    {
     "name": "stderr",
     "output_type": "stream",
     "text": [
      "training:  34%|████████████████████████████████████████▌                                                                               | 307/907 [22:00<38:50,  3.88s/it]"
     ]
    },
    {
     "name": "stdout",
     "output_type": "stream",
     "text": [
      "training loss: 2.8663909435272217\n",
      "training loss: 2.855463743209839\n",
      "training loss: 2.855863332748413\n"
     ]
    },
    {
     "name": "stderr",
     "output_type": "stream",
     "text": [
      "\r",
      "training:  34%|█████████████████████████████████████████                                                                               | 310/907 [22:14<40:48,  4.10s/it]"
     ]
    },
    {
     "name": "stdout",
     "output_type": "stream",
     "text": [
      "training loss: 2.8977773189544678\n",
      "training loss: 2.8684799671173096\n",
      "training loss: 2.8560609817504883\n",
      "training loss: 2.9242613315582275\n"
     ]
    },
    {
     "name": "stderr",
     "output_type": "stream",
     "text": [
      "\r",
      "training:  35%|█████████████████████████████████████████▍                                                                              | 313/907 [22:29<43:30,  4.40s/it]"
     ]
    },
    {
     "name": "stdout",
     "output_type": "stream",
     "text": [
      "validation loss: 2.9640583992004395\n",
      "training loss: 2.913010358810425\n",
      "training loss: 2.8572089672088623\n"
     ]
    },
    {
     "name": "stderr",
     "output_type": "stream",
     "text": [
      "training:  35%|█████████████████████████████████████████▊                                                                              | 316/907 [22:42<42:51,  4.35s/it]"
     ]
    },
    {
     "name": "stdout",
     "output_type": "stream",
     "text": [
      "training loss: 2.901265859603882\n",
      "training loss: 2.859739303588867\n",
      "training loss: 2.915018320083618\n"
     ]
    },
    {
     "name": "stderr",
     "output_type": "stream",
     "text": [
      "\r",
      "training:  35%|██████████████████████████████████████████▏                                                                             | 319/907 [22:54<42:13,  4.31s/it]"
     ]
    },
    {
     "name": "stdout",
     "output_type": "stream",
     "text": [
      "training loss: 2.922494411468506\n",
      "training loss: 2.847838878631592\n",
      "training loss: 2.918611526489258\n"
     ]
    },
    {
     "name": "stderr",
     "output_type": "stream",
     "text": [
      "\r",
      "training:  36%|██████████████████████████████████████████▌                                                                             | 322/907 [23:08<42:09,  4.32s/it]"
     ]
    },
    {
     "name": "stdout",
     "output_type": "stream",
     "text": [
      "training loss: 2.8975865840911865\n",
      "training loss: 2.8531055450439453\n",
      "training loss: 2.8543460369110107\n",
      "training loss: 2.897289514541626\n",
      "validation loss: 2.8933799266815186\n",
      "training loss: 2.8849940299987793\n"
     ]
    },
    {
     "name": "stderr",
     "output_type": "stream",
     "text": [
      "\r",
      "training:  36%|███████████████████████████████████████████▎                                                                            | 327/907 [23:19<35:43,  3.70s/it]"
     ]
    },
    {
     "name": "stdout",
     "output_type": "stream",
     "text": [
      "training loss: 2.908686876296997\n",
      "training loss: 2.8619751930236816\n",
      "training loss: 2.864166736602783\n",
      "training loss: 2.843327760696411\n",
      "training loss: 2.839959144592285\n",
      "training loss: 2.890662670135498\n",
      "training loss: 2.8657076358795166\n",
      "training loss: 2.8686411380767822\n"
     ]
    },
    {
     "name": "stderr",
     "output_type": "stream",
     "text": [
      "training:  37%|████████████████████████████████████████████▎                                                                           | 335/907 [23:31<29:13,  3.07s/it]"
     ]
    },
    {
     "name": "stdout",
     "output_type": "stream",
     "text": [
      "training loss: 2.8689591884613037\n",
      "training loss: 2.880427360534668\n",
      "training loss: 2.8415963649749756\n",
      "validation loss: 2.9056832790374756\n",
      "training loss: 2.8941738605499268\n",
      "training loss: 2.9067559242248535\n",
      "training loss: 2.8391284942626953\n",
      "training loss: 2.8817362785339355\n"
     ]
    },
    {
     "name": "stderr",
     "output_type": "stream",
     "text": [
      "training:  38%|█████████████████████████████████████████████▏                                                                          | 342/907 [23:50<27:48,  2.95s/it]"
     ]
    },
    {
     "name": "stdout",
     "output_type": "stream",
     "text": [
      "training loss: 2.8899998664855957\n",
      "training loss: 2.912804126739502\n",
      "training loss: 2.8806285858154297\n",
      "training loss: 2.8863141536712646\n"
     ]
    },
    {
     "name": "stderr",
     "output_type": "stream",
     "text": [
      "\r",
      "training:  38%|█████████████████████████████████████████████▊                                                                          | 346/907 [24:01<26:59,  2.89s/it]"
     ]
    },
    {
     "name": "stdout",
     "output_type": "stream",
     "text": [
      "training loss: 2.8631887435913086\n",
      "training loss: 2.8921408653259277\n",
      "training loss: 2.844141721725464\n",
      "training loss: 2.858126640319824\n",
      "validation loss: 2.8721776008605957\n"
     ]
    },
    {
     "name": "stderr",
     "output_type": "stream",
     "text": [
      "\r",
      "training:  39%|██████████████████████████████████████████████▎                                                                         | 350/907 [24:12<26:08,  2.82s/it]"
     ]
    },
    {
     "name": "stdout",
     "output_type": "stream",
     "text": [
      "training loss: 2.8491268157958984\n",
      "training loss: 2.904386520385742\n",
      "training loss: 2.913787841796875\n",
      "training loss: 2.9137041568756104\n"
     ]
    },
    {
     "name": "stderr",
     "output_type": "stream",
     "text": [
      "\r",
      "training:  39%|██████████████████████████████████████████████▊                                                                         | 354/907 [24:28<29:31,  3.20s/it]"
     ]
    },
    {
     "name": "stdout",
     "output_type": "stream",
     "text": [
      "training loss: 2.8258330821990967\n",
      "training loss: 2.8753271102905273\n",
      "training loss: 2.8449504375457764\n"
     ]
    },
    {
     "name": "stderr",
     "output_type": "stream",
     "text": [
      "training:  39%|███████████████████████████████████████████████▏                                                                        | 357/907 [24:41<32:00,  3.49s/it]"
     ]
    },
    {
     "name": "stdout",
     "output_type": "stream",
     "text": [
      "training loss: 2.900036096572876\n",
      "training loss: 2.878668785095215\n",
      "training loss: 2.9354889392852783\n"
     ]
    },
    {
     "name": "stderr",
     "output_type": "stream",
     "text": [
      "\r",
      "training:  40%|███████████████████████████████████████████████▋                                                                        | 360/907 [24:53<33:04,  3.63s/it]"
     ]
    },
    {
     "name": "stdout",
     "output_type": "stream",
     "text": [
      "training loss: 2.8643910884857178\n",
      "training loss: 2.8700714111328125\n",
      "validation loss: 2.9300715923309326\n",
      "training loss: 2.855578660964966\n"
     ]
    },
    {
     "name": "stderr",
     "output_type": "stream",
     "text": [
      "\r",
      "training:  40%|████████████████████████████████████████████████                                                                        | 363/907 [25:04<33:28,  3.69s/it]"
     ]
    },
    {
     "name": "stdout",
     "output_type": "stream",
     "text": [
      "training loss: 2.8833487033843994\n",
      "training loss: 2.8174567222595215\n",
      "training loss: 2.851900100708008\n",
      "training loss: 2.9095070362091064\n"
     ]
    },
    {
     "name": "stderr",
     "output_type": "stream",
     "text": [
      "\r",
      "training:  40%|████████████████████████████████████████████████▌                                                                       | 367/907 [25:18<32:25,  3.60s/it]"
     ]
    },
    {
     "name": "stdout",
     "output_type": "stream",
     "text": [
      "training loss: 2.8948042392730713\n",
      "training loss: 2.8620409965515137\n",
      "training loss: 2.8242413997650146\n"
     ]
    },
    {
     "name": "stderr",
     "output_type": "stream",
     "text": [
      "\r",
      "training:  41%|████████████████████████████████████████████████▉                                                                       | 370/907 [25:30<33:13,  3.71s/it]"
     ]
    },
    {
     "name": "stdout",
     "output_type": "stream",
     "text": [
      "training loss: 2.8881843090057373\n",
      "training loss: 2.899848699569702\n",
      "training loss: 2.8675334453582764\n"
     ]
    },
    {
     "name": "stderr",
     "output_type": "stream",
     "text": [
      "\r",
      "training:  41%|████████████████████████████████████████████████▉                                                                       | 370/907 [25:40<33:13,  3.71s/it]"
     ]
    },
    {
     "name": "stdout",
     "output_type": "stream",
     "text": [
      "training loss: 2.8872902393341064\n"
     ]
    },
    {
     "name": "stderr",
     "output_type": "stream",
     "text": [
      "\r",
      "training:  41%|█████████████████████████████████████████████████▎                                                                      | 373/907 [25:41<33:36,  3.78s/it]"
     ]
    },
    {
     "name": "stdout",
     "output_type": "stream",
     "text": [
      "validation loss: 2.940242052078247\n",
      "training loss: 2.8961451053619385\n",
      "training loss: 2.8592331409454346\n"
     ]
    },
    {
     "name": "stderr",
     "output_type": "stream",
     "text": [
      "\r",
      "training:  41%|█████████████████████████████████████████████████▋                                                                      | 376/907 [25:53<33:55,  3.83s/it]"
     ]
    },
    {
     "name": "stdout",
     "output_type": "stream",
     "text": [
      "training loss: 2.8554463386535645\n",
      "training loss: 2.8600385189056396\n",
      "training loss: 2.852109909057617\n"
     ]
    },
    {
     "name": "stderr",
     "output_type": "stream",
     "text": [
      "\r",
      "training:  42%|██████████████████████████████████████████████████▏                                                                     | 379/907 [26:05<33:33,  3.81s/it]"
     ]
    },
    {
     "name": "stdout",
     "output_type": "stream",
     "text": [
      "training loss: 2.903067111968994\n",
      "training loss: 2.86142897605896\n",
      "training loss: 2.893322706222534\n"
     ]
    },
    {
     "name": "stderr",
     "output_type": "stream",
     "text": [
      "\r",
      "training:  42%|██████████████████████████████████████████████████▌                                                                     | 382/907 [26:16<33:08,  3.79s/it]"
     ]
    },
    {
     "name": "stdout",
     "output_type": "stream",
     "text": [
      "training loss: 2.8582730293273926\n",
      "training loss: 2.890244245529175\n",
      "training loss: 2.863830804824829\n",
      "training loss: 2.8770592212677\n"
     ]
    },
    {
     "name": "stderr",
     "output_type": "stream",
     "text": [
      "\r",
      "training:  42%|██████████████████████████████████████████████████▉                                                                     | 385/907 [26:29<34:53,  4.01s/it]"
     ]
    },
    {
     "name": "stdout",
     "output_type": "stream",
     "text": [
      "validation loss: 2.8359768390655518\n",
      "training loss: 2.886054039001465\n",
      "training loss: 2.8895373344421387\n",
      "training loss: 2.882462978363037\n",
      "training loss: 2.889650821685791\n",
      "training loss: 2.866955041885376\n",
      "training loss: 2.8803727626800537\n"
     ]
    },
    {
     "name": "stderr",
     "output_type": "stream",
     "text": [
      "training:  43%|███████████████████████████████████████████████████▊                                                                    | 392/907 [26:41<28:16,  3.29s/it]"
     ]
    },
    {
     "name": "stdout",
     "output_type": "stream",
     "text": [
      "training loss: 2.8698198795318604\n",
      "training loss: 2.8679068088531494\n",
      "training loss: 2.898560047149658\n",
      "training loss: 2.8475840091705322\n",
      "training loss: 2.8788530826568604\n",
      "training loss: 2.893732786178589\n",
      "validation loss: 2.8798043727874756\n",
      "training loss: 2.9262940883636475\n"
     ]
    },
    {
     "name": "stderr",
     "output_type": "stream",
     "text": [
      "\r",
      "training:  44%|████████████████████████████████████████████████████▊                                                                   | 399/907 [26:51<23:11,  2.74s/it]"
     ]
    },
    {
     "name": "stdout",
     "output_type": "stream",
     "text": [
      "training loss: 2.887251377105713\n",
      "training loss: 2.828066825866699\n",
      "training loss: 2.8903684616088867\n",
      "training loss: 2.8543684482574463\n",
      "training loss: 2.8866329193115234\n",
      "training loss: 2.855607748031616\n",
      "training loss: 2.881338596343994\n"
     ]
    },
    {
     "name": "stderr",
     "output_type": "stream",
     "text": [
      "\r",
      "training:  45%|█████████████████████████████████████████████████████▋                                                                  | 406/907 [27:01<19:35,  2.35s/it]"
     ]
    },
    {
     "name": "stdout",
     "output_type": "stream",
     "text": [
      "training loss: 2.8902175426483154\n",
      "training loss: 2.875920534133911\n",
      "training loss: 2.8750298023223877\n",
      "training loss: 2.870751142501831\n",
      "validation loss: 2.9705724716186523\n",
      "training loss: 2.882329225540161\n",
      "training loss: 2.908268690109253\n",
      "training loss: 2.864016056060791\n"
     ]
    },
    {
     "name": "stderr",
     "output_type": "stream",
     "text": [
      "\r",
      "training:  46%|██████████████████████████████████████████████████████▋                                                                 | 413/907 [27:11<17:06,  2.08s/it]"
     ]
    },
    {
     "name": "stdout",
     "output_type": "stream",
     "text": [
      "training loss: 2.893563985824585\n",
      "training loss: 2.8795242309570312\n",
      "training loss: 2.822312831878662\n",
      "training loss: 2.871554374694824\n",
      "training loss: 2.859285831451416\n",
      "training loss: 2.8967490196228027\n",
      "training loss: 2.794935464859009\n"
     ]
    },
    {
     "name": "stderr",
     "output_type": "stream",
     "text": [
      "\r",
      "training:  46%|███████████████████████████████████████████████████████▌                                                                | 420/907 [27:28<17:52,  2.20s/it]"
     ]
    },
    {
     "name": "stdout",
     "output_type": "stream",
     "text": [
      "training loss: 2.8370208740234375\n",
      "training loss: 2.90793514251709\n",
      "validation loss: 2.9050393104553223\n",
      "training loss: 2.8872270584106445\n",
      "training loss: 2.8702902793884277\n",
      "training loss: 2.8605797290802\n"
     ]
    },
    {
     "name": "stderr",
     "output_type": "stream",
     "text": [
      "training:  47%|████████████████████████████████████████████████████████▏                                                               | 425/907 [27:41<18:25,  2.29s/it]"
     ]
    },
    {
     "name": "stdout",
     "output_type": "stream",
     "text": [
      "training loss: 2.8286709785461426\n",
      "training loss: 2.8813023567199707\n",
      "training loss: 2.9014017581939697\n",
      "training loss: 2.8681561946868896\n"
     ]
    },
    {
     "name": "stderr",
     "output_type": "stream",
     "text": [
      "\r",
      "training:  47%|████████████████████████████████████████████████████████▊                                                               | 429/907 [27:54<20:35,  2.58s/it]"
     ]
    },
    {
     "name": "stdout",
     "output_type": "stream",
     "text": [
      "training loss: 2.8475704193115234\n",
      "training loss: 2.88392972946167\n",
      "training loss: 2.8567283153533936\n",
      "training loss: 2.9141149520874023\n"
     ]
    },
    {
     "name": "stderr",
     "output_type": "stream",
     "text": [
      "\r",
      "training:  47%|████████████████████████████████████████████████████████▊                                                               | 429/907 [28:10<20:35,  2.58s/it]"
     ]
    },
    {
     "name": "stdout",
     "output_type": "stream",
     "text": [
      "training loss: 2.885585308074951\n"
     ]
    },
    {
     "name": "stderr",
     "output_type": "stream",
     "text": [
      "\r",
      "training:  48%|█████████████████████████████████████████████████████████▎                                                              | 433/907 [28:13<25:48,  3.27s/it]"
     ]
    },
    {
     "name": "stdout",
     "output_type": "stream",
     "text": [
      "validation loss: 2.9371254444122314\n",
      "training loss: 2.890662670135498\n",
      "training loss: 2.9071109294891357\n"
     ]
    },
    {
     "name": "stderr",
     "output_type": "stream",
     "text": [
      "\r",
      "training:  48%|█████████████████████████████████████████████████████████▋                                                              | 436/907 [28:28<29:19,  3.73s/it]"
     ]
    },
    {
     "name": "stdout",
     "output_type": "stream",
     "text": [
      "training loss: 2.834111452102661\n",
      "training loss: 2.887244462966919\n",
      "training loss: 2.8884825706481934\n"
     ]
    },
    {
     "name": "stderr",
     "output_type": "stream",
     "text": [
      "training:  48%|██████████████████████████████████████████████████████████                                                              | 439/907 [28:42<31:40,  4.06s/it]"
     ]
    },
    {
     "name": "stdout",
     "output_type": "stream",
     "text": [
      "training loss: 2.87544846534729\n",
      "training loss: 2.888986587524414\n",
      "training loss: 2.9058585166931152\n"
     ]
    },
    {
     "name": "stderr",
     "output_type": "stream",
     "text": [
      "\r",
      "training:  49%|██████████████████████████████████████████████████████████▍                                                             | 442/907 [28:57<33:22,  4.31s/it]"
     ]
    },
    {
     "name": "stdout",
     "output_type": "stream",
     "text": [
      "training loss: 2.8888132572174072\n",
      "training loss: 2.8779420852661133\n",
      "training loss: 2.8523271083831787\n"
     ]
    },
    {
     "name": "stderr",
     "output_type": "stream",
     "text": [
      "\r",
      "training:  49%|██████████████████████████████████████████████████████████▍                                                             | 442/907 [29:10<33:22,  4.31s/it]"
     ]
    },
    {
     "name": "stdout",
     "output_type": "stream",
     "text": [
      "training loss: 2.86381459236145\n"
     ]
    },
    {
     "name": "stderr",
     "output_type": "stream",
     "text": [
      "\r",
      "training:  49%|██████████████████████████████████████████████████████████▉                                                             | 445/907 [29:11<33:55,  4.41s/it]"
     ]
    },
    {
     "name": "stdout",
     "output_type": "stream",
     "text": [
      "validation loss: 2.8262693881988525\n",
      "training loss: 2.847694158554077\n",
      "training loss: 2.8603742122650146\n"
     ]
    },
    {
     "name": "stderr",
     "output_type": "stream",
     "text": [
      "\r",
      "training:  49%|███████████████████████████████████████████████████████████▎                                                            | 448/907 [29:25<34:13,  4.47s/it]"
     ]
    },
    {
     "name": "stdout",
     "output_type": "stream",
     "text": [
      "training loss: 2.833115577697754\n",
      "training loss: 2.8361330032348633\n",
      "training loss: 2.9180409908294678\n"
     ]
    },
    {
     "name": "stderr",
     "output_type": "stream",
     "text": [
      "\r",
      "training:  50%|███████████████████████████████████████████████████████████▋                                                            | 451/907 [29:38<34:05,  4.49s/it]"
     ]
    },
    {
     "name": "stdout",
     "output_type": "stream",
     "text": [
      "training loss: 2.964952230453491\n",
      "training loss: 2.8526792526245117\n",
      "training loss: 2.869189977645874\n"
     ]
    },
    {
     "name": "stderr",
     "output_type": "stream",
     "text": [
      "training:  50%|████████████████████████████████████████████████████████████                                                            | 454/907 [29:52<33:41,  4.46s/it]"
     ]
    },
    {
     "name": "stdout",
     "output_type": "stream",
     "text": [
      "training loss: 2.882868766784668\n",
      "training loss: 2.8766281604766846\n",
      "training loss: 2.9105937480926514\n",
      "training loss: 2.827897548675537\n"
     ]
    },
    {
     "name": "stderr",
     "output_type": "stream",
     "text": [
      "\r",
      "training:  50%|████████████████████████████████████████████████████████████▍                                                           | 457/907 [30:05<33:13,  4.43s/it]"
     ]
    },
    {
     "name": "stdout",
     "output_type": "stream",
     "text": [
      "validation loss: 2.8834338188171387\n",
      "training loss: 2.858764886856079\n",
      "training loss: 2.8508169651031494\n"
     ]
    },
    {
     "name": "stderr",
     "output_type": "stream",
     "text": [
      "\r",
      "training:  51%|████████████████████████████████████████████████████████████▊                                                           | 460/907 [30:19<33:26,  4.49s/it]"
     ]
    },
    {
     "name": "stdout",
     "output_type": "stream",
     "text": [
      "training loss: 2.8668806552886963\n",
      "training loss: 2.8781814575195312\n",
      "training loss: 2.8781495094299316\n"
     ]
    },
    {
     "name": "stderr",
     "output_type": "stream",
     "text": [
      "training:  51%|█████████████████████████████████████████████████████████████▎                                                          | 463/907 [30:31<32:34,  4.40s/it]"
     ]
    },
    {
     "name": "stdout",
     "output_type": "stream",
     "text": [
      "training loss: 2.8162903785705566\n",
      "training loss: 2.913775682449341\n",
      "training loss: 2.86868953704834\n"
     ]
    },
    {
     "name": "stderr",
     "output_type": "stream",
     "text": [
      "\r",
      "training:  51%|█████████████████████████████████████████████████████████████▋                                                          | 466/907 [30:44<32:15,  4.39s/it]"
     ]
    },
    {
     "name": "stdout",
     "output_type": "stream",
     "text": [
      "training loss: 2.9176783561706543\n",
      "training loss: 2.862811803817749\n",
      "training loss: 2.861011028289795\n",
      "training loss: 2.8606488704681396\n"
     ]
    },
    {
     "name": "stderr",
     "output_type": "stream",
     "text": [
      "\r",
      "training:  52%|██████████████████████████████████████████████████████████████                                                          | 469/907 [30:58<32:39,  4.47s/it]"
     ]
    },
    {
     "name": "stdout",
     "output_type": "stream",
     "text": [
      "validation loss: 2.864964246749878\n",
      "training loss: 2.8931097984313965\n",
      "training loss: 2.864898204803467\n"
     ]
    },
    {
     "name": "stderr",
     "output_type": "stream",
     "text": [
      "training:  52%|██████████████████████████████████████████████████████████████▍                                                         | 472/907 [31:11<32:18,  4.46s/it]"
     ]
    },
    {
     "name": "stdout",
     "output_type": "stream",
     "text": [
      "training loss: 2.91726016998291\n",
      "training loss: 2.92714262008667\n",
      "training loss: 2.8520567417144775\n"
     ]
    },
    {
     "name": "stderr",
     "output_type": "stream",
     "text": [
      "\r",
      "training:  52%|██████████████████████████████████████████████████████████████▊                                                         | 475/907 [31:25<32:13,  4.48s/it]"
     ]
    },
    {
     "name": "stdout",
     "output_type": "stream",
     "text": [
      "training loss: 2.887478828430176\n",
      "training loss: 2.856241464614868\n",
      "training loss: 2.9013924598693848\n"
     ]
    },
    {
     "name": "stderr",
     "output_type": "stream",
     "text": [
      "\r",
      "training:  53%|███████████████████████████████████████████████████████████████▏                                                        | 478/907 [31:39<32:05,  4.49s/it]"
     ]
    },
    {
     "name": "stdout",
     "output_type": "stream",
     "text": [
      "training loss: 2.865023374557495\n",
      "training loss: 2.9519054889678955\n",
      "training loss: 2.8637378215789795\n"
     ]
    },
    {
     "name": "stderr",
     "output_type": "stream",
     "text": [
      "\r",
      "training:  53%|███████████████████████████████████████████████████████████████▏                                                        | 478/907 [31:50<32:05,  4.49s/it]"
     ]
    },
    {
     "name": "stdout",
     "output_type": "stream",
     "text": [
      "training loss: 2.8650646209716797\n"
     ]
    },
    {
     "name": "stderr",
     "output_type": "stream",
     "text": [
      "\r",
      "training:  53%|███████████████████████████████████████████████████████████████▋                                                        | 481/907 [31:52<31:59,  4.51s/it]"
     ]
    },
    {
     "name": "stdout",
     "output_type": "stream",
     "text": [
      "validation loss: 2.9106712341308594\n",
      "training loss: 2.9249258041381836\n",
      "training loss: 2.868375301361084\n"
     ]
    },
    {
     "name": "stderr",
     "output_type": "stream",
     "text": [
      "\r",
      "training:  53%|████████████████████████████████████████████████████████████████                                                        | 484/907 [32:06<31:56,  4.53s/it]"
     ]
    },
    {
     "name": "stdout",
     "output_type": "stream",
     "text": [
      "training loss: 2.869351387023926\n",
      "training loss: 2.913886785507202\n",
      "training loss: 2.9333598613739014\n"
     ]
    },
    {
     "name": "stderr",
     "output_type": "stream",
     "text": [
      "\r",
      "training:  54%|████████████████████████████████████████████████████████████████▍                                                       | 487/907 [32:19<31:30,  4.50s/it]"
     ]
    },
    {
     "name": "stdout",
     "output_type": "stream",
     "text": [
      "training loss: 2.851707696914673\n",
      "training loss: 2.9207868576049805\n",
      "training loss: 3.120990753173828\n"
     ]
    },
    {
     "name": "stderr",
     "output_type": "stream",
     "text": [
      "training:  54%|████████████████████████████████████████████████████████████████▊                                                       | 490/907 [32:33<31:45,  4.57s/it]"
     ]
    },
    {
     "name": "stdout",
     "output_type": "stream",
     "text": [
      "training loss: 2.882324457168579\n",
      "training loss: 2.8953399658203125\n",
      "training loss: 2.8885700702667236\n",
      "training loss: 2.9434311389923096\n"
     ]
    },
    {
     "name": "stderr",
     "output_type": "stream",
     "text": [
      "\r",
      "training:  54%|█████████████████████████████████████████████████████████████████▏                                                      | 493/907 [32:45<30:12,  4.38s/it]"
     ]
    },
    {
     "name": "stdout",
     "output_type": "stream",
     "text": [
      "validation loss: 2.85077166557312\n",
      "training loss: 2.881809949874878\n",
      "training loss: 2.927461624145508\n"
     ]
    },
    {
     "name": "stderr",
     "output_type": "stream",
     "text": [
      "\r",
      "training:  55%|█████████████████████████████████████████████████████████████████▌                                                      | 496/907 [32:58<29:42,  4.34s/it]"
     ]
    },
    {
     "name": "stdout",
     "output_type": "stream",
     "text": [
      "training loss: 2.928020715713501\n",
      "training loss: 2.905006170272827\n",
      "training loss: 3.0002634525299072\n"
     ]
    },
    {
     "name": "stderr",
     "output_type": "stream",
     "text": [
      "training:  55%|██████████████████████████████████████████████████████████████████                                                      | 499/907 [33:12<30:02,  4.42s/it]"
     ]
    },
    {
     "name": "stdout",
     "output_type": "stream",
     "text": [
      "training loss: 2.9177610874176025\n",
      "training loss: 2.848245620727539\n",
      "training loss: 2.86922550201416\n"
     ]
    },
    {
     "name": "stderr",
     "output_type": "stream",
     "text": [
      "\r",
      "training:  55%|██████████████████████████████████████████████████████████████████▍                                                     | 502/907 [33:26<30:14,  4.48s/it]"
     ]
    },
    {
     "name": "stdout",
     "output_type": "stream",
     "text": [
      "training loss: 2.885958194732666\n",
      "training loss: 2.8776490688323975\n",
      "training loss: 2.8838303089141846\n"
     ]
    },
    {
     "name": "stderr",
     "output_type": "stream",
     "text": [
      "\r",
      "training:  55%|██████████████████████████████████████████████████████████████████▍                                                     | 502/907 [33:40<30:14,  4.48s/it]"
     ]
    },
    {
     "name": "stdout",
     "output_type": "stream",
     "text": [
      "training loss: 2.886319160461426\n"
     ]
    },
    {
     "name": "stderr",
     "output_type": "stream",
     "text": [
      "\r",
      "training:  56%|██████████████████████████████████████████████████████████████████▊                                                     | 505/907 [33:41<31:08,  4.65s/it]"
     ]
    },
    {
     "name": "stdout",
     "output_type": "stream",
     "text": [
      "validation loss: 2.915534019470215\n",
      "training loss: 2.8846726417541504\n",
      "training loss: 2.8539791107177734\n"
     ]
    },
    {
     "name": "stderr",
     "output_type": "stream",
     "text": [
      "\r",
      "training:  56%|███████████████████████████████████████████████████████████████████▏                                                    | 508/907 [33:54<30:30,  4.59s/it]"
     ]
    },
    {
     "name": "stdout",
     "output_type": "stream",
     "text": [
      "training loss: 2.9065380096435547\n",
      "training loss: 2.9015188217163086\n",
      "training loss: 2.8494107723236084\n"
     ]
    },
    {
     "name": "stderr",
     "output_type": "stream",
     "text": [
      "\r",
      "training:  56%|███████████████████████████████████████████████████████████████████▌                                                    | 511/907 [34:08<30:37,  4.64s/it]"
     ]
    },
    {
     "name": "stdout",
     "output_type": "stream",
     "text": [
      "training loss: 2.8653810024261475\n",
      "training loss: 2.8878989219665527\n",
      "training loss: 2.8583099842071533\n"
     ]
    },
    {
     "name": "stderr",
     "output_type": "stream",
     "text": [
      "training:  57%|████████████████████████████████████████████████████████████████████                                                    | 514/907 [34:22<30:10,  4.61s/it]"
     ]
    },
    {
     "name": "stdout",
     "output_type": "stream",
     "text": [
      "training loss: 2.919313669204712\n",
      "training loss: 2.89670467376709\n",
      "training loss: 2.9029533863067627\n"
     ]
    },
    {
     "name": "stderr",
     "output_type": "stream",
     "text": [
      "\r",
      "training:  57%|████████████████████████████████████████████████████████████████████▍                                                   | 517/907 [34:33<28:25,  4.37s/it]"
     ]
    },
    {
     "name": "stdout",
     "output_type": "stream",
     "text": [
      "training loss: 2.8656117916107178\n",
      "validation loss: 2.9076130390167236\n",
      "training loss: 2.8920140266418457\n",
      "training loss: 2.8710720539093018\n",
      "training loss: 2.902401924133301\n",
      "training loss: 2.8946027755737305\n",
      "training loss: 2.880626678466797\n",
      "training loss: 2.889674186706543\n",
      "training loss: 2.863906145095825\n"
     ]
    },
    {
     "name": "stderr",
     "output_type": "stream",
     "text": [
      "\r",
      "training:  58%|█████████████████████████████████████████████████████████████████████▍                                                  | 525/907 [34:46<22:22,  3.51s/it]"
     ]
    },
    {
     "name": "stdout",
     "output_type": "stream",
     "text": [
      "training loss: 2.9186270236968994\n",
      "training loss: 2.943713665008545\n",
      "training loss: 2.903195381164551\n",
      "training loss: 2.8369545936584473\n",
      "training loss: 2.870077610015869\n",
      "validation loss: 2.8676228523254395\n",
      "training loss: 2.9126389026641846\n"
     ]
    },
    {
     "name": "stderr",
     "output_type": "stream",
     "text": [
      "training:  59%|██████████████████████████████████████████████████████████████████████▎                                                 | 531/907 [35:01<20:22,  3.25s/it]"
     ]
    },
    {
     "name": "stdout",
     "output_type": "stream",
     "text": [
      "training loss: 2.916738271713257\n",
      "training loss: 2.865615129470825\n",
      "training loss: 2.8995003700256348\n",
      "training loss: 2.8592584133148193\n"
     ]
    },
    {
     "name": "stderr",
     "output_type": "stream",
     "text": [
      "\r",
      "training:  59%|██████████████████████████████████████████████████████████████████████▊                                                 | 535/907 [35:15<20:32,  3.31s/it]"
     ]
    },
    {
     "name": "stdout",
     "output_type": "stream",
     "text": [
      "training loss: 2.8491928577423096\n",
      "training loss: 2.9184834957122803\n",
      "training loss: 2.8424465656280518\n"
     ]
    },
    {
     "name": "stderr",
     "output_type": "stream",
     "text": [
      "\r",
      "training:  59%|███████████████████████████████████████████████████████████████████████▏                                                | 538/907 [35:27<21:33,  3.50s/it]"
     ]
    },
    {
     "name": "stdout",
     "output_type": "stream",
     "text": [
      "training loss: 2.909137487411499\n",
      "training loss: 2.8558566570281982\n",
      "training loss: 2.881761312484741\n",
      "training loss: 2.879148483276367\n"
     ]
    },
    {
     "name": "stderr",
     "output_type": "stream",
     "text": [
      "\r",
      "training:  60%|███████████████████████████████████████████████████████████████████████▌                                                | 541/907 [35:38<21:44,  3.57s/it]"
     ]
    },
    {
     "name": "stdout",
     "output_type": "stream",
     "text": [
      "validation loss: 2.8547556400299072\n",
      "training loss: 2.8337016105651855\n",
      "training loss: 2.878631591796875\n"
     ]
    },
    {
     "name": "stderr",
     "output_type": "stream",
     "text": [
      "training:  60%|███████████████████████████████████████████████████████████████████████▉                                                | 544/907 [35:50<22:06,  3.65s/it]"
     ]
    },
    {
     "name": "stdout",
     "output_type": "stream",
     "text": [
      "training loss: 2.9045257568359375\n",
      "training loss: 2.903195381164551\n",
      "training loss: 2.876098871231079\n"
     ]
    },
    {
     "name": "stderr",
     "output_type": "stream",
     "text": [
      "\r",
      "training:  60%|████████████████████████████████████████████████████████████████████████▎                                               | 547/907 [36:02<22:47,  3.80s/it]"
     ]
    },
    {
     "name": "stdout",
     "output_type": "stream",
     "text": [
      "training loss: 2.874620199203491\n",
      "training loss: 2.820894479751587\n",
      "training loss: 2.899333953857422\n"
     ]
    },
    {
     "name": "stderr",
     "output_type": "stream",
     "text": [
      "\r",
      "training:  61%|████████████████████████████████████████████████████████████████████████▊                                               | 550/907 [36:16<23:58,  4.03s/it]"
     ]
    },
    {
     "name": "stdout",
     "output_type": "stream",
     "text": [
      "training loss: 2.846684217453003\n",
      "training loss: 2.8738741874694824\n",
      "training loss: 2.8924307823181152\n",
      "training loss: 2.8854446411132812\n"
     ]
    },
    {
     "name": "stderr",
     "output_type": "stream",
     "text": [
      "\r",
      "training:  61%|█████████████████████████████████████████████████████████████████████████▏                                              | 553/907 [36:29<24:33,  4.16s/it]"
     ]
    },
    {
     "name": "stdout",
     "output_type": "stream",
     "text": [
      "validation loss: 2.8723695278167725\n",
      "training loss: 2.8609704971313477\n",
      "training loss: 2.821268320083618\n",
      "training loss: 2.8587546348571777\n",
      "training loss: 2.8643929958343506\n"
     ]
    },
    {
     "name": "stderr",
     "output_type": "stream",
     "text": [
      "training:  62%|█████████████████████████████████████████████████████████████████████████▊                                              | 558/907 [36:42<21:15,  3.66s/it]"
     ]
    },
    {
     "name": "stdout",
     "output_type": "stream",
     "text": [
      "training loss: 2.9232115745544434\n",
      "training loss: 2.882964849472046\n",
      "training loss: 2.8467845916748047\n",
      "training loss: 2.870757818222046\n",
      "training loss: 2.85896372795105\n"
     ]
    },
    {
     "name": "stderr",
     "output_type": "stream",
     "text": [
      "training:  62%|██████████████████████████████████████████████████████████████████████████▍                                             | 563/907 [37:03<21:57,  3.83s/it]"
     ]
    },
    {
     "name": "stdout",
     "output_type": "stream",
     "text": [
      "training loss: 2.857987642288208\n",
      "training loss: 2.8118162155151367\n",
      "training loss: 2.8246970176696777\n",
      "validation loss: 2.8797245025634766\n"
     ]
    },
    {
     "name": "stderr",
     "output_type": "stream",
     "text": [
      "\r",
      "training:  62%|██████████████████████████████████████████████████████████████████████████▉                                             | 566/907 [37:16<22:58,  4.04s/it]"
     ]
    },
    {
     "name": "stdout",
     "output_type": "stream",
     "text": [
      "training loss: 2.8686649799346924\n",
      "training loss: 2.875058889389038\n",
      "training loss: 2.830554485321045\n"
     ]
    },
    {
     "name": "stderr",
     "output_type": "stream",
     "text": [
      "training:  63%|███████████████████████████████████████████████████████████████████████████▎                                            | 569/907 [37:30<23:24,  4.15s/it]"
     ]
    },
    {
     "name": "stdout",
     "output_type": "stream",
     "text": [
      "training loss: 2.8177947998046875\n",
      "training loss: 2.848497152328491\n",
      "training loss: 2.8231489658355713\n"
     ]
    },
    {
     "name": "stderr",
     "output_type": "stream",
     "text": [
      "\r",
      "training:  63%|███████████████████████████████████████████████████████████████████████████▋                                            | 572/907 [37:44<24:11,  4.33s/it]"
     ]
    },
    {
     "name": "stdout",
     "output_type": "stream",
     "text": [
      "training loss: 2.925518274307251\n",
      "training loss: 2.858217716217041\n",
      "training loss: 2.870652914047241\n"
     ]
    },
    {
     "name": "stderr",
     "output_type": "stream",
     "text": [
      "training:  63%|████████████████████████████████████████████████████████████████████████████                                            | 575/907 [38:00<25:41,  4.64s/it]"
     ]
    },
    {
     "name": "stdout",
     "output_type": "stream",
     "text": [
      "training loss: 2.8860630989074707\n",
      "training loss: 2.8784239292144775\n",
      "training loss: 2.867530345916748\n"
     ]
    },
    {
     "name": "stderr",
     "output_type": "stream",
     "text": [
      "\r",
      "training:  64%|████████████████████████████████████████████████████████████████████████████▎                                           | 577/907 [38:10<26:28,  4.81s/it]"
     ]
    },
    {
     "name": "stdout",
     "output_type": "stream",
     "text": [
      "validation loss: 2.896383762359619\n",
      "training loss: 2.864405393600464\n",
      "training loss: 2.8755359649658203\n"
     ]
    },
    {
     "name": "stderr",
     "output_type": "stream",
     "text": [
      "\r",
      "training:  64%|████████████████████████████████████████████████████████████████████████████▋                                           | 580/907 [38:23<25:12,  4.62s/it]"
     ]
    },
    {
     "name": "stdout",
     "output_type": "stream",
     "text": [
      "training loss: 2.8590519428253174\n",
      "training loss: 2.9089982509613037\n",
      "training loss: 2.8981170654296875\n"
     ]
    },
    {
     "name": "stderr",
     "output_type": "stream",
     "text": [
      "\r",
      "training:  64%|█████████████████████████████████████████████████████████████████████████████▏                                          | 583/907 [38:36<24:35,  4.55s/it]"
     ]
    },
    {
     "name": "stdout",
     "output_type": "stream",
     "text": [
      "training loss: 2.865684986114502\n",
      "training loss: 2.877572774887085\n",
      "training loss: 2.8496458530426025\n"
     ]
    },
    {
     "name": "stderr",
     "output_type": "stream",
     "text": [
      "training:  65%|█████████████████████████████████████████████████████████████████████████████▌                                          | 586/907 [38:51<24:54,  4.65s/it]"
     ]
    },
    {
     "name": "stdout",
     "output_type": "stream",
     "text": [
      "training loss: 2.8513855934143066\n",
      "training loss: 2.8566524982452393\n",
      "training loss: 2.8476836681365967\n",
      "training loss: 2.8788998126983643\n"
     ]
    },
    {
     "name": "stderr",
     "output_type": "stream",
     "text": [
      "\r",
      "training:  65%|█████████████████████████████████████████████████████████████████████████████▉                                          | 589/907 [39:04<24:10,  4.56s/it]"
     ]
    },
    {
     "name": "stdout",
     "output_type": "stream",
     "text": [
      "validation loss: 2.896632194519043\n",
      "training loss: 2.902996778488159\n",
      "training loss: 2.9008660316467285\n"
     ]
    },
    {
     "name": "stderr",
     "output_type": "stream",
     "text": [
      "\r",
      "training:  65%|██████████████████████████████████████████████████████████████████████████████▎                                         | 592/907 [39:17<23:29,  4.47s/it]"
     ]
    },
    {
     "name": "stdout",
     "output_type": "stream",
     "text": [
      "training loss: 2.882322072982788\n",
      "training loss: 2.9115123748779297\n",
      "training loss: 2.9150407314300537\n"
     ]
    },
    {
     "name": "stderr",
     "output_type": "stream",
     "text": [
      "\r",
      "training:  66%|██████████████████████████████████████████████████████████████████████████████▋                                         | 595/907 [39:29<22:48,  4.39s/it]"
     ]
    },
    {
     "name": "stdout",
     "output_type": "stream",
     "text": [
      "training loss: 2.9023807048797607\n",
      "training loss: 2.890591859817505\n",
      "training loss: 2.8763136863708496\n"
     ]
    },
    {
     "name": "stderr",
     "output_type": "stream",
     "text": [
      "training:  66%|███████████████████████████████████████████████████████████████████████████████                                         | 598/907 [39:41<21:59,  4.27s/it]"
     ]
    },
    {
     "name": "stdout",
     "output_type": "stream",
     "text": [
      "training loss: 2.908001661300659\n",
      "training loss: 2.878028154373169\n",
      "training loss: 2.9349911212921143\n",
      "training loss: 2.826775550842285\n"
     ]
    },
    {
     "name": "stderr",
     "output_type": "stream",
     "text": [
      "\r",
      "training:  66%|███████████████████████████████████████████████████████████████████████████████▌                                        | 601/907 [39:56<22:55,  4.49s/it]"
     ]
    },
    {
     "name": "stdout",
     "output_type": "stream",
     "text": [
      "validation loss: 2.893043041229248\n",
      "training loss: 2.8819572925567627\n",
      "training loss: 2.9435489177703857\n"
     ]
    },
    {
     "name": "stderr",
     "output_type": "stream",
     "text": [
      "\r",
      "training:  67%|███████████████████████████████████████████████████████████████████████████████▉                                        | 604/907 [40:09<22:04,  4.37s/it]"
     ]
    },
    {
     "name": "stdout",
     "output_type": "stream",
     "text": [
      "training loss: 2.9084179401397705\n",
      "training loss: 2.8456292152404785\n",
      "training loss: 2.9028420448303223\n"
     ]
    },
    {
     "name": "stderr",
     "output_type": "stream",
     "text": [
      "training:  67%|████████████████████████████████████████████████████████████████████████████████▎                                       | 607/907 [40:22<22:02,  4.41s/it]"
     ]
    },
    {
     "name": "stdout",
     "output_type": "stream",
     "text": [
      "training loss: 2.8468737602233887\n",
      "training loss: 2.8495359420776367\n",
      "training loss: 2.8775105476379395\n"
     ]
    },
    {
     "name": "stderr",
     "output_type": "stream",
     "text": [
      "\r",
      "training:  67%|████████████████████████████████████████████████████████████████████████████████▋                                       | 610/907 [40:36<22:21,  4.52s/it]"
     ]
    },
    {
     "name": "stdout",
     "output_type": "stream",
     "text": [
      "training loss: 2.863144874572754\n",
      "training loss: 2.9254791736602783\n",
      "training loss: 2.8832380771636963\n"
     ]
    },
    {
     "name": "stderr",
     "output_type": "stream",
     "text": [
      "\r",
      "training:  67%|████████████████████████████████████████████████████████████████████████████████▋                                       | 610/907 [40:50<22:21,  4.52s/it]"
     ]
    },
    {
     "name": "stdout",
     "output_type": "stream",
     "text": [
      "training loss: 2.84183669090271\n"
     ]
    },
    {
     "name": "stderr",
     "output_type": "stream",
     "text": [
      "\r",
      "training:  68%|█████████████████████████████████████████████████████████████████████████████████                                       | 613/907 [40:51<22:27,  4.58s/it]"
     ]
    },
    {
     "name": "stdout",
     "output_type": "stream",
     "text": [
      "validation loss: 2.886873483657837\n",
      "training loss: 2.897953510284424\n",
      "training loss: 2.8975670337677\n"
     ]
    },
    {
     "name": "stderr",
     "output_type": "stream",
     "text": [
      "\r",
      "training:  68%|█████████████████████████████████████████████████████████████████████████████████▍                                      | 616/907 [41:04<21:57,  4.53s/it]"
     ]
    },
    {
     "name": "stdout",
     "output_type": "stream",
     "text": [
      "training loss: 2.8919999599456787\n",
      "training loss: 2.883838653564453\n",
      "training loss: 2.906280755996704\n"
     ]
    },
    {
     "name": "stderr",
     "output_type": "stream",
     "text": [
      "\r",
      "training:  68%|█████████████████████████████████████████████████████████████████████████████████▉                                      | 619/907 [41:18<22:00,  4.58s/it]"
     ]
    },
    {
     "name": "stdout",
     "output_type": "stream",
     "text": [
      "training loss: 2.860811233520508\n",
      "training loss: 2.9162797927856445\n",
      "training loss: 2.8866207599639893\n"
     ]
    },
    {
     "name": "stderr",
     "output_type": "stream",
     "text": [
      "training:  69%|██████████████████████████████████████████████████████████████████████████████████▎                                     | 622/907 [41:31<21:24,  4.51s/it]"
     ]
    },
    {
     "name": "stdout",
     "output_type": "stream",
     "text": [
      "training loss: 2.8717846870422363\n",
      "training loss: 2.884702682495117\n",
      "training loss: 2.857499599456787\n",
      "training loss: 2.880913257598877\n"
     ]
    },
    {
     "name": "stderr",
     "output_type": "stream",
     "text": [
      "\r",
      "training:  69%|██████████████████████████████████████████████████████████████████████████████████▋                                     | 625/907 [41:44<21:12,  4.51s/it]"
     ]
    },
    {
     "name": "stdout",
     "output_type": "stream",
     "text": [
      "validation loss: 2.8561835289001465\n",
      "training loss: 2.8604519367218018\n",
      "training loss: 2.892979383468628\n"
     ]
    },
    {
     "name": "stderr",
     "output_type": "stream",
     "text": [
      "\r",
      "training:  69%|███████████████████████████████████████████████████████████████████████████████████                                     | 628/907 [41:57<20:35,  4.43s/it]"
     ]
    },
    {
     "name": "stdout",
     "output_type": "stream",
     "text": [
      "training loss: 2.918996572494507\n",
      "training loss: 2.9089136123657227\n",
      "training loss: 2.882858991622925\n"
     ]
    },
    {
     "name": "stderr",
     "output_type": "stream",
     "text": [
      "\r",
      "training:  70%|███████████████████████████████████████████████████████████████████████████████████▍                                    | 631/907 [42:09<19:41,  4.28s/it]"
     ]
    },
    {
     "name": "stdout",
     "output_type": "stream",
     "text": [
      "training loss: 2.846432685852051\n",
      "training loss: 2.94325590133667\n",
      "training loss: 2.925734519958496\n",
      "training loss: 2.877075672149658\n",
      "training loss: 2.917940378189087\n",
      "training loss: 2.85793399810791\n"
     ]
    },
    {
     "name": "stderr",
     "output_type": "stream",
     "text": [
      "training:  70%|████████████████████████████████████████████████████████████████████████████████████▎                                   | 637/907 [42:20<16:01,  3.56s/it]"
     ]
    },
    {
     "name": "stdout",
     "output_type": "stream",
     "text": [
      "training loss: 2.887071132659912\n",
      "validation loss: 2.878310203552246\n",
      "training loss: 2.8437328338623047\n",
      "training loss: 2.8935534954071045\n",
      "training loss: 2.8703300952911377\n",
      "training loss: 2.8769805431365967\n",
      "training loss: 2.875805616378784\n",
      "training loss: 2.850192070007324\n",
      "training loss: 2.86153507232666\n"
     ]
    },
    {
     "name": "stderr",
     "output_type": "stream",
     "text": [
      "\r",
      "training:  71%|█████████████████████████████████████████████████████████████████████████████████████▎                                  | 645/907 [42:31<12:41,  2.91s/it]"
     ]
    },
    {
     "name": "stdout",
     "output_type": "stream",
     "text": [
      "training loss: 2.826817274093628\n",
      "training loss: 2.8636083602905273\n",
      "training loss: 2.916342258453369\n",
      "training loss: 2.852121114730835\n",
      "training loss: 2.8116965293884277\n",
      "validation loss: 2.9041640758514404\n",
      "training loss: 2.8830385208129883\n",
      "training loss: 2.945409059524536\n",
      "training loss: 2.8364696502685547\n"
     ]
    },
    {
     "name": "stderr",
     "output_type": "stream",
     "text": [
      "\r",
      "training:  72%|██████████████████████████████████████████████████████████████████████████████████████▍                                 | 653/907 [42:47<11:07,  2.63s/it]"
     ]
    },
    {
     "name": "stdout",
     "output_type": "stream",
     "text": [
      "training loss: 2.8348445892333984\n",
      "training loss: 2.884765386581421\n",
      "training loss: 2.845005750656128\n",
      "training loss: 2.922264814376831\n"
     ]
    },
    {
     "name": "stderr",
     "output_type": "stream",
     "text": [
      "\r",
      "training:  72%|██████████████████████████████████████████████████████████████████████████████████████▍                                 | 653/907 [43:00<11:07,  2.63s/it]"
     ]
    },
    {
     "name": "stdout",
     "output_type": "stream",
     "text": [
      "training loss: 2.9026646614074707\n"
     ]
    },
    {
     "name": "stderr",
     "output_type": "stream",
     "text": [
      "\r",
      "training:  73%|███████████████████████████████████████████████████████████████████████████████████████                                 | 658/907 [43:03<11:38,  2.80s/it]"
     ]
    },
    {
     "name": "stdout",
     "output_type": "stream",
     "text": [
      "training loss: 2.836418867111206\n",
      "training loss: 2.8655824661254883\n",
      "training loss: 2.906766891479492\n",
      "training loss: 2.8710498809814453\n",
      "validation loss: 2.843404769897461\n"
     ]
    },
    {
     "name": "stderr",
     "output_type": "stream",
     "text": [
      "\r",
      "training:  73%|███████████████████████████████████████████████████████████████████████████████████████▌                                | 662/907 [43:18<12:39,  3.10s/it]"
     ]
    },
    {
     "name": "stdout",
     "output_type": "stream",
     "text": [
      "training loss: 2.8710594177246094\n",
      "training loss: 2.8540265560150146\n",
      "training loss: 2.873579740524292\n"
     ]
    },
    {
     "name": "stderr",
     "output_type": "stream",
     "text": [
      "training:  73%|███████████████████████████████████████████████████████████████████████████████████████▉                                | 665/907 [43:32<14:19,  3.55s/it]"
     ]
    },
    {
     "name": "stdout",
     "output_type": "stream",
     "text": [
      "training loss: 2.8758411407470703\n",
      "training loss: 2.8809616565704346\n",
      "training loss: 2.8616130352020264\n"
     ]
    },
    {
     "name": "stderr",
     "output_type": "stream",
     "text": [
      "\r",
      "training:  74%|████████████████████████████████████████████████████████████████████████████████████████▍                               | 668/907 [43:46<15:35,  3.92s/it]"
     ]
    },
    {
     "name": "stdout",
     "output_type": "stream",
     "text": [
      "training loss: 2.849479913711548\n",
      "training loss: 2.8989334106445312\n",
      "training loss: 2.845618724822998\n"
     ]
    },
    {
     "name": "stderr",
     "output_type": "stream",
     "text": [
      "training:  74%|████████████████████████████████████████████████████████████████████████████████████████▊                               | 671/907 [44:01<16:20,  4.16s/it]"
     ]
    },
    {
     "name": "stdout",
     "output_type": "stream",
     "text": [
      "training loss: 2.8976540565490723\n",
      "training loss: 2.8544468879699707\n",
      "training loss: 2.823943853378296\n",
      "validation loss: 2.9080982208251953\n"
     ]
    },
    {
     "name": "stderr",
     "output_type": "stream",
     "text": [
      "\r",
      "training:  74%|█████████████████████████████████████████████████████████████████████████████████████████▏                              | 674/907 [44:12<15:46,  4.06s/it]"
     ]
    },
    {
     "name": "stdout",
     "output_type": "stream",
     "text": [
      "training loss: 2.854076862335205\n",
      "training loss: 2.858041286468506\n",
      "training loss: 2.86275053024292\n"
     ]
    },
    {
     "name": "stderr",
     "output_type": "stream",
     "text": [
      "\r",
      "training:  75%|█████████████████████████████████████████████████████████████████████████████████████████▌                              | 677/907 [44:23<15:00,  3.92s/it]"
     ]
    },
    {
     "name": "stdout",
     "output_type": "stream",
     "text": [
      "training loss: 2.9046530723571777\n",
      "training loss: 2.9011073112487793\n",
      "training loss: 2.9025890827178955\n"
     ]
    },
    {
     "name": "stderr",
     "output_type": "stream",
     "text": [
      "\r",
      "training:  75%|█████████████████████████████████████████████████████████████████████████████████████████▉                              | 680/907 [44:33<14:15,  3.77s/it]"
     ]
    },
    {
     "name": "stdout",
     "output_type": "stream",
     "text": [
      "training loss: 2.8646576404571533\n",
      "training loss: 2.8596155643463135\n",
      "training loss: 2.8344640731811523\n",
      "training loss: 2.8669893741607666\n"
     ]
    },
    {
     "name": "stderr",
     "output_type": "stream",
     "text": [
      "\r",
      "training:  75%|██████████████████████████████████████████████████████████████████████████████████████████▍                             | 684/907 [44:47<13:34,  3.65s/it]"
     ]
    },
    {
     "name": "stdout",
     "output_type": "stream",
     "text": [
      "training loss: 2.890030860900879\n",
      "training loss: 2.8693714141845703\n",
      "validation loss: 2.8715505599975586\n",
      "training loss: 2.882962226867676\n"
     ]
    },
    {
     "name": "stderr",
     "output_type": "stream",
     "text": [
      "\r",
      "training:  76%|██████████████████████████████████████████████████████████████████████████████████████████▉                             | 687/907 [44:58<13:32,  3.69s/it]"
     ]
    },
    {
     "name": "stdout",
     "output_type": "stream",
     "text": [
      "training loss: 2.899507999420166\n",
      "training loss: 2.891417980194092\n",
      "training loss: 2.849104642868042\n"
     ]
    },
    {
     "name": "stderr",
     "output_type": "stream",
     "text": [
      "\r",
      "training:  76%|███████████████████████████████████████████████████████████████████████████████████████████▎                            | 690/907 [45:08<13:06,  3.62s/it]"
     ]
    },
    {
     "name": "stdout",
     "output_type": "stream",
     "text": [
      "training loss: 2.9372806549072266\n",
      "training loss: 2.890922784805298\n",
      "training loss: 2.8581135272979736\n"
     ]
    },
    {
     "name": "stderr",
     "output_type": "stream",
     "text": [
      "training:  76%|███████████████████████████████████████████████████████████████████████████████████████████▋                            | 693/907 [45:20<13:09,  3.69s/it]"
     ]
    },
    {
     "name": "stdout",
     "output_type": "stream",
     "text": [
      "training loss: 2.80143666267395\n",
      "training loss: 2.854996919631958\n",
      "training loss: 2.932917356491089\n"
     ]
    },
    {
     "name": "stderr",
     "output_type": "stream",
     "text": [
      "\r",
      "training:  77%|████████████████████████████████████████████████████████████████████████████████████████████                            | 696/907 [45:32<13:20,  3.79s/it]"
     ]
    },
    {
     "name": "stdout",
     "output_type": "stream",
     "text": [
      "training loss: 2.8597657680511475\n",
      "training loss: 2.8472280502319336\n",
      "validation loss: 2.899170398712158\n",
      "training loss: 2.8059163093566895\n"
     ]
    },
    {
     "name": "stderr",
     "output_type": "stream",
     "text": [
      "\r",
      "training:  77%|████████████████████████████████████████████████████████████████████████████████████████████▍                           | 699/907 [45:44<13:22,  3.86s/it]"
     ]
    },
    {
     "name": "stdout",
     "output_type": "stream",
     "text": [
      "training loss: 2.8862595558166504\n",
      "training loss: 2.869570255279541\n",
      "training loss: 2.8422200679779053\n"
     ]
    },
    {
     "name": "stderr",
     "output_type": "stream",
     "text": [
      "\r",
      "training:  77%|████████████████████████████████████████████████████████████████████████████████████████████▉                           | 702/907 [45:55<13:02,  3.82s/it]"
     ]
    },
    {
     "name": "stdout",
     "output_type": "stream",
     "text": [
      "training loss: 2.874800443649292\n",
      "training loss: 2.866142988204956\n",
      "training loss: 2.847135066986084\n"
     ]
    },
    {
     "name": "stderr",
     "output_type": "stream",
     "text": [
      "\r",
      "training:  78%|█████████████████████████████████████████████████████████████████████████████████████████████▎                          | 705/907 [46:07<12:59,  3.86s/it]"
     ]
    },
    {
     "name": "stdout",
     "output_type": "stream",
     "text": [
      "training loss: 2.912623405456543\n",
      "training loss: 2.8997843265533447\n",
      "training loss: 2.8524093627929688\n"
     ]
    },
    {
     "name": "stderr",
     "output_type": "stream",
     "text": [
      "\r",
      "training:  78%|█████████████████████████████████████████████████████████████████████████████████████████████▋                          | 708/907 [46:19<12:49,  3.87s/it]"
     ]
    },
    {
     "name": "stdout",
     "output_type": "stream",
     "text": [
      "training loss: 2.865536689758301\n",
      "training loss: 2.874006748199463\n",
      "validation loss: 2.8721375465393066\n",
      "training loss: 2.870612144470215\n"
     ]
    },
    {
     "name": "stderr",
     "output_type": "stream",
     "text": [
      "training:  78%|██████████████████████████████████████████████████████████████████████████████████████████████                          | 711/907 [46:30<12:38,  3.87s/it]"
     ]
    },
    {
     "name": "stdout",
     "output_type": "stream",
     "text": [
      "training loss: 2.898078680038452\n",
      "training loss: 2.929185390472412\n",
      "training loss: 2.889901638031006\n",
      "training loss: 2.8891053199768066\n",
      "training loss: 2.8228602409362793\n",
      "training loss: 2.8599441051483154\n"
     ]
    },
    {
     "name": "stderr",
     "output_type": "stream",
     "text": [
      "\r",
      "training:  79%|██████████████████████████████████████████████████████████████████████████████████████████████▊                         | 717/907 [46:42<10:22,  3.28s/it]"
     ]
    },
    {
     "name": "stdout",
     "output_type": "stream",
     "text": [
      "training loss: 2.842900037765503\n",
      "training loss: 2.8940579891204834\n",
      "training loss: 2.922572374343872\n",
      "training loss: 2.8756885528564453\n",
      "training loss: 2.888852834701538\n",
      "validation loss: 2.8578579425811768\n",
      "training loss: 2.8839075565338135\n",
      "training loss: 2.8716611862182617\n"
     ]
    },
    {
     "name": "stderr",
     "output_type": "stream",
     "text": [
      "\r",
      "training:  80%|███████████████████████████████████████████████████████████████████████████████████████████████▊                        | 724/907 [46:52<08:18,  2.72s/it]"
     ]
    },
    {
     "name": "stdout",
     "output_type": "stream",
     "text": [
      "training loss: 2.8831324577331543\n",
      "training loss: 2.8886775970458984\n",
      "training loss: 2.8789522647857666\n",
      "training loss: 2.880556344985962\n",
      "training loss: 2.8908021450042725\n",
      "training loss: 2.8942997455596924\n",
      "training loss: 2.899980068206787\n"
     ]
    },
    {
     "name": "stderr",
     "output_type": "stream",
     "text": [
      "\r",
      "training:  81%|████████████████████████████████████████████████████████████████████████████████████████████████▋                       | 731/907 [47:03<07:03,  2.40s/it]"
     ]
    },
    {
     "name": "stdout",
     "output_type": "stream",
     "text": [
      "training loss: 2.8580636978149414\n",
      "training loss: 2.853888988494873\n",
      "training loss: 2.8793458938598633\n",
      "validation loss: 2.8746140003204346\n",
      "training loss: 2.8821985721588135\n",
      "training loss: 2.89595365524292\n",
      "training loss: 2.8385300636291504\n"
     ]
    },
    {
     "name": "stderr",
     "output_type": "stream",
     "text": [
      "training:  81%|█████████████████████████████████████████████████████████████████████████████████████████████████▌                      | 737/907 [47:23<07:33,  2.67s/it]"
     ]
    },
    {
     "name": "stdout",
     "output_type": "stream",
     "text": [
      "training loss: 2.908374309539795\n",
      "training loss: 2.845675468444824\n",
      "training loss: 2.8789825439453125\n",
      "training loss: 2.867452621459961\n"
     ]
    },
    {
     "name": "stderr",
     "output_type": "stream",
     "text": [
      "\r",
      "training:  82%|██████████████████████████████████████████████████████████████████████████████████████████████████                      | 741/907 [47:39<08:34,  3.10s/it]"
     ]
    },
    {
     "name": "stdout",
     "output_type": "stream",
     "text": [
      "training loss: 2.8183624744415283\n",
      "training loss: 2.9021973609924316\n",
      "training loss: 2.865872621536255\n"
     ]
    },
    {
     "name": "stderr",
     "output_type": "stream",
     "text": [
      "training:  82%|██████████████████████████████████████████████████████████████████████████████████████████████████▍                     | 744/907 [47:53<09:36,  3.54s/it]"
     ]
    },
    {
     "name": "stdout",
     "output_type": "stream",
     "text": [
      "training loss: 2.914268970489502\n",
      "training loss: 2.8461687564849854\n",
      "validation loss: 2.8543624877929688\n",
      "training loss: 2.8729045391082764\n"
     ]
    },
    {
     "name": "stderr",
     "output_type": "stream",
     "text": [
      "\r",
      "training:  82%|██████████████████████████████████████████████████████████████████████████████████████████████████▊                     | 747/907 [48:05<09:51,  3.70s/it]"
     ]
    },
    {
     "name": "stdout",
     "output_type": "stream",
     "text": [
      "training loss: 2.873202085494995\n",
      "training loss: 2.832882881164551\n",
      "training loss: 2.88989520072937\n"
     ]
    },
    {
     "name": "stderr",
     "output_type": "stream",
     "text": [
      "\r",
      "training:  83%|███████████████████████████████████████████████████████████████████████████████████████████████████▏                    | 750/907 [48:16<09:40,  3.70s/it]"
     ]
    },
    {
     "name": "stdout",
     "output_type": "stream",
     "text": [
      "training loss: 2.9083685874938965\n",
      "training loss: 2.9060821533203125\n",
      "training loss: 2.864264488220215\n"
     ]
    },
    {
     "name": "stderr",
     "output_type": "stream",
     "text": [
      "\r",
      "training:  83%|███████████████████████████████████████████████████████████████████████████████████████████████████▋                    | 753/907 [48:28<09:29,  3.70s/it]"
     ]
    },
    {
     "name": "stdout",
     "output_type": "stream",
     "text": [
      "training loss: 2.914217948913574\n",
      "training loss: 2.862208843231201\n",
      "training loss: 2.933953285217285\n"
     ]
    },
    {
     "name": "stderr",
     "output_type": "stream",
     "text": [
      "\r",
      "training:  83%|████████████████████████████████████████████████████████████████████████████████████████████████████                    | 756/907 [48:39<09:18,  3.70s/it]"
     ]
    },
    {
     "name": "stdout",
     "output_type": "stream",
     "text": [
      "training loss: 2.8915998935699463\n",
      "training loss: 2.8732120990753174\n",
      "validation loss: 2.8723108768463135\n",
      "training loss: 2.8756046295166016\n"
     ]
    },
    {
     "name": "stderr",
     "output_type": "stream",
     "text": [
      "training:  84%|████████████████████████████████████████████████████████████████████████████████████████████████████▍                   | 759/907 [48:50<09:11,  3.73s/it]"
     ]
    },
    {
     "name": "stdout",
     "output_type": "stream",
     "text": [
      "training loss: 2.935192108154297\n",
      "training loss: 2.849058151245117\n",
      "training loss: 2.9281558990478516\n"
     ]
    },
    {
     "name": "stderr",
     "output_type": "stream",
     "text": [
      "\r",
      "training:  84%|████████████████████████████████████████████████████████████████████████████████████████████████████▊                   | 762/907 [49:01<09:00,  3.72s/it]"
     ]
    },
    {
     "name": "stdout",
     "output_type": "stream",
     "text": [
      "training loss: 2.8834614753723145\n",
      "training loss: 2.833667039871216\n",
      "training loss: 2.9155733585357666\n"
     ]
    },
    {
     "name": "stderr",
     "output_type": "stream",
     "text": [
      "\r",
      "training:  84%|█████████████████████████████████████████████████████████████████████████████████████████████████████▏                  | 765/907 [49:12<08:36,  3.64s/it]"
     ]
    },
    {
     "name": "stdout",
     "output_type": "stream",
     "text": [
      "training loss: 2.901116371154785\n",
      "training loss: 2.8910772800445557\n",
      "training loss: 2.8415935039520264\n"
     ]
    },
    {
     "name": "stderr",
     "output_type": "stream",
     "text": [
      "\r",
      "training:  85%|█████████████████████████████████████████████████████████████████████████████████████████████████████▌                  | 768/907 [49:23<08:26,  3.65s/it]"
     ]
    },
    {
     "name": "stdout",
     "output_type": "stream",
     "text": [
      "training loss: 2.8934125900268555\n",
      "training loss: 2.891008138656616\n",
      "validation loss: 2.895501136779785\n",
      "training loss: 2.8524880409240723\n"
     ]
    },
    {
     "name": "stderr",
     "output_type": "stream",
     "text": [
      "\r",
      "training:  85%|██████████████████████████████████████████████████████████████████████████████████████████████████████                  | 771/907 [49:34<08:21,  3.69s/it]"
     ]
    },
    {
     "name": "stdout",
     "output_type": "stream",
     "text": [
      "training loss: 2.911722421646118\n",
      "training loss: 2.883280038833618\n",
      "training loss: 2.8372037410736084\n"
     ]
    },
    {
     "name": "stderr",
     "output_type": "stream",
     "text": [
      "\r",
      "training:  85%|██████████████████████████████████████████████████████████████████████████████████████████████████████▍                 | 774/907 [49:45<08:09,  3.68s/it]"
     ]
    },
    {
     "name": "stdout",
     "output_type": "stream",
     "text": [
      "training loss: 2.8385403156280518\n",
      "training loss: 2.8651602268218994\n",
      "training loss: 2.899003505706787\n"
     ]
    },
    {
     "name": "stderr",
     "output_type": "stream",
     "text": [
      "\r",
      "training:  86%|██████████████████████████████████████████████████████████████████████████████████████████████████████▊                 | 777/907 [49:56<07:59,  3.69s/it]"
     ]
    },
    {
     "name": "stdout",
     "output_type": "stream",
     "text": [
      "training loss: 2.863534927368164\n",
      "training loss: 2.8228702545166016\n",
      "training loss: 2.887927770614624\n"
     ]
    },
    {
     "name": "stderr",
     "output_type": "stream",
     "text": [
      "\r",
      "training:  86%|███████████████████████████████████████████████████████████████████████████████████████████████████████▏                | 780/907 [50:07<07:46,  3.68s/it]"
     ]
    },
    {
     "name": "stdout",
     "output_type": "stream",
     "text": [
      "training loss: 2.884708881378174\n",
      "training loss: 2.871018648147583\n",
      "validation loss: 2.9025607109069824\n",
      "training loss: 2.8478028774261475\n"
     ]
    },
    {
     "name": "stderr",
     "output_type": "stream",
     "text": [
      "\r",
      "training:  86%|███████████████████████████████████████████████████████████████████████████████████████████████████████▌                | 783/907 [50:18<07:38,  3.70s/it]"
     ]
    },
    {
     "name": "stdout",
     "output_type": "stream",
     "text": [
      "training loss: 2.927544355392456\n",
      "training loss: 2.87145733833313\n",
      "training loss: 2.9666407108306885\n"
     ]
    },
    {
     "name": "stderr",
     "output_type": "stream",
     "text": [
      "\r",
      "training:  87%|███████████████████████████████████████████████████████████████████████████████████████████████████████▉                | 786/907 [50:29<07:27,  3.70s/it]"
     ]
    },
    {
     "name": "stdout",
     "output_type": "stream",
     "text": [
      "training loss: 2.883655548095703\n",
      "training loss: 2.872763156890869\n",
      "training loss: 2.907305955886841\n"
     ]
    },
    {
     "name": "stderr",
     "output_type": "stream",
     "text": [
      "training:  87%|████████████████████████████████████████████████████████████████████████████████████████████████████████▍               | 789/907 [50:42<07:31,  3.82s/it]"
     ]
    },
    {
     "name": "stdout",
     "output_type": "stream",
     "text": [
      "training loss: 2.9188754558563232\n",
      "training loss: 2.8958017826080322\n",
      "training loss: 2.8949697017669678\n"
     ]
    },
    {
     "name": "stderr",
     "output_type": "stream",
     "text": [
      "\r",
      "training:  87%|████████████████████████████████████████████████████████████████████████████████████████████████████████▊               | 792/907 [50:54<07:32,  3.93s/it]"
     ]
    },
    {
     "name": "stdout",
     "output_type": "stream",
     "text": [
      "training loss: 2.8804097175598145\n",
      "training loss: 2.962545871734619\n",
      "validation loss: 2.8868556022644043\n",
      "training loss: 2.8635921478271484\n"
     ]
    },
    {
     "name": "stderr",
     "output_type": "stream",
     "text": [
      "\r",
      "training:  88%|█████████████████████████████████████████████████████████████████████████████████████████████████████████▏              | 795/907 [51:07<07:33,  4.05s/it]"
     ]
    },
    {
     "name": "stdout",
     "output_type": "stream",
     "text": [
      "training loss: 2.8774216175079346\n",
      "training loss: 2.881699323654175\n",
      "training loss: 2.87518310546875\n"
     ]
    },
    {
     "name": "stderr",
     "output_type": "stream",
     "text": [
      "training:  88%|█████████████████████████████████████████████████████████████████████████████████████████████████████████▌              | 798/907 [51:20<07:30,  4.14s/it]"
     ]
    },
    {
     "name": "stdout",
     "output_type": "stream",
     "text": [
      "training loss: 2.852290630340576\n",
      "training loss: 2.9111087322235107\n",
      "training loss: 2.8719027042388916\n"
     ]
    },
    {
     "name": "stderr",
     "output_type": "stream",
     "text": [
      "\r",
      "training:  88%|█████████████████████████████████████████████████████████████████████████████████████████████████████████▉              | 801/907 [51:33<07:26,  4.21s/it]"
     ]
    },
    {
     "name": "stdout",
     "output_type": "stream",
     "text": [
      "training loss: 2.9334890842437744\n",
      "training loss: 2.903684377670288\n",
      "training loss: 2.885504961013794\n"
     ]
    },
    {
     "name": "stderr",
     "output_type": "stream",
     "text": [
      "\r",
      "training:  89%|██████████████████████████████████████████████████████████████████████████████████████████████████████████▎             | 804/907 [51:47<07:22,  4.30s/it]"
     ]
    },
    {
     "name": "stdout",
     "output_type": "stream",
     "text": [
      "training loss: 2.873506784439087\n",
      "training loss: 2.867487907409668\n",
      "validation loss: 2.9073588848114014\n",
      "training loss: 2.894718885421753\n"
     ]
    },
    {
     "name": "stderr",
     "output_type": "stream",
     "text": [
      "training:  89%|██████████████████████████████████████████████████████████████████████████████████████████████████████████▊             | 807/907 [52:01<07:24,  4.44s/it]"
     ]
    },
    {
     "name": "stdout",
     "output_type": "stream",
     "text": [
      "training loss: 2.858785629272461\n",
      "training loss: 2.887981414794922\n",
      "training loss: 2.865452289581299\n"
     ]
    },
    {
     "name": "stderr",
     "output_type": "stream",
     "text": [
      "\r",
      "training:  89%|███████████████████████████████████████████████████████████████████████████████████████████████████████████▏            | 810/907 [52:15<07:17,  4.51s/it]"
     ]
    },
    {
     "name": "stdout",
     "output_type": "stream",
     "text": [
      "training loss: 2.895205020904541\n",
      "training loss: 2.8762011528015137\n",
      "training loss: 2.8798277378082275\n"
     ]
    },
    {
     "name": "stderr",
     "output_type": "stream",
     "text": [
      "\r",
      "training:  90%|███████████████████████████████████████████████████████████████████████████████████████████████████████████▌            | 813/907 [52:28<07:02,  4.49s/it]"
     ]
    },
    {
     "name": "stdout",
     "output_type": "stream",
     "text": [
      "training loss: 2.882986068725586\n",
      "training loss: 2.8951945304870605\n",
      "training loss: 2.8523752689361572\n"
     ]
    },
    {
     "name": "stderr",
     "output_type": "stream",
     "text": [
      "training:  90%|███████████████████████████████████████████████████████████████████████████████████████████████████████████▉            | 816/907 [52:41<06:44,  4.44s/it]"
     ]
    },
    {
     "name": "stdout",
     "output_type": "stream",
     "text": [
      "training loss: 2.8718764781951904\n",
      "training loss: 2.9116480350494385\n",
      "validation loss: 2.8819079399108887\n",
      "training loss: 2.8454980850219727\n"
     ]
    },
    {
     "name": "stderr",
     "output_type": "stream",
     "text": [
      "\r",
      "training:  90%|████████████████████████████████████████████████████████████████████████████████████████████████████████████▎           | 819/907 [52:55<06:36,  4.50s/it]"
     ]
    },
    {
     "name": "stdout",
     "output_type": "stream",
     "text": [
      "training loss: 2.8758761882781982\n",
      "training loss: 2.883949041366577\n",
      "training loss: 2.8286237716674805\n"
     ]
    },
    {
     "name": "stderr",
     "output_type": "stream",
     "text": [
      "\r",
      "training:  91%|████████████████████████████████████████████████████████████████████████████████████████████████████████████▊           | 822/907 [53:08<06:15,  4.42s/it]"
     ]
    },
    {
     "name": "stdout",
     "output_type": "stream",
     "text": [
      "training loss: 2.8707330226898193\n",
      "training loss: 2.9066720008850098\n",
      "training loss: 2.884587526321411\n"
     ]
    },
    {
     "name": "stderr",
     "output_type": "stream",
     "text": [
      "training:  91%|█████████████████████████████████████████████████████████████████████████████████████████████████████████████▏          | 825/907 [53:21<05:58,  4.37s/it]"
     ]
    },
    {
     "name": "stdout",
     "output_type": "stream",
     "text": [
      "training loss: 2.905449867248535\n",
      "training loss: 2.8960654735565186\n",
      "training loss: 2.8988683223724365\n",
      "training loss: 2.839106321334839\n",
      "training loss: 2.8842060565948486\n",
      "validation loss: 2.9051575660705566\n"
     ]
    },
    {
     "name": "stderr",
     "output_type": "stream",
     "text": [
      "\r",
      "training:  92%|█████████████████████████████████████████████████████████████████████████████████████████████████████████████▊          | 830/907 [53:34<04:58,  3.87s/it]"
     ]
    },
    {
     "name": "stdout",
     "output_type": "stream",
     "text": [
      "training loss: 2.892972946166992\n",
      "training loss: 2.8395795822143555\n",
      "training loss: 2.845407009124756\n",
      "training loss: 2.891798496246338\n",
      "training loss: 2.8481273651123047\n"
     ]
    },
    {
     "name": "stderr",
     "output_type": "stream",
     "text": [
      "\r",
      "training:  92%|██████████████████████████████████████████████████████████████████████████████████████████████████████████████▍         | 835/907 [53:44<03:58,  3.31s/it]"
     ]
    },
    {
     "name": "stdout",
     "output_type": "stream",
     "text": [
      "training loss: 2.8748414516448975\n",
      "training loss: 2.8451688289642334\n",
      "training loss: 2.9599223136901855\n",
      "training loss: 2.8667490482330322\n",
      "training loss: 2.9109201431274414\n",
      "training loss: 2.8634586334228516\n",
      "training loss: 2.8980367183685303\n"
     ]
    },
    {
     "name": "stderr",
     "output_type": "stream",
     "text": [
      "\r",
      "training:  93%|███████████████████████████████████████████████████████████████████████████████████████████████████████████████▎        | 841/907 [53:56<03:11,  2.90s/it]"
     ]
    },
    {
     "name": "stdout",
     "output_type": "stream",
     "text": [
      "validation loss: 2.8843278884887695\n",
      "training loss: 2.8874335289001465\n",
      "training loss: 2.895174026489258\n",
      "training loss: 2.8598642349243164\n",
      "training loss: 2.8922781944274902\n"
     ]
    },
    {
     "name": "stderr",
     "output_type": "stream",
     "text": [
      "\r",
      "training:  93%|███████████████████████████████████████████████████████████████████████████████████████████████████████████████▎        | 841/907 [54:10<03:11,  2.90s/it]"
     ]
    },
    {
     "name": "stdout",
     "output_type": "stream",
     "text": [
      "training loss: 2.8836212158203125\n"
     ]
    },
    {
     "name": "stderr",
     "output_type": "stream",
     "text": [
      "\r",
      "training:  93%|████████████████████████████████████████████████████████████████████████████████████████████████████████████████        | 847/907 [54:12<02:50,  2.84s/it]"
     ]
    },
    {
     "name": "stdout",
     "output_type": "stream",
     "text": [
      "training loss: 2.9040257930755615\n",
      "training loss: 2.8892109394073486\n",
      "training loss: 2.882087469100952\n",
      "training loss: 2.9090328216552734\n"
     ]
    },
    {
     "name": "stderr",
     "output_type": "stream",
     "text": [
      "\r",
      "training:  94%|████████████████████████████████████████████████████████████████████████████████████████████████████████████████▌       | 851/907 [54:23<02:37,  2.80s/it]"
     ]
    },
    {
     "name": "stdout",
     "output_type": "stream",
     "text": [
      "training loss: 2.8712549209594727\n",
      "training loss: 2.8735268115997314\n",
      "training loss: 2.8923070430755615\n",
      "validation loss: 2.895904302597046\n",
      "training loss: 2.8476788997650146\n"
     ]
    },
    {
     "name": "stderr",
     "output_type": "stream",
     "text": [
      "\r",
      "training:  94%|█████████████████████████████████████████████████████████████████████████████████████████████████████████████████       | 855/907 [54:34<02:25,  2.79s/it]"
     ]
    },
    {
     "name": "stdout",
     "output_type": "stream",
     "text": [
      "training loss: 2.881732702255249\n",
      "training loss: 2.8158681392669678\n",
      "training loss: 2.866075038909912\n",
      "training loss: 2.9168801307678223\n"
     ]
    },
    {
     "name": "stderr",
     "output_type": "stream",
     "text": [
      "\r",
      "training:  95%|█████████████████████████████████████████████████████████████████████████████████████████████████████████████████▋      | 859/907 [54:45<02:13,  2.77s/it]"
     ]
    },
    {
     "name": "stdout",
     "output_type": "stream",
     "text": [
      "training loss: 2.8711652755737305\n",
      "training loss: 2.920957326889038\n",
      "training loss: 2.871673583984375\n",
      "training loss: 2.9500515460968018\n"
     ]
    },
    {
     "name": "stderr",
     "output_type": "stream",
     "text": [
      "\r",
      "training:  95%|██████████████████████████████████████████████████████████████████████████████████████████████████████████████████▏     | 863/907 [54:56<02:01,  2.76s/it]"
     ]
    },
    {
     "name": "stdout",
     "output_type": "stream",
     "text": [
      "training loss: 2.8421175479888916\n",
      "training loss: 2.913248062133789\n",
      "training loss: 2.838754415512085\n",
      "validation loss: 2.8592581748962402\n",
      "training loss: 2.940955638885498\n"
     ]
    },
    {
     "name": "stderr",
     "output_type": "stream",
     "text": [
      "\r",
      "training:  96%|██████████████████████████████████████████████████████████████████████████████████████████████████████████████████▋     | 867/907 [55:07<01:50,  2.77s/it]"
     ]
    },
    {
     "name": "stdout",
     "output_type": "stream",
     "text": [
      "training loss: 2.9256515502929688\n",
      "training loss: 2.910043954849243\n",
      "training loss: 2.871954917907715\n",
      "training loss: 2.8496203422546387\n"
     ]
    },
    {
     "name": "stderr",
     "output_type": "stream",
     "text": [
      "\r",
      "training:  96%|███████████████████████████████████████████████████████████████████████████████████████████████████████████████████▏    | 871/907 [55:18<01:39,  2.76s/it]"
     ]
    },
    {
     "name": "stdout",
     "output_type": "stream",
     "text": [
      "training loss: 2.8850932121276855\n",
      "training loss: 2.8561689853668213\n",
      "training loss: 2.9071052074432373\n",
      "training loss: 2.9066085815429688\n"
     ]
    },
    {
     "name": "stderr",
     "output_type": "stream",
     "text": [
      "\r",
      "training:  96%|███████████████████████████████████████████████████████████████████████████████████████████████████████████████████▊    | 875/907 [55:29<01:27,  2.75s/it]"
     ]
    },
    {
     "name": "stdout",
     "output_type": "stream",
     "text": [
      "training loss: 2.9016776084899902\n",
      "training loss: 2.862398386001587\n",
      "training loss: 2.8982152938842773\n",
      "validation loss: 2.8797476291656494\n",
      "training loss: 2.85992169380188\n"
     ]
    },
    {
     "name": "stderr",
     "output_type": "stream",
     "text": [
      "training:  97%|████████████████████████████████████████████████████████████████████████████████████████████████████████████████████▎   | 879/907 [55:40<01:17,  2.76s/it]"
     ]
    },
    {
     "name": "stdout",
     "output_type": "stream",
     "text": [
      "training loss: 2.8784947395324707\n",
      "training loss: 2.8828890323638916\n",
      "training loss: 2.840324640274048\n",
      "training loss: 2.882000684738159\n"
     ]
    },
    {
     "name": "stderr",
     "output_type": "stream",
     "text": [
      "\r",
      "training:  97%|████████████████████████████████████████████████████████████████████████████████████████████████████████████████████▊   | 883/907 [55:51<01:05,  2.74s/it]"
     ]
    },
    {
     "name": "stdout",
     "output_type": "stream",
     "text": [
      "training loss: 2.895172595977783\n",
      "training loss: 2.875412940979004\n",
      "training loss: 2.9207966327667236\n",
      "training loss: 2.876352310180664\n"
     ]
    },
    {
     "name": "stderr",
     "output_type": "stream",
     "text": [
      "\r",
      "training:  98%|█████████████████████████████████████████████████████████████████████████████████████████████████████████████████████▎  | 887/907 [56:02<00:54,  2.74s/it]"
     ]
    },
    {
     "name": "stdout",
     "output_type": "stream",
     "text": [
      "training loss: 2.888676404953003\n",
      "training loss: 2.884965419769287\n",
      "training loss: 2.825268507003784\n",
      "validation loss: 2.863696813583374\n",
      "training loss: 2.8499011993408203\n"
     ]
    },
    {
     "name": "stderr",
     "output_type": "stream",
     "text": [
      "\r",
      "training:  98%|█████████████████████████████████████████████████████████████████████████████████████████████████████████████████████▉  | 891/907 [56:13<00:44,  2.75s/it]"
     ]
    },
    {
     "name": "stdout",
     "output_type": "stream",
     "text": [
      "training loss: 2.8308217525482178\n",
      "training loss: 2.8745803833007812\n",
      "training loss: 2.883356809616089\n",
      "training loss: 2.8965582847595215\n"
     ]
    },
    {
     "name": "stderr",
     "output_type": "stream",
     "text": [
      "\r",
      "training:  99%|██████████████████████████████████████████████████████████████████████████████████████████████████████████████████████▍ | 895/907 [56:27<00:35,  2.98s/it]"
     ]
    },
    {
     "name": "stdout",
     "output_type": "stream",
     "text": [
      "training loss: 2.8056936264038086\n",
      "training loss: 2.8738515377044678\n",
      "training loss: 2.862097978591919\n"
     ]
    },
    {
     "name": "stderr",
     "output_type": "stream",
     "text": [
      "training:  99%|██████████████████████████████████████████████████████████████████████████████████████████████████████████████████████▊ | 898/907 [56:42<00:32,  3.60s/it]"
     ]
    },
    {
     "name": "stdout",
     "output_type": "stream",
     "text": [
      "training loss: 2.8670225143432617\n",
      "training loss: 2.9096808433532715\n",
      "training loss: 2.8644065856933594\n",
      "training loss: 2.8511962890625\n"
     ]
    },
    {
     "name": "stderr",
     "output_type": "stream",
     "text": [
      "\r",
      "training:  99%|███████████████████████████████████████████████████████████████████████████████████████████████████████████████████████▏| 901/907 [56:53<00:21,  3.56s/it]"
     ]
    },
    {
     "name": "stdout",
     "output_type": "stream",
     "text": [
      "validation loss: 2.8553528785705566\n",
      "training loss: 2.965726852416992\n",
      "training loss: 2.9269609451293945\n",
      "training loss: 2.8579893112182617\n"
     ]
    },
    {
     "name": "stderr",
     "output_type": "stream",
     "text": [
      "\r",
      "training: 100%|███████████████████████████████████████████████████████████████████████████████████████████████████████████████████████▋| 905/907 [57:04<00:06,  3.31s/it]"
     ]
    },
    {
     "name": "stdout",
     "output_type": "stream",
     "text": [
      "training loss: 2.909682273864746\n",
      "training loss: 2.860117197036743\n"
     ]
    },
    {
     "name": "stderr",
     "output_type": "stream",
     "text": [
      "\r",
      "training: 100%|████████████████████████████████████████████████████████████████████████████████████████████████████████████████████████| 907/907 [57:09<00:00,  3.78s/it]"
     ]
    },
    {
     "name": "stdout",
     "output_type": "stream",
     "text": [
      "training loss: 2.9044148921966553\n"
     ]
    },
    {
     "name": "stderr",
     "output_type": "stream",
     "text": [
      "\n"
     ]
    }
   ],
   "source": [
    "import tqdm\n",
    "for x in range(5):\n",
    "    for i in tqdm.tqdm(range(NUM_BATCHES), mininterval=10., desc='training'):\n",
    "\n",
    "        model.train()\n",
    "\n",
    "        for __ in range(GRADIENT_ACCUMULATE_EVERY):\n",
    "            tmp = next(train_loader)\n",
    "            inputs = tmp['inputs']\n",
    "            labels = tmp['labels']\n",
    "            attention_mask = tmp['attention_mask']\n",
    "\n",
    "            outputs = model(input_ids=inputs, labels=labels, attention_mask=attention_mask)\n",
    "            loss, prediction_scores = outputs[:2]\n",
    "            loss.backward()\n",
    "\n",
    "        print(f'training loss: {loss.item()}')\n",
    "\n",
    "        torch.nn.utils.clip_grad_norm_(model.parameters(), 0.5)\n",
    "\n",
    "        optimizer.step()\n",
    "        optimizer.zero_grad()\n",
    "\n",
    "        if i % VALIDATE_EVERY == 0:\n",
    "            model.eval()\n",
    "            with torch.no_grad():\n",
    "                tmp = next(train_loader)\n",
    "                inputs = tmp['inputs']\n",
    "                labels = tmp['labels']\n",
    "                attention_mask = tmp['attention_mask']\n",
    "                outputs = model(input_ids=inputs, labels=labels, attention_mask=attention_mask)\n",
    "                loss, prediction_scores = outputs[:2]\n",
    "                print(f'validation loss: {loss.item()}')"
   ]
  },
  {
   "cell_type": "code",
   "execution_count": null,
   "metadata": {},
   "outputs": [],
   "source": []
  },
  {
   "cell_type": "code",
   "execution_count": null,
   "metadata": {},
   "outputs": [],
   "source": []
  },
  {
   "cell_type": "code",
   "execution_count": 12,
   "metadata": {},
   "outputs": [
    {
     "data": {
      "text/plain": [
       "tensor([[[0.4644, 0.6206, 0.9698, 0.7029, 0.1203],\n",
       "         [0.3409, 0.8936, 0.4948, 0.7733, 0.4185]],\n",
       "\n",
       "        [[0.0241, 0.5471, 0.6334, 0.2244, 0.3367],\n",
       "         [0.4312, 0.7499, 0.9411, 0.6488, 0.4058]],\n",
       "\n",
       "        [[0.3744, 0.3766, 0.0417, 0.9009, 0.0848],\n",
       "         [0.0123, 0.6774, 0.8277, 0.1902, 0.2619]]])"
      ]
     },
     "execution_count": 12,
     "metadata": {},
     "output_type": "execute_result"
    }
   ],
   "source": [
    "import torch\n",
    "x=torch.rand((3,2,5))\n",
    "x"
   ]
  },
  {
   "cell_type": "code",
   "execution_count": 13,
   "metadata": {},
   "outputs": [
    {
     "data": {
      "text/plain": [
       "tensor([[[0.4644, 0.6206, 0.9698, 0.7029, 0.1203]],\n",
       "\n",
       "        [[0.0241, 0.5471, 0.6334, 0.2244, 0.3367]],\n",
       "\n",
       "        [[0.3744, 0.3766, 0.0417, 0.9009, 0.0848]]])"
      ]
     },
     "execution_count": 13,
     "metadata": {},
     "output_type": "execute_result"
    }
   ],
   "source": [
    "x[..., :-1, :]"
   ]
  },
  {
   "cell_type": "code",
   "execution_count": 14,
   "metadata": {},
   "outputs": [
    {
     "data": {
      "text/plain": [
       "tensor([[[0.6206, 0.9698, 0.7029, 0.1203],\n",
       "         [0.8936, 0.4948, 0.7733, 0.4185]],\n",
       "\n",
       "        [[0.5471, 0.6334, 0.2244, 0.3367],\n",
       "         [0.7499, 0.9411, 0.6488, 0.4058]],\n",
       "\n",
       "        [[0.3766, 0.0417, 0.9009, 0.0848],\n",
       "         [0.6774, 0.8277, 0.1902, 0.2619]]])"
      ]
     },
     "execution_count": 14,
     "metadata": {},
     "output_type": "execute_result"
    }
   ],
   "source": [
    "x[...,1:]#.reshape(-1)"
   ]
  },
  {
   "cell_type": "code",
   "execution_count": null,
   "metadata": {},
   "outputs": [],
   "source": []
  }
 ],
 "metadata": {
  "kernelspec": {
   "display_name": "Python 3",
   "language": "python",
   "name": "python3"
  },
  "language_info": {
   "codemirror_mode": {
    "name": "ipython",
    "version": 3
   },
   "file_extension": ".py",
   "mimetype": "text/x-python",
   "name": "python",
   "nbconvert_exporter": "python",
   "pygments_lexer": "ipython3",
   "version": "3.7.7"
  }
 },
 "nbformat": 4,
 "nbformat_minor": 4
}
