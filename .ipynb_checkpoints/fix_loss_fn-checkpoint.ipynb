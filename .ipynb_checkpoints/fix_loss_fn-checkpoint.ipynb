{
 "cells": [
  {
   "cell_type": "code",
   "execution_count": 1,
   "metadata": {},
   "outputs": [],
   "source": [
    "import torch\n",
    "import random\n",
    "import time\n",
    "import numpy as np\n",
    "import sentencepiece as spm\n",
    "from transformers import ReformerConfig, ReformerModelWithLMHead, ReformerTokenizer, EncoderDecoderConfig, EncoderDecoderModel\n",
    "from torch.utils.data import DataLoader, Dataset\n",
    "\n",
    "NUM_BATCHES = None\n",
    "BATCH_SIZE = 60\n",
    "LEARNING_RATE = 0.01 #1e-4 #1e-4\n",
    "VALIDATE_EVERY = 10\n",
    "SEQ_LEN = 4608"
   ]
  },
  {
   "cell_type": "code",
   "execution_count": 2,
   "metadata": {},
   "outputs": [],
   "source": [
    "# spm.SentencePieceTrainer.Train(\"--input=./data/tokenizer_training/AAresiduals.txt \\\n",
    "#                                 --vocab_size=28 \\\n",
    "#                                 --model_prefix=sequence_tokenizer \\\n",
    "#                                 --model_type=char \\\n",
    "#                                 --character_coverage=1.0\")\n",
    "tokenizer = ReformerTokenizer(vocab_file=\"sequence_tokenizer.model\", do_lower_case=False, model_max_length=SEQ_LEN)\n",
    "tokenizer.max_model_input_sizes = SEQ_LEN"
   ]
  },
  {
   "cell_type": "code",
   "execution_count": 3,
   "metadata": {},
   "outputs": [
    {
     "data": {
      "text/plain": [
       "'S'"
      ]
     },
     "execution_count": 3,
     "metadata": {},
     "output_type": "execute_result"
    }
   ],
   "source": [
    "tokenizer.decode(20)"
   ]
  },
  {
   "cell_type": "code",
   "execution_count": 4,
   "metadata": {},
   "outputs": [],
   "source": [
    "\n",
    "# def split_file(file,out1,out2,percentage=0.75,isShuffle=True,seed=42):\n",
    "#     random.seed(seed)\n",
    "#     with open(file, 'r',encoding=\"utf-8\") as fin, open(out1, 'w') as foutBig, open(out2, 'w') as foutSmall:\n",
    "#         nLines = sum(1 for line in fin)\n",
    "#         fin.seek(0)\n",
    "\n",
    "#         nTrain = int(nLines*percentage) \n",
    "#         nValid = nLines - nTrain\n",
    "\n",
    "#         i = 0\n",
    "#         for line in fin:\n",
    "#             r = random.random() if isShuffle else 0 # so that always evaluated to true when not isShuffle\n",
    "#             if (i < nTrain and r < percentage) or (nLines - i > nValid):\n",
    "#                 foutBig.write(line)\n",
    "#                 i += 1\n",
    "#             else:\n",
    "#                 foutSmall.write(line)\n",
    "                \n",
    "# split_file(\"data/yeast/yeast.txt\", \n",
    "#            \"data/yeast/yeast_train.txt\",\n",
    "#            \"data/yeast/yeast_val.txt\",\n",
    "#            percentage=0.9)"
   ]
  },
  {
   "cell_type": "code",
   "execution_count": 5,
   "metadata": {},
   "outputs": [],
   "source": [
    "class SequenceDataset(Dataset):\n",
    "    def __init__(self, input_ids, attention_mask, labels, tokenizer, _len):\n",
    "        super().__init__()\n",
    "        self.input_ids = input_ids\n",
    "        self.attention_mask = attention_mask\n",
    "        self.labels = labels\n",
    "        self.tokenizer = tokenizer\n",
    "        self._len = _len\n",
    "\n",
    "    @classmethod\n",
    "    def prepare_from_file(cls, file_path, tokenizer):\n",
    "        \n",
    "        with open(file_path) as file:\n",
    "            \n",
    "            X = [l.strip() for l in file]\n",
    "            X = [tokenizer.encode(sequence)[1:tokenizer.max_len+1] for sequence in X]\n",
    "            \n",
    "            temp = [tokenizer.prepare_for_model(sequence) for sequence in X]\n",
    "            \n",
    "            input_ids = [np.pad(x[\"input_ids\"], \n",
    "                                (0, tokenizer.max_len - len(x[\"input_ids\"])), \n",
    "                                'constant', constant_values=0) for x in temp]\n",
    "\n",
    "            attention_mask = [np.pad(x[\"attention_mask\"], \n",
    "                                     (0, tokenizer.max_len - len(x[\"attention_mask\"])),\n",
    "                                     'constant', constant_values=0) for x in temp]\n",
    "            \n",
    "            labels = [np.pad(x[\"input_ids\"], \n",
    "                             (0, tokenizer.max_len - len(x[\"input_ids\"])), \n",
    "                             'constant', constant_values=-100) for x in temp]\n",
    "\n",
    "            input_ids = [torch.tensor(x, dtype=torch.int64) for x in input_ids]\n",
    "            attention_mask = [torch.tensor(x, dtype=torch.int64) for x in attention_mask]\n",
    "            labels = [torch.tensor(x, dtype=torch.int64) for x in labels]\n",
    "            \n",
    "            input_ids = torch.stack([input_ids[i] for i in range(len(input_ids))]).squeeze()\n",
    "            attention_mask = torch.stack([attention_mask[i] for i in range(len(attention_mask))]).squeeze()\n",
    "            labels = torch.stack([labels[i] for i in range(len(labels))]).squeeze()\n",
    "            \n",
    "            del(temp); del(X);\n",
    "        return cls(input_ids, attention_mask, labels, tokenizer, len(input_ids))\n",
    "\n",
    "    def __getitem__(self, index):\n",
    "        return {\"input_ids\": self.input_ids[index, ].cuda(), \n",
    "                \"attention_mask\": self.attention_mask[index, ].cuda(),\n",
    "                \"labels\": self.labels[index, ].cuda()}\n",
    "\n",
    "    def __len__(self):\n",
    "        return self._len"
   ]
  },
  {
   "cell_type": "code",
   "execution_count": 6,
   "metadata": {},
   "outputs": [
    {
     "name": "stderr",
     "output_type": "stream",
     "text": [
      "Token indices sequence length is longer than the specified maximum sequence length for this model (4911 > 4608). Running this sequence through the model will result in indexing errors\n"
     ]
    }
   ],
   "source": [
    "def cycle(loader):\n",
    "    while True:\n",
    "        for data in loader:\n",
    "            yield data\n",
    "\n",
    "train_dataset = SequenceDataset.prepare_from_file(\"data/yeast/yeast_train.txt\", tokenizer)\n",
    "val_dataset = SequenceDataset.prepare_from_file(\"data/yeast/yeast_val.txt\", tokenizer)\n",
    "train_loader = cycle(DataLoader(train_dataset, batch_size=BATCH_SIZE))\n",
    "val_loader = cycle(DataLoader(val_dataset, batch_size=BATCH_SIZE))\n"
   ]
  },
  {
   "cell_type": "code",
   "execution_count": 7,
   "metadata": {},
   "outputs": [],
   "source": [
    "# next(train_loader)['input_ids'].shape"
   ]
  },
  {
   "cell_type": "code",
   "execution_count": 8,
   "metadata": {},
   "outputs": [],
   "source": [
    "# next(train_loader)"
   ]
  },
  {
   "cell_type": "code",
   "execution_count": 9,
   "metadata": {},
   "outputs": [
    {
     "data": {
      "text/plain": [
       "ReformerModelWithLMHead(\n",
       "  (reformer): ReformerModel(\n",
       "    (embeddings): ReformerEmbeddings(\n",
       "      (word_embeddings): Embedding(28, 256)\n",
       "      (position_embeddings): AxialPositionEmbeddings(\n",
       "        (weights): ParameterList(\n",
       "            (0): Parameter containing: [torch.cuda.FloatTensor of size 64x1x64 (GPU 0)]\n",
       "            (1): Parameter containing: [torch.cuda.FloatTensor of size 1x72x192 (GPU 0)]\n",
       "        )\n",
       "      )\n",
       "    )\n",
       "    (encoder): ReformerEncoder(\n",
       "      (layers): ModuleList(\n",
       "        (0): ReformerLayer(\n",
       "          (attention): ReformerAttention(\n",
       "            (layer_norm): LayerNorm((256,), eps=1e-12, elementwise_affine=True)\n",
       "            (self_attention): LocalSelfAttention(\n",
       "              (query): Linear(in_features=256, out_features=128, bias=False)\n",
       "              (key): Linear(in_features=256, out_features=128, bias=False)\n",
       "              (value): Linear(in_features=256, out_features=128, bias=False)\n",
       "            )\n",
       "            (output): ReformerSelfOutput(\n",
       "              (dense): Linear(in_features=128, out_features=256, bias=False)\n",
       "            )\n",
       "          )\n",
       "          (feed_forward): ChunkReformerFeedForward(\n",
       "            (layer_norm): LayerNorm((256,), eps=1e-12, elementwise_affine=True)\n",
       "            (dense): ReformerFeedForwardDense(\n",
       "              (dense): Linear(in_features=256, out_features=512, bias=True)\n",
       "            )\n",
       "            (output): ReformerFeedForwardOutput(\n",
       "              (dense): Linear(in_features=512, out_features=256, bias=True)\n",
       "            )\n",
       "          )\n",
       "        )\n",
       "        (1): ReformerLayer(\n",
       "          (attention): ReformerAttention(\n",
       "            (layer_norm): LayerNorm((256,), eps=1e-12, elementwise_affine=True)\n",
       "            (self_attention): LSHSelfAttention(\n",
       "              (query_key): Linear(in_features=256, out_features=128, bias=False)\n",
       "              (value): Linear(in_features=256, out_features=128, bias=False)\n",
       "            )\n",
       "            (output): ReformerSelfOutput(\n",
       "              (dense): Linear(in_features=128, out_features=256, bias=False)\n",
       "            )\n",
       "          )\n",
       "          (feed_forward): ChunkReformerFeedForward(\n",
       "            (layer_norm): LayerNorm((256,), eps=1e-12, elementwise_affine=True)\n",
       "            (dense): ReformerFeedForwardDense(\n",
       "              (dense): Linear(in_features=256, out_features=512, bias=True)\n",
       "            )\n",
       "            (output): ReformerFeedForwardOutput(\n",
       "              (dense): Linear(in_features=512, out_features=256, bias=True)\n",
       "            )\n",
       "          )\n",
       "        )\n",
       "      )\n",
       "      (layer_norm): LayerNorm((512,), eps=1e-12, elementwise_affine=True)\n",
       "    )\n",
       "  )\n",
       "  (lm_head): ReformerOnlyLMHead(\n",
       "    (decoder): Linear(in_features=512, out_features=28, bias=True)\n",
       "  )\n",
       ")"
      ]
     },
     "execution_count": 9,
     "metadata": {},
     "output_type": "execute_result"
    }
   ],
   "source": [
    "configuration = ReformerConfig.from_pretrained(\"google/reformer-crime-and-punishment\")\n",
    "configuration.axial_pos_shape = (64, 72)\n",
    "configuration.max_position_embeddings=SEQ_LEN\n",
    "configuration.vocab_size=tokenizer.vocab_size\n",
    "\n",
    "configuration.attn_layers = [\"local\",\"lsh\"]\n",
    "configuration.output_hidden_states=True\n",
    "\n",
    "configuration.save_pretrained('model/config/')\n",
    "configuration = ReformerConfig.from_pretrained('model/config/')\n",
    "model = ReformerModelWithLMHead(configuration)\n",
    "\n",
    "model.cuda()"
   ]
  },
  {
   "cell_type": "code",
   "execution_count": 10,
   "metadata": {},
   "outputs": [
    {
     "data": {
      "text/plain": [
       "ReformerConfig {\n",
       "  \"architectures\": [\n",
       "    \"ReformerModelWithLMHead\"\n",
       "  ],\n",
       "  \"attention_head_size\": 64,\n",
       "  \"attention_probs_dropout_prob\": 0.1,\n",
       "  \"attn_layers\": [\n",
       "    \"local\",\n",
       "    \"lsh\"\n",
       "  ],\n",
       "  \"axial_norm_std\": 1.0,\n",
       "  \"axial_pos_embds\": true,\n",
       "  \"axial_pos_embds_dim\": [\n",
       "    64,\n",
       "    192\n",
       "  ],\n",
       "  \"axial_pos_shape\": [\n",
       "    64,\n",
       "    72\n",
       "  ],\n",
       "  \"chunk_size_feed_forward\": 0,\n",
       "  \"chunk_size_lm_head\": 0,\n",
       "  \"eos_token_id\": 2,\n",
       "  \"feed_forward_size\": 512,\n",
       "  \"hash_seed\": null,\n",
       "  \"hidden_act\": \"relu\",\n",
       "  \"hidden_dropout_prob\": 0.05,\n",
       "  \"hidden_size\": 256,\n",
       "  \"initializer_range\": 0.02,\n",
       "  \"intermediate_size\": 3072,\n",
       "  \"is_decoder\": true,\n",
       "  \"layer_norm_eps\": 1e-12,\n",
       "  \"local_attention_probs_dropout_prob\": 0.05,\n",
       "  \"local_attn_chunk_length\": 64,\n",
       "  \"local_num_chunks_after\": 0,\n",
       "  \"local_num_chunks_before\": 1,\n",
       "  \"lsh_attention_probs_dropout_prob\": 0.0,\n",
       "  \"lsh_attn_chunk_length\": 64,\n",
       "  \"lsh_num_chunks_after\": 0,\n",
       "  \"lsh_num_chunks_before\": 1,\n",
       "  \"max_position_embeddings\": 4608,\n",
       "  \"model_type\": \"reformer\",\n",
       "  \"num_attention_heads\": 2,\n",
       "  \"num_buckets\": [\n",
       "    64,\n",
       "    128\n",
       "  ],\n",
       "  \"num_chunks_after\": 0,\n",
       "  \"num_chunks_before\": 1,\n",
       "  \"num_hashes\": 1,\n",
       "  \"num_hidden_layers\": 2,\n",
       "  \"output_hidden_states\": true,\n",
       "  \"output_past\": true,\n",
       "  \"pad_token_id\": 0,\n",
       "  \"task_specific_params\": {\n",
       "    \"text-generation\": {\n",
       "      \"do_sample\": true,\n",
       "      \"max_length\": 100\n",
       "    }\n",
       "  },\n",
       "  \"vocab_size\": 28\n",
       "}"
      ]
     },
     "execution_count": 10,
     "metadata": {},
     "output_type": "execute_result"
    }
   ],
   "source": [
    "model.config"
   ]
  },
  {
   "cell_type": "code",
   "execution_count": 11,
   "metadata": {},
   "outputs": [
    {
     "name": "stdout",
     "output_type": "stream",
     "text": [
      "60 90\n"
     ]
    }
   ],
   "source": [
    "\n",
    "NUM_BATCHES = len(train_dataset)//BATCH_SIZE\n",
    "print(BATCH_SIZE, NUM_BATCHES)\n",
    "from transformers import AdamW\n",
    "optimizer = AdamW(params=model.parameters(), lr=LEARNING_RATE)"
   ]
  },
  {
   "cell_type": "code",
   "execution_count": 12,
   "metadata": {},
   "outputs": [
    {
     "data": {
      "text/plain": [
       "<All keys matched successfully>"
      ]
     },
     "execution_count": 12,
     "metadata": {},
     "output_type": "execute_result"
    }
   ],
   "source": [
    "# returned from epoch 80\n",
    "model.load_state_dict(torch.load('saved_0624/model/saved_model_epoch_340.pth'))"
   ]
  },
  {
   "cell_type": "code",
   "execution_count": 13,
   "metadata": {
    "scrolled": true
   },
   "outputs": [],
   "source": [
    "######################################## Done ~1000 epoches\n",
    "# from collections import OrderedDict \n",
    "# import json\n",
    "# import pandas as pd\n",
    "\n",
    "# # all_training_loss = OrderedDict()\n",
    "# # all_val_loss = OrderedDict()\n",
    "# argmax_to_save=[]\n",
    "\n",
    "# for x in range(341, 941):\n",
    "#     print(f\"epoch {x}\")\n",
    "#     start = time.time()\n",
    "\n",
    "#     training_loss = OrderedDict()\n",
    "#     val_loss = OrderedDict()\n",
    "    \n",
    "#     for i in range(NUM_BATCHES):\n",
    "#         model.train()\n",
    "\n",
    "#         tmp = next(train_loader)\n",
    "#         input_ids = tmp['input_ids']\n",
    "#         attention_mask = tmp['attention_mask']\n",
    "#         labels = tmp['labels']\n",
    "\n",
    "#         outputs = model(input_ids, attention_mask=attention_mask, labels=labels)\n",
    "#         loss, prediction_scores = outputs[:2]\n",
    "#         loss.backward()\n",
    "        \n",
    "#         training_loss[f\"Epoch {x} Step {i}\"] = loss.item()\n",
    "# #         all_training_loss[f\"Epoch {x} Step {i}\"] = loss.item()\n",
    "#         if i%10 == 0:\n",
    "#             print(f\"step {i}\")\n",
    "#             print(f'training loss: {loss.item()}')\n",
    "\n",
    "#         torch.nn.utils.clip_grad_norm_(model.parameters(), 0.5)\n",
    "\n",
    "#         optimizer.step()\n",
    "#         optimizer.zero_grad()\n",
    "\n",
    "#         if i % VALIDATE_EVERY == 0:\n",
    "#             model.eval()\n",
    "#             with torch.no_grad():\n",
    "#                 tmp = next(val_loader)\n",
    "#                 input_ids = tmp['input_ids']\n",
    "#                 attention_mask = tmp['attention_mask']\n",
    "#                 labels = tmp['labels']\n",
    "                \n",
    "#                 outputs = model(input_ids, attention_mask=attention_mask, labels=labels)\n",
    "#                 loss = outputs[0]\n",
    "#                 val_loss[f\"Epoch {x} Step {i}\"] = loss.item()\n",
    "# #                 all_val_loss[f\"Epoch {x} Step {i}\"] = loss.item()\n",
    "#                 print(f'validation loss: {loss.item()}')\n",
    "        \n",
    "#         # see what's being predicted:\n",
    "#         if x % 20 == 0:\n",
    "#             y = torch.argmax(prediction_scores[0,:,:], dim=1).cpu().numpy() #batch x seq_len x num_tokens -> batch x seq_len\n",
    "#             argmax_to_save.append(y.tolist())\n",
    "#             with open('saved_0624/argmax_saved.txt', 'w') as f:\n",
    "#                 for ele in argmax_to_save:\n",
    "#                     f.write(str(ele)+'\\n')\n",
    "#             del(y)\n",
    "    \n",
    "#     with open(f'saved_0624/saved_losses/training_loss_epoch_{x}.json', 'w') as f:\n",
    "#         f.write(json.dumps(training_loss))\n",
    "\n",
    "#     with open(f'saved_0624/saved_losses/val_loss_epoch_{x}.json', 'w') as f:\n",
    "#         f.write(json.dumps(val_loss))\n",
    "        \n",
    "#     if x%20 == 0:\n",
    "#         torch.save(model.state_dict(), f\"saved_0624/model/saved_model_epoch_{x}.pth\")\n",
    "\n",
    "#     end = time.time()\n",
    "#     print(f\"----------{(end-start)//60} min per epoch----------\")\n",
    "    \n",
    "\n",
    "# # with open(\"saved_0624/saved_losses/training_loss_all.json\", 'w') as f:\n",
    "# #     f.write(json.dumps(all_training_loss))\n",
    "# # with open(\"saved_0624/saved_losses/val_loss_all.json\", 'w') as f:\n",
    "# #     f.write(json.dumps(all_val_loss))"
   ]
  },
  {
   "cell_type": "code",
   "execution_count": 14,
   "metadata": {},
   "outputs": [
    {
     "data": {
      "text/plain": [
       "<All keys matched successfully>"
      ]
     },
     "execution_count": 14,
     "metadata": {},
     "output_type": "execute_result"
    }
   ],
   "source": [
    "model.load_state_dict(torch.load('saved_0624/model/saved_model_epoch_920.pth'))"
   ]
  },
  {
   "cell_type": "code",
   "execution_count": null,
   "metadata": {},
   "outputs": [],
   "source": []
  },
  {
   "cell_type": "code",
   "execution_count": 15,
   "metadata": {
    "scrolled": true
   },
   "outputs": [],
   "source": [
    "from collections import OrderedDict \n",
    "import json\n",
    "import pandas as pd\n",
    "\n",
    "last_hidden_states = []\n",
    "\n",
    "for x in range(1):\n",
    "    \n",
    "    for i in range(NUM_BATCHES):\n",
    "        model.eval()\n",
    "        with torch.no_grad():\n",
    "            tmp = next(train_loader)\n",
    "            input_ids = tmp['input_ids']\n",
    "            attention_mask = tmp['attention_mask']\n",
    "            labels = tmp['labels']\n",
    "            outputs = model(input_ids, attention_mask=attention_mask, labels=labels)\n",
    "#             print(outputs[2][2].shape)\n",
    "            last_hidden_states.append(torch.mean(outputs[2][2], 1).to('cpu'))"
   ]
  },
  {
   "cell_type": "code",
   "execution_count": 16,
   "metadata": {},
   "outputs": [],
   "source": [
    "last_hidden_states = torch.cat(last_hidden_states, 0)"
   ]
  },
  {
   "cell_type": "code",
   "execution_count": 17,
   "metadata": {},
   "outputs": [],
   "source": [
    "last_hidden_states = last_hidden_states.numpy()"
   ]
  },
  {
   "cell_type": "code",
   "execution_count": 29,
   "metadata": {},
   "outputs": [
    {
     "data": {
      "image/png": "[encoded data removed]",
      "text/plain": [
       "<Figure size 432x288 with 1 Axes>"
      ]
     },
     "metadata": {
      "needs_background": "light"
     },
     "output_type": "display_data"
    }
   ],
   "source": [
    "from sklearn.manifold import TSNE\n",
    "last_hidden_states_embedded = TSNE(n_components=2).fit_transform(last_hidden_states)\n",
    "import matplotlib.pyplot as plt\n",
    "fig = plt.figure()\n",
    "ax = fig.add_subplot(111)\n",
    "ax.scatter(last_hidden_states_embedded[:,0], last_hidden_states_embedded[:,1])\n",
    "plt.show()"
   ]
  },
  {
   "cell_type": "code",
   "execution_count": 30,
   "metadata": {},
   "outputs": [
    {
     "data": {
      "image/png": "[encoded data removed]",
      "text/plain": [
       "<Figure size 432x288 with 1 Axes>"
      ]
     },
     "metadata": {
      "needs_background": "light"
     },
     "output_type": "display_data"
    }
   ],
   "source": [
    "from sklearn.manifold import TSNE\n",
    "last_hidden_states_embedded = TSNE(n_components=3).fit_transform(last_hidden_states)\n",
    "import matplotlib.pyplot as plt\n",
    "fig = plt.figure()\n",
    "ax = fig.add_subplot(111, projection='3d')\n",
    "ax.scatter(last_hidden_states_embedded[:,0], last_hidden_states_embedded[:,1], last_hidden_states_embedded[:,2])\n",
    "plt.show()"
   ]
  },
  {
   "cell_type": "code",
   "execution_count": null,
   "metadata": {},
   "outputs": [],
   "source": []
  }
 ],
 "metadata": {
  "kernelspec": {
   "display_name": "Python 3",
   "language": "python",
   "name": "python3"
  },
  "language_info": {
   "codemirror_mode": {
    "name": "ipython",
    "version": 3
   },
   "file_extension": ".py",
   "mimetype": "text/x-python",
   "name": "python",
   "nbconvert_exporter": "python",
   "pygments_lexer": "ipython3",
   "version": "3.7.7"
  }
 },
 "nbformat": 4,
 "nbformat_minor": 4
}
