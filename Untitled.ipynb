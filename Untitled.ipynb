{
 "cells": [
  {
   "cell_type": "code",
   "execution_count": 1,
   "metadata": {},
   "outputs": [],
   "source": [
    "import torch\n",
    "import random\n",
    "import sentencepiece as spm\n",
    "from transformers import ReformerConfig, ReformerModelWithLMHead, ReformerTokenizer\n",
    "from torch.utils.data import DataLoader, Dataset\n",
    "\n",
    "NUM_BATCHES = None\n",
    "BATCH_SIZE = 6\n",
    "GRADIENT_ACCUMULATE_EVERY = 3\n",
    "LEARNING_RATE = 1e-4\n",
    "VALIDATE_EVERY  = 20\n",
    "GENERATE_EVERY  = 50\n",
    "GENERATE_LENGTH = 512\n",
    "SEQ_LEN = 24576"
   ]
  },
  {
   "cell_type": "code",
   "execution_count": 2,
   "metadata": {},
   "outputs": [],
   "source": [
    "spm.SentencePieceTrainer.Train(\"--input=./data/tokenizer_training/AAresiduals.txt \\\n",
    "                                --vocab_size=28 \\\n",
    "                                --model_prefix=sequence_tokenizer \\\n",
    "                                --model_type=char \\\n",
    "                                --character_coverage=1.0\")\n",
    "tokenizer = ReformerTokenizer(vocab_file=\"sequence_tokenizer.model\", do_lower_case=False, model_max_length=SEQ_LEN)"
   ]
  },
  {
   "cell_type": "code",
   "execution_count": 3,
   "metadata": {},
   "outputs": [],
   "source": [
    "# configuration = ReformerConfig.from_pretrained(\"google/reformer-crime-and-punishment\")\n",
    "# configuration.axial_pos_shape=(128, 192)\n",
    "# configuration.max_position_embeddings=SEQ_LEN\n",
    "# configuration.vocab_size=tokenizer.vocab_size\n",
    "# configuration.save_pretrained('model/config/')"
   ]
  },
  {
   "cell_type": "code",
   "execution_count": 4,
   "metadata": {},
   "outputs": [],
   "source": [
    "configuration = ReformerConfig.from_pretrained('model/config/')\n",
    "model = ReformerModelWithLMHead(configuration)"
   ]
  },
  {
   "cell_type": "code",
   "execution_count": 5,
   "metadata": {},
   "outputs": [],
   "source": [
    "# input_ids = torch.tensor(tokenizer.encode(\"ALKLAKALK\", \n",
    "#                                           add_special_tokens=True, \n",
    "#                                           max_length=SEQ_LEN, \n",
    "#                                           pad_to_max_length=True)).unsqueeze(0)  # Batch size 1"
   ]
  },
  {
   "cell_type": "code",
   "execution_count": 6,
   "metadata": {},
   "outputs": [],
   "source": [
    "# model.cuda()\n",
    "# outputs = model(input_ids.cuda(), labels=input_ids.cuda())\n",
    "# loss, prediction_scores = outputs[:2]"
   ]
  },
  {
   "cell_type": "code",
   "execution_count": 7,
   "metadata": {},
   "outputs": [],
   "source": [
    "def split_file(file,out1,out2,percentage=0.75,isShuffle=True,seed=42):\n",
    "    \"\"\"quora.com/How-can-split-a-text-file-randomly-in-75-and-25-and-create-two-output-file-in-python\n",
    "    \"\"\"\n",
    "    random.seed(seed)\n",
    "    with open(file, 'r',encoding=\"utf-8\") as fin, open(out1, 'w') as foutBig, open(out2, 'w') as foutSmall:\n",
    "        nLines = sum(1 for line in fin)\n",
    "        fin.seek(0)\n",
    "\n",
    "        nTrain = int(nLines*percentage) \n",
    "        nValid = nLines - nTrain\n",
    "\n",
    "        i = 0\n",
    "        for line in fin:\n",
    "            r = random.random() if isShuffle else 0 # so that always evaluated to true when not isShuffle\n",
    "            if (i < nTrain and r < percentage) or (nLines - i > nValid):\n",
    "                foutBig.write(line)\n",
    "                i += 1\n",
    "            else:\n",
    "                foutSmall.write(line)\n",
    "                \n",
    "split_file(\"data/yeast/yeast.txt\", \n",
    "           \"data/yeast/yeast_train.txt\",\n",
    "           \"data/yeast/yeast_val.txt\",\n",
    "           percentage=0.9)"
   ]
  },
  {
   "cell_type": "code",
   "execution_count": 8,
   "metadata": {},
   "outputs": [],
   "source": [
    "def cycle(loader):\n",
    "    while True:\n",
    "        for data in loader:\n",
    "            yield data"
   ]
  },
  {
   "cell_type": "code",
   "execution_count": 9,
   "metadata": {},
   "outputs": [],
   "source": [
    "class SequenceDataset(Dataset):\n",
    "    def __init__(self, inputs, tokenizer, _len):\n",
    "        super().__init__()\n",
    "        self.inputs = inputs\n",
    "        self.tokenizer = tokenizer\n",
    "        self._len = _len\n",
    "\n",
    "    @classmethod\n",
    "    def prepare_from_file(cls, file_path, tokenizer):\n",
    "        with open(file_path) as file:\n",
    "            X = [l.strip() for l in file]\n",
    "            X = [tokenizer.encode(sequence, \n",
    "                                  max_length=tokenizer.max_len, \n",
    "                                  add_special_tokens=True, \n",
    "                                  pad_to_max_length=True) for sequence in X]\n",
    "            X = [torch.tensor(sequence) for sequence in X]\n",
    "        inputs = torch.stack([X[i] for i in range(len(X))]).squeeze()\n",
    "        return cls(inputs, tokenizer, len(inputs))\n",
    "\n",
    "    def __getitem__(self, index):\n",
    "        return self.inputs[index, ].cuda()\n",
    "\n",
    "    def __len__(self):\n",
    "        return self._len"
   ]
  },
  {
   "cell_type": "code",
   "execution_count": 10,
   "metadata": {},
   "outputs": [],
   "source": [
    "train_dataset = SequenceDataset.prepare_from_file(\"data/yeast/yeast_train.txt\", tokenizer)\n",
    "val_dataset = SequenceDataset.prepare_from_file(\"data/yeast/yeast_val.txt\", tokenizer)"
   ]
  },
  {
   "cell_type": "code",
   "execution_count": 11,
   "metadata": {},
   "outputs": [],
   "source": [
    "train_loader = cycle(DataLoader(train_dataset, batch_size=BATCH_SIZE))\n",
    "val_loader = cycle(DataLoader(val_dataset, batch_size=BATCH_SIZE))"
   ]
  },
  {
   "cell_type": "code",
   "execution_count": 12,
   "metadata": {},
   "outputs": [
    {
     "data": {
      "text/plain": [
       "(tensor([[ 0, 14,  3,  ...,  0,  0,  0],\n",
       "         [ 0, 14, 26,  ...,  0,  0,  0],\n",
       "         [ 0, 14, 20,  ...,  0,  0,  0],\n",
       "         [ 0, 14, 15,  ...,  0,  0,  0],\n",
       "         [ 0, 14, 10,  ...,  0,  0,  0],\n",
       "         [ 0, 14, 11,  ...,  0,  0,  0]], device='cuda:0'),\n",
       " tensor([[ 0, 14,  6,  ...,  0,  0,  0],\n",
       "         [ 0, 14, 12,  ...,  0,  0,  0],\n",
       "         [ 0, 14, 20,  ...,  0,  0,  0],\n",
       "         [ 0, 14, 12,  ...,  0,  0,  0],\n",
       "         [ 0, 14, 23,  ...,  0,  0,  0],\n",
       "         [ 0, 14, 20,  ...,  0,  0,  0]], device='cuda:0'))"
      ]
     },
     "execution_count": 12,
     "metadata": {},
     "output_type": "execute_result"
    }
   ],
   "source": [
    "next(train_loader), next(val_loader)"
   ]
  },
  {
   "cell_type": "code",
   "execution_count": 13,
   "metadata": {},
   "outputs": [
    {
     "data": {
      "text/plain": [
       "(5444, 605)"
      ]
     },
     "execution_count": 13,
     "metadata": {},
     "output_type": "execute_result"
    }
   ],
   "source": [
    "len(train_dataset), len(val_dataset)"
   ]
  },
  {
   "cell_type": "code",
   "execution_count": 14,
   "metadata": {},
   "outputs": [],
   "source": [
    "from transformers import AdamW\n",
    "from torch.nn import CrossEntropyLoss\n",
    "\n",
    "optimizer = AdamW(params=model.parameters(), lr=LEARNING_RATE)\n",
    "\n",
    "NUM_BATCHES = len(train_dataset)//BATCH_SIZE"
   ]
  },
  {
   "cell_type": "code",
   "execution_count": null,
   "metadata": {},
   "outputs": [],
   "source": []
  },
  {
   "cell_type": "code",
   "execution_count": 15,
   "metadata": {},
   "outputs": [
    {
     "data": {
      "text/plain": [
       "ReformerModelWithLMHead(\n",
       "  (reformer): ReformerModel(\n",
       "    (embeddings): ReformerEmbeddings(\n",
       "      (word_embeddings): Embedding(28, 256)\n",
       "      (position_embeddings): AxialPositionEmbeddings(\n",
       "        (weights): ParameterList(\n",
       "            (0): Parameter containing: [torch.cuda.FloatTensor of size 128x1x64 (GPU 0)]\n",
       "            (1): Parameter containing: [torch.cuda.FloatTensor of size 1x192x192 (GPU 0)]\n",
       "        )\n",
       "      )\n",
       "    )\n",
       "    (encoder): ReformerEncoder(\n",
       "      (layers): ModuleList(\n",
       "        (0): ReformerLayer(\n",
       "          (attention): ReformerAttention(\n",
       "            (layer_norm): LayerNorm((256,), eps=1e-12, elementwise_affine=True)\n",
       "            (self_attention): LocalSelfAttention(\n",
       "              (query): Linear(in_features=256, out_features=128, bias=False)\n",
       "              (key): Linear(in_features=256, out_features=128, bias=False)\n",
       "              (value): Linear(in_features=256, out_features=128, bias=False)\n",
       "            )\n",
       "            (output): ReformerSelfOutput(\n",
       "              (dense): Linear(in_features=128, out_features=256, bias=False)\n",
       "            )\n",
       "          )\n",
       "          (feed_forward): ChunkReformerFeedForward(\n",
       "            (layer_norm): LayerNorm((256,), eps=1e-12, elementwise_affine=True)\n",
       "            (dense): ReformerFeedForwardDense(\n",
       "              (dense): Linear(in_features=256, out_features=512, bias=True)\n",
       "            )\n",
       "            (output): ReformerFeedForwardOutput(\n",
       "              (dense): Linear(in_features=512, out_features=256, bias=True)\n",
       "            )\n",
       "          )\n",
       "        )\n",
       "        (1): ReformerLayer(\n",
       "          (attention): ReformerAttention(\n",
       "            (layer_norm): LayerNorm((256,), eps=1e-12, elementwise_affine=True)\n",
       "            (self_attention): LSHSelfAttention(\n",
       "              (query_key): Linear(in_features=256, out_features=128, bias=False)\n",
       "              (value): Linear(in_features=256, out_features=128, bias=False)\n",
       "            )\n",
       "            (output): ReformerSelfOutput(\n",
       "              (dense): Linear(in_features=128, out_features=256, bias=False)\n",
       "            )\n",
       "          )\n",
       "          (feed_forward): ChunkReformerFeedForward(\n",
       "            (layer_norm): LayerNorm((256,), eps=1e-12, elementwise_affine=True)\n",
       "            (dense): ReformerFeedForwardDense(\n",
       "              (dense): Linear(in_features=256, out_features=512, bias=True)\n",
       "            )\n",
       "            (output): ReformerFeedForwardOutput(\n",
       "              (dense): Linear(in_features=512, out_features=256, bias=True)\n",
       "            )\n",
       "          )\n",
       "        )\n",
       "        (2): ReformerLayer(\n",
       "          (attention): ReformerAttention(\n",
       "            (layer_norm): LayerNorm((256,), eps=1e-12, elementwise_affine=True)\n",
       "            (self_attention): LocalSelfAttention(\n",
       "              (query): Linear(in_features=256, out_features=128, bias=False)\n",
       "              (key): Linear(in_features=256, out_features=128, bias=False)\n",
       "              (value): Linear(in_features=256, out_features=128, bias=False)\n",
       "            )\n",
       "            (output): ReformerSelfOutput(\n",
       "              (dense): Linear(in_features=128, out_features=256, bias=False)\n",
       "            )\n",
       "          )\n",
       "          (feed_forward): ChunkReformerFeedForward(\n",
       "            (layer_norm): LayerNorm((256,), eps=1e-12, elementwise_affine=True)\n",
       "            (dense): ReformerFeedForwardDense(\n",
       "              (dense): Linear(in_features=256, out_features=512, bias=True)\n",
       "            )\n",
       "            (output): ReformerFeedForwardOutput(\n",
       "              (dense): Linear(in_features=512, out_features=256, bias=True)\n",
       "            )\n",
       "          )\n",
       "        )\n",
       "        (3): ReformerLayer(\n",
       "          (attention): ReformerAttention(\n",
       "            (layer_norm): LayerNorm((256,), eps=1e-12, elementwise_affine=True)\n",
       "            (self_attention): LSHSelfAttention(\n",
       "              (query_key): Linear(in_features=256, out_features=128, bias=False)\n",
       "              (value): Linear(in_features=256, out_features=128, bias=False)\n",
       "            )\n",
       "            (output): ReformerSelfOutput(\n",
       "              (dense): Linear(in_features=128, out_features=256, bias=False)\n",
       "            )\n",
       "          )\n",
       "          (feed_forward): ChunkReformerFeedForward(\n",
       "            (layer_norm): LayerNorm((256,), eps=1e-12, elementwise_affine=True)\n",
       "            (dense): ReformerFeedForwardDense(\n",
       "              (dense): Linear(in_features=256, out_features=512, bias=True)\n",
       "            )\n",
       "            (output): ReformerFeedForwardOutput(\n",
       "              (dense): Linear(in_features=512, out_features=256, bias=True)\n",
       "            )\n",
       "          )\n",
       "        )\n",
       "        (4): ReformerLayer(\n",
       "          (attention): ReformerAttention(\n",
       "            (layer_norm): LayerNorm((256,), eps=1e-12, elementwise_affine=True)\n",
       "            (self_attention): LocalSelfAttention(\n",
       "              (query): Linear(in_features=256, out_features=128, bias=False)\n",
       "              (key): Linear(in_features=256, out_features=128, bias=False)\n",
       "              (value): Linear(in_features=256, out_features=128, bias=False)\n",
       "            )\n",
       "            (output): ReformerSelfOutput(\n",
       "              (dense): Linear(in_features=128, out_features=256, bias=False)\n",
       "            )\n",
       "          )\n",
       "          (feed_forward): ChunkReformerFeedForward(\n",
       "            (layer_norm): LayerNorm((256,), eps=1e-12, elementwise_affine=True)\n",
       "            (dense): ReformerFeedForwardDense(\n",
       "              (dense): Linear(in_features=256, out_features=512, bias=True)\n",
       "            )\n",
       "            (output): ReformerFeedForwardOutput(\n",
       "              (dense): Linear(in_features=512, out_features=256, bias=True)\n",
       "            )\n",
       "          )\n",
       "        )\n",
       "        (5): ReformerLayer(\n",
       "          (attention): ReformerAttention(\n",
       "            (layer_norm): LayerNorm((256,), eps=1e-12, elementwise_affine=True)\n",
       "            (self_attention): LSHSelfAttention(\n",
       "              (query_key): Linear(in_features=256, out_features=128, bias=False)\n",
       "              (value): Linear(in_features=256, out_features=128, bias=False)\n",
       "            )\n",
       "            (output): ReformerSelfOutput(\n",
       "              (dense): Linear(in_features=128, out_features=256, bias=False)\n",
       "            )\n",
       "          )\n",
       "          (feed_forward): ChunkReformerFeedForward(\n",
       "            (layer_norm): LayerNorm((256,), eps=1e-12, elementwise_affine=True)\n",
       "            (dense): ReformerFeedForwardDense(\n",
       "              (dense): Linear(in_features=256, out_features=512, bias=True)\n",
       "            )\n",
       "            (output): ReformerFeedForwardOutput(\n",
       "              (dense): Linear(in_features=512, out_features=256, bias=True)\n",
       "            )\n",
       "          )\n",
       "        )\n",
       "      )\n",
       "      (layer_norm): LayerNorm((512,), eps=1e-12, elementwise_affine=True)\n",
       "    )\n",
       "  )\n",
       "  (lm_head): ReformerOnlyLMHead(\n",
       "    (decoder): Linear(in_features=512, out_features=28, bias=True)\n",
       "  )\n",
       ")"
      ]
     },
     "execution_count": 15,
     "metadata": {},
     "output_type": "execute_result"
    }
   ],
   "source": [
    "model.cuda()"
   ]
  },
  {
   "cell_type": "code",
   "execution_count": 16,
   "metadata": {
    "scrolled": true
   },
   "outputs": [
    {
     "name": "stderr",
     "output_type": "stream",
     "text": [
      "\r",
      "training:   0%|                                                                                                                                  | 0/907 [00:00<?, ?it/s]"
     ]
    },
    {
     "name": "stdout",
     "output_type": "stream",
     "text": [
      "training loss: 3.415182113647461\n",
      "validation loss: 3.25498628616333\n",
      "training loss: 3.1905267238616943\n"
     ]
    },
    {
     "name": "stderr",
     "output_type": "stream",
     "text": [
      "\r",
      "training:   0%|▍                                                                                                                         | 3/907 [00:10<53:09,  3.53s/it]"
     ]
    },
    {
     "name": "stdout",
     "output_type": "stream",
     "text": [
      "training loss: 2.984243869781494\n",
      "training loss: 2.7950422763824463\n",
      "training loss: 2.6422574520111084\n"
     ]
    },
    {
     "name": "stderr",
     "output_type": "stream",
     "text": [
      "\r",
      "training:   1%|▊                                                                                                                         | 6/907 [00:20<52:13,  3.48s/it]"
     ]
    },
    {
     "name": "stdout",
     "output_type": "stream",
     "text": [
      "training loss: 2.5364983081817627\n",
      "training loss: 2.3368968963623047\n",
      "training loss: 2.1750779151916504\n"
     ]
    },
    {
     "name": "stderr",
     "output_type": "stream",
     "text": [
      "\r",
      "training:   1%|█▏                                                                                                                        | 9/907 [00:30<51:31,  3.44s/it]"
     ]
    },
    {
     "name": "stdout",
     "output_type": "stream",
     "text": [
      "training loss: 2.0151383876800537\n",
      "training loss: 1.903231143951416\n",
      "training loss: 1.7333574295043945\n"
     ]
    },
    {
     "name": "stderr",
     "output_type": "stream",
     "text": [
      "\r",
      "training:   1%|█▌                                                                                                                       | 12/907 [00:40<51:03,  3.42s/it]"
     ]
    },
    {
     "name": "stdout",
     "output_type": "stream",
     "text": [
      "training loss: 1.5768060684204102\n",
      "training loss: 1.4650559425354004\n",
      "training loss: 1.3049408197402954\n"
     ]
    },
    {
     "name": "stderr",
     "output_type": "stream",
     "text": [
      "\r",
      "training:   2%|██                                                                                                                       | 15/907 [00:51<50:42,  3.41s/it]"
     ]
    },
    {
     "name": "stdout",
     "output_type": "stream",
     "text": [
      "training loss: 1.1829488277435303\n",
      "training loss: 1.0360374450683594\n",
      "training loss: 1.0044329166412354\n"
     ]
    },
    {
     "name": "stderr",
     "output_type": "stream",
     "text": [
      "\r",
      "training:   2%|██▍                                                                                                                      | 18/907 [01:01<50:22,  3.40s/it]"
     ]
    },
    {
     "name": "stdout",
     "output_type": "stream",
     "text": [
      "training loss: 0.8263130187988281\n",
      "training loss: 0.625495195388794\n",
      "training loss: 0.6728411912918091\n",
      "training loss: 0.4373031556606293\n"
     ]
    },
    {
     "name": "stderr",
     "output_type": "stream",
     "text": [
      "\r",
      "training:   2%|██▊                                                                                                                      | 21/907 [01:11<50:29,  3.42s/it]"
     ]
    },
    {
     "name": "stdout",
     "output_type": "stream",
     "text": [
      "validation loss: 0.40881702303886414\n",
      "training loss: 0.37705838680267334\n",
      "training loss: 0.3208352327346802\n"
     ]
    },
    {
     "name": "stderr",
     "output_type": "stream",
     "text": [
      "\r",
      "training:   3%|███▏                                                                                                                     | 24/907 [01:21<50:06,  3.40s/it]"
     ]
    },
    {
     "name": "stdout",
     "output_type": "stream",
     "text": [
      "training loss: 0.38837361335754395\n",
      "training loss: 0.2038479447364807\n",
      "training loss: 0.17214249074459076\n"
     ]
    },
    {
     "name": "stderr",
     "output_type": "stream",
     "text": [
      "\r",
      "training:   3%|███▌                                                                                                                     | 27/907 [01:31<49:46,  3.39s/it]"
     ]
    },
    {
     "name": "stdout",
     "output_type": "stream",
     "text": [
      "training loss: 0.2065591812133789\n",
      "training loss: 0.09774124622344971\n",
      "training loss: 0.11031652241945267\n"
     ]
    },
    {
     "name": "stderr",
     "output_type": "stream",
     "text": [
      "\r",
      "training:   3%|████                                                                                                                     | 30/907 [01:41<49:28,  3.39s/it]"
     ]
    },
    {
     "name": "stdout",
     "output_type": "stream",
     "text": [
      "training loss: 0.12114151567220688\n",
      "training loss: 0.24084527790546417\n",
      "training loss: 0.2678217887878418\n"
     ]
    },
    {
     "name": "stderr",
     "output_type": "stream",
     "text": [
      "\r",
      "training:   4%|████▍                                                                                                                    | 33/907 [01:51<49:15,  3.38s/it]"
     ]
    },
    {
     "name": "stdout",
     "output_type": "stream",
     "text": [
      "training loss: 0.272189736366272\n",
      "training loss: 0.2389449030160904\n",
      "training loss: 0.10218578577041626\n"
     ]
    },
    {
     "name": "stderr",
     "output_type": "stream",
     "text": [
      "\r",
      "training:   4%|████▊                                                                                                                    | 36/907 [02:02<49:08,  3.39s/it]"
     ]
    },
    {
     "name": "stdout",
     "output_type": "stream",
     "text": [
      "training loss: 0.19721095263957977\n",
      "training loss: 0.22316300868988037\n",
      "training loss: 0.09984390437602997\n"
     ]
    },
    {
     "name": "stderr",
     "output_type": "stream",
     "text": [
      "\r",
      "training:   4%|█████▏                                                                                                                   | 39/907 [02:12<48:57,  3.38s/it]"
     ]
    },
    {
     "name": "stdout",
     "output_type": "stream",
     "text": [
      "training loss: 0.19583845138549805\n",
      "training loss: 0.14737698435783386\n",
      "training loss: 0.14421579241752625\n",
      "validation loss: 0.20215922594070435\n"
     ]
    },
    {
     "name": "stderr",
     "output_type": "stream",
     "text": [
      "\r",
      "training:   5%|█████▌                                                                                                                   | 42/907 [02:22<49:08,  3.41s/it]"
     ]
    },
    {
     "name": "stdout",
     "output_type": "stream",
     "text": [
      "training loss: 0.14634400606155396\n",
      "training loss: 0.32921627163887024\n",
      "training loss: 0.211281880736351\n"
     ]
    },
    {
     "name": "stderr",
     "output_type": "stream",
     "text": [
      "\r",
      "training:   5%|██████                                                                                                                   | 45/907 [02:32<48:48,  3.40s/it]"
     ]
    },
    {
     "name": "stdout",
     "output_type": "stream",
     "text": [
      "training loss: 0.10612472146749496\n",
      "training loss: 0.2071407586336136\n",
      "training loss: 0.16467268764972687\n"
     ]
    },
    {
     "name": "stderr",
     "output_type": "stream",
     "text": [
      "\r",
      "training:   5%|██████▍                                                                                                                  | 48/907 [02:42<48:30,  3.39s/it]"
     ]
    },
    {
     "name": "stdout",
     "output_type": "stream",
     "text": [
      "training loss: 0.2078443169593811\n",
      "training loss: 0.1727721095085144\n",
      "training loss: 0.1282343715429306\n"
     ]
    },
    {
     "name": "stderr",
     "output_type": "stream",
     "text": [
      "\r",
      "training:   6%|██████▊                                                                                                                  | 51/907 [02:53<48:14,  3.38s/it]"
     ]
    },
    {
     "name": "stdout",
     "output_type": "stream",
     "text": [
      "training loss: 0.11701738089323044\n",
      "training loss: 0.10800930857658386\n",
      "training loss: 0.1391645073890686\n"
     ]
    },
    {
     "name": "stderr",
     "output_type": "stream",
     "text": [
      "\r",
      "training:   6%|███████▏                                                                                                                 | 54/907 [03:03<48:00,  3.38s/it]"
     ]
    },
    {
     "name": "stdout",
     "output_type": "stream",
     "text": [
      "training loss: 0.19350308179855347\n",
      "training loss: 0.11506608128547668\n",
      "training loss: 0.12521225214004517\n"
     ]
    },
    {
     "name": "stderr",
     "output_type": "stream",
     "text": [
      "\r",
      "training:   6%|███████▌                                                                                                                 | 57/907 [03:13<47:49,  3.38s/it]"
     ]
    },
    {
     "name": "stdout",
     "output_type": "stream",
     "text": [
      "training loss: 0.09514007717370987\n",
      "training loss: 0.10598386079072952\n",
      "training loss: 0.20461292564868927\n"
     ]
    },
    {
     "name": "stderr",
     "output_type": "stream",
     "text": [
      "\r",
      "training:   7%|████████                                                                                                                 | 60/907 [03:23<47:41,  3.38s/it]"
     ]
    },
    {
     "name": "stdout",
     "output_type": "stream",
     "text": [
      "training loss: 0.11109176278114319\n",
      "training loss: 0.08375932276248932\n",
      "validation loss: 0.08753838390111923\n",
      "training loss: 0.08387809991836548\n"
     ]
    },
    {
     "name": "stderr",
     "output_type": "stream",
     "text": [
      "\r",
      "training:   7%|████████▍                                                                                                                | 63/907 [03:33<47:57,  3.41s/it]"
     ]
    },
    {
     "name": "stdout",
     "output_type": "stream",
     "text": [
      "training loss: 0.15372444689273834\n",
      "training loss: 0.06937780976295471\n",
      "training loss: 0.10831975191831589\n"
     ]
    },
    {
     "name": "stderr",
     "output_type": "stream",
     "text": [
      "\r",
      "training:   7%|████████▊                                                                                                                | 66/907 [03:43<47:37,  3.40s/it]"
     ]
    },
    {
     "name": "stdout",
     "output_type": "stream",
     "text": [
      "training loss: 0.09385103732347488\n",
      "training loss: 0.10155728459358215\n",
      "training loss: 0.06715381145477295\n"
     ]
    },
    {
     "name": "stderr",
     "output_type": "stream",
     "text": [
      "\r",
      "training:   8%|█████████▏                                                                                                               | 69/907 [03:54<47:22,  3.39s/it]"
     ]
    },
    {
     "name": "stdout",
     "output_type": "stream",
     "text": [
      "training loss: 0.1440684199333191\n",
      "training loss: 0.1433064341545105\n",
      "training loss: 0.13345873355865479\n"
     ]
    },
    {
     "name": "stderr",
     "output_type": "stream",
     "text": [
      "\r",
      "training:   8%|█████████▌                                                                                                               | 72/907 [04:04<47:18,  3.40s/it]"
     ]
    },
    {
     "name": "stdout",
     "output_type": "stream",
     "text": [
      "training loss: 0.12094171345233917\n",
      "training loss: 0.18851135671138763\n",
      "training loss: 0.07278772443532944\n"
     ]
    },
    {
     "name": "stderr",
     "output_type": "stream",
     "text": [
      "\r",
      "training:   8%|██████████                                                                                                               | 75/907 [04:14<47:03,  3.39s/it]"
     ]
    },
    {
     "name": "stdout",
     "output_type": "stream",
     "text": [
      "training loss: 0.13861168920993805\n",
      "training loss: 0.06440434604883194\n",
      "training loss: 0.10166709125041962\n"
     ]
    },
    {
     "name": "stderr",
     "output_type": "stream",
     "text": [
      "\r",
      "training:   9%|██████████▍                                                                                                              | 78/907 [04:24<46:46,  3.39s/it]"
     ]
    },
    {
     "name": "stdout",
     "output_type": "stream",
     "text": [
      "training loss: 0.1053539365530014\n",
      "training loss: 0.11536230146884918\n",
      "training loss: 0.08425778895616531\n",
      "training loss: 0.05772557854652405\n"
     ]
    },
    {
     "name": "stderr",
     "output_type": "stream",
     "text": [
      "\r",
      "training:   9%|██████████▊                                                                                                              | 81/907 [04:34<46:57,  3.41s/it]"
     ]
    },
    {
     "name": "stdout",
     "output_type": "stream",
     "text": [
      "validation loss: 0.12106866389513016\n",
      "training loss: 0.16715319454669952\n",
      "training loss: 0.08723653107881546\n"
     ]
    },
    {
     "name": "stderr",
     "output_type": "stream",
     "text": [
      "\r",
      "training:   9%|███████████▏                                                                                                             | 84/907 [04:45<46:40,  3.40s/it]"
     ]
    },
    {
     "name": "stdout",
     "output_type": "stream",
     "text": [
      "training loss: 0.06477591395378113\n",
      "training loss: 0.08237913995981216\n",
      "training loss: 0.154417484998703\n"
     ]
    },
    {
     "name": "stderr",
     "output_type": "stream",
     "text": [
      "\r",
      "training:  10%|███████████▌                                                                                                             | 87/907 [04:55<46:23,  3.40s/it]"
     ]
    },
    {
     "name": "stdout",
     "output_type": "stream",
     "text": [
      "training loss: 0.09164154529571533\n",
      "training loss: 0.09844108670949936\n",
      "training loss: 0.0830579325556755\n"
     ]
    },
    {
     "name": "stderr",
     "output_type": "stream",
     "text": [
      "\r",
      "training:  10%|████████████                                                                                                             | 90/907 [05:05<46:08,  3.39s/it]"
     ]
    },
    {
     "name": "stdout",
     "output_type": "stream",
     "text": [
      "training loss: 0.09404442459344864\n",
      "training loss: 0.07912231981754303\n",
      "training loss: 0.0864378958940506\n"
     ]
    },
    {
     "name": "stderr",
     "output_type": "stream",
     "text": [
      "\r",
      "training:  10%|████████████▍                                                                                                            | 93/907 [05:15<45:53,  3.38s/it]"
     ]
    },
    {
     "name": "stdout",
     "output_type": "stream",
     "text": [
      "training loss: 0.07330195605754852\n",
      "training loss: 0.14693902432918549\n",
      "training loss: 0.1546115279197693\n"
     ]
    },
    {
     "name": "stderr",
     "output_type": "stream",
     "text": [
      "\r",
      "training:  11%|████████████▊                                                                                                            | 96/907 [05:25<45:39,  3.38s/it]"
     ]
    },
    {
     "name": "stdout",
     "output_type": "stream",
     "text": [
      "training loss: 0.13581416010856628\n",
      "training loss: 0.05693134292960167\n",
      "training loss: 0.08377066999673843\n"
     ]
    },
    {
     "name": "stderr",
     "output_type": "stream",
     "text": [
      "\r",
      "training:  11%|█████████████▏                                                                                                           | 99/907 [05:35<45:26,  3.37s/it]"
     ]
    },
    {
     "name": "stdout",
     "output_type": "stream",
     "text": [
      "training loss: 0.06403832882642746\n",
      "training loss: 0.06057371199131012\n",
      "training loss: 0.056324250996112823\n",
      "validation loss: 0.11256010830402374\n"
     ]
    },
    {
     "name": "stderr",
     "output_type": "stream",
     "text": [
      "\r",
      "training:  11%|█████████████▍                                                                                                          | 102/907 [05:46<45:37,  3.40s/it]"
     ]
    },
    {
     "name": "stdout",
     "output_type": "stream",
     "text": [
      "training loss: 0.05284120514988899\n",
      "training loss: 0.07848445326089859\n",
      "training loss: 0.05380148068070412\n"
     ]
    },
    {
     "name": "stderr",
     "output_type": "stream",
     "text": [
      "\r",
      "training:  12%|█████████████▉                                                                                                          | 105/907 [05:56<45:24,  3.40s/it]"
     ]
    },
    {
     "name": "stdout",
     "output_type": "stream",
     "text": [
      "training loss: 0.04793526977300644\n",
      "training loss: 0.10387643426656723\n",
      "training loss: 0.0628696009516716\n"
     ]
    },
    {
     "name": "stderr",
     "output_type": "stream",
     "text": [
      "\r",
      "training:  12%|██████████████▎                                                                                                         | 108/907 [06:06<45:11,  3.39s/it]"
     ]
    },
    {
     "name": "stdout",
     "output_type": "stream",
     "text": [
      "training loss: 0.0604732409119606\n",
      "training loss: 0.05847280099987984\n",
      "training loss: 0.07922787964344025\n"
     ]
    },
    {
     "name": "stderr",
     "output_type": "stream",
     "text": [
      "\r",
      "training:  12%|██████████████▋                                                                                                         | 111/907 [06:16<44:56,  3.39s/it]"
     ]
    },
    {
     "name": "stdout",
     "output_type": "stream",
     "text": [
      "training loss: 0.07228385657072067\n",
      "training loss: 0.08338803052902222\n",
      "training loss: 0.059296850115060806\n"
     ]
    },
    {
     "name": "stderr",
     "output_type": "stream",
     "text": [
      "\r",
      "training:  13%|███████████████                                                                                                         | 114/907 [06:26<44:42,  3.38s/it]"
     ]
    },
    {
     "name": "stdout",
     "output_type": "stream",
     "text": [
      "training loss: 0.07207285612821579\n",
      "training loss: 0.06271497160196304\n",
      "training loss: 0.052956078201532364\n"
     ]
    },
    {
     "name": "stderr",
     "output_type": "stream",
     "text": [
      "\r",
      "training:  13%|███████████████▍                                                                                                        | 117/907 [06:36<44:29,  3.38s/it]"
     ]
    },
    {
     "name": "stdout",
     "output_type": "stream",
     "text": [
      "training loss: 0.06386356800794601\n",
      "training loss: 0.055031441152095795\n",
      "training loss: 0.034567542374134064\n"
     ]
    },
    {
     "name": "stderr",
     "output_type": "stream",
     "text": [
      "\r",
      "training:  13%|███████████████▉                                                                                                        | 120/907 [06:46<44:16,  3.38s/it]"
     ]
    },
    {
     "name": "stdout",
     "output_type": "stream",
     "text": [
      "training loss: 0.06306621432304382\n",
      "training loss: 0.046875908970832825\n",
      "validation loss: 0.05783437564969063\n",
      "training loss: 0.07380910217761993\n"
     ]
    },
    {
     "name": "stderr",
     "output_type": "stream",
     "text": [
      "\r",
      "training:  14%|████████████████▎                                                                                                       | 123/907 [06:57<44:26,  3.40s/it]"
     ]
    },
    {
     "name": "stdout",
     "output_type": "stream",
     "text": [
      "training loss: 0.055837053805589676\n",
      "training loss: 0.0922764241695404\n",
      "training loss: 0.06727953255176544\n"
     ]
    },
    {
     "name": "stderr",
     "output_type": "stream",
     "text": [
      "\r",
      "training:  14%|████████████████▋                                                                                                       | 126/907 [07:07<44:07,  3.39s/it]"
     ]
    },
    {
     "name": "stdout",
     "output_type": "stream",
     "text": [
      "training loss: 0.05167859420180321\n",
      "training loss: 0.052942097187042236\n",
      "training loss: 0.05080070346593857\n"
     ]
    },
    {
     "name": "stderr",
     "output_type": "stream",
     "text": [
      "\r",
      "training:  14%|█████████████████                                                                                                       | 129/907 [07:17<43:55,  3.39s/it]"
     ]
    },
    {
     "name": "stdout",
     "output_type": "stream",
     "text": [
      "training loss: 0.050297897309064865\n",
      "training loss: 0.17143501341342926\n",
      "training loss: 0.06985819339752197\n"
     ]
    },
    {
     "name": "stderr",
     "output_type": "stream",
     "text": [
      "\r",
      "training:  15%|█████████████████▍                                                                                                      | 132/907 [07:27<43:44,  3.39s/it]"
     ]
    },
    {
     "name": "stdout",
     "output_type": "stream",
     "text": [
      "training loss: 0.06975625455379486\n",
      "training loss: 0.04951460286974907\n",
      "training loss: 0.05490691587328911\n"
     ]
    },
    {
     "name": "stderr",
     "output_type": "stream",
     "text": [
      "\r",
      "training:  15%|█████████████████▊                                                                                                      | 135/907 [07:37<43:31,  3.38s/it]"
     ]
    },
    {
     "name": "stdout",
     "output_type": "stream",
     "text": [
      "training loss: 0.06657347828149796\n",
      "training loss: 0.04319703206419945\n",
      "training loss: 0.07550621032714844\n"
     ]
    },
    {
     "name": "stderr",
     "output_type": "stream",
     "text": [
      "\r",
      "training:  15%|██████████████████▎                                                                                                     | 138/907 [07:47<43:18,  3.38s/it]"
     ]
    },
    {
     "name": "stdout",
     "output_type": "stream",
     "text": [
      "training loss: 0.06988628953695297\n",
      "training loss: 0.078358493745327\n",
      "training loss: 0.1119714081287384\n",
      "training loss: 0.03031752072274685\n"
     ]
    },
    {
     "name": "stderr",
     "output_type": "stream",
     "text": [
      "\r",
      "training:  16%|██████████████████▋                                                                                                     | 141/907 [07:58<43:29,  3.41s/it]"
     ]
    },
    {
     "name": "stdout",
     "output_type": "stream",
     "text": [
      "validation loss: 0.07002123445272446\n",
      "training loss: 0.0683242678642273\n",
      "training loss: 0.06856662780046463\n"
     ]
    },
    {
     "name": "stderr",
     "output_type": "stream",
     "text": [
      "\r",
      "training:  16%|███████████████████                                                                                                     | 144/907 [08:08<43:10,  3.40s/it]"
     ]
    },
    {
     "name": "stdout",
     "output_type": "stream",
     "text": [
      "training loss: 0.07060953974723816\n",
      "training loss: 0.11291681230068207\n",
      "training loss: 0.040532127022743225\n"
     ]
    },
    {
     "name": "stderr",
     "output_type": "stream",
     "text": [
      "\r",
      "training:  16%|███████████████████▍                                                                                                    | 147/907 [08:18<42:53,  3.39s/it]"
     ]
    },
    {
     "name": "stdout",
     "output_type": "stream",
     "text": [
      "training loss: 0.049263566732406616\n",
      "training loss: 0.06680973619222641\n",
      "training loss: 0.05237019434571266\n"
     ]
    },
    {
     "name": "stderr",
     "output_type": "stream",
     "text": [
      "\r",
      "training:  17%|███████████████████▊                                                                                                    | 150/907 [08:28<42:40,  3.38s/it]"
     ]
    },
    {
     "name": "stdout",
     "output_type": "stream",
     "text": [
      "training loss: 0.049179404973983765\n",
      "training loss: 0.043884266167879105\n",
      "training loss: 0.046656932681798935\n"
     ]
    },
    {
     "name": "stderr",
     "output_type": "stream",
     "text": [
      "\r",
      "training:  17%|████████████████████▏                                                                                                   | 153/907 [08:38<42:30,  3.38s/it]"
     ]
    },
    {
     "name": "stdout",
     "output_type": "stream",
     "text": [
      "training loss: 0.04414438456296921\n",
      "training loss: 0.037927862256765366\n",
      "training loss: 0.06539441645145416\n"
     ]
    },
    {
     "name": "stderr",
     "output_type": "stream",
     "text": [
      "\r",
      "training:  17%|████████████████████▋                                                                                                   | 156/907 [08:48<42:19,  3.38s/it]"
     ]
    },
    {
     "name": "stdout",
     "output_type": "stream",
     "text": [
      "training loss: 0.05347999557852745\n",
      "training loss: 0.07087817788124084\n",
      "training loss: 0.07373170554637909\n"
     ]
    },
    {
     "name": "stderr",
     "output_type": "stream",
     "text": [
      "\r",
      "training:  18%|█████████████████████                                                                                                   | 159/907 [08:59<42:08,  3.38s/it]"
     ]
    },
    {
     "name": "stdout",
     "output_type": "stream",
     "text": [
      "training loss: 0.11611182987689972\n",
      "training loss: 0.049404487013816833\n",
      "training loss: 0.045435789972543716\n",
      "validation loss: 0.08426174521446228\n"
     ]
    },
    {
     "name": "stderr",
     "output_type": "stream",
     "text": [
      "\r",
      "training:  18%|█████████████████████▍                                                                                                  | 162/907 [09:09<42:16,  3.40s/it]"
     ]
    },
    {
     "name": "stdout",
     "output_type": "stream",
     "text": [
      "training loss: 0.061986710876226425\n",
      "training loss: 0.0769907757639885\n",
      "training loss: 0.05980948358774185\n"
     ]
    },
    {
     "name": "stderr",
     "output_type": "stream",
     "text": [
      "\r",
      "training:  18%|█████████████████████▊                                                                                                  | 165/907 [09:19<41:57,  3.39s/it]"
     ]
    },
    {
     "name": "stdout",
     "output_type": "stream",
     "text": [
      "training loss: 0.03623552992939949\n",
      "training loss: 0.06018418073654175\n",
      "training loss: 0.10486136376857758\n"
     ]
    },
    {
     "name": "stderr",
     "output_type": "stream",
     "text": [
      "\r",
      "training:  19%|██████████████████████▏                                                                                                 | 168/907 [09:29<41:41,  3.39s/it]"
     ]
    },
    {
     "name": "stdout",
     "output_type": "stream",
     "text": [
      "training loss: 0.07816479355096817\n",
      "training loss: 0.061005447059869766\n",
      "training loss: 0.049415502697229385\n"
     ]
    },
    {
     "name": "stderr",
     "output_type": "stream",
     "text": [
      "\r",
      "training:  19%|██████████████████████▌                                                                                                 | 171/907 [09:39<41:27,  3.38s/it]"
     ]
    },
    {
     "name": "stdout",
     "output_type": "stream",
     "text": [
      "training loss: 0.07894298434257507\n",
      "training loss: 0.04025472328066826\n",
      "training loss: 0.041178423911333084\n"
     ]
    },
    {
     "name": "stderr",
     "output_type": "stream",
     "text": [
      "\r",
      "training:  19%|███████████████████████                                                                                                 | 174/907 [09:49<41:14,  3.38s/it]"
     ]
    },
    {
     "name": "stdout",
     "output_type": "stream",
     "text": [
      "training loss: 0.06286509335041046\n",
      "training loss: 0.03124907985329628\n",
      "training loss: 0.060483168810606\n"
     ]
    },
    {
     "name": "stderr",
     "output_type": "stream",
     "text": [
      "\r",
      "training:  20%|███████████████████████▍                                                                                                | 177/907 [09:59<41:07,  3.38s/it]"
     ]
    },
    {
     "name": "stdout",
     "output_type": "stream",
     "text": [
      "training loss: 0.053165413439273834\n",
      "training loss: 0.06107719987630844\n",
      "training loss: 0.10312402248382568\n"
     ]
    },
    {
     "name": "stderr",
     "output_type": "stream",
     "text": [
      "training:  20%|███████████████████████▊                                                                                                | 180/907 [10:10<40:57,  3.38s/it]"
     ]
    },
    {
     "name": "stdout",
     "output_type": "stream",
     "text": [
      "training loss: 0.06821539998054504\n",
      "training loss: 0.04750929772853851\n",
      "validation loss: 0.05989896506071091\n",
      "training loss: 0.039688460528850555\n"
     ]
    },
    {
     "name": "stderr",
     "output_type": "stream",
     "text": [
      "\r",
      "training:  20%|████████████████████████▏                                                                                               | 183/907 [10:20<41:06,  3.41s/it]"
     ]
    },
    {
     "name": "stdout",
     "output_type": "stream",
     "text": [
      "training loss: 0.07723154872655869\n",
      "training loss: 0.09008575230836868\n",
      "training loss: 0.05819205939769745\n"
     ]
    },
    {
     "name": "stderr",
     "output_type": "stream",
     "text": [
      "\r",
      "training:  21%|████████████████████████▌                                                                                               | 186/907 [10:30<40:48,  3.40s/it]"
     ]
    },
    {
     "name": "stdout",
     "output_type": "stream",
     "text": [
      "training loss: 0.10735098272562027\n",
      "training loss: 0.036239784210920334\n",
      "training loss: 0.04300837218761444\n"
     ]
    },
    {
     "name": "stderr",
     "output_type": "stream",
     "text": [
      "\r",
      "training:  21%|█████████████████████████                                                                                               | 189/907 [10:40<40:31,  3.39s/it]"
     ]
    },
    {
     "name": "stdout",
     "output_type": "stream",
     "text": [
      "training loss: 0.06399450451135635\n",
      "training loss: 0.05613964796066284\n",
      "training loss: 0.0667990893125534\n"
     ]
    },
    {
     "name": "stderr",
     "output_type": "stream",
     "text": [
      "\r",
      "training:  21%|█████████████████████████▍                                                                                              | 192/907 [10:50<40:17,  3.38s/it]"
     ]
    },
    {
     "name": "stdout",
     "output_type": "stream",
     "text": [
      "training loss: 0.09031172841787338\n",
      "training loss: 0.055195342749357224\n",
      "training loss: 0.05507213622331619\n"
     ]
    },
    {
     "name": "stderr",
     "output_type": "stream",
     "text": [
      "\r",
      "training:  21%|█████████████████████████▊                                                                                              | 195/907 [11:00<40:04,  3.38s/it]"
     ]
    },
    {
     "name": "stdout",
     "output_type": "stream",
     "text": [
      "training loss: 0.09794124215841293\n",
      "training loss: 0.056826796382665634\n",
      "training loss: 0.05758810043334961\n"
     ]
    },
    {
     "name": "stderr",
     "output_type": "stream",
     "text": [
      "\r",
      "training:  22%|██████████████████████████▏                                                                                             | 198/907 [11:11<39:54,  3.38s/it]"
     ]
    },
    {
     "name": "stdout",
     "output_type": "stream",
     "text": [
      "training loss: 0.04939531162381172\n",
      "training loss: 0.07418223470449448\n",
      "training loss: 0.05500141903758049\n",
      "training loss: 0.051817506551742554\n"
     ]
    },
    {
     "name": "stderr",
     "output_type": "stream",
     "text": [
      "\r",
      "training:  22%|██████████████████████████▌                                                                                             | 201/907 [11:21<40:04,  3.41s/it]"
     ]
    },
    {
     "name": "stdout",
     "output_type": "stream",
     "text": [
      "validation loss: 0.06661319732666016\n",
      "training loss: 0.04661671444773674\n",
      "training loss: 0.05700898915529251\n"
     ]
    },
    {
     "name": "stderr",
     "output_type": "stream",
     "text": [
      "\r",
      "training:  22%|██████████████████████████▉                                                                                             | 204/907 [11:31<39:48,  3.40s/it]"
     ]
    },
    {
     "name": "stdout",
     "output_type": "stream",
     "text": [
      "training loss: 0.09186792373657227\n",
      "training loss: 0.05421578884124756\n",
      "training loss: 0.053051989525556564\n"
     ]
    },
    {
     "name": "stderr",
     "output_type": "stream",
     "text": [
      "\r",
      "training:  23%|███████████████████████████▍                                                                                            | 207/907 [11:41<39:33,  3.39s/it]"
     ]
    },
    {
     "name": "stdout",
     "output_type": "stream",
     "text": [
      "training loss: 0.04288758710026741\n",
      "training loss: 0.034847505390644073\n",
      "training loss: 0.03437875211238861\n"
     ]
    },
    {
     "name": "stderr",
     "output_type": "stream",
     "text": [
      "\r",
      "training:  23%|███████████████████████████▊                                                                                            | 210/907 [11:51<39:19,  3.39s/it]"
     ]
    },
    {
     "name": "stdout",
     "output_type": "stream",
     "text": [
      "training loss: 0.07315213233232498\n",
      "training loss: 0.06064307317137718\n",
      "training loss: 0.05717159062623978\n"
     ]
    },
    {
     "name": "stderr",
     "output_type": "stream",
     "text": [
      "\r",
      "training:  23%|████████████████████████████▏                                                                                           | 213/907 [12:01<39:07,  3.38s/it]"
     ]
    },
    {
     "name": "stdout",
     "output_type": "stream",
     "text": [
      "training loss: 0.051677439361810684\n",
      "training loss: 0.04521990939974785\n",
      "training loss: 0.06839998811483383\n"
     ]
    },
    {
     "name": "stderr",
     "output_type": "stream",
     "text": [
      "\r",
      "training:  24%|████████████████████████████▌                                                                                           | 216/907 [12:12<38:53,  3.38s/it]"
     ]
    },
    {
     "name": "stdout",
     "output_type": "stream",
     "text": [
      "training loss: 0.05677996575832367\n",
      "training loss: 0.04358687251806259\n",
      "training loss: 0.0668056383728981\n"
     ]
    },
    {
     "name": "stderr",
     "output_type": "stream",
     "text": [
      "\r",
      "training:  24%|████████████████████████████▉                                                                                           | 219/907 [12:22<38:41,  3.37s/it]"
     ]
    },
    {
     "name": "stdout",
     "output_type": "stream",
     "text": [
      "training loss: 0.037570737302303314\n",
      "training loss: 0.04610850289463997\n",
      "training loss: 0.05126726254820824\n",
      "validation loss: 0.06189752370119095\n"
     ]
    },
    {
     "name": "stderr",
     "output_type": "stream",
     "text": [
      "\r",
      "training:  24%|█████████████████████████████▎                                                                                          | 222/907 [12:32<38:56,  3.41s/it]"
     ]
    },
    {
     "name": "stdout",
     "output_type": "stream",
     "text": [
      "training loss: 0.06054844334721565\n",
      "training loss: 0.05635199323296547\n",
      "training loss: 0.0668582171201706\n"
     ]
    },
    {
     "name": "stderr",
     "output_type": "stream",
     "text": [
      "\r",
      "training:  25%|█████████████████████████████▊                                                                                          | 225/907 [12:43<38:57,  3.43s/it]"
     ]
    },
    {
     "name": "stdout",
     "output_type": "stream",
     "text": [
      "training loss: 0.062469806522130966\n",
      "training loss: 0.06919053941965103\n",
      "training loss: 0.06920777261257172\n"
     ]
    },
    {
     "name": "stderr",
     "output_type": "stream",
     "text": [
      "\r",
      "training:  25%|██████████████████████████████▏                                                                                         | 228/907 [12:53<38:38,  3.41s/it]"
     ]
    },
    {
     "name": "stdout",
     "output_type": "stream",
     "text": [
      "training loss: 0.05220109596848488\n",
      "training loss: 0.04535859450697899\n",
      "training loss: 0.029627319425344467\n"
     ]
    },
    {
     "name": "stderr",
     "output_type": "stream",
     "text": [
      "\r",
      "training:  25%|██████████████████████████████▌                                                                                         | 231/907 [13:03<38:18,  3.40s/it]"
     ]
    },
    {
     "name": "stdout",
     "output_type": "stream",
     "text": [
      "training loss: 0.062029097229242325\n",
      "training loss: 0.05159652978181839\n",
      "training loss: 0.04094919562339783\n"
     ]
    },
    {
     "name": "stderr",
     "output_type": "stream",
     "text": [
      "\r",
      "training:  26%|██████████████████████████████▉                                                                                         | 234/907 [13:13<38:04,  3.39s/it]"
     ]
    },
    {
     "name": "stdout",
     "output_type": "stream",
     "text": [
      "training loss: 0.07348514348268509\n",
      "training loss: 0.035969749093055725\n",
      "training loss: 0.037718482315540314\n"
     ]
    },
    {
     "name": "stderr",
     "output_type": "stream",
     "text": [
      "\r",
      "training:  26%|███████████████████████████████▎                                                                                        | 237/907 [13:23<37:48,  3.39s/it]"
     ]
    },
    {
     "name": "stdout",
     "output_type": "stream",
     "text": [
      "training loss: 0.041744399815797806\n",
      "training loss: 0.07373981922864914\n",
      "training loss: 0.08469191193580627\n"
     ]
    },
    {
     "name": "stderr",
     "output_type": "stream",
     "text": [
      "\r",
      "training:  26%|███████████████████████████████▊                                                                                        | 240/907 [13:33<37:34,  3.38s/it]"
     ]
    },
    {
     "name": "stdout",
     "output_type": "stream",
     "text": [
      "training loss: 0.0790758803486824\n",
      "training loss: 0.0393933542072773\n",
      "validation loss: 0.05624441057443619\n",
      "training loss: 0.13251428306102753\n"
     ]
    },
    {
     "name": "stderr",
     "output_type": "stream",
     "text": [
      "\r",
      "training:  27%|████████████████████████████████▏                                                                                       | 243/907 [13:44<37:40,  3.40s/it]"
     ]
    },
    {
     "name": "stdout",
     "output_type": "stream",
     "text": [
      "training loss: 0.047375645488500595\n",
      "training loss: 0.09741155058145523\n",
      "training loss: 0.08664784580469131\n"
     ]
    },
    {
     "name": "stderr",
     "output_type": "stream",
     "text": [
      "\r",
      "training:  27%|████████████████████████████████▌                                                                                       | 246/907 [13:54<37:26,  3.40s/it]"
     ]
    },
    {
     "name": "stdout",
     "output_type": "stream",
     "text": [
      "training loss: 0.05957052484154701\n",
      "training loss: 0.0700085461139679\n",
      "training loss: 0.045527033507823944\n"
     ]
    },
    {
     "name": "stderr",
     "output_type": "stream",
     "text": [
      "\r",
      "training:  27%|████████████████████████████████▉                                                                                       | 249/907 [14:04<37:13,  3.39s/it]"
     ]
    },
    {
     "name": "stdout",
     "output_type": "stream",
     "text": [
      "training loss: 0.06794662028551102\n",
      "training loss: 0.048601631075143814\n",
      "training loss: 0.0569806843996048\n"
     ]
    },
    {
     "name": "stderr",
     "output_type": "stream",
     "text": [
      "\r",
      "training:  28%|█████████████████████████████████▎                                                                                      | 252/907 [14:14<36:59,  3.39s/it]"
     ]
    },
    {
     "name": "stdout",
     "output_type": "stream",
     "text": [
      "training loss: 0.05715392902493477\n",
      "training loss: 0.06730632483959198\n",
      "training loss: 0.05492285639047623\n"
     ]
    },
    {
     "name": "stderr",
     "output_type": "stream",
     "text": [
      "\r",
      "training:  28%|█████████████████████████████████▋                                                                                      | 255/907 [14:24<36:46,  3.38s/it]"
     ]
    },
    {
     "name": "stdout",
     "output_type": "stream",
     "text": [
      "training loss: 0.06144111230969429\n",
      "training loss: 0.04738030955195427\n",
      "training loss: 0.07571575045585632\n"
     ]
    },
    {
     "name": "stderr",
     "output_type": "stream",
     "text": [
      "\r",
      "training:  28%|██████████████████████████████████▏                                                                                     | 258/907 [14:34<36:33,  3.38s/it]"
     ]
    },
    {
     "name": "stdout",
     "output_type": "stream",
     "text": [
      "training loss: 0.05477036163210869\n",
      "training loss: 0.05910317972302437\n",
      "training loss: 0.06114526465535164\n",
      "training loss: 0.09208372235298157\n"
     ]
    },
    {
     "name": "stderr",
     "output_type": "stream",
     "text": [
      "\r",
      "training:  29%|██████████████████████████████████▌                                                                                     | 261/907 [14:45<36:38,  3.40s/it]"
     ]
    },
    {
     "name": "stdout",
     "output_type": "stream",
     "text": [
      "validation loss: 0.05028299614787102\n",
      "training loss: 0.07960840314626694\n",
      "training loss: 0.05894583463668823\n"
     ]
    },
    {
     "name": "stderr",
     "output_type": "stream",
     "text": [
      "\r",
      "training:  29%|██████████████████████████████████▉                                                                                     | 264/907 [14:55<36:21,  3.39s/it]"
     ]
    },
    {
     "name": "stdout",
     "output_type": "stream",
     "text": [
      "training loss: 0.032562386244535446\n",
      "training loss: 0.033678047358989716\n",
      "training loss: 0.05356459692120552\n"
     ]
    },
    {
     "name": "stderr",
     "output_type": "stream",
     "text": [
      "\r",
      "training:  29%|███████████████████████████████████▎                                                                                    | 267/907 [15:05<36:06,  3.39s/it]"
     ]
    },
    {
     "name": "stdout",
     "output_type": "stream",
     "text": [
      "training loss: 0.03795328736305237\n",
      "training loss: 0.053233496844768524\n",
      "training loss: 0.06744008511304855\n"
     ]
    },
    {
     "name": "stderr",
     "output_type": "stream",
     "text": [
      "\r",
      "training:  30%|███████████████████████████████████▋                                                                                    | 270/907 [15:15<35:55,  3.38s/it]"
     ]
    },
    {
     "name": "stdout",
     "output_type": "stream",
     "text": [
      "training loss: 0.04310755804181099\n",
      "training loss: 0.06424322724342346\n",
      "training loss: 0.08296642452478409\n"
     ]
    },
    {
     "name": "stderr",
     "output_type": "stream",
     "text": [
      "\r",
      "training:  30%|████████████████████████████████████                                                                                    | 273/907 [15:25<35:45,  3.38s/it]"
     ]
    },
    {
     "name": "stdout",
     "output_type": "stream",
     "text": [
      "training loss: 0.0445563979446888\n",
      "training loss: 0.04486432299017906\n",
      "training loss: 0.0815172865986824\n"
     ]
    },
    {
     "name": "stderr",
     "output_type": "stream",
     "text": [
      "\r",
      "training:  30%|████████████████████████████████████▌                                                                                   | 276/907 [15:35<35:31,  3.38s/it]"
     ]
    },
    {
     "name": "stdout",
     "output_type": "stream",
     "text": [
      "training loss: 0.09306637197732925\n",
      "training loss: 0.0755491703748703\n",
      "training loss: 0.04350823909044266\n"
     ]
    },
    {
     "name": "stderr",
     "output_type": "stream",
     "text": [
      "\r",
      "training:  31%|████████████████████████████████████▉                                                                                   | 279/907 [15:45<35:20,  3.38s/it]"
     ]
    },
    {
     "name": "stdout",
     "output_type": "stream",
     "text": [
      "training loss: 0.06597297638654709\n",
      "training loss: 0.04093882814049721\n",
      "training loss: 0.09948456287384033\n",
      "validation loss: 0.14278621971607208\n"
     ]
    },
    {
     "name": "stderr",
     "output_type": "stream",
     "text": [
      "\r",
      "training:  31%|█████████████████████████████████████▎                                                                                  | 282/907 [15:56<35:27,  3.40s/it]"
     ]
    },
    {
     "name": "stdout",
     "output_type": "stream",
     "text": [
      "training loss: 0.10785975307226181\n",
      "training loss: 0.03822832927107811\n",
      "training loss: 0.052604127675294876\n"
     ]
    },
    {
     "name": "stderr",
     "output_type": "stream",
     "text": [
      "\r",
      "training:  31%|█████████████████████████████████████▋                                                                                  | 285/907 [16:06<35:10,  3.39s/it]"
     ]
    },
    {
     "name": "stdout",
     "output_type": "stream",
     "text": [
      "training loss: 0.04238015040755272\n",
      "training loss: 0.06814759969711304\n",
      "training loss: 0.06436030566692352\n"
     ]
    },
    {
     "name": "stderr",
     "output_type": "stream",
     "text": [
      "\r",
      "training:  32%|██████████████████████████████████████                                                                                  | 288/907 [16:16<34:55,  3.39s/it]"
     ]
    },
    {
     "name": "stdout",
     "output_type": "stream",
     "text": [
      "training loss: 0.05082175135612488\n",
      "training loss: 0.039180729538202286\n",
      "training loss: 0.050003133714199066\n"
     ]
    },
    {
     "name": "stderr",
     "output_type": "stream",
     "text": [
      "\r",
      "training:  32%|██████████████████████████████████████▌                                                                                 | 291/907 [16:26<34:42,  3.38s/it]"
     ]
    },
    {
     "name": "stdout",
     "output_type": "stream",
     "text": [
      "training loss: 0.025289710611104965\n",
      "training loss: 0.06319819390773773\n",
      "training loss: 0.07399607449769974\n"
     ]
    },
    {
     "name": "stderr",
     "output_type": "stream",
     "text": [
      "\r",
      "training:  32%|██████████████████████████████████████▉                                                                                 | 294/907 [16:36<34:33,  3.38s/it]"
     ]
    },
    {
     "name": "stdout",
     "output_type": "stream",
     "text": [
      "training loss: 0.0551941804587841\n",
      "training loss: 0.054202787578105927\n",
      "training loss: 0.03949686512351036\n"
     ]
    },
    {
     "name": "stderr",
     "output_type": "stream",
     "text": [
      "\r",
      "training:  33%|███████████████████████████████████████▎                                                                                | 297/907 [16:46<34:22,  3.38s/it]"
     ]
    },
    {
     "name": "stdout",
     "output_type": "stream",
     "text": [
      "training loss: 0.0574575811624527\n",
      "training loss: 0.04611125588417053\n",
      "training loss: 0.05074339732527733\n"
     ]
    },
    {
     "name": "stderr",
     "output_type": "stream",
     "text": [
      "\r",
      "training:  33%|███████████████████████████████████████▋                                                                                | 300/907 [16:56<34:10,  3.38s/it]"
     ]
    },
    {
     "name": "stdout",
     "output_type": "stream",
     "text": [
      "training loss: 0.0647677555680275\n",
      "training loss: 0.04328961670398712\n",
      "validation loss: 0.15739652514457703\n",
      "training loss: 0.11160939186811447\n",
      "training loss: 0.05311135575175285\n"
     ]
    },
    {
     "name": "stderr",
     "output_type": "stream",
     "text": [
      "\r",
      "training:  34%|████████████████████████████████████████▏                                                                               | 304/907 [17:09<33:34,  3.34s/it]"
     ]
    },
    {
     "name": "stdout",
     "output_type": "stream",
     "text": [
      "training loss: 0.023337967693805695\n",
      "training loss: 0.021433988586068153\n",
      "training loss: 0.030034959316253662\n"
     ]
    },
    {
     "name": "stderr",
     "output_type": "stream",
     "text": [
      "\r",
      "training:  34%|████████████████████████████████████████▏                                                                               | 304/907 [17:20<33:34,  3.34s/it]"
     ]
    },
    {
     "name": "stdout",
     "output_type": "stream",
     "text": [
      "training loss: 0.04401553422212601\n"
     ]
    },
    {
     "name": "stderr",
     "output_type": "stream",
     "text": [
      "\r",
      "training:  34%|████████████████████████████████████████▋                                                                               | 308/907 [17:23<33:26,  3.35s/it]"
     ]
    },
    {
     "name": "stdout",
     "output_type": "stream",
     "text": [
      "training loss: 0.026589492335915565\n",
      "training loss: 0.07198785245418549\n",
      "training loss: 0.062016598880290985\n"
     ]
    },
    {
     "name": "stderr",
     "output_type": "stream",
     "text": [
      "\r",
      "training:  34%|█████████████████████████████████████████▏                                                                              | 311/907 [17:33<33:19,  3.36s/it]"
     ]
    },
    {
     "name": "stdout",
     "output_type": "stream",
     "text": [
      "training loss: 0.07946467399597168\n",
      "training loss: 0.03569456934928894\n",
      "training loss: 0.08179745823144913\n"
     ]
    },
    {
     "name": "stderr",
     "output_type": "stream",
     "text": [
      "\r",
      "training:  35%|█████████████████████████████████████████▌                                                                              | 314/907 [17:43<33:10,  3.36s/it]"
     ]
    },
    {
     "name": "stdout",
     "output_type": "stream",
     "text": [
      "training loss: 0.07284501940011978\n",
      "training loss: 0.06722363084554672\n",
      "training loss: 0.048060379922389984\n"
     ]
    },
    {
     "name": "stderr",
     "output_type": "stream",
     "text": [
      "\r",
      "training:  35%|█████████████████████████████████████████▉                                                                              | 317/907 [17:53<33:06,  3.37s/it]"
     ]
    },
    {
     "name": "stdout",
     "output_type": "stream",
     "text": [
      "training loss: 0.0706314817070961\n",
      "training loss: 0.08757621794939041\n",
      "training loss: 0.0698481947183609\n"
     ]
    },
    {
     "name": "stderr",
     "output_type": "stream",
     "text": [
      "\r",
      "training:  35%|██████████████████████████████████████████▎                                                                             | 320/907 [18:03<33:00,  3.37s/it]"
     ]
    },
    {
     "name": "stdout",
     "output_type": "stream",
     "text": [
      "training loss: 0.059167422354221344\n",
      "training loss: 0.04796430841088295\n",
      "validation loss: 0.06551963090896606\n",
      "training loss: 0.08330096304416656\n"
     ]
    },
    {
     "name": "stderr",
     "output_type": "stream",
     "text": [
      "\r",
      "training:  36%|██████████████████████████████████████████▋                                                                             | 323/907 [18:14<33:08,  3.40s/it]"
     ]
    },
    {
     "name": "stdout",
     "output_type": "stream",
     "text": [
      "training loss: 0.009696763008832932\n",
      "training loss: 0.017162922769784927\n",
      "training loss: 0.015453805215656757\n"
     ]
    },
    {
     "name": "stderr",
     "output_type": "stream",
     "text": [
      "\r",
      "training:  36%|███████████████████████████████████████████▏                                                                            | 326/907 [18:24<32:53,  3.40s/it]"
     ]
    },
    {
     "name": "stdout",
     "output_type": "stream",
     "text": [
      "training loss: 0.0393233485519886\n",
      "training loss: 0.12317060679197311\n",
      "training loss: 0.025868598371744156\n"
     ]
    },
    {
     "name": "stderr",
     "output_type": "stream",
     "text": [
      "\r",
      "training:  36%|███████████████████████████████████████████▌                                                                            | 329/907 [18:34<32:40,  3.39s/it]"
     ]
    },
    {
     "name": "stdout",
     "output_type": "stream",
     "text": [
      "training loss: 0.04207850992679596\n",
      "training loss: 0.050760481506586075\n",
      "training loss: 0.021989811211824417\n"
     ]
    },
    {
     "name": "stderr",
     "output_type": "stream",
     "text": [
      "\r",
      "training:  37%|███████████████████████████████████████████▉                                                                            | 332/907 [18:44<32:27,  3.39s/it]"
     ]
    },
    {
     "name": "stdout",
     "output_type": "stream",
     "text": [
      "training loss: 0.03792652115225792\n",
      "training loss: 0.06048756465315819\n",
      "training loss: 0.04452051222324371\n"
     ]
    },
    {
     "name": "stderr",
     "output_type": "stream",
     "text": [
      "\r",
      "training:  37%|████████████████████████████████████████████▎                                                                           | 335/907 [18:54<32:15,  3.38s/it]"
     ]
    },
    {
     "name": "stdout",
     "output_type": "stream",
     "text": [
      "training loss: 0.10018511861562729\n",
      "training loss: 0.0820884108543396\n",
      "training loss: 0.07205996662378311\n"
     ]
    },
    {
     "name": "stderr",
     "output_type": "stream",
     "text": [
      "\r",
      "training:  37%|████████████████████████████████████████████▋                                                                           | 338/907 [19:05<32:04,  3.38s/it]"
     ]
    },
    {
     "name": "stdout",
     "output_type": "stream",
     "text": [
      "training loss: 0.10229267925024033\n",
      "training loss: 0.07807324826717377\n",
      "training loss: 0.06960782408714294\n",
      "training loss: 0.07917743921279907\n"
     ]
    },
    {
     "name": "stderr",
     "output_type": "stream",
     "text": [
      "\r",
      "training:  38%|█████████████████████████████████████████████                                                                           | 341/907 [19:15<32:11,  3.41s/it]"
     ]
    },
    {
     "name": "stdout",
     "output_type": "stream",
     "text": [
      "validation loss: 0.038809068500995636\n",
      "training loss: 0.06261855363845825\n",
      "training loss: 0.06509066373109818\n"
     ]
    },
    {
     "name": "stderr",
     "output_type": "stream",
     "text": [
      "\r",
      "training:  38%|█████████████████████████████████████████████▌                                                                          | 344/907 [19:25<31:57,  3.41s/it]"
     ]
    },
    {
     "name": "stdout",
     "output_type": "stream",
     "text": [
      "training loss: 0.06370184570550919\n",
      "training loss: 0.05265944078564644\n",
      "training loss: 0.09115568548440933\n"
     ]
    },
    {
     "name": "stderr",
     "output_type": "stream",
     "text": [
      "\r",
      "training:  38%|█████████████████████████████████████████████▉                                                                          | 347/907 [19:35<31:42,  3.40s/it]"
     ]
    },
    {
     "name": "stdout",
     "output_type": "stream",
     "text": [
      "training loss: 0.04812845587730408\n",
      "training loss: 0.06928105652332306\n",
      "training loss: 0.06428056955337524\n"
     ]
    },
    {
     "name": "stderr",
     "output_type": "stream",
     "text": [
      "\r",
      "training:  39%|██████████████████████████████████████████████▎                                                                         | 350/907 [19:45<31:29,  3.39s/it]"
     ]
    },
    {
     "name": "stdout",
     "output_type": "stream",
     "text": [
      "training loss: 0.07504431903362274\n",
      "training loss: 0.10112492740154266\n",
      "training loss: 0.0678730309009552\n"
     ]
    },
    {
     "name": "stderr",
     "output_type": "stream",
     "text": [
      "\r",
      "training:  39%|██████████████████████████████████████████████▋                                                                         | 353/907 [19:56<31:18,  3.39s/it]"
     ]
    },
    {
     "name": "stdout",
     "output_type": "stream",
     "text": [
      "training loss: 0.09031189233064651\n",
      "training loss: 0.07509683817625046\n",
      "training loss: 0.06125924736261368\n"
     ]
    },
    {
     "name": "stderr",
     "output_type": "stream",
     "text": [
      "\r",
      "training:  39%|███████████████████████████████████████████████                                                                         | 356/907 [20:06<31:07,  3.39s/it]"
     ]
    },
    {
     "name": "stdout",
     "output_type": "stream",
     "text": [
      "training loss: 0.04474031552672386\n",
      "training loss: 0.07166841626167297\n",
      "training loss: 0.04130186885595322\n"
     ]
    },
    {
     "name": "stderr",
     "output_type": "stream",
     "text": [
      "\r",
      "training:  40%|███████████████████████████████████████████████▍                                                                        | 359/907 [20:16<30:54,  3.38s/it]"
     ]
    },
    {
     "name": "stdout",
     "output_type": "stream",
     "text": [
      "training loss: 0.05697529390454292\n",
      "training loss: 0.11526989936828613\n",
      "training loss: 0.05776992067694664\n",
      "validation loss: 0.07238073647022247\n"
     ]
    },
    {
     "name": "stderr",
     "output_type": "stream",
     "text": [
      "\r",
      "training:  40%|███████████████████████████████████████████████▉                                                                        | 362/907 [20:26<30:59,  3.41s/it]"
     ]
    },
    {
     "name": "stdout",
     "output_type": "stream",
     "text": [
      "training loss: 0.053485434502363205\n",
      "training loss: 0.06126202642917633\n",
      "training loss: 0.04760752618312836\n"
     ]
    },
    {
     "name": "stderr",
     "output_type": "stream",
     "text": [
      "\r",
      "training:  40%|████████████████████████████████████████████████▎                                                                       | 365/907 [20:36<30:45,  3.41s/it]"
     ]
    },
    {
     "name": "stdout",
     "output_type": "stream",
     "text": [
      "training loss: 0.05621994659304619\n",
      "training loss: 0.08356263488531113\n",
      "training loss: 0.06078094616532326\n"
     ]
    },
    {
     "name": "stderr",
     "output_type": "stream",
     "text": [
      "\r",
      "training:  41%|████████████████████████████████████████████████▋                                                                       | 368/907 [20:47<30:32,  3.40s/it]"
     ]
    },
    {
     "name": "stdout",
     "output_type": "stream",
     "text": [
      "training loss: 0.06701969355344772\n",
      "training loss: 0.043388817459344864\n",
      "training loss: 0.0512838177382946\n"
     ]
    },
    {
     "name": "stderr",
     "output_type": "stream",
     "text": [
      "\r",
      "training:  41%|█████████████████████████████████████████████████                                                                       | 371/907 [20:57<30:19,  3.40s/it]"
     ]
    },
    {
     "name": "stdout",
     "output_type": "stream",
     "text": [
      "training loss: 0.05081693455576897\n",
      "training loss: 0.05039156228303909\n",
      "training loss: 0.06634700298309326\n"
     ]
    },
    {
     "name": "stderr",
     "output_type": "stream",
     "text": [
      "\r",
      "training:  41%|█████████████████████████████████████████████████▍                                                                      | 374/907 [21:07<30:06,  3.39s/it]"
     ]
    },
    {
     "name": "stdout",
     "output_type": "stream",
     "text": [
      "training loss: 0.07159839570522308\n",
      "training loss: 0.08187542110681534\n",
      "training loss: 0.0538761243224144\n"
     ]
    },
    {
     "name": "stderr",
     "output_type": "stream",
     "text": [
      "\r",
      "training:  42%|█████████████████████████████████████████████████▉                                                                      | 377/907 [21:17<29:53,  3.38s/it]"
     ]
    },
    {
     "name": "stdout",
     "output_type": "stream",
     "text": [
      "training loss: 0.07913748919963837\n",
      "training loss: 0.04347430542111397\n",
      "training loss: 0.05548056587576866\n"
     ]
    },
    {
     "name": "stderr",
     "output_type": "stream",
     "text": [
      "\r",
      "training:  42%|██████████████████████████████████████████████████▎                                                                     | 380/907 [21:27<29:42,  3.38s/it]"
     ]
    },
    {
     "name": "stdout",
     "output_type": "stream",
     "text": [
      "training loss: 0.0594477653503418\n",
      "training loss: 0.09135899692773819\n",
      "validation loss: 0.06247873976826668\n",
      "training loss: 0.07970000058412552\n"
     ]
    },
    {
     "name": "stderr",
     "output_type": "stream",
     "text": [
      "\r",
      "training:  42%|██████████████████████████████████████████████████▋                                                                     | 383/907 [21:38<29:45,  3.41s/it]"
     ]
    },
    {
     "name": "stdout",
     "output_type": "stream",
     "text": [
      "training loss: 0.10598573833703995\n",
      "training loss: 0.05721462145447731\n",
      "training loss: 0.13328932225704193\n"
     ]
    },
    {
     "name": "stderr",
     "output_type": "stream",
     "text": [
      "\r",
      "training:  43%|███████████████████████████████████████████████████                                                                     | 386/907 [21:48<29:31,  3.40s/it]"
     ]
    },
    {
     "name": "stdout",
     "output_type": "stream",
     "text": [
      "training loss: 0.07245739549398422\n",
      "training loss: 0.05714219808578491\n",
      "training loss: 0.06933928281068802\n"
     ]
    },
    {
     "name": "stderr",
     "output_type": "stream",
     "text": [
      "\r",
      "training:  43%|███████████████████████████████████████████████████▍                                                                    | 389/907 [21:58<29:21,  3.40s/it]"
     ]
    },
    {
     "name": "stdout",
     "output_type": "stream",
     "text": [
      "training loss: 0.07444256544113159\n",
      "training loss: 0.05789998173713684\n",
      "training loss: 0.08420988917350769\n"
     ]
    },
    {
     "name": "stderr",
     "output_type": "stream",
     "text": [
      "\r",
      "training:  43%|███████████████████████████████████████████████████▊                                                                    | 392/907 [22:08<29:08,  3.40s/it]"
     ]
    },
    {
     "name": "stdout",
     "output_type": "stream",
     "text": [
      "training loss: 0.05901578068733215\n",
      "training loss: 0.07778580486774445\n",
      "training loss: 0.06613492965698242\n"
     ]
    },
    {
     "name": "stderr",
     "output_type": "stream",
     "text": [
      "\r",
      "training:  44%|████████████████████████████████████████████████████▎                                                                   | 395/907 [22:18<28:56,  3.39s/it]"
     ]
    },
    {
     "name": "stdout",
     "output_type": "stream",
     "text": [
      "training loss: 0.07239718735218048\n",
      "training loss: 0.07960182428359985\n",
      "training loss: 0.05842599645256996\n"
     ]
    },
    {
     "name": "stderr",
     "output_type": "stream",
     "text": [
      "\r",
      "training:  44%|████████████████████████████████████████████████████▋                                                                   | 398/907 [22:28<28:43,  3.39s/it]"
     ]
    },
    {
     "name": "stdout",
     "output_type": "stream",
     "text": [
      "training loss: 0.04753187671303749\n",
      "training loss: 0.05143583565950394\n",
      "training loss: 0.06382714211940765\n",
      "training loss: 0.07900574058294296\n"
     ]
    },
    {
     "name": "stderr",
     "output_type": "stream",
     "text": [
      "\r",
      "training:  44%|█████████████████████████████████████████████████████                                                                   | 401/907 [22:39<28:45,  3.41s/it]"
     ]
    },
    {
     "name": "stdout",
     "output_type": "stream",
     "text": [
      "validation loss: 0.09437404572963715\n",
      "training loss: 0.14486703276634216\n",
      "training loss: 0.08515827357769012\n"
     ]
    },
    {
     "name": "stderr",
     "output_type": "stream",
     "text": [
      "\r",
      "training:  45%|█████████████████████████████████████████████████████▍                                                                  | 404/907 [22:49<28:29,  3.40s/it]"
     ]
    },
    {
     "name": "stdout",
     "output_type": "stream",
     "text": [
      "training loss: 0.048460353165864944\n",
      "training loss: 0.07375764101743698\n",
      "training loss: 0.06138185039162636\n"
     ]
    },
    {
     "name": "stderr",
     "output_type": "stream",
     "text": [
      "\r",
      "training:  45%|█████████████████████████████████████████████████████▊                                                                  | 407/907 [22:59<28:16,  3.39s/it]"
     ]
    },
    {
     "name": "stdout",
     "output_type": "stream",
     "text": [
      "training loss: 0.0442684143781662\n",
      "training loss: 0.07369998097419739\n",
      "training loss: 0.041963908821344376\n"
     ]
    },
    {
     "name": "stderr",
     "output_type": "stream",
     "text": [
      "\r",
      "training:  45%|██████████████████████████████████████████████████████▏                                                                 | 410/907 [23:09<28:06,  3.39s/it]"
     ]
    },
    {
     "name": "stdout",
     "output_type": "stream",
     "text": [
      "training loss: 0.04937862977385521\n",
      "training loss: 0.07075657695531845\n",
      "training loss: 0.05152606964111328\n"
     ]
    },
    {
     "name": "stderr",
     "output_type": "stream",
     "text": [
      "\r",
      "training:  46%|██████████████████████████████████████████████████████▋                                                                 | 413/907 [23:19<27:55,  3.39s/it]"
     ]
    },
    {
     "name": "stdout",
     "output_type": "stream",
     "text": [
      "training loss: 0.160662442445755\n",
      "training loss: 0.07714205980300903\n",
      "training loss: 0.05265031009912491\n"
     ]
    },
    {
     "name": "stderr",
     "output_type": "stream",
     "text": [
      "\r",
      "training:  46%|███████████████████████████████████████████████████████                                                                 | 416/907 [23:29<27:44,  3.39s/it]"
     ]
    },
    {
     "name": "stdout",
     "output_type": "stream",
     "text": [
      "training loss: 0.06745486706495285\n",
      "training loss: 0.04674175754189491\n",
      "training loss: 0.056201785802841187\n"
     ]
    },
    {
     "name": "stderr",
     "output_type": "stream",
     "text": [
      "training:  46%|███████████████████████████████████████████████████████▍                                                                | 419/907 [23:40<27:32,  3.39s/it]"
     ]
    },
    {
     "name": "stdout",
     "output_type": "stream",
     "text": [
      "training loss: 0.06358916312456131\n",
      "training loss: 0.06194340065121651\n",
      "training loss: 0.046331290155649185\n",
      "validation loss: 0.06338772922754288\n"
     ]
    },
    {
     "name": "stderr",
     "output_type": "stream",
     "text": [
      "\r",
      "training:  47%|███████████████████████████████████████████████████████▊                                                                | 422/907 [23:50<27:34,  3.41s/it]"
     ]
    },
    {
     "name": "stdout",
     "output_type": "stream",
     "text": [
      "training loss: 0.05044829472899437\n",
      "training loss: 0.05726442486047745\n",
      "training loss: 0.053752556443214417\n"
     ]
    },
    {
     "name": "stderr",
     "output_type": "stream",
     "text": [
      "\r",
      "training:  47%|████████████████████████████████████████████████████████▏                                                               | 425/907 [24:00<27:20,  3.40s/it]"
     ]
    },
    {
     "name": "stdout",
     "output_type": "stream",
     "text": [
      "training loss: 0.04375486820936203\n",
      "training loss: 0.0789661630988121\n",
      "training loss: 0.05698798969388008\n"
     ]
    },
    {
     "name": "stderr",
     "output_type": "stream",
     "text": [
      "\r",
      "training:  47%|████████████████████████████████████████████████████████▋                                                               | 428/907 [24:10<27:05,  3.39s/it]"
     ]
    },
    {
     "name": "stdout",
     "output_type": "stream",
     "text": [
      "training loss: 0.07213641703128815\n",
      "training loss: 0.10632456094026566\n",
      "training loss: 0.04732702299952507\n"
     ]
    },
    {
     "name": "stderr",
     "output_type": "stream",
     "text": [
      "\r",
      "training:  48%|█████████████████████████████████████████████████████████                                                               | 431/907 [24:20<26:52,  3.39s/it]"
     ]
    },
    {
     "name": "stdout",
     "output_type": "stream",
     "text": [
      "training loss: 0.05091726407408714\n",
      "training loss: 0.052579984068870544\n",
      "training loss: 0.05975358933210373\n"
     ]
    },
    {
     "name": "stderr",
     "output_type": "stream",
     "text": [
      "\r",
      "training:  48%|█████████████████████████████████████████████████████████▍                                                              | 434/907 [24:31<26:42,  3.39s/it]"
     ]
    },
    {
     "name": "stdout",
     "output_type": "stream",
     "text": [
      "training loss: 0.04139293357729912\n",
      "training loss: 0.08548793196678162\n",
      "training loss: 0.07574957609176636\n"
     ]
    },
    {
     "name": "stderr",
     "output_type": "stream",
     "text": [
      "\r",
      "training:  48%|█████████████████████████████████████████████████████████▊                                                              | 437/907 [24:41<26:32,  3.39s/it]"
     ]
    },
    {
     "name": "stdout",
     "output_type": "stream",
     "text": [
      "training loss: 0.06570401042699814\n",
      "training loss: 0.061223939061164856\n",
      "training loss: 0.07293638586997986\n"
     ]
    },
    {
     "name": "stderr",
     "output_type": "stream",
     "text": [
      "\r",
      "training:  49%|██████████████████████████████████████████████████████████▏                                                             | 440/907 [24:51<26:20,  3.39s/it]"
     ]
    },
    {
     "name": "stdout",
     "output_type": "stream",
     "text": [
      "training loss: 0.08247841894626617\n",
      "training loss: 0.06932663917541504\n",
      "validation loss: 0.04224865138530731\n",
      "training loss: 0.0696287602186203\n"
     ]
    },
    {
     "name": "stderr",
     "output_type": "stream",
     "text": [
      "\r",
      "training:  49%|██████████████████████████████████████████████████████████▌                                                             | 443/907 [25:01<26:22,  3.41s/it]"
     ]
    },
    {
     "name": "stdout",
     "output_type": "stream",
     "text": [
      "training loss: 0.10878503322601318\n",
      "training loss: 0.07533213496208191\n",
      "training loss: 0.07103670388460159\n"
     ]
    },
    {
     "name": "stderr",
     "output_type": "stream",
     "text": [
      "\r",
      "training:  49%|███████████████████████████████████████████████████████████                                                             | 446/907 [25:11<26:07,  3.40s/it]"
     ]
    },
    {
     "name": "stdout",
     "output_type": "stream",
     "text": [
      "training loss: 0.05981355533003807\n",
      "training loss: 0.057628195732831955\n",
      "training loss: 0.07915384322404861\n"
     ]
    },
    {
     "name": "stderr",
     "output_type": "stream",
     "text": [
      "\r",
      "training:  50%|███████████████████████████████████████████████████████████▍                                                            | 449/907 [25:22<25:53,  3.39s/it]"
     ]
    },
    {
     "name": "stdout",
     "output_type": "stream",
     "text": [
      "training loss: 0.07670564949512482\n",
      "training loss: 0.029382901266217232\n",
      "training loss: 0.05780012160539627\n"
     ]
    },
    {
     "name": "stderr",
     "output_type": "stream",
     "text": [
      "\r",
      "training:  50%|███████████████████████████████████████████████████████████▊                                                            | 452/907 [25:32<25:41,  3.39s/it]"
     ]
    },
    {
     "name": "stdout",
     "output_type": "stream",
     "text": [
      "training loss: 0.028264427557587624\n",
      "training loss: 0.08376504480838776\n",
      "training loss: 0.03187058866024017\n"
     ]
    },
    {
     "name": "stderr",
     "output_type": "stream",
     "text": [
      "\r",
      "training:  50%|████████████████████████████████████████████████████████████▏                                                           | 455/907 [25:42<25:29,  3.38s/it]"
     ]
    },
    {
     "name": "stdout",
     "output_type": "stream",
     "text": [
      "training loss: 0.030570726841688156\n",
      "training loss: 0.048944905400276184\n",
      "training loss: 0.04207385703921318\n"
     ]
    },
    {
     "name": "stderr",
     "output_type": "stream",
     "text": [
      "\r",
      "training:  50%|████████████████████████████████████████████████████████████▌                                                           | 458/907 [25:52<25:20,  3.39s/it]"
     ]
    },
    {
     "name": "stdout",
     "output_type": "stream",
     "text": [
      "training loss: 0.053833961486816406\n",
      "training loss: 0.08128628134727478\n",
      "training loss: 0.08334710448980331\n",
      "training loss: 0.09254075586795807\n"
     ]
    },
    {
     "name": "stderr",
     "output_type": "stream",
     "text": [
      "\r",
      "training:  51%|████████████████████████████████████████████████████████████▉                                                           | 461/907 [26:02<25:24,  3.42s/it]"
     ]
    },
    {
     "name": "stdout",
     "output_type": "stream",
     "text": [
      "validation loss: 0.04365203157067299\n",
      "training loss: 0.06837380677461624\n",
      "training loss: 0.06380116194486618\n"
     ]
    },
    {
     "name": "stderr",
     "output_type": "stream",
     "text": [
      "\r",
      "training:  51%|█████████████████████████████████████████████████████████████▍                                                          | 464/907 [26:13<25:09,  3.41s/it]"
     ]
    },
    {
     "name": "stdout",
     "output_type": "stream",
     "text": [
      "training loss: 0.05823657661676407\n",
      "training loss: 0.05362562835216522\n",
      "training loss: 0.026520907878875732\n"
     ]
    },
    {
     "name": "stderr",
     "output_type": "stream",
     "text": [
      "\r",
      "training:  51%|█████████████████████████████████████████████████████████████▊                                                          | 467/907 [26:23<24:55,  3.40s/it]"
     ]
    },
    {
     "name": "stdout",
     "output_type": "stream",
     "text": [
      "training loss: 0.025779375806450844\n",
      "training loss: 0.08947065472602844\n",
      "training loss: 0.05070387199521065\n"
     ]
    },
    {
     "name": "stderr",
     "output_type": "stream",
     "text": [
      "\r",
      "training:  52%|██████████████████████████████████████████████████████████████▏                                                         | 470/907 [26:33<24:42,  3.39s/it]"
     ]
    },
    {
     "name": "stdout",
     "output_type": "stream",
     "text": [
      "training loss: 0.04169921204447746\n",
      "training loss: 0.03470088168978691\n",
      "training loss: 0.0878758504986763\n"
     ]
    },
    {
     "name": "stderr",
     "output_type": "stream",
     "text": [
      "\r",
      "training:  52%|██████████████████████████████████████████████████████████████▌                                                         | 473/907 [26:43<24:29,  3.39s/it]"
     ]
    },
    {
     "name": "stdout",
     "output_type": "stream",
     "text": [
      "training loss: 0.06383748352527618\n",
      "training loss: 0.043406810611486435\n",
      "training loss: 0.07729039341211319\n"
     ]
    },
    {
     "name": "stderr",
     "output_type": "stream",
     "text": [
      "\r",
      "training:  52%|██████████████████████████████████████████████████████████████▉                                                         | 476/907 [26:53<24:18,  3.38s/it]"
     ]
    },
    {
     "name": "stdout",
     "output_type": "stream",
     "text": [
      "training loss: 0.03595327213406563\n",
      "training loss: 0.09058824926614761\n",
      "training loss: 0.08371374011039734\n"
     ]
    },
    {
     "name": "stderr",
     "output_type": "stream",
     "text": [
      "\r",
      "training:  53%|███████████████████████████████████████████████████████████████▎                                                        | 479/907 [27:03<24:07,  3.38s/it]"
     ]
    },
    {
     "name": "stdout",
     "output_type": "stream",
     "text": [
      "training loss: 0.04835577309131622\n",
      "training loss: 0.04903754964470863\n",
      "training loss: 0.05805882811546326\n",
      "validation loss: 0.05201767385005951\n"
     ]
    },
    {
     "name": "stderr",
     "output_type": "stream",
     "text": [
      "\r",
      "training:  53%|███████████████████████████████████████████████████████████████▊                                                        | 482/907 [27:14<24:10,  3.41s/it]"
     ]
    },
    {
     "name": "stdout",
     "output_type": "stream",
     "text": [
      "training loss: 0.061208393424749374\n",
      "training loss: 0.032622456550598145\n",
      "training loss: 0.04903462529182434\n"
     ]
    },
    {
     "name": "stderr",
     "output_type": "stream",
     "text": [
      "\r",
      "training:  53%|████████████████████████████████████████████████████████████████▏                                                       | 485/907 [27:24<23:57,  3.41s/it]"
     ]
    },
    {
     "name": "stdout",
     "output_type": "stream",
     "text": [
      "training loss: 0.04564899206161499\n",
      "training loss: 0.08906956762075424\n",
      "training loss: 0.042759962379932404\n"
     ]
    },
    {
     "name": "stderr",
     "output_type": "stream",
     "text": [
      "\r",
      "training:  54%|████████████████████████████████████████████████████████████████▌                                                       | 488/907 [27:34<23:43,  3.40s/it]"
     ]
    },
    {
     "name": "stdout",
     "output_type": "stream",
     "text": [
      "training loss: 0.04661451652646065\n",
      "training loss: 0.11788982897996902\n",
      "training loss: 0.03789213299751282\n"
     ]
    },
    {
     "name": "stderr",
     "output_type": "stream",
     "text": [
      "\r",
      "training:  54%|████████████████████████████████████████████████████████████████▉                                                       | 491/907 [27:44<23:31,  3.39s/it]"
     ]
    },
    {
     "name": "stdout",
     "output_type": "stream",
     "text": [
      "training loss: 0.05240820348262787\n",
      "training loss: 0.04507352039217949\n",
      "training loss: 0.04701375961303711\n"
     ]
    },
    {
     "name": "stderr",
     "output_type": "stream",
     "text": [
      "\r",
      "training:  54%|█████████████████████████████████████████████████████████████████▎                                                      | 494/907 [27:54<23:19,  3.39s/it]"
     ]
    },
    {
     "name": "stdout",
     "output_type": "stream",
     "text": [
      "training loss: 0.07086074352264404\n",
      "training loss: 0.08254045993089676\n",
      "training loss: 0.05542923882603645\n"
     ]
    },
    {
     "name": "stderr",
     "output_type": "stream",
     "text": [
      "\r",
      "training:  55%|█████████████████████████████████████████████████████████████████▊                                                      | 497/907 [28:04<23:08,  3.39s/it]"
     ]
    },
    {
     "name": "stdout",
     "output_type": "stream",
     "text": [
      "training loss: 0.06462661176919937\n",
      "training loss: 0.03302557393908501\n",
      "training loss: 0.0499751903116703\n"
     ]
    },
    {
     "name": "stderr",
     "output_type": "stream",
     "text": [
      "\r",
      "training:  55%|██████████████████████████████████████████████████████████████████▏                                                     | 500/907 [28:15<22:57,  3.38s/it]"
     ]
    },
    {
     "name": "stdout",
     "output_type": "stream",
     "text": [
      "training loss: 0.05832740664482117\n",
      "training loss: 0.06162487715482712\n",
      "validation loss: 0.04064860939979553\n",
      "training loss: 0.09201568365097046\n"
     ]
    },
    {
     "name": "stderr",
     "output_type": "stream",
     "text": [
      "\r",
      "training:  55%|██████████████████████████████████████████████████████████████████▌                                                     | 503/907 [28:25<22:58,  3.41s/it]"
     ]
    },
    {
     "name": "stdout",
     "output_type": "stream",
     "text": [
      "training loss: 0.09282708168029785\n",
      "training loss: 0.05296221375465393\n",
      "training loss: 0.07571299374103546\n"
     ]
    },
    {
     "name": "stderr",
     "output_type": "stream",
     "text": [
      "\r",
      "training:  56%|██████████████████████████████████████████████████████████████████▉                                                     | 506/907 [28:35<22:45,  3.41s/it]"
     ]
    },
    {
     "name": "stdout",
     "output_type": "stream",
     "text": [
      "training loss: 0.07486417144536972\n",
      "training loss: 0.062395110726356506\n",
      "training loss: 0.03726628050208092\n"
     ]
    },
    {
     "name": "stderr",
     "output_type": "stream",
     "text": [
      "\r",
      "training:  56%|███████████████████████████████████████████████████████████████████▎                                                    | 509/907 [28:45<22:32,  3.40s/it]"
     ]
    },
    {
     "name": "stdout",
     "output_type": "stream",
     "text": [
      "training loss: 0.03311505913734436\n",
      "training loss: 0.04616766795516014\n",
      "training loss: 0.026743408292531967\n"
     ]
    },
    {
     "name": "stderr",
     "output_type": "stream",
     "text": [
      "\r",
      "training:  56%|███████████████████████████████████████████████████████████████████▋                                                    | 512/907 [28:55<22:20,  3.39s/it]"
     ]
    },
    {
     "name": "stdout",
     "output_type": "stream",
     "text": [
      "training loss: 0.06254217028617859\n",
      "training loss: 0.05257948115468025\n",
      "training loss: 0.06434847414493561\n"
     ]
    },
    {
     "name": "stderr",
     "output_type": "stream",
     "text": [
      "\r",
      "training:  57%|████████████████████████████████████████████████████████████████████▏                                                   | 515/907 [29:06<22:08,  3.39s/it]"
     ]
    },
    {
     "name": "stdout",
     "output_type": "stream",
     "text": [
      "training loss: 0.043855372816324234\n",
      "training loss: 0.08722654730081558\n",
      "training loss: 0.06422007083892822\n"
     ]
    },
    {
     "name": "stderr",
     "output_type": "stream",
     "text": [
      "\r",
      "training:  57%|████████████████████████████████████████████████████████████████████▌                                                   | 518/907 [29:16<21:56,  3.39s/it]"
     ]
    },
    {
     "name": "stdout",
     "output_type": "stream",
     "text": [
      "training loss: 0.09534705430269241\n",
      "training loss: 0.0408579558134079\n",
      "training loss: 0.05322525277733803\n",
      "training loss: 0.08171910047531128\n"
     ]
    },
    {
     "name": "stderr",
     "output_type": "stream",
     "text": [
      "\r",
      "training:  57%|████████████████████████████████████████████████████████████████████▉                                                   | 521/907 [29:26<21:56,  3.41s/it]"
     ]
    },
    {
     "name": "stdout",
     "output_type": "stream",
     "text": [
      "validation loss: 0.06473391503095627\n",
      "training loss: 0.08378209173679352\n",
      "training loss: 0.07886982709169388\n"
     ]
    },
    {
     "name": "stderr",
     "output_type": "stream",
     "text": [
      "\r",
      "training:  58%|█████████████████████████████████████████████████████████████████████▎                                                  | 524/907 [29:36<21:41,  3.40s/it]"
     ]
    },
    {
     "name": "stdout",
     "output_type": "stream",
     "text": [
      "training loss: 0.046335600316524506\n",
      "training loss: 0.031713418662548065\n",
      "training loss: 0.07546741515398026\n"
     ]
    },
    {
     "name": "stderr",
     "output_type": "stream",
     "text": [
      "\r",
      "training:  58%|█████████████████████████████████████████████████████████████████████▋                                                  | 527/907 [29:46<21:31,  3.40s/it]"
     ]
    },
    {
     "name": "stdout",
     "output_type": "stream",
     "text": [
      "training loss: 0.05642155557870865\n",
      "training loss: 0.048226628452539444\n",
      "training loss: 0.0491633303463459\n"
     ]
    },
    {
     "name": "stderr",
     "output_type": "stream",
     "text": [
      "\r",
      "training:  58%|██████████████████████████████████████████████████████████████████████                                                  | 530/907 [29:57<21:21,  3.40s/it]"
     ]
    },
    {
     "name": "stdout",
     "output_type": "stream",
     "text": [
      "training loss: 0.06510580331087112\n",
      "training loss: 0.019082164391875267\n",
      "training loss: 0.015158643014729023\n"
     ]
    },
    {
     "name": "stderr",
     "output_type": "stream",
     "text": [
      "\r",
      "training:  59%|██████████████████████████████████████████████████████████████████████▌                                                 | 533/907 [30:07<21:08,  3.39s/it]"
     ]
    },
    {
     "name": "stdout",
     "output_type": "stream",
     "text": [
      "training loss: 0.12885722517967224\n",
      "training loss: 0.10026397556066513\n",
      "training loss: 0.04970598965883255\n"
     ]
    },
    {
     "name": "stderr",
     "output_type": "stream",
     "text": [
      "\r",
      "training:  59%|██████████████████████████████████████████████████████████████████████▉                                                 | 536/907 [30:17<20:57,  3.39s/it]"
     ]
    },
    {
     "name": "stdout",
     "output_type": "stream",
     "text": [
      "training loss: 0.05712461471557617\n",
      "training loss: 0.041400570422410965\n",
      "training loss: 0.05666438862681389\n"
     ]
    },
    {
     "name": "stderr",
     "output_type": "stream",
     "text": [
      "\r",
      "training:  59%|███████████████████████████████████████████████████████████████████████▎                                                | 539/907 [30:27<20:45,  3.38s/it]"
     ]
    },
    {
     "name": "stdout",
     "output_type": "stream",
     "text": [
      "training loss: 0.0779862105846405\n",
      "training loss: 0.05642976984381676\n",
      "training loss: 0.05833607539534569\n",
      "validation loss: 0.055281978100538254\n"
     ]
    },
    {
     "name": "stderr",
     "output_type": "stream",
     "text": [
      "\r",
      "training:  60%|███████████████████████████████████████████████████████████████████████▋                                                | 542/907 [30:37<20:45,  3.41s/it]"
     ]
    },
    {
     "name": "stdout",
     "output_type": "stream",
     "text": [
      "training loss: 0.02855665050446987\n",
      "training loss: 0.047661520540714264\n",
      "training loss: 0.07901465892791748\n"
     ]
    },
    {
     "name": "stderr",
     "output_type": "stream",
     "text": [
      "\r",
      "training:  60%|████████████████████████████████████████████████████████████████████████                                                | 545/907 [30:48<20:30,  3.40s/it]"
     ]
    },
    {
     "name": "stdout",
     "output_type": "stream",
     "text": [
      "training loss: 0.0608169361948967\n",
      "training loss: 0.04416431486606598\n",
      "training loss: 0.06334618479013443\n"
     ]
    },
    {
     "name": "stderr",
     "output_type": "stream",
     "text": [
      "\r",
      "training:  60%|████████████████████████████████████████████████████████████████████████▌                                               | 548/907 [30:58<20:17,  3.39s/it]"
     ]
    },
    {
     "name": "stdout",
     "output_type": "stream",
     "text": [
      "training loss: 0.09352217614650726\n",
      "training loss: 0.04311424866318703\n",
      "training loss: 0.06009815260767937\n"
     ]
    },
    {
     "name": "stderr",
     "output_type": "stream",
     "text": [
      "\r",
      "training:  61%|████████████████████████████████████████████████████████████████████████▉                                               | 551/907 [31:08<20:07,  3.39s/it]"
     ]
    },
    {
     "name": "stdout",
     "output_type": "stream",
     "text": [
      "training loss: 0.04331474006175995\n",
      "training loss: 0.07179991900920868\n",
      "training loss: 0.04409561678767204\n"
     ]
    },
    {
     "name": "stderr",
     "output_type": "stream",
     "text": [
      "\r",
      "training:  61%|█████████████████████████████████████████████████████████████████████████▎                                              | 554/907 [31:18<19:57,  3.39s/it]"
     ]
    },
    {
     "name": "stdout",
     "output_type": "stream",
     "text": [
      "training loss: 0.06187077984213829\n",
      "training loss: 0.06727983802556992\n",
      "training loss: 0.06786534190177917\n"
     ]
    },
    {
     "name": "stderr",
     "output_type": "stream",
     "text": [
      "\r",
      "training:  61%|█████████████████████████████████████████████████████████████████████████▋                                              | 557/907 [31:28<19:45,  3.39s/it]"
     ]
    },
    {
     "name": "stdout",
     "output_type": "stream",
     "text": [
      "training loss: 0.059946153312921524\n",
      "training loss: 0.04291801154613495\n",
      "training loss: 0.06484698504209518\n"
     ]
    },
    {
     "name": "stderr",
     "output_type": "stream",
     "text": [
      "\r",
      "training:  62%|██████████████████████████████████████████████████████████████████████████                                              | 560/907 [31:38<19:34,  3.39s/it]"
     ]
    },
    {
     "name": "stdout",
     "output_type": "stream",
     "text": [
      "training loss: 0.050873078405857086\n",
      "training loss: 0.10048234462738037\n",
      "validation loss: 0.043129488825798035\n",
      "training loss: 0.062077391892671585\n"
     ]
    },
    {
     "name": "stderr",
     "output_type": "stream",
     "text": [
      "\r",
      "training:  62%|██████████████████████████████████████████████████████████████████████████▍                                             | 563/907 [31:49<19:34,  3.41s/it]"
     ]
    },
    {
     "name": "stdout",
     "output_type": "stream",
     "text": [
      "training loss: 0.04105686768889427\n",
      "training loss: 0.07055702060461044\n",
      "training loss: 0.07102719694375992\n"
     ]
    },
    {
     "name": "stderr",
     "output_type": "stream",
     "text": [
      "\r",
      "training:  62%|██████████████████████████████████████████████████████████████████████████▉                                             | 566/907 [31:59<19:21,  3.41s/it]"
     ]
    },
    {
     "name": "stdout",
     "output_type": "stream",
     "text": [
      "training loss: 0.044170547276735306\n",
      "training loss: 0.05482238531112671\n",
      "training loss: 0.043710172176361084\n"
     ]
    },
    {
     "name": "stderr",
     "output_type": "stream",
     "text": [
      "\r",
      "training:  63%|███████████████████████████████████████████████████████████████████████████▎                                            | 569/907 [32:09<19:08,  3.40s/it]"
     ]
    },
    {
     "name": "stdout",
     "output_type": "stream",
     "text": [
      "training loss: 0.0639156848192215\n",
      "training loss: 0.06208231300115585\n",
      "training loss: 0.05940210819244385\n"
     ]
    },
    {
     "name": "stderr",
     "output_type": "stream",
     "text": [
      "\r",
      "training:  63%|███████████████████████████████████████████████████████████████████████████▋                                            | 572/907 [32:19<18:56,  3.39s/it]"
     ]
    },
    {
     "name": "stdout",
     "output_type": "stream",
     "text": [
      "training loss: 0.08528414368629456\n",
      "training loss: 0.06317190825939178\n",
      "training loss: 0.047554004937410355\n"
     ]
    },
    {
     "name": "stderr",
     "output_type": "stream",
     "text": [
      "\r",
      "training:  63%|████████████████████████████████████████████████████████████████████████████                                            | 575/907 [32:29<18:46,  3.39s/it]"
     ]
    },
    {
     "name": "stdout",
     "output_type": "stream",
     "text": [
      "training loss: 0.05243224278092384\n",
      "training loss: 0.04258207604289055\n",
      "training loss: 0.04084881395101547\n"
     ]
    },
    {
     "name": "stderr",
     "output_type": "stream",
     "text": [
      "\r",
      "training:  64%|████████████████████████████████████████████████████████████████████████████▍                                           | 578/907 [32:40<18:35,  3.39s/it]"
     ]
    },
    {
     "name": "stdout",
     "output_type": "stream",
     "text": [
      "training loss: 0.05640319734811783\n",
      "training loss: 0.07067756354808807\n",
      "training loss: 0.05251305177807808\n"
     ]
    },
    {
     "name": "stderr",
     "output_type": "stream",
     "text": [
      "\r",
      "training:  64%|████████████████████████████████████████████████████████████████████████████▍                                           | 578/907 [32:50<18:35,  3.39s/it]"
     ]
    },
    {
     "name": "stdout",
     "output_type": "stream",
     "text": [
      "training loss: 0.05133742094039917\n"
     ]
    },
    {
     "name": "stderr",
     "output_type": "stream",
     "text": [
      "\r",
      "training:  64%|████████████████████████████████████████████████████████████████████████████▊                                           | 581/907 [32:50<18:33,  3.42s/it]"
     ]
    },
    {
     "name": "stdout",
     "output_type": "stream",
     "text": [
      "validation loss: 0.06426765769720078\n",
      "training loss: 0.0774228647351265\n",
      "training loss: 0.08315169811248779\n"
     ]
    },
    {
     "name": "stderr",
     "output_type": "stream",
     "text": [
      "\r",
      "training:  64%|█████████████████████████████████████████████████████████████████████████████▎                                          | 584/907 [33:00<18:19,  3.40s/it]"
     ]
    },
    {
     "name": "stdout",
     "output_type": "stream",
     "text": [
      "training loss: 0.07695695012807846\n",
      "training loss: 0.07876196503639221\n",
      "training loss: 0.07367856800556183\n"
     ]
    },
    {
     "name": "stderr",
     "output_type": "stream",
     "text": [
      "\r",
      "training:  65%|█████████████████████████████████████████████████████████████████████████████▋                                          | 587/907 [33:10<18:07,  3.40s/it]"
     ]
    },
    {
     "name": "stdout",
     "output_type": "stream",
     "text": [
      "training loss: 0.04624810069799423\n",
      "training loss: 0.06534121930599213\n",
      "training loss: 0.07648338377475739\n"
     ]
    },
    {
     "name": "stderr",
     "output_type": "stream",
     "text": [
      "\r",
      "training:  65%|██████████████████████████████████████████████████████████████████████████████                                          | 590/907 [33:20<17:54,  3.39s/it]"
     ]
    },
    {
     "name": "stdout",
     "output_type": "stream",
     "text": [
      "training loss: 0.04400208964943886\n",
      "training loss: 0.04722917452454567\n",
      "training loss: 0.07408061623573303\n"
     ]
    },
    {
     "name": "stderr",
     "output_type": "stream",
     "text": [
      "\r",
      "training:  65%|██████████████████████████████████████████████████████████████████████████████▍                                         | 593/907 [33:30<17:43,  3.39s/it]"
     ]
    },
    {
     "name": "stdout",
     "output_type": "stream",
     "text": [
      "training loss: 0.042310524731874466\n",
      "training loss: 0.0860498920083046\n",
      "training loss: 0.046303827315568924\n"
     ]
    },
    {
     "name": "stderr",
     "output_type": "stream",
     "text": [
      "\r",
      "training:  66%|██████████████████████████████████████████████████████████████████████████████▊                                         | 596/907 [33:41<17:32,  3.38s/it]"
     ]
    },
    {
     "name": "stdout",
     "output_type": "stream",
     "text": [
      "training loss: 0.049197420477867126\n",
      "training loss: 0.08933981508016586\n",
      "training loss: 0.04219686985015869\n"
     ]
    },
    {
     "name": "stderr",
     "output_type": "stream",
     "text": [
      "\r",
      "training:  66%|███████████████████████████████████████████████████████████████████████████████▎                                        | 599/907 [33:51<17:21,  3.38s/it]"
     ]
    },
    {
     "name": "stdout",
     "output_type": "stream",
     "text": [
      "training loss: 0.17475581169128418\n",
      "training loss: 0.056198541074991226\n",
      "training loss: 0.04580308869481087\n",
      "validation loss: 0.05442114174365997\n"
     ]
    },
    {
     "name": "stderr",
     "output_type": "stream",
     "text": [
      "\r",
      "training:  66%|███████████████████████████████████████████████████████████████████████████████▋                                        | 602/907 [34:01<17:21,  3.42s/it]"
     ]
    },
    {
     "name": "stdout",
     "output_type": "stream",
     "text": [
      "training loss: 0.07590307295322418\n",
      "training loss: 0.10219591856002808\n",
      "training loss: 0.03598898649215698\n",
      "training loss: 0.07956940680742264\n"
     ]
    },
    {
     "name": "stderr",
     "output_type": "stream",
     "text": [
      "\r",
      "training:  67%|████████████████████████████████████████████████████████████████████████████████▏                                       | 606/907 [34:14<16:48,  3.35s/it]"
     ]
    },
    {
     "name": "stdout",
     "output_type": "stream",
     "text": [
      "training loss: 0.03175966814160347\n",
      "training loss: 0.043502409011125565\n",
      "training loss: 0.03032505325973034\n",
      "training loss: 0.03826754540205002\n"
     ]
    },
    {
     "name": "stderr",
     "output_type": "stream",
     "text": [
      "\r",
      "training:  67%|████████████████████████████████████████████████████████████████████████████████▋                                       | 610/907 [34:28<16:37,  3.36s/it]"
     ]
    },
    {
     "name": "stdout",
     "output_type": "stream",
     "text": [
      "training loss: 0.0575677864253521\n",
      "training loss: 0.028469843789935112\n",
      "training loss: 0.06684781610965729\n"
     ]
    },
    {
     "name": "stderr",
     "output_type": "stream",
     "text": [
      "\r",
      "training:  68%|█████████████████████████████████████████████████████████████████████████████████                                       | 613/907 [34:38<16:29,  3.37s/it]"
     ]
    },
    {
     "name": "stdout",
     "output_type": "stream",
     "text": [
      "training loss: 0.04325263202190399\n",
      "training loss: 0.05772649869322777\n",
      "training loss: 0.01784312166273594\n"
     ]
    },
    {
     "name": "stderr",
     "output_type": "stream",
     "text": [
      "\r",
      "training:  68%|█████████████████████████████████████████████████████████████████████████████████▍                                      | 616/907 [34:48<16:19,  3.37s/it]"
     ]
    },
    {
     "name": "stdout",
     "output_type": "stream",
     "text": [
      "training loss: 0.047972969710826874\n",
      "training loss: 0.07058262079954147\n",
      "training loss: 0.08093659579753876\n"
     ]
    },
    {
     "name": "stderr",
     "output_type": "stream",
     "text": [
      "\r",
      "training:  68%|█████████████████████████████████████████████████████████████████████████████████▉                                      | 619/907 [34:58<16:11,  3.37s/it]"
     ]
    },
    {
     "name": "stdout",
     "output_type": "stream",
     "text": [
      "training loss: 0.09258156269788742\n",
      "training loss: 0.0376921109855175\n",
      "training loss: 0.07430043816566467\n",
      "validation loss: 0.038186199963092804\n"
     ]
    },
    {
     "name": "stderr",
     "output_type": "stream",
     "text": [
      "\r",
      "training:  69%|██████████████████████████████████████████████████████████████████████████████████▎                                     | 622/907 [35:08<16:10,  3.41s/it]"
     ]
    },
    {
     "name": "stdout",
     "output_type": "stream",
     "text": [
      "training loss: 0.06600207835435867\n",
      "training loss: 0.09827897697687149\n",
      "training loss: 0.013795396313071251\n"
     ]
    },
    {
     "name": "stderr",
     "output_type": "stream",
     "text": [
      "\r",
      "training:  69%|██████████████████████████████████████████████████████████████████████████████████▋                                     | 625/907 [35:19<15:59,  3.40s/it]"
     ]
    },
    {
     "name": "stdout",
     "output_type": "stream",
     "text": [
      "training loss: 0.1614631861448288\n",
      "training loss: 0.011289977468550205\n",
      "training loss: 0.08803468942642212\n"
     ]
    },
    {
     "name": "stderr",
     "output_type": "stream",
     "text": [
      "\r",
      "training:  69%|███████████████████████████████████████████████████████████████████████████████████                                     | 628/907 [35:29<15:47,  3.40s/it]"
     ]
    },
    {
     "name": "stdout",
     "output_type": "stream",
     "text": [
      "training loss: 0.03495665639638901\n",
      "training loss: 0.05813921242952347\n",
      "training loss: 0.014452270232141018\n"
     ]
    },
    {
     "name": "stderr",
     "output_type": "stream",
     "text": [
      "\r",
      "training:  70%|███████████████████████████████████████████████████████████████████████████████████▍                                    | 631/907 [35:39<15:35,  3.39s/it]"
     ]
    },
    {
     "name": "stdout",
     "output_type": "stream",
     "text": [
      "training loss: 0.025452319532632828\n",
      "training loss: 0.10699217766523361\n",
      "training loss: 0.020312929525971413\n"
     ]
    },
    {
     "name": "stderr",
     "output_type": "stream",
     "text": [
      "\r",
      "training:  70%|███████████████████████████████████████████████████████████████████████████████████▉                                    | 634/907 [35:49<15:24,  3.38s/it]"
     ]
    },
    {
     "name": "stdout",
     "output_type": "stream",
     "text": [
      "training loss: 0.011377952061593533\n",
      "training loss: 0.06058366596698761\n",
      "training loss: 0.1105828508734703\n"
     ]
    },
    {
     "name": "stderr",
     "output_type": "stream",
     "text": [
      "\r",
      "training:  70%|████████████████████████████████████████████████████████████████████████████████████▎                                   | 637/907 [35:59<15:13,  3.38s/it]"
     ]
    },
    {
     "name": "stdout",
     "output_type": "stream",
     "text": [
      "training loss: 0.052409254014492035\n",
      "training loss: 0.0685088261961937\n",
      "training loss: 0.0955389142036438\n"
     ]
    },
    {
     "name": "stderr",
     "output_type": "stream",
     "text": [
      "\r",
      "training:  71%|████████████████████████████████████████████████████████████████████████████████████▋                                   | 640/907 [36:09<15:02,  3.38s/it]"
     ]
    },
    {
     "name": "stdout",
     "output_type": "stream",
     "text": [
      "training loss: 0.04475093260407448\n",
      "training loss: 0.04495469108223915\n",
      "validation loss: 0.057754382491111755\n",
      "training loss: 0.07055062055587769\n"
     ]
    },
    {
     "name": "stderr",
     "output_type": "stream",
     "text": [
      "training:  71%|█████████████████████████████████████████████████████████████████████████████████████                                   | 643/907 [36:20<14:59,  3.41s/it]"
     ]
    },
    {
     "name": "stdout",
     "output_type": "stream",
     "text": [
      "training loss: 0.07601150870323181\n",
      "training loss: 0.04746390879154205\n",
      "training loss: 0.07679691165685654\n"
     ]
    },
    {
     "name": "stderr",
     "output_type": "stream",
     "text": [
      "\r",
      "training:  71%|█████████████████████████████████████████████████████████████████████████████████████▍                                  | 646/907 [36:30<14:48,  3.40s/it]"
     ]
    },
    {
     "name": "stdout",
     "output_type": "stream",
     "text": [
      "training loss: 0.052516814321279526\n",
      "training loss: 0.0401667058467865\n",
      "training loss: 0.11221128702163696\n"
     ]
    },
    {
     "name": "stderr",
     "output_type": "stream",
     "text": [
      "\r",
      "training:  72%|█████████████████████████████████████████████████████████████████████████████████████▊                                  | 649/907 [36:40<14:36,  3.40s/it]"
     ]
    },
    {
     "name": "stdout",
     "output_type": "stream",
     "text": [
      "training loss: 0.09108005464076996\n",
      "training loss: 0.046768493950366974\n",
      "training loss: 0.040500134229660034\n"
     ]
    },
    {
     "name": "stderr",
     "output_type": "stream",
     "text": [
      "\r",
      "training:  72%|██████████████████████████████████████████████████████████████████████████████████████▎                                 | 652/907 [36:50<14:25,  3.39s/it]"
     ]
    },
    {
     "name": "stdout",
     "output_type": "stream",
     "text": [
      "training loss: 0.07451096177101135\n",
      "training loss: 0.039031025022268295\n",
      "training loss: 0.08312105387449265\n"
     ]
    },
    {
     "name": "stderr",
     "output_type": "stream",
     "text": [
      "\r",
      "training:  72%|██████████████████████████████████████████████████████████████████████████████████████▋                                 | 655/907 [37:00<14:13,  3.39s/it]"
     ]
    },
    {
     "name": "stdout",
     "output_type": "stream",
     "text": [
      "training loss: 0.07822734862565994\n",
      "training loss: 0.059210922569036484\n",
      "training loss: 0.07905713468790054\n"
     ]
    },
    {
     "name": "stderr",
     "output_type": "stream",
     "text": [
      "\r",
      "training:  73%|███████████████████████████████████████████████████████████████████████████████████████                                 | 658/907 [37:10<14:03,  3.39s/it]"
     ]
    },
    {
     "name": "stdout",
     "output_type": "stream",
     "text": [
      "training loss: 0.058509983122348785\n",
      "training loss: 0.08854219317436218\n",
      "training loss: 0.06617502123117447\n",
      "training loss: 0.07436253875494003\n"
     ]
    },
    {
     "name": "stderr",
     "output_type": "stream",
     "text": [
      "\r",
      "training:  73%|███████████████████████████████████████████████████████████████████████████████████████▍                                | 661/907 [37:21<13:58,  3.41s/it]"
     ]
    },
    {
     "name": "stdout",
     "output_type": "stream",
     "text": [
      "validation loss: 0.08182656764984131\n",
      "training loss: 0.03924510255455971\n",
      "training loss: 0.05404720455408096\n"
     ]
    },
    {
     "name": "stderr",
     "output_type": "stream",
     "text": [
      "\r",
      "training:  73%|███████████████████████████████████████████████████████████████████████████████████████▊                                | 664/907 [37:31<13:46,  3.40s/it]"
     ]
    },
    {
     "name": "stdout",
     "output_type": "stream",
     "text": [
      "training loss: 0.07981029152870178\n",
      "training loss: 0.06111011654138565\n",
      "training loss: 0.04569348692893982\n"
     ]
    },
    {
     "name": "stderr",
     "output_type": "stream",
     "text": [
      "\r",
      "training:  74%|████████████████████████████████████████████████████████████████████████████████████████▏                               | 667/907 [37:41<13:34,  3.40s/it]"
     ]
    },
    {
     "name": "stdout",
     "output_type": "stream",
     "text": [
      "training loss: 0.05536738783121109\n",
      "training loss: 0.05389329046010971\n",
      "training loss: 0.06945661455392838\n"
     ]
    },
    {
     "name": "stderr",
     "output_type": "stream",
     "text": [
      "\r",
      "training:  74%|████████████████████████████████████████████████████████████████████████████████████████▋                               | 670/907 [37:51<13:24,  3.39s/it]"
     ]
    },
    {
     "name": "stdout",
     "output_type": "stream",
     "text": [
      "training loss: 0.02985535003244877\n",
      "training loss: 0.07374777644872665\n",
      "training loss: 0.03930540382862091\n"
     ]
    },
    {
     "name": "stderr",
     "output_type": "stream",
     "text": [
      "\r",
      "training:  74%|█████████████████████████████████████████████████████████████████████████████████████████                               | 673/907 [38:01<13:14,  3.39s/it]"
     ]
    },
    {
     "name": "stdout",
     "output_type": "stream",
     "text": [
      "training loss: 0.06304708123207092\n",
      "training loss: 0.07948555052280426\n",
      "training loss: 0.06455882638692856\n"
     ]
    },
    {
     "name": "stderr",
     "output_type": "stream",
     "text": [
      "\r",
      "training:  75%|█████████████████████████████████████████████████████████████████████████████████████████▍                              | 676/907 [38:12<13:03,  3.39s/it]"
     ]
    },
    {
     "name": "stdout",
     "output_type": "stream",
     "text": [
      "training loss: 0.06490755081176758\n",
      "training loss: 0.05326342210173607\n",
      "training loss: 0.09352664649486542\n"
     ]
    },
    {
     "name": "stderr",
     "output_type": "stream",
     "text": [
      "\r",
      "training:  75%|█████████████████████████████████████████████████████████████████████████████████████████▊                              | 679/907 [38:22<12:52,  3.39s/it]"
     ]
    },
    {
     "name": "stdout",
     "output_type": "stream",
     "text": [
      "training loss: 0.05501599237322807\n",
      "training loss: 0.05565452575683594\n",
      "training loss: 0.04947162792086601\n",
      "validation loss: 0.045311905443668365\n"
     ]
    },
    {
     "name": "stderr",
     "output_type": "stream",
     "text": [
      "\r",
      "training:  75%|██████████████████████████████████████████████████████████████████████████████████████████▏                             | 682/907 [38:32<12:47,  3.41s/it]"
     ]
    },
    {
     "name": "stdout",
     "output_type": "stream",
     "text": [
      "training loss: 0.03999747708439827\n",
      "training loss: 0.07718677073717117\n",
      "training loss: 0.08773800730705261\n"
     ]
    },
    {
     "name": "stderr",
     "output_type": "stream",
     "text": [
      "\r",
      "training:  76%|██████████████████████████████████████████████████████████████████████████████████████████▋                             | 685/907 [38:42<12:34,  3.40s/it]"
     ]
    },
    {
     "name": "stdout",
     "output_type": "stream",
     "text": [
      "training loss: 0.06878403574228287\n",
      "training loss: 0.05485596880316734\n",
      "training loss: 0.0636269673705101\n"
     ]
    },
    {
     "name": "stderr",
     "output_type": "stream",
     "text": [
      "\r",
      "training:  76%|███████████████████████████████████████████████████████████████████████████████████████████                             | 688/907 [38:52<12:23,  3.39s/it]"
     ]
    },
    {
     "name": "stdout",
     "output_type": "stream",
     "text": [
      "training loss: 0.04923275113105774\n",
      "training loss: 0.07968223094940186\n",
      "training loss: 0.054722629487514496\n"
     ]
    },
    {
     "name": "stderr",
     "output_type": "stream",
     "text": [
      "\r",
      "training:  76%|███████████████████████████████████████████████████████████████████████████████████████████▍                            | 691/907 [39:03<12:12,  3.39s/it]"
     ]
    },
    {
     "name": "stdout",
     "output_type": "stream",
     "text": [
      "training loss: 0.08995215594768524\n",
      "training loss: 0.03508174419403076\n",
      "training loss: 0.05929050222039223\n"
     ]
    },
    {
     "name": "stderr",
     "output_type": "stream",
     "text": [
      "\r",
      "training:  77%|███████████████████████████████████████████████████████████████████████████████████████████▊                            | 694/907 [39:13<12:02,  3.39s/it]"
     ]
    },
    {
     "name": "stdout",
     "output_type": "stream",
     "text": [
      "training loss: 0.07498180866241455\n",
      "training loss: 0.10976913571357727\n",
      "training loss: 0.043301668018102646\n"
     ]
    },
    {
     "name": "stderr",
     "output_type": "stream",
     "text": [
      "\r",
      "training:  77%|████████████████████████████████████████████████████████████████████████████████████████████▏                           | 697/907 [39:23<11:51,  3.39s/it]"
     ]
    },
    {
     "name": "stdout",
     "output_type": "stream",
     "text": [
      "training loss: 0.11570360511541367\n",
      "training loss: 0.05428130924701691\n",
      "training loss: 0.06530365347862244\n"
     ]
    },
    {
     "name": "stderr",
     "output_type": "stream",
     "text": [
      "\r",
      "training:  77%|████████████████████████████████████████████████████████████████████████████████████████████▌                           | 700/907 [39:33<11:40,  3.39s/it]"
     ]
    },
    {
     "name": "stdout",
     "output_type": "stream",
     "text": [
      "training loss: 0.09146276861429214\n",
      "training loss: 0.06989752501249313\n",
      "validation loss: 0.047402724623680115\n",
      "training loss: 0.1018352136015892\n"
     ]
    },
    {
     "name": "stderr",
     "output_type": "stream",
     "text": [
      "\r",
      "training:  78%|█████████████████████████████████████████████████████████████████████████████████████████████                           | 703/907 [39:43<11:35,  3.41s/it]"
     ]
    },
    {
     "name": "stdout",
     "output_type": "stream",
     "text": [
      "training loss: 0.06526228785514832\n",
      "training loss: 0.06219303607940674\n",
      "training loss: 0.06404120475053787\n"
     ]
    },
    {
     "name": "stderr",
     "output_type": "stream",
     "text": [
      "\r",
      "training:  78%|█████████████████████████████████████████████████████████████████████████████████████████████▍                          | 706/907 [39:54<11:23,  3.40s/it]"
     ]
    },
    {
     "name": "stdout",
     "output_type": "stream",
     "text": [
      "training loss: 0.03905690461397171\n",
      "training loss: 0.051050275564193726\n",
      "training loss: 0.03952069953083992\n"
     ]
    },
    {
     "name": "stderr",
     "output_type": "stream",
     "text": [
      "\r",
      "training:  78%|█████████████████████████████████████████████████████████████████████████████████████████████▊                          | 709/907 [40:04<11:12,  3.39s/it]"
     ]
    },
    {
     "name": "stdout",
     "output_type": "stream",
     "text": [
      "training loss: 0.09147464483976364\n",
      "training loss: 0.044430483132600784\n",
      "training loss: 0.05290262773633003\n"
     ]
    },
    {
     "name": "stderr",
     "output_type": "stream",
     "text": [
      "\r",
      "training:  79%|██████████████████████████████████████████████████████████████████████████████████████████████▏                         | 712/907 [40:14<11:00,  3.39s/it]"
     ]
    },
    {
     "name": "stdout",
     "output_type": "stream",
     "text": [
      "training loss: 0.02524317242205143\n",
      "training loss: 0.08382876962423325\n",
      "training loss: 0.06789233535528183\n"
     ]
    },
    {
     "name": "stderr",
     "output_type": "stream",
     "text": [
      "\r",
      "training:  79%|██████████████████████████████████████████████████████████████████████████████████████████████▌                         | 715/907 [40:24<10:50,  3.39s/it]"
     ]
    },
    {
     "name": "stdout",
     "output_type": "stream",
     "text": [
      "training loss: 0.06916563957929611\n",
      "training loss: 0.046668242663145065\n",
      "training loss: 0.05309396609663963\n"
     ]
    },
    {
     "name": "stderr",
     "output_type": "stream",
     "text": [
      "\r",
      "training:  79%|██████████████████████████████████████████████████████████████████████████████████████████████▉                         | 718/907 [40:34<10:40,  3.39s/it]"
     ]
    },
    {
     "name": "stdout",
     "output_type": "stream",
     "text": [
      "training loss: 0.08620477467775345\n",
      "training loss: 0.03445175662636757\n",
      "training loss: 0.03650487959384918\n",
      "training loss: 0.04047664999961853\n"
     ]
    },
    {
     "name": "stderr",
     "output_type": "stream",
     "text": [
      "\r",
      "training:  79%|███████████████████████████████████████████████████████████████████████████████████████████████▍                        | 721/907 [40:45<10:35,  3.41s/it]"
     ]
    },
    {
     "name": "stdout",
     "output_type": "stream",
     "text": [
      "validation loss: 0.05290227755904198\n",
      "training loss: 0.05609765276312828\n",
      "training loss: 0.05467194318771362\n"
     ]
    },
    {
     "name": "stderr",
     "output_type": "stream",
     "text": [
      "\r",
      "training:  80%|███████████████████████████████████████████████████████████████████████████████████████████████▊                        | 724/907 [40:55<10:23,  3.40s/it]"
     ]
    },
    {
     "name": "stdout",
     "output_type": "stream",
     "text": [
      "training loss: 0.051478058099746704\n",
      "training loss: 0.05929110571742058\n",
      "training loss: 0.04212070256471634\n"
     ]
    },
    {
     "name": "stderr",
     "output_type": "stream",
     "text": [
      "\r",
      "training:  80%|████████████████████████████████████████████████████████████████████████████████████████████████▏                       | 727/907 [41:05<10:11,  3.40s/it]"
     ]
    },
    {
     "name": "stdout",
     "output_type": "stream",
     "text": [
      "training loss: 0.06803926825523376\n",
      "training loss: 0.05740097165107727\n",
      "training loss: 0.04807358235120773\n"
     ]
    },
    {
     "name": "stderr",
     "output_type": "stream",
     "text": [
      "\r",
      "training:  80%|████████████████████████████████████████████████████████████████████████████████████████████████▌                       | 730/907 [41:15<09:59,  3.39s/it]"
     ]
    },
    {
     "name": "stdout",
     "output_type": "stream",
     "text": [
      "training loss: 0.059863533824682236\n",
      "training loss: 0.03620244190096855\n",
      "training loss: 0.06400644779205322\n"
     ]
    },
    {
     "name": "stderr",
     "output_type": "stream",
     "text": [
      "\r",
      "training:  81%|████████████████████████████████████████████████████████████████████████████████████████████████▉                       | 733/907 [41:25<09:49,  3.39s/it]"
     ]
    },
    {
     "name": "stdout",
     "output_type": "stream",
     "text": [
      "training loss: 0.06936991959810257\n",
      "training loss: 0.0424797460436821\n",
      "training loss: 0.07063020765781403\n"
     ]
    },
    {
     "name": "stderr",
     "output_type": "stream",
     "text": [
      "\r",
      "training:  81%|█████████████████████████████████████████████████████████████████████████████████████████████████▍                      | 736/907 [41:35<09:38,  3.38s/it]"
     ]
    },
    {
     "name": "stdout",
     "output_type": "stream",
     "text": [
      "training loss: 0.04627387225627899\n",
      "training loss: 0.03158041089773178\n",
      "training loss: 0.07021136581897736\n"
     ]
    },
    {
     "name": "stderr",
     "output_type": "stream",
     "text": [
      "\r",
      "training:  81%|█████████████████████████████████████████████████████████████████████████████████████████████████▊                      | 739/907 [41:45<09:28,  3.39s/it]"
     ]
    },
    {
     "name": "stdout",
     "output_type": "stream",
     "text": [
      "training loss: 0.0389702245593071\n",
      "training loss: 0.06945426017045975\n",
      "training loss: 0.08858935534954071\n",
      "validation loss: 0.059152089059352875\n"
     ]
    },
    {
     "name": "stderr",
     "output_type": "stream",
     "text": [
      "\r",
      "training:  82%|██████████████████████████████████████████████████████████████████████████████████████████████████▏                     | 742/907 [41:56<09:23,  3.42s/it]"
     ]
    },
    {
     "name": "stdout",
     "output_type": "stream",
     "text": [
      "training loss: 0.09163138270378113\n",
      "training loss: 0.07235419750213623\n",
      "training loss: 0.06547126173973083\n"
     ]
    },
    {
     "name": "stderr",
     "output_type": "stream",
     "text": [
      "\r",
      "training:  82%|██████████████████████████████████████████████████████████████████████████████████████████████████▌                     | 745/907 [42:06<09:11,  3.41s/it]"
     ]
    },
    {
     "name": "stdout",
     "output_type": "stream",
     "text": [
      "training loss: 0.07842419296503067\n",
      "training loss: 0.04994241148233414\n",
      "training loss: 0.09434371441602707\n"
     ]
    },
    {
     "name": "stderr",
     "output_type": "stream",
     "text": [
      "\r",
      "training:  82%|██████████████████████████████████████████████████████████████████████████████████████████████████▉                     | 748/907 [42:16<09:00,  3.40s/it]"
     ]
    },
    {
     "name": "stdout",
     "output_type": "stream",
     "text": [
      "training loss: 0.04419607296586037\n",
      "training loss: 0.07611896097660065\n",
      "training loss: 0.0596456304192543\n"
     ]
    },
    {
     "name": "stderr",
     "output_type": "stream",
     "text": [
      "\r",
      "training:  83%|███████████████████████████████████████████████████████████████████████████████████████████████████▎                    | 751/907 [42:26<08:49,  3.39s/it]"
     ]
    },
    {
     "name": "stdout",
     "output_type": "stream",
     "text": [
      "training loss: 0.025942804291844368\n",
      "training loss: 0.08422546088695526\n",
      "training loss: 0.04927615076303482\n"
     ]
    },
    {
     "name": "stderr",
     "output_type": "stream",
     "text": [
      "\r",
      "training:  83%|███████████████████████████████████████████████████████████████████████████████████████████████████▊                    | 754/907 [42:36<08:38,  3.39s/it]"
     ]
    },
    {
     "name": "stdout",
     "output_type": "stream",
     "text": [
      "training loss: 0.04008623957633972\n",
      "training loss: 0.06237412989139557\n",
      "training loss: 0.05994036793708801\n"
     ]
    },
    {
     "name": "stderr",
     "output_type": "stream",
     "text": [
      "\r",
      "training:  83%|████████████████████████████████████████████████████████████████████████████████████████████████████▏                   | 757/907 [42:47<08:27,  3.38s/it]"
     ]
    },
    {
     "name": "stdout",
     "output_type": "stream",
     "text": [
      "training loss: 0.048703160136938095\n",
      "training loss: 0.07110846787691116\n",
      "training loss: 0.03373070806264877\n"
     ]
    },
    {
     "name": "stderr",
     "output_type": "stream",
     "text": [
      "\r",
      "training:  84%|████████████████████████████████████████████████████████████████████████████████████████████████████▌                   | 760/907 [42:57<08:17,  3.38s/it]"
     ]
    },
    {
     "name": "stdout",
     "output_type": "stream",
     "text": [
      "training loss: 0.03957360237836838\n",
      "training loss: 0.0745953842997551\n",
      "validation loss: 0.04973607137799263\n",
      "training loss: 0.07040300965309143\n"
     ]
    },
    {
     "name": "stderr",
     "output_type": "stream",
     "text": [
      "\r",
      "training:  84%|████████████████████████████████████████████████████████████████████████████████████████████████████▉                   | 763/907 [43:07<08:12,  3.42s/it]"
     ]
    },
    {
     "name": "stdout",
     "output_type": "stream",
     "text": [
      "training loss: 0.06970642507076263\n",
      "training loss: 0.06591317057609558\n",
      "training loss: 0.08086995780467987\n"
     ]
    },
    {
     "name": "stderr",
     "output_type": "stream",
     "text": [
      "\r",
      "training:  84%|█████████████████████████████████████████████████████████████████████████████████████████████████████▎                  | 766/907 [43:17<08:01,  3.42s/it]"
     ]
    },
    {
     "name": "stdout",
     "output_type": "stream",
     "text": [
      "training loss: 0.03914983198046684\n",
      "training loss: 0.03958454355597496\n",
      "training loss: 0.0587288923561573\n"
     ]
    },
    {
     "name": "stderr",
     "output_type": "stream",
     "text": [
      "\r",
      "training:  85%|█████████████████████████████████████████████████████████████████████████████████████████████████████▋                  | 769/907 [43:28<07:50,  3.41s/it]"
     ]
    },
    {
     "name": "stdout",
     "output_type": "stream",
     "text": [
      "training loss: 0.07295451313257217\n",
      "training loss: 0.04575996845960617\n",
      "training loss: 0.10439328849315643\n"
     ]
    },
    {
     "name": "stderr",
     "output_type": "stream",
     "text": [
      "\r",
      "training:  85%|██████████████████████████████████████████████████████████████████████████████████████████████████████▏                 | 772/907 [43:38<07:38,  3.40s/it]"
     ]
    },
    {
     "name": "stdout",
     "output_type": "stream",
     "text": [
      "training loss: 0.07169537246227264\n",
      "training loss: 0.03144722804427147\n",
      "training loss: 0.10662569105625153\n"
     ]
    },
    {
     "name": "stderr",
     "output_type": "stream",
     "text": [
      "\r",
      "training:  85%|██████████████████████████████████████████████████████████████████████████████████████████████████████▌                 | 775/907 [43:48<07:27,  3.39s/it]"
     ]
    },
    {
     "name": "stdout",
     "output_type": "stream",
     "text": [
      "training loss: 0.06420548260211945\n",
      "training loss: 0.06995175778865814\n",
      "training loss: 0.05855906382203102\n"
     ]
    },
    {
     "name": "stderr",
     "output_type": "stream",
     "text": [
      "\r",
      "training:  86%|██████████████████████████████████████████████████████████████████████████████████████████████████████▉                 | 778/907 [43:58<07:17,  3.39s/it]"
     ]
    },
    {
     "name": "stdout",
     "output_type": "stream",
     "text": [
      "training loss: 0.05999862775206566\n",
      "training loss: 0.06620783358812332\n",
      "training loss: 0.07756049185991287\n",
      "training loss: 0.04690663889050484\n"
     ]
    },
    {
     "name": "stderr",
     "output_type": "stream",
     "text": [
      "\r",
      "training:  86%|███████████████████████████████████████████████████████████████████████████████████████████████████████▎                | 781/907 [44:08<07:10,  3.41s/it]"
     ]
    },
    {
     "name": "stdout",
     "output_type": "stream",
     "text": [
      "validation loss: 0.0527539923787117\n",
      "training loss: 0.05914252623915672\n",
      "training loss: 0.060817327350378036\n"
     ]
    },
    {
     "name": "stderr",
     "output_type": "stream",
     "text": [
      "\r",
      "training:  86%|███████████████████████████████████████████████████████████████████████████████████████████████████████▋                | 784/907 [44:19<06:58,  3.40s/it]"
     ]
    },
    {
     "name": "stdout",
     "output_type": "stream",
     "text": [
      "training loss: 0.06311928480863571\n",
      "training loss: 0.054417893290519714\n",
      "training loss: 0.07523628324270248\n"
     ]
    },
    {
     "name": "stderr",
     "output_type": "stream",
     "text": [
      "\r",
      "training:  87%|████████████████████████████████████████████████████████████████████████████████████████████████████████                | 787/907 [44:29<06:48,  3.40s/it]"
     ]
    },
    {
     "name": "stdout",
     "output_type": "stream",
     "text": [
      "training loss: 0.05187908932566643\n",
      "training loss: 0.08829820156097412\n",
      "training loss: 0.07808446884155273\n"
     ]
    },
    {
     "name": "stderr",
     "output_type": "stream",
     "text": [
      "\r",
      "training:  87%|████████████████████████████████████████████████████████████████████████████████████████████████████████▌               | 790/907 [44:39<06:37,  3.39s/it]"
     ]
    },
    {
     "name": "stdout",
     "output_type": "stream",
     "text": [
      "training loss: 0.06123581528663635\n",
      "training loss: 0.033781226724386215\n",
      "training loss: 0.056426357477903366\n"
     ]
    },
    {
     "name": "stderr",
     "output_type": "stream",
     "text": [
      "\r",
      "training:  87%|████████████████████████████████████████████████████████████████████████████████████████████████████████▉               | 793/907 [44:49<06:26,  3.39s/it]"
     ]
    },
    {
     "name": "stdout",
     "output_type": "stream",
     "text": [
      "training loss: 0.08431289345026016\n",
      "training loss: 0.0309950839728117\n",
      "training loss: 0.11346439272165298\n"
     ]
    },
    {
     "name": "stderr",
     "output_type": "stream",
     "text": [
      "\r",
      "training:  88%|█████████████████████████████████████████████████████████████████████████████████████████████████████████▎              | 796/907 [44:59<06:15,  3.39s/it]"
     ]
    },
    {
     "name": "stdout",
     "output_type": "stream",
     "text": [
      "training loss: 0.05502353236079216\n",
      "training loss: 0.052989546209573746\n",
      "training loss: 0.07729411870241165\n"
     ]
    },
    {
     "name": "stderr",
     "output_type": "stream",
     "text": [
      "\r",
      "training:  88%|█████████████████████████████████████████████████████████████████████████████████████████████████████████▋              | 799/907 [45:09<06:05,  3.38s/it]"
     ]
    },
    {
     "name": "stdout",
     "output_type": "stream",
     "text": [
      "training loss: 0.052408598363399506\n",
      "training loss: 0.056310705840587616\n",
      "training loss: 0.08360499888658524\n",
      "validation loss: 0.08673439174890518\n"
     ]
    },
    {
     "name": "stderr",
     "output_type": "stream",
     "text": [
      "\r",
      "training:  88%|██████████████████████████████████████████████████████████████████████████████████████████████████████████              | 802/907 [45:20<05:57,  3.41s/it]"
     ]
    },
    {
     "name": "stdout",
     "output_type": "stream",
     "text": [
      "training loss: 0.068337082862854\n",
      "training loss: 0.10328888148069382\n",
      "training loss: 0.04499717056751251\n"
     ]
    },
    {
     "name": "stderr",
     "output_type": "stream",
     "text": [
      "training:  89%|██████████████████████████████████████████████████████████████████████████████████████████████████████████▌             | 805/907 [45:30<05:46,  3.40s/it]"
     ]
    },
    {
     "name": "stdout",
     "output_type": "stream",
     "text": [
      "training loss: 0.06669564545154572\n",
      "training loss: 0.031281039118766785\n",
      "training loss: 0.04543633759021759\n"
     ]
    },
    {
     "name": "stderr",
     "output_type": "stream",
     "text": [
      "\r",
      "training:  89%|██████████████████████████████████████████████████████████████████████████████████████████████████████████▉             | 808/907 [45:40<05:36,  3.39s/it]"
     ]
    },
    {
     "name": "stdout",
     "output_type": "stream",
     "text": [
      "training loss: 0.047983571887016296\n",
      "training loss: 0.08452006429433823\n",
      "training loss: 0.045034464448690414\n"
     ]
    },
    {
     "name": "stderr",
     "output_type": "stream",
     "text": [
      "\r",
      "training:  89%|███████████████████████████████████████████████████████████████████████████████████████████████████████████▎            | 811/907 [45:50<05:25,  3.39s/it]"
     ]
    },
    {
     "name": "stdout",
     "output_type": "stream",
     "text": [
      "training loss: 0.04743633419275284\n",
      "training loss: 0.037867121398448944\n",
      "training loss: 0.05825094133615494\n"
     ]
    },
    {
     "name": "stderr",
     "output_type": "stream",
     "text": [
      "\r",
      "training:  90%|███████████████████████████████████████████████████████████████████████████████████████████████████████████▋            | 814/907 [46:00<05:15,  3.39s/it]"
     ]
    },
    {
     "name": "stdout",
     "output_type": "stream",
     "text": [
      "training loss: 0.029768483713269234\n",
      "training loss: 0.06859193742275238\n",
      "training loss: 0.04574869945645332\n"
     ]
    },
    {
     "name": "stderr",
     "output_type": "stream",
     "text": [
      "\r",
      "training:  90%|████████████████████████████████████████████████████████████████████████████████████████████████████████████            | 817/907 [46:10<05:05,  3.39s/it]"
     ]
    },
    {
     "name": "stdout",
     "output_type": "stream",
     "text": [
      "training loss: 0.03370000049471855\n",
      "training loss: 0.05261105298995972\n",
      "training loss: 0.042319681495428085\n"
     ]
    },
    {
     "name": "stderr",
     "output_type": "stream",
     "text": [
      "\r",
      "training:  90%|████████████████████████████████████████████████████████████████████████████████████████████████████████████▍           | 820/907 [46:21<04:54,  3.38s/it]"
     ]
    },
    {
     "name": "stdout",
     "output_type": "stream",
     "text": [
      "training loss: 0.0486859567463398\n",
      "training loss: 0.06329341232776642\n",
      "validation loss: 0.07820024341344833\n",
      "training loss: 0.031310632824897766\n"
     ]
    },
    {
     "name": "stderr",
     "output_type": "stream",
     "text": [
      "\r",
      "training:  91%|████████████████████████████████████████████████████████████████████████████████████████████████████████████▉           | 823/907 [46:31<04:46,  3.41s/it]"
     ]
    },
    {
     "name": "stdout",
     "output_type": "stream",
     "text": [
      "training loss: 0.05637829378247261\n",
      "training loss: 0.06469661742448807\n",
      "training loss: 0.05324599891901016\n"
     ]
    },
    {
     "name": "stderr",
     "output_type": "stream",
     "text": [
      "\r",
      "training:  91%|█████████████████████████████████████████████████████████████████████████████████████████████████████████████▎          | 826/907 [46:41<04:35,  3.40s/it]"
     ]
    },
    {
     "name": "stdout",
     "output_type": "stream",
     "text": [
      "training loss: 0.06107243895530701\n",
      "training loss: 0.07095303386449814\n",
      "training loss: 0.032217469066381454\n"
     ]
    },
    {
     "name": "stderr",
     "output_type": "stream",
     "text": [
      "\r",
      "training:  91%|█████████████████████████████████████████████████████████████████████████████████████████████████████████████▋          | 829/907 [46:51<04:24,  3.39s/it]"
     ]
    },
    {
     "name": "stdout",
     "output_type": "stream",
     "text": [
      "training loss: 0.05003447085618973\n",
      "training loss: 0.0629952996969223\n",
      "training loss: 0.07153045386075974\n"
     ]
    },
    {
     "name": "stderr",
     "output_type": "stream",
     "text": [
      "\r",
      "training:  92%|██████████████████████████████████████████████████████████████████████████████████████████████████████████████          | 832/907 [47:01<04:14,  3.39s/it]"
     ]
    },
    {
     "name": "stdout",
     "output_type": "stream",
     "text": [
      "training loss: 0.06425808370113373\n",
      "training loss: 0.0639549195766449\n",
      "training loss: 0.013712006621062756\n"
     ]
    },
    {
     "name": "stderr",
     "output_type": "stream",
     "text": [
      "\r",
      "training:  92%|██████████████████████████████████████████████████████████████████████████████████████████████████████████████▍         | 835/907 [47:12<04:04,  3.39s/it]"
     ]
    },
    {
     "name": "stdout",
     "output_type": "stream",
     "text": [
      "training loss: 0.049155592918395996\n",
      "training loss: 0.05803035572171211\n",
      "training loss: 0.11646351218223572\n"
     ]
    },
    {
     "name": "stderr",
     "output_type": "stream",
     "text": [
      "\r",
      "training:  92%|██████████████████████████████████████████████████████████████████████████████████████████████████████████████▊         | 838/907 [47:22<03:53,  3.39s/it]"
     ]
    },
    {
     "name": "stdout",
     "output_type": "stream",
     "text": [
      "training loss: 0.07968806475400925\n",
      "training loss: 0.06285704672336578\n",
      "training loss: 0.055531322956085205\n",
      "training loss: 0.042353563010692596\n"
     ]
    },
    {
     "name": "stderr",
     "output_type": "stream",
     "text": [
      "\r",
      "training:  93%|███████████████████████████████████████████████████████████████████████████████████████████████████████████████▎        | 841/907 [47:32<03:45,  3.41s/it]"
     ]
    },
    {
     "name": "stdout",
     "output_type": "stream",
     "text": [
      "validation loss: 0.0434979647397995\n",
      "training loss: 0.039838314056396484\n",
      "training loss: 0.045137275010347366\n"
     ]
    },
    {
     "name": "stderr",
     "output_type": "stream",
     "text": [
      "\r",
      "training:  93%|███████████████████████████████████████████████████████████████████████████████████████████████████████████████▋        | 844/907 [47:42<03:34,  3.40s/it]"
     ]
    },
    {
     "name": "stdout",
     "output_type": "stream",
     "text": [
      "training loss: 0.07742609828710556\n",
      "training loss: 0.024644749239087105\n",
      "training loss: 0.05466992408037186\n"
     ]
    },
    {
     "name": "stderr",
     "output_type": "stream",
     "text": [
      "\r",
      "training:  93%|████████████████████████████████████████████████████████████████████████████████████████████████████████████████        | 847/907 [47:52<03:23,  3.40s/it]"
     ]
    },
    {
     "name": "stdout",
     "output_type": "stream",
     "text": [
      "training loss: 0.041098132729530334\n",
      "training loss: 0.053921837359666824\n",
      "training loss: 0.0761399120092392\n"
     ]
    },
    {
     "name": "stderr",
     "output_type": "stream",
     "text": [
      "\r",
      "training:  94%|████████████████████████████████████████████████████████████████████████████████████████████████████████████████▍       | 850/907 [48:02<03:13,  3.39s/it]"
     ]
    },
    {
     "name": "stdout",
     "output_type": "stream",
     "text": [
      "training loss: 0.04755334556102753\n",
      "training loss: 0.09382323175668716\n",
      "training loss: 0.06331279873847961\n"
     ]
    },
    {
     "name": "stderr",
     "output_type": "stream",
     "text": [
      "\r",
      "training:  94%|████████████████████████████████████████████████████████████████████████████████████████████████████████████████▊       | 853/907 [48:13<03:02,  3.39s/it]"
     ]
    },
    {
     "name": "stdout",
     "output_type": "stream",
     "text": [
      "training loss: 0.04977395385503769\n",
      "training loss: 0.09417010843753815\n",
      "training loss: 0.05899646133184433\n"
     ]
    },
    {
     "name": "stderr",
     "output_type": "stream",
     "text": [
      "\r",
      "training:  94%|█████████████████████████████████████████████████████████████████████████████████████████████████████████████████▎      | 856/907 [48:23<02:52,  3.39s/it]"
     ]
    },
    {
     "name": "stdout",
     "output_type": "stream",
     "text": [
      "training loss: 0.06906025111675262\n",
      "training loss: 0.04809951037168503\n",
      "training loss: 0.09420931339263916\n"
     ]
    },
    {
     "name": "stderr",
     "output_type": "stream",
     "text": [
      "\r",
      "training:  95%|█████████████████████████████████████████████████████████████████████████████████████████████████████████████████▋      | 859/907 [48:33<02:42,  3.39s/it]"
     ]
    },
    {
     "name": "stdout",
     "output_type": "stream",
     "text": [
      "training loss: 0.059012170881032944\n",
      "training loss: 0.04493742436170578\n",
      "training loss: 0.05168302729725838\n",
      "validation loss: 0.08450839668512344\n"
     ]
    },
    {
     "name": "stderr",
     "output_type": "stream",
     "text": [
      "\r",
      "training:  95%|██████████████████████████████████████████████████████████████████████████████████████████████████████████████████      | 862/907 [48:43<02:33,  3.41s/it]"
     ]
    },
    {
     "name": "stdout",
     "output_type": "stream",
     "text": [
      "training loss: 0.04518547281622887\n",
      "training loss: 0.05408064275979996\n",
      "training loss: 0.07656484097242355\n"
     ]
    },
    {
     "name": "stderr",
     "output_type": "stream",
     "text": [
      "\r",
      "training:  95%|██████████████████████████████████████████████████████████████████████████████████████████████████████████████████▍     | 865/907 [48:54<02:23,  3.41s/it]"
     ]
    },
    {
     "name": "stdout",
     "output_type": "stream",
     "text": [
      "training loss: 0.035492971539497375\n",
      "training loss: 0.049685146659612656\n",
      "training loss: 0.04858170449733734\n"
     ]
    },
    {
     "name": "stderr",
     "output_type": "stream",
     "text": [
      "\r",
      "training:  96%|██████████████████████████████████████████████████████████████████████████████████████████████████████████████████▊     | 868/907 [49:04<02:12,  3.40s/it]"
     ]
    },
    {
     "name": "stdout",
     "output_type": "stream",
     "text": [
      "training loss: 0.043994802981615067\n",
      "training loss: 0.03830878809094429\n",
      "training loss: 0.05441468581557274\n"
     ]
    },
    {
     "name": "stderr",
     "output_type": "stream",
     "text": [
      "\r",
      "training:  96%|███████████████████████████████████████████████████████████████████████████████████████████████████████████████████▏    | 871/907 [49:14<02:02,  3.39s/it]"
     ]
    },
    {
     "name": "stdout",
     "output_type": "stream",
     "text": [
      "training loss: 0.05959651991724968\n",
      "training loss: 0.05834396183490753\n",
      "training loss: 0.10935967415571213\n"
     ]
    },
    {
     "name": "stderr",
     "output_type": "stream",
     "text": [
      "\r",
      "training:  96%|███████████████████████████████████████████████████████████████████████████████████████████████████████████████████▋    | 874/907 [49:24<01:51,  3.38s/it]"
     ]
    },
    {
     "name": "stdout",
     "output_type": "stream",
     "text": [
      "training loss: 0.06905621290206909\n",
      "training loss: 0.06813763827085495\n",
      "training loss: 0.07603342831134796\n"
     ]
    },
    {
     "name": "stderr",
     "output_type": "stream",
     "text": [
      "\r",
      "training:  97%|████████████████████████████████████████████████████████████████████████████████████████████████████████████████████    | 877/907 [49:34<01:41,  3.38s/it]"
     ]
    },
    {
     "name": "stdout",
     "output_type": "stream",
     "text": [
      "training loss: 0.0814528837800026\n",
      "training loss: 0.059251148253679276\n",
      "training loss: 0.06794261932373047\n"
     ]
    },
    {
     "name": "stderr",
     "output_type": "stream",
     "text": [
      "\r",
      "training:  97%|████████████████████████████████████████████████████████████████████████████████████████████████████████████████████▍   | 880/907 [49:44<01:31,  3.39s/it]"
     ]
    },
    {
     "name": "stdout",
     "output_type": "stream",
     "text": [
      "training loss: 0.07302749902009964\n",
      "training loss: 0.062041815370321274\n",
      "validation loss: 0.06459450721740723\n",
      "training loss: 0.07615673542022705\n"
     ]
    },
    {
     "name": "stderr",
     "output_type": "stream",
     "text": [
      "\r",
      "training:  97%|████████████████████████████████████████████████████████████████████████████████████████████████████████████████████▊   | 883/907 [49:55<01:22,  3.42s/it]"
     ]
    },
    {
     "name": "stdout",
     "output_type": "stream",
     "text": [
      "training loss: 0.07657676935195923\n",
      "training loss: 0.06753990054130554\n",
      "training loss: 0.026947613805532455\n"
     ]
    },
    {
     "name": "stderr",
     "output_type": "stream",
     "text": [
      "\r",
      "training:  98%|█████████████████████████████████████████████████████████████████████████████████████████████████████████████████████▏  | 886/907 [50:05<01:11,  3.41s/it]"
     ]
    },
    {
     "name": "stdout",
     "output_type": "stream",
     "text": [
      "training loss: 0.040666479617357254\n",
      "training loss: 0.07026249170303345\n",
      "training loss: 0.023180866613984108\n"
     ]
    },
    {
     "name": "stderr",
     "output_type": "stream",
     "text": [
      "\r",
      "training:  98%|█████████████████████████████████████████████████████████████████████████████████████████████████████████████████████▌  | 889/907 [50:15<01:01,  3.40s/it]"
     ]
    },
    {
     "name": "stdout",
     "output_type": "stream",
     "text": [
      "training loss: 0.03466973826289177\n",
      "training loss: 0.06749856472015381\n",
      "training loss: 0.06022368371486664\n"
     ]
    },
    {
     "name": "stderr",
     "output_type": "stream",
     "text": [
      "\r",
      "training:  98%|██████████████████████████████████████████████████████████████████████████████████████████████████████████████████████  | 892/907 [50:25<00:50,  3.39s/it]"
     ]
    },
    {
     "name": "stdout",
     "output_type": "stream",
     "text": [
      "training loss: 0.04288370907306671\n",
      "training loss: 0.07329452782869339\n",
      "training loss: 0.058466874063014984\n"
     ]
    },
    {
     "name": "stderr",
     "output_type": "stream",
     "text": [
      "\r",
      "training:  99%|██████████████████████████████████████████████████████████████████████████████████████████████████████████████████████▍ | 895/907 [50:35<00:40,  3.39s/it]"
     ]
    },
    {
     "name": "stdout",
     "output_type": "stream",
     "text": [
      "training loss: 0.050947051495313644\n",
      "training loss: 0.05724982172250748\n",
      "training loss: 0.06315208226442337\n"
     ]
    },
    {
     "name": "stderr",
     "output_type": "stream",
     "text": [
      "\r",
      "training:  99%|██████████████████████████████████████████████████████████████████████████████████████████████████████████████████████▊ | 898/907 [50:45<00:30,  3.38s/it]"
     ]
    },
    {
     "name": "stdout",
     "output_type": "stream",
     "text": [
      "training loss: 0.05138237029314041\n",
      "training loss: 0.052319128066301346\n",
      "training loss: 0.052604902535676956\n",
      "training loss: 0.06061793863773346\n"
     ]
    },
    {
     "name": "stderr",
     "output_type": "stream",
     "text": [
      "\r",
      "training:  99%|███████████████████████████████████████████████████████████████████████████████████████████████████████████████████████▏| 901/907 [50:56<00:20,  3.41s/it]"
     ]
    },
    {
     "name": "stdout",
     "output_type": "stream",
     "text": [
      "validation loss: 0.0975840762257576\n",
      "training loss: 0.04732118546962738\n",
      "training loss: 0.0483684279024601\n"
     ]
    },
    {
     "name": "stderr",
     "output_type": "stream",
     "text": [
      "\r",
      "training: 100%|███████████████████████████████████████████████████████████████████████████████████████████████████████████████████████▌| 904/907 [51:06<00:10,  3.40s/it]"
     ]
    },
    {
     "name": "stdout",
     "output_type": "stream",
     "text": [
      "training loss: 0.06169186905026436\n",
      "training loss: 0.05078723654150963\n",
      "training loss: 0.053761035203933716\n"
     ]
    },
    {
     "name": "stderr",
     "output_type": "stream",
     "text": [
      "training: 100%|████████████████████████████████████████████████████████████████████████████████████████████████████████████████████████| 907/907 [51:16<00:00,  3.39s/it]"
     ]
    },
    {
     "name": "stdout",
     "output_type": "stream",
     "text": [
      "training loss: 0.09037511795759201\n"
     ]
    },
    {
     "name": "stderr",
     "output_type": "stream",
     "text": [
      "\n"
     ]
    }
   ],
   "source": [
    "import tqdm\n",
    "for i in tqdm.tqdm(range(NUM_BATCHES), mininterval=10., desc='training'):\n",
    "    \n",
    "    model.train()\n",
    "    \n",
    "    for __ in range(GRADIENT_ACCUMULATE_EVERY):\n",
    "        inputs = next(train_loader)\n",
    "        outputs = model(inputs, labels=inputs)\n",
    "        loss, prediction_scores = outputs[:2]\n",
    "        loss.backward()\n",
    "\n",
    "    print(f'training loss: {loss.item()}')\n",
    "    \n",
    "    torch.nn.utils.clip_grad_norm_(model.parameters(), 0.5)\n",
    "    \n",
    "    optimizer.step()\n",
    "    optimizer.zero_grad()\n",
    "\n",
    "    if i % VALIDATE_EVERY == 0:\n",
    "        model.eval()\n",
    "        with torch.no_grad():\n",
    "            inputs = next(val_loader)\n",
    "            outputs = model(inputs, labels=inputs)\n",
    "            loss, prediction_scores = outputs[:2]\n",
    "            print(f'validation loss: {loss.item()}')"
   ]
  },
  {
   "cell_type": "code",
   "execution_count": 19,
   "metadata": {},
   "outputs": [],
   "source": [
    "torch.save(model.state_dict(), \"model/trial01/saved_model.pth\")"
   ]
  },
  {
   "cell_type": "code",
   "execution_count": null,
   "metadata": {},
   "outputs": [],
   "source": []
  },
  {
   "cell_type": "code",
   "execution_count": null,
   "metadata": {},
   "outputs": [],
   "source": []
  },
  {
   "cell_type": "code",
   "execution_count": null,
   "metadata": {},
   "outputs": [],
   "source": []
  },
  {
   "cell_type": "code",
   "execution_count": null,
   "metadata": {},
   "outputs": [],
   "source": []
  },
  {
   "cell_type": "code",
   "execution_count": null,
   "metadata": {},
   "outputs": [],
   "source": []
  },
  {
   "cell_type": "code",
   "execution_count": null,
   "metadata": {},
   "outputs": [],
   "source": []
  },
  {
   "cell_type": "code",
   "execution_count": null,
   "metadata": {},
   "outputs": [],
   "source": []
  },
  {
   "cell_type": "code",
   "execution_count": null,
   "metadata": {},
   "outputs": [],
   "source": []
  },
  {
   "cell_type": "code",
   "execution_count": null,
   "metadata": {},
   "outputs": [],
   "source": []
  }
 ],
 "metadata": {
  "kernelspec": {
   "display_name": "Python 3",
   "language": "python",
   "name": "python3"
  },
  "language_info": {
   "codemirror_mode": {
    "name": "ipython",
    "version": 3
   },
   "file_extension": ".py",
   "mimetype": "text/x-python",
   "name": "python",
   "nbconvert_exporter": "python",
   "pygments_lexer": "ipython3",
   "version": "3.7.7"
  }
 },
 "nbformat": 4,
 "nbformat_minor": 4
}
